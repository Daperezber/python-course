{
 "metadata": {
  "celltoolbar": "Slideshow",
  "name": "",
  "signature": "sha256:74676c0cad25c0954fa4f8352dda1c9010bd747de1752b4ccc667d9132427fdd"
 },
 "nbformat": 3,
 "nbformat_minor": 0,
 "worksheets": [
  {
   "cells": [
    {
     "cell_type": "markdown",
     "metadata": {
      "slideshow": {
       "slide_type": "slide"
      }
     },
     "source": [
      "<span style=\"font-size: 200%\">Introduction to Python (3)</span>\n",
      "===\n",
      "\n",
      "<br>\n",
      "\n",
      "[Martijn Vermaat](mailto:m.vermaat.hg@lumc.nl), [Department of Human Genetics, Leiden University Medical Center](http://humgen.nl)\n",
      "\n",
      "[Jeroen Laros](mailto:j.f.j.laros@lumc.nl), [Department of Human Genetics, Leiden University Medical Center](http://humgen.nl)\n",
      "\n",
      "Based on: [Python Scientific Lecture Notes](http://scipy-lectures.github.io/)\n",
      "\n",
      "License: [Creative Commons Attribution 3.0 License (CC-by)](http://creativecommons.org/licenses/by/3.0)"
     ]
    },
    {
     "cell_type": "markdown",
     "metadata": {
      "slideshow": {
       "slide_type": "slide"
      }
     },
     "source": [
      "Functions\n",
      "===\n",
      "\n",
      "Defining a function\n",
      "---\n",
      "\n",
      "A function definition includes its name, arguments and body."
     ]
    },
    {
     "cell_type": "code",
     "collapsed": false,
     "input": [
      "def add_two(number):\n",
      "    return number + 2"
     ],
     "language": "python",
     "metadata": {},
     "outputs": [],
     "prompt_number": 1
    },
    {
     "cell_type": "code",
     "collapsed": false,
     "input": [
      "for i in range(5):\n",
      "    print add_two(i)"
     ],
     "language": "python",
     "metadata": {},
     "outputs": [
      {
       "output_type": "stream",
       "stream": "stdout",
       "text": [
        "2\n",
        "3\n",
        "4\n",
        "5\n",
        "6\n"
       ]
      }
     ],
     "prompt_number": 2
    },
    {
     "cell_type": "markdown",
     "metadata": {
      "slideshow": {
       "slide_type": "subslide"
      }
     },
     "source": [
      "Functions\n",
      "===\n",
      "\n",
      "Keyword arguments\n",
      "---\n",
      "\n",
      "Besides regular arguments, functions can have keyword arguments."
     ]
    },
    {
     "cell_type": "code",
     "collapsed": false,
     "input": [
      "def add_some_other_number(number, other_number=12):\n",
      "    return number + other_number"
     ],
     "language": "python",
     "metadata": {},
     "outputs": [],
     "prompt_number": 3
    },
    {
     "cell_type": "code",
     "collapsed": false,
     "input": [
      "add_some_other_number(2, 6)"
     ],
     "language": "python",
     "metadata": {},
     "outputs": [
      {
       "metadata": {},
       "output_type": "pyout",
       "prompt_number": 4,
       "text": [
        "8"
       ]
      }
     ],
     "prompt_number": 4
    },
    {
     "cell_type": "code",
     "collapsed": false,
     "input": [
      "add_some_other_number(3, other_number=4)"
     ],
     "language": "python",
     "metadata": {},
     "outputs": [
      {
       "metadata": {},
       "output_type": "pyout",
       "prompt_number": 5,
       "text": [
        "7"
       ]
      }
     ],
     "prompt_number": 5
    },
    {
     "cell_type": "code",
     "collapsed": false,
     "input": [
      "add_some_other_number(5)"
     ],
     "language": "python",
     "metadata": {},
     "outputs": [
      {
       "metadata": {},
       "output_type": "pyout",
       "prompt_number": 6,
       "text": [
        "17"
       ]
      }
     ],
     "prompt_number": 6
    },
    {
     "cell_type": "markdown",
     "metadata": {
      "slideshow": {
       "slide_type": "subslide"
      }
     },
     "source": [
      "Functions\n",
      "===\n",
      "\n",
      "Docstrings\n",
      "---\n",
      "\n",
      "Like many other definitions, functions can have docstrings.\n",
      "\n",
      "* Docstrings are regular string values which you start the definition body with.\n",
      "* You can access an object's docstring using `help`."
     ]
    },
    {
     "cell_type": "code",
     "collapsed": false,
     "input": [
      "def factorial(n):\n",
      "    \"\"\"Compute factorial of n in the obious way.\"\"\"\n",
      "    if n == 0:\n",
      "        return 1\n",
      "    else:\n",
      "        return factorial(n - 1) * n"
     ],
     "language": "python",
     "metadata": {},
     "outputs": [],
     "prompt_number": 7
    },
    {
     "cell_type": "code",
     "collapsed": false,
     "input": [
      "help(factorial)"
     ],
     "language": "python",
     "metadata": {},
     "outputs": [
      {
       "output_type": "stream",
       "stream": "stdout",
       "text": [
        "Help on function factorial in module __main__:\n",
        "\n",
        "factorial(n)\n",
        "    Compute factorial of n in the obious way.\n",
        "\n"
       ]
      }
     ],
     "prompt_number": 8
    },
    {
     "cell_type": "markdown",
     "metadata": {
      "slideshow": {
       "slide_type": "subslide"
      }
     },
     "source": [
      "Functions\n",
      "===\n",
      "\n",
      "Functions are values\n",
      "---\n",
      "\n",
      "We can pass functions around just like other values, and call them."
     ]
    },
    {
     "cell_type": "code",
     "collapsed": false,
     "input": [
      "functions = [add_two, add_some_other_number]\n",
      "for function in functions:\n",
      "    print function(7)"
     ],
     "language": "python",
     "metadata": {},
     "outputs": [
      {
       "output_type": "stream",
       "stream": "stdout",
       "text": [
        "9\n",
        "19\n"
       ]
      }
     ],
     "prompt_number": 9
    },
    {
     "cell_type": "markdown",
     "metadata": {},
     "source": [
      "Simple anonymous functions can be created with `lambda`."
     ]
    },
    {
     "cell_type": "code",
     "collapsed": false,
     "input": [
      "functions.append(lambda x: x * 7)\n",
      "for function in functions:\n",
      "    print function(4)"
     ],
     "language": "python",
     "metadata": {},
     "outputs": [
      {
       "output_type": "stream",
       "stream": "stdout",
       "text": [
        "6\n",
        "16\n",
        "28\n"
       ]
      }
     ],
     "prompt_number": 10
    },
    {
     "cell_type": "markdown",
     "metadata": {
      "slideshow": {
       "slide_type": "subslide"
      }
     },
     "source": [
      "Functions\n",
      "===\n",
      "\n",
      "Higher-order functions\n",
      "---\n",
      "\n",
      "A function that takes a function as argument is a higher-order function."
     ]
    },
    {
     "cell_type": "code",
     "collapsed": false,
     "input": [
      "help(map)"
     ],
     "language": "python",
     "metadata": {},
     "outputs": [
      {
       "output_type": "stream",
       "stream": "stdout",
       "text": [
        "Help on built-in function map in module __builtin__:\n",
        "\n",
        "map(...)\n",
        "    map(function, sequence[, sequence, ...]) -> list\n",
        "    \n",
        "    Return a list of the results of applying the function to the items of\n",
        "    the argument sequence(s).  If more than one sequence is given, the\n",
        "    function is called with an argument list consisting of the corresponding\n",
        "    item of each sequence, substituting None for missing values when not all\n",
        "    sequences have the same length.  If the function is None, return a list of\n",
        "    the items of the sequence (or a list of tuples if more than one sequence).\n",
        "\n"
       ]
      }
     ],
     "prompt_number": 11
    },
    {
     "cell_type": "code",
     "collapsed": false,
     "input": [
      "map(add_two, [1, 2, 3, 4])"
     ],
     "language": "python",
     "metadata": {},
     "outputs": [
      {
       "metadata": {},
       "output_type": "pyout",
       "prompt_number": 12,
       "text": [
        "[3, 4, 5, 6]"
       ]
      }
     ],
     "prompt_number": 12
    },
    {
     "cell_type": "markdown",
     "metadata": {
      "slideshow": {
       "slide_type": "slide"
      }
     },
     "source": [
      "$\\S$ Exercise: k-mer counting (1/2)\n",
      "===\n",
      "\n",
      "Remember the previous exercise of finding (unique) substrings of length 3.\n",
      "\n",
      "* Make a function from your implementation.\n",
      "* Have `k` as an argument to the function.\n",
      "* Test the function on several input strings.\n",
      "\n",
      "**Note:** Editing multi-line statements in the console can be frustrating. You can try the QT console (`ipython qtconsole`) or edit your function in an editor with `%edit`:\n",
      "\n",
      "    def my_function(arg):\n",
      "        print arg * 4\n",
      "    %edit my_function"
     ]
    },
    {
     "cell_type": "markdown",
     "metadata": {
      "slideshow": {
       "slide_type": "subslide"
      }
     },
     "source": [
      "$\\S$ Exercise: k-mer counting (2/2)\n",
      "===\n",
      "\n",
      "Modify your function to use a dictionary with substring counts.\n",
      "\n",
      "* Use the substrings as dictionary keys.\n",
      "* Use the counts as dictionary values.\n",
      "* Have the function return the dictionary.\n",
      "* Add a docstring to the function.\n",
      "* Use the function to print k-mer counts for some strings."
     ]
    },
    {
     "cell_type": "markdown",
     "metadata": {
      "slideshow": {
       "slide_type": "slide"
      }
     },
     "source": [
      "Comprehensions\n",
      "===\n",
      "\n",
      "List comprehensions\n",
      "---\n",
      "\n",
      "Similar to mathematical set notation (e.g., $\\{ x ~|~ x \\in \\mathbf R \\land x > 0\\}$), we can create lists."
     ]
    },
    {
     "cell_type": "code",
     "collapsed": false,
     "input": [
      "[(x, x * x) for x in range(10) if x % 2]"
     ],
     "language": "python",
     "metadata": {},
     "outputs": [
      {
       "metadata": {},
       "output_type": "pyout",
       "prompt_number": 13,
       "text": [
        "[(1, 1), (3, 9), (5, 25), (7, 49), (9, 81)]"
       ]
      }
     ],
     "prompt_number": 13
    },
    {
     "cell_type": "markdown",
     "metadata": {},
     "source": [
      "We can do the same thing using `map` and `filter`, but list comprehensions are often more readable."
     ]
    },
    {
     "cell_type": "code",
     "collapsed": false,
     "input": [
      "map(lambda x: (x, x * x), filter(lambda x: x %2, range(10)))"
     ],
     "language": "python",
     "metadata": {},
     "outputs": [
      {
       "metadata": {},
       "output_type": "pyout",
       "prompt_number": 14,
       "text": [
        "[(1, 1), (3, 9), (5, 25), (7, 49), (9, 81)]"
       ]
      }
     ],
     "prompt_number": 14
    },
    {
     "cell_type": "markdown",
     "metadata": {
      "slideshow": {
       "slide_type": "subslide"
      }
     },
     "source": [
      "Comprehensions\n",
      "===\n",
      "\n",
      "Set and dictionary comprehensions\n",
      "---\n",
      "\n",
      "Similar notation can be used for (non-empty) sets."
     ]
    },
    {
     "cell_type": "code",
     "collapsed": false,
     "input": [
      "{c for c in 'LUMC-standard' if 'a' <= c <= 'z'}"
     ],
     "language": "python",
     "metadata": {},
     "outputs": [
      {
       "metadata": {},
       "output_type": "pyout",
       "prompt_number": 15,
       "text": [
        "{'a', 'd', 'n', 'r', 's', 't'}"
       ]
      }
     ],
     "prompt_number": 15
    },
    {
     "cell_type": "markdown",
     "metadata": {},
     "source": [
      "And dictionaries."
     ]
    },
    {
     "cell_type": "code",
     "collapsed": false,
     "input": [
      "colors = ['red', 'white', 'blue', 'orange']\n",
      "{c: len(c) for c in colors}"
     ],
     "language": "python",
     "metadata": {},
     "outputs": [
      {
       "metadata": {},
       "output_type": "pyout",
       "prompt_number": 16,
       "text": [
        "{'blue': 4, 'orange': 6, 'red': 3, 'white': 5}"
       ]
      }
     ],
     "prompt_number": 16
    },
    {
     "cell_type": "markdown",
     "metadata": {
      "slideshow": {
       "slide_type": "slide"
      }
     },
     "source": [
      "Everything is an object\n",
      "===\n",
      "\n",
      "* Objects have properties and methods. \n",
      "* Explore them using `dir(o)`, or by typing `o.<tab>` in the IPython interpreter."
     ]
    },
    {
     "cell_type": "code",
     "collapsed": false,
     "input": [
      "dir('abc')[-5:]"
     ],
     "language": "python",
     "metadata": {},
     "outputs": [
      {
       "metadata": {},
       "output_type": "pyout",
       "prompt_number": 17,
       "text": [
        "['swapcase', 'title', 'translate', 'upper', 'zfill']"
       ]
      }
     ],
     "prompt_number": 17
    },
    {
     "cell_type": "code",
     "collapsed": false,
     "input": [
      "help('abc'.upper)"
     ],
     "language": "python",
     "metadata": {},
     "outputs": [
      {
       "output_type": "stream",
       "stream": "stdout",
       "text": [
        "Help on built-in function upper:\n",
        "\n",
        "upper(...)\n",
        "    S.upper() -> string\n",
        "    \n",
        "    Return a copy of the string S converted to uppercase.\n",
        "\n"
       ]
      }
     ],
     "prompt_number": 18
    },
    {
     "cell_type": "code",
     "collapsed": false,
     "input": [
      "'abc'.upper()"
     ],
     "language": "python",
     "metadata": {},
     "outputs": [
      {
       "metadata": {},
       "output_type": "pyout",
       "prompt_number": 19,
       "text": [
        "'ABC'"
       ]
      }
     ],
     "prompt_number": 19
    },
    {
     "cell_type": "markdown",
     "metadata": {
      "slideshow": {
       "slide_type": "slide"
      }
     },
     "source": [
      "Code in files\n",
      "===\n",
      "\n",
      "Running code from a file\n",
      "---"
     ]
    },
    {
     "cell_type": "code",
     "collapsed": false,
     "input": [
      "cat examples/fsquare.py"
     ],
     "language": "python",
     "metadata": {},
     "outputs": [
      {
       "output_type": "stream",
       "stream": "stdout",
       "text": [
        "d = {}\r\n",
        "for i in range(10):\r\n",
        "    d[i] = i ** 2\r\n",
        "\r\n",
        "for i in d:\r\n",
        "    print \"{0} is the square of {1}.\".format(d[i], i)\r\n"
       ]
      }
     ],
     "prompt_number": 20
    },
    {
     "cell_type": "code",
     "collapsed": false,
     "input": [
      "%%sh\n",
      "python examples/fsquare.py"
     ],
     "language": "python",
     "metadata": {},
     "outputs": [
      {
       "output_type": "stream",
       "stream": "stdout",
       "text": [
        "0 is the square of 0.\n",
        "1 is the square of 1.\n",
        "4 is the square of 2.\n",
        "9 is the square of 3.\n",
        "16 is the square of 4.\n",
        "25 is the square of 5.\n",
        "36 is the square of 6.\n",
        "49 is the square of 7.\n",
        "64 is the square of 8.\n",
        "81 is the square of 9.\n"
       ]
      }
     ],
     "prompt_number": 21
    },
    {
     "cell_type": "markdown",
     "metadata": {
      "slideshow": {
       "slide_type": "subslide"
      }
     },
     "source": [
      "Code in files\n",
      "===\n",
      "\n",
      "Working with files in IPython\n",
      "---\n",
      "\n",
      "The `%run` magic runs the code from a file directly in IPython:"
     ]
    },
    {
     "cell_type": "code",
     "collapsed": false,
     "input": [
      "%run examples/fsquare.py"
     ],
     "language": "python",
     "metadata": {},
     "outputs": [
      {
       "output_type": "stream",
       "stream": "stdout",
       "text": [
        "0 is the square of 0.\n",
        "1 is the square of 1.\n",
        "4 is the square of 2.\n",
        "9 is the square of 3.\n",
        "16 is the square of 4.\n",
        "25 is the square of 5.\n",
        "36 is the square of 6.\n",
        "49 is the square of 7.\n",
        "64 is the square of 8.\n",
        "81 is the square of 9.\n"
       ]
      }
     ],
     "prompt_number": 22
    },
    {
     "cell_type": "markdown",
     "metadata": {
      "slideshow": {
       "slide_type": "-"
      }
     },
     "source": [
      "You can edit and run a file with `%edit`."
     ]
    },
    {
     "cell_type": "code",
     "collapsed": false,
     "input": [
      "%edit examples/fsquare.py"
     ],
     "language": "python",
     "metadata": {},
     "outputs": [],
     "prompt_number": 23
    },
    {
     "cell_type": "markdown",
     "metadata": {
      "slideshow": {
       "slide_type": "subslide"
      }
     },
     "source": [
      "Code in files\n",
      "===\n",
      "\n",
      "Saving your IPython session history to a file\n",
      "---\n",
      "\n",
      "Give the `%save` magic a name and a range of input lines and it will save them to a `.py` file with that name:\n",
      "\n",
      "    In [4]: %save my_session 1-3\n",
      "    The following commands were written to file `my_session.py`:\n",
      "    a = 4\n",
      "    a += 3\n",
      "    b = a"
     ]
    },
    {
     "cell_type": "markdown",
     "metadata": {
      "slideshow": {
       "slide_type": "slide"
      }
     },
     "source": [
      "$\\S$ Exercise: Running code from a file\n",
      "===\n",
      "\n",
      "* Save your k-mer counting code to a file `kmer_counting.py`.\n",
      "* Include some code using it on an example string and printing the results.\n",
      "* Run the code from the command line."
     ]
    },
    {
     "cell_type": "markdown",
     "metadata": {
      "slideshow": {
       "slide_type": "slide"
      }
     },
     "source": [
      "Further reading\n",
      "===\n",
      "\n",
      "* [The Python Tutorial](http://docs.python.org/2/tutorial/index.html)\n",
      "  <br>\n",
      "  From the official Python documentation.\n",
      "\n",
      "\n",
      "* [Learn Python The Hard Way](http://learnpythonthehardway.org/book/)\n",
      "  <br>\n",
      "  Book on learning Python by exercises, online available for free.\n",
      "\n",
      "\n",
      "* [The Hitchhiker's Guide to Python](http://docs.python-guide.org/en/latest/)\n",
      "  <br>\n",
      "  This opinionated guide exists to provide both novice and expert Python developers a best-practice handbook to the installation, configuration, and usage of Python on a daily basis.\n",
      "\n",
      "\n",
      "* [A Primer on Scientific Programming with Python](http://codingcat.com/knjige/python/A%20Primer%20on%20Scientific%20Programming%20with%20Python.pdf)\n",
      "  <br>\n",
      "  Complete PDF version of the book. The aim of this book is to teach computer programming using examples from mathematics and the natural sciences.\n",
      "\n",
      "\n",
      "* [Python Module of the Week](http://pymotw.com/)\n",
      "  <br>\n",
      "  Series of articles providing a tour of the Python standard library through short examples."
     ]
    },
    {
     "cell_type": "code",
     "collapsed": false,
     "input": [
      "from IPython.display import HTML\n",
      "def css_styling():\n",
      "    styles = open('styles/custom.css', 'r').read()\n",
      "    return HTML('<style>' + styles + '</style>')\n",
      "css_styling()"
     ],
     "language": "python",
     "metadata": {
      "slideshow": {
       "slide_type": "skip"
      }
     },
     "outputs": [
      {
       "html": [
        "<style>/* Remove the vertical scrollbar added by nbconvert. */\n",
        "html {\n",
        "  overflow-y: hidden;\n",
        "}\n",
        "\n",
        "/* Workaround some highlight.js bugs in language autodetection. */\n",
        "code.objectivec *,\n",
        "code.perl *,\n",
        "code.cs *,\n",
        "code.javascript *,\n",
        "code.http * {\n",
        "  color: black ! important;\n",
        "  font-weight: normal ! important;\n",
        "}\n",
        "span.title {\n",
        "  color: black ! important;\n",
        "}\n",
        "span.tag {\n",
        "  color: black ! important;\n",
        "}\n",
        "span.attribute {\n",
        "  color: black ! important;\n",
        "}\n",
        "</style>"
       ],
       "metadata": {},
       "output_type": "pyout",
       "prompt_number": 24,
       "text": [
        "<IPython.core.display.HTML at 0x1965a50>"
       ]
      }
     ],
     "prompt_number": 24
    }
   ],
   "metadata": {}
  }
 ]
}