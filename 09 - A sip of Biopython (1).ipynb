{
 "metadata": {
  "name": "",
  "signature": "sha256:a9789a0ff8a29fb432ec8ef175ae9572f7b7e795f451499b86ef837918e60c90"
 },
 "nbformat": 3,
 "nbformat_minor": 0,
 "worksheets": [
  {
   "cells": [
    {
     "cell_type": "markdown",
     "metadata": {},
     "source": [
      "# A sip of Biopython (1)\n",
      "***\n",
      "\n",
      "[Wibowo Arindrarto](mailto:w.arindrarto@lumc.nl), [Sequencing Analysis Support Core, Leiden University Medical Center](http://sasc.lumc.nl)\n",
      "\n",
      "[Martijn Vermaat](mailto:m.vermaat.hg@lumc.nl), [Department of Human Genetics, Leiden University Medical Center](http://humgen.nl)\n",
      "\n",
      "License: [Creative Commons Attribution 3.0 License (CC-by)](http://creativecommons.org/licenses/by/3.0)"
     ]
    },
    {
     "cell_type": "markdown",
     "metadata": {},
     "source": [
      "## Table of contents\n",
      "\n",
      "1. [Prelude: Python packages and their installation](#packages)\n",
      "2. [Biopython](#biopython)\n",
      "3. [Working with sequences](#sequences)\n",
      "4. File I/O with Biopython\n",
      "5. Fetching from online resources: NCBI's Entrez\n",
      "6. Performing a remote BLAST search\n",
      "7. Beyond Biopython"
     ]
    },
    {
     "cell_type": "markdown",
     "metadata": {},
     "source": [
      "<a id=\"packages\"></a>\n",
      "## Prelude: Python packages and their installation\n",
      "\n",
      "### Python Package Index (PyPI)\n",
      "\n",
      "[The Python Package Index](https://pypi.python.org/) is *the* place to find 3rd-party Python libraries (and to upload your own too).\n",
      "\n",
      "Remember the `pip install biopython` (or `numpy`, etc). command you ran? That source package was stored in PyPI.\n",
      "\n",
      "Some of the Python packages developed at our department are also in there:\n",
      "\n",
      "- [kMer](https://pypi.python.org/pypi/kMer): Analysis toolkit and programming library for k-mer profiles.\n",
      "- [TSSV](https://pypi.python.org/pypi/tssv): Targeted characterisation of short structural variation.\n",
      "- [fastools](https://pypi.python.org/pypi/fastools): Various tools for the analysis and manipulation of FASTA/FASTQ files.\n",
      "- [piletools](https://pypi.python.org/pypi/piletools): Various tools for the analysis of mpileup files.\n",
      "- [barcode](https://pypi.python.org/pypi/barcode): For designing NGS barcodes.\n",
      "- [wiggelen](http://wiggelen.readthedocs.org/): Working with Wiggle (WIG) tracks.\n",
      "- [monoseq](https://monoseq.readthedocs.org/): Pretty-printing of DNA and protein sequences.\n",
      "\n",
      "For example, to install our library for working with Wiggle tracks:\n",
      "\n",
      "    pip install wiggelen"
     ]
    },
    {
     "cell_type": "markdown",
     "metadata": {},
     "source": [
      "### Python virtual environments\n",
      "\n",
      "[`virtualenv`](http://www.virtualenv.org/) (with its frontend [`virtualenvwrapper`](http://virtualenvwrapper.readthedocs.org/)) is a tool for managing isolated Python environments. Its benefits are:\n",
      "\n",
      "1. You can have specific versions of packages installed, per environment.\n",
      "2. You can install packages as non-root user.\n",
      "\n",
      "We list some commands to manage your virtual environments. First, creating a new one:\n",
      "\n",
      "    $ mkvirtualenv my-environment\n",
      "\n",
      "Activating an environment:\n",
      "\n",
      "    $ workon my-environment\n",
      "\n",
      "Whenever you have an environment activated, it is indicated by prefixing your bash prompt with the name of the environment surrounded by brackets.\n",
      "\n",
      "Deactivating an environment:\n",
      "\n",
      "    $ deactivate\n",
      "\n",
      "Normally, `pip install` will try to install a package system-wide, for which you'd need administrator permissions. Whenever you have a virtual environment activated, `pip install` will install the package in the virtual environment automatically."
     ]
    },
    {
     "cell_type": "markdown",
     "metadata": {},
     "source": [
      "<a id=\"biopython\"></a>\n",
      "## Biopython\n",
      "\n",
      "<img src=\"http://biopython.org/DIST/docs/tutorial/images/biopython.jpg\" />\n",
      "\n",
      "### About Biopython\n",
      "\n",
      "Biopython is one of the big libraries for working with bioinformatics-related data (but not the only one). It is *Open Source* and ran by a team of developers from around the world under the OBF umbrella.\n",
      "\n",
      "Development started in 1998 and it is still actively maintained with a new release every 3-4 months. The library is mature and has had multiple publications (the whole library itself and sometimes its submodules).\n",
      "\n",
      "Biopython is compatible with Python 2.x and 3.x and tested on multiple operating systems and Python implementations.\n",
      "\n",
      "Some links with more information:\n",
      "\n",
      "- [Biopython homepage](http://biopython.org)\n",
      "- [Git development repository](http://github.com/biopython/biopython)\n",
      "- [Mailing list](http://lists.open-bio.org/pipermail/biopython/)\n",
      "- [Biopython Tutorial and Cookbook](http://biopython.org/DIST/docs/tutorial/Tutorial.html)"
     ]
    },
    {
     "cell_type": "markdown",
     "metadata": {},
     "source": [
      "### Inside Biopython\n",
      "\n",
      "As one of the larger Python packages, these are some of the things provided by Biopython:\n",
      "\n",
      "- Rich objects representing various concepts (e.g., sequences, alignments, motifs).\n",
      "\n",
      "- File parsers and writers.\n",
      "  * Sequence files: fasta, fastq, genbank, abi, sff, etc.\n",
      "  * Alignment files: clustal, emboss, phylip, nexus, etc.\n",
      "  * Sequence search outputs: BLAST, HMMER, BLAT, etc.\n",
      "  * Phylogenetic trees: newick, nexus, phyloxml, etc.\n",
      "  * Sequence motifs: AlignAce, TRANSFAC, etc.\n",
      "  * Others: PDB files, etc.\n",
      "\n",
      "- Access to remote resources (e.g., Entrez, NCBI BLAST).\n",
      "\n",
      "- Application wrappers.\n",
      "\n",
      "- A simple graphing tool.\n",
      "\n",
      "- Simple algorithms (e.g., pairwise alignment, cluster analysis).\n",
      "\n",
      "- References such as codon tables and IUPAC sequences."
     ]
    },
    {
     "cell_type": "markdown",
     "metadata": {},
     "source": [
      "### Characterizing Biopython\n",
      "\n",
      "Strengths:\n",
      "\n",
      "- Based on Python (readability, expressive constructs).\n",
      "- Wide range of parsers with common interfaces.\n",
      "- Access to online resources.\n",
      "\n",
      "Weaknesses:\n",
      "\n",
      "- Based on Python (?) (no error checks until runtime).\n",
      "- Not always the fastest parsers."
     ]
    },
    {
     "cell_type": "markdown",
     "metadata": {},
     "source": [
      "<a id=\"sequences\"></a>\n",
      "## Working with sequences\n",
      "\n",
      "The `Seq` object is Biopython's main representation of nucleotide or protein sequences. It is essentially a string with alphabet information. Its constructor is available in the `Bio.Seq` module."
     ]
    },
    {
     "cell_type": "code",
     "collapsed": false,
     "input": [
      "from Bio.Seq import Seq"
     ],
     "language": "python",
     "metadata": {},
     "outputs": [],
     "prompt_number": 1
    },
    {
     "cell_type": "markdown",
     "metadata": {},
     "source": [
      "### Sequence alphabets\n",
      "\n",
      "Let's make our first `Seq` object."
     ]
    },
    {
     "cell_type": "code",
     "collapsed": false,
     "input": [
      "my_seq = Seq('GGGTACGATAAA')"
     ],
     "language": "python",
     "metadata": {},
     "outputs": [],
     "prompt_number": 2
    },
    {
     "cell_type": "code",
     "collapsed": false,
     "input": [
      "my_seq"
     ],
     "language": "python",
     "metadata": {},
     "outputs": [
      {
       "metadata": {},
       "output_type": "pyout",
       "prompt_number": 3,
       "text": [
        "Seq('GGGTACGATAAA', Alphabet())"
       ]
      }
     ],
     "prompt_number": 3
    },
    {
     "cell_type": "markdown",
     "metadata": {},
     "source": [
      "Notice the bit about the alphabet. Biopython never tries to guess what alphabet your sequence is in. You have to be explicit yourself (recall `import this`)."
     ]
    },
    {
     "cell_type": "code",
     "collapsed": false,
     "input": [
      "from Bio.Alphabet import generic_dna"
     ],
     "language": "python",
     "metadata": {},
     "outputs": [],
     "prompt_number": 4
    },
    {
     "cell_type": "code",
     "collapsed": false,
     "input": [
      "my_dna = Seq('GGGTACGATAAA', generic_dna)"
     ],
     "language": "python",
     "metadata": {},
     "outputs": [],
     "prompt_number": 5
    },
    {
     "cell_type": "code",
     "collapsed": false,
     "input": [
      "my_dna"
     ],
     "language": "python",
     "metadata": {},
     "outputs": [
      {
       "metadata": {},
       "output_type": "pyout",
       "prompt_number": 6,
       "text": [
        "Seq('GGGTACGATAAA', DNAAlphabet())"
       ]
      }
     ],
     "prompt_number": 6
    },
    {
     "cell_type": "markdown",
     "metadata": {},
     "source": [
      "`Seq` objects are almost the same as native Python `str` objects. They have similar methods and can be used with almost the same set of operators."
     ]
    },
    {
     "cell_type": "code",
     "collapsed": false,
     "input": [
      "my_dna.lower()"
     ],
     "language": "python",
     "metadata": {},
     "outputs": [
      {
       "metadata": {},
       "output_type": "pyout",
       "prompt_number": 7,
       "text": [
        "Seq('gggtacgataaa', DNAAlphabet())"
       ]
      }
     ],
     "prompt_number": 7
    },
    {
     "cell_type": "code",
     "collapsed": false,
     "input": [
      "my_dna.endswith('N')"
     ],
     "language": "python",
     "metadata": {},
     "outputs": [
      {
       "metadata": {},
       "output_type": "pyout",
       "prompt_number": 8,
       "text": [
        "False"
       ]
      }
     ],
     "prompt_number": 8
    },
    {
     "cell_type": "code",
     "collapsed": false,
     "input": [
      "my_dna + my_dna"
     ],
     "language": "python",
     "metadata": {},
     "outputs": [
      {
       "metadata": {},
       "output_type": "pyout",
       "prompt_number": 9,
       "text": [
        "Seq('GGGTACGATAAAGGGTACGATAAA', DNAAlphabet())"
       ]
      }
     ],
     "prompt_number": 9
    },
    {
     "cell_type": "code",
     "collapsed": false,
     "input": [
      "str(my_dna)"
     ],
     "language": "python",
     "metadata": {},
     "outputs": [
      {
       "metadata": {},
       "output_type": "pyout",
       "prompt_number": 10,
       "text": [
        "'GGGTACGATAAA'"
       ]
      }
     ],
     "prompt_number": 10
    },
    {
     "cell_type": "markdown",
     "metadata": {},
     "source": [
      "### Operations on sequences\n",
      "\n",
      "The plus feature of the `Seq` type is that we get to use additional functions from 'molecular biology'."
     ]
    },
    {
     "cell_type": "code",
     "collapsed": false,
     "input": [
      "my_rna = my_dna.transcribe()"
     ],
     "language": "python",
     "metadata": {},
     "outputs": [],
     "prompt_number": 11
    },
    {
     "cell_type": "code",
     "collapsed": false,
     "input": [
      "my_rna"
     ],
     "language": "python",
     "metadata": {},
     "outputs": [
      {
       "metadata": {},
       "output_type": "pyout",
       "prompt_number": 12,
       "text": [
        "Seq('GGGUACGAUAAA', RNAAlphabet())"
       ]
      }
     ],
     "prompt_number": 12
    },
    {
     "cell_type": "markdown",
     "metadata": {},
     "source": [
      "Here we see that running `transcribe()` returns a new RNA sequence. Biopython uses alphabet information to determine whether a `Seq` member function can be invoked or not."
     ]
    },
    {
     "cell_type": "markdown",
     "metadata": {},
     "source": [
      "There are more, of course."
     ]
    },
    {
     "cell_type": "code",
     "collapsed": false,
     "input": [
      "my_dna.complement()"
     ],
     "language": "python",
     "metadata": {},
     "outputs": [
      {
       "metadata": {},
       "output_type": "pyout",
       "prompt_number": 13,
       "text": [
        "Seq('CCCATGCTATTT', DNAAlphabet())"
       ]
      }
     ],
     "prompt_number": 13
    },
    {
     "cell_type": "code",
     "collapsed": false,
     "input": [
      "my_dna.reverse_complement()"
     ],
     "language": "python",
     "metadata": {},
     "outputs": [
      {
       "metadata": {},
       "output_type": "pyout",
       "prompt_number": 14,
       "text": [
        "Seq('TTTATCGTACCC', DNAAlphabet())"
       ]
      }
     ],
     "prompt_number": 14
    },
    {
     "cell_type": "code",
     "collapsed": false,
     "input": [
      "my_protein = my_dna.translate()"
     ],
     "language": "python",
     "metadata": {},
     "outputs": [],
     "prompt_number": 15
    },
    {
     "cell_type": "code",
     "collapsed": false,
     "input": [
      "my_protein"
     ],
     "language": "python",
     "metadata": {},
     "outputs": [
      {
       "metadata": {},
       "output_type": "pyout",
       "prompt_number": 16,
       "text": [
        "Seq('GYDK', ExtendedIUPACProtein())"
       ]
      }
     ],
     "prompt_number": 16
    },
    {
     "cell_type": "markdown",
     "metadata": {},
     "source": [
      "Now try running `my_protein.transcribe()` in your interpreter. What happens?"
     ]
    },
    {
     "cell_type": "markdown",
     "metadata": {},
     "source": [
      "### <span class=\"exercise\">Exercise: Six-frame translation</span>\n",
      "\n",
      "Write a function that takes a `Seq` object and prints all possible translation frames from it. For example, when using `CGATCGTAGCTGTAGCGCGATATATACTAGGG` as the input sequence, the output is (not necessarily in this order):\n",
      "\n",
      "    RS*L*RDIY*\n",
      "    P*YISRYSYD\n",
      "    DRSCSAIYTR\n",
      "    PSIYRATATI\n",
      "    IVAVARYILG\n",
      "    LVYIALQLRS\n",
      "\n",
      "Additionally, try to see how to use an alternative translation table (hint: `Bio.Data` module)."
     ]
    },
    {
     "cell_type": "markdown",
     "metadata": {},
     "source": [
      "### Storing additional information\n",
      "\n",
      "`Seq` objects are good for storing the sequence itself. But where do we store metadata such as sequence ID or interesting regions in the sequence?\n",
      "\n",
      "For this, we use the `SeqRecord` object from the `Bio.SeqRecord` module. It is essentially a thin wrap around the `Seq` object that also stores sequence metadata."
     ]
    },
    {
     "cell_type": "code",
     "collapsed": false,
     "input": [
      "from Bio.SeqRecord import SeqRecord"
     ],
     "language": "python",
     "metadata": {},
     "outputs": [],
     "prompt_number": 17
    },
    {
     "cell_type": "code",
     "collapsed": false,
     "input": [
      "record = SeqRecord(my_dna)"
     ],
     "language": "python",
     "metadata": {},
     "outputs": [],
     "prompt_number": 18
    },
    {
     "cell_type": "code",
     "collapsed": false,
     "input": [
      "record"
     ],
     "language": "python",
     "metadata": {},
     "outputs": [
      {
       "metadata": {},
       "output_type": "pyout",
       "prompt_number": 19,
       "text": [
        "SeqRecord(seq=Seq('GGGTACGATAAA', DNAAlphabet()), id='<unknown id>', name='<unknown name>', description='<unknown description>', dbxrefs=[])"
       ]
      }
     ],
     "prompt_number": 19
    },
    {
     "cell_type": "code",
     "collapsed": false,
     "input": [
      "print record"
     ],
     "language": "python",
     "metadata": {},
     "outputs": [
      {
       "output_type": "stream",
       "stream": "stdout",
       "text": [
        "ID: <unknown id>\n",
        "Name: <unknown name>\n",
        "Description: <unknown description>\n",
        "Number of features: 0\n",
        "Seq('GGGTACGATAAA', DNAAlphabet())\n"
       ]
      }
     ],
     "prompt_number": 20
    },
    {
     "cell_type": "markdown",
     "metadata": {},
     "source": [
      "We saw that `SeqRecord` stores a `Seq` object and other metadata such as:\n",
      "\n",
      "* `id`: Sequence ID.\n",
      "* `name`: Sequence name, usually the same as `id`.\n",
      "* `description`: Sequence description.\n",
      "* `dbxrefs`: A list of database cross references.\n",
      "\n",
      "There are also other metadata not shown here such as:\n",
      "\n",
      "* `letter_annotation`: Annotation per sequence position.\n",
      "\n",
      "It's enough to supply only a `Seq` object when creating `SeqRecord`. However, as we saw, it's not that useful to have `<unknown id>` and `<unknown description>` as metadata. "
     ]
    },
    {
     "cell_type": "code",
     "collapsed": false,
     "input": [
      "SeqRecord(my_dna, id='my precious', description='my precious sequence')"
     ],
     "language": "python",
     "metadata": {},
     "outputs": [
      {
       "metadata": {},
       "output_type": "pyout",
       "prompt_number": 21,
       "text": [
        "SeqRecord(seq=Seq('GGGTACGATAAA', DNAAlphabet()), id='my precious', name='<unknown name>', description='my precious sequence', dbxrefs=[])"
       ]
      }
     ],
     "prompt_number": 21
    },
    {
     "cell_type": "code",
     "collapsed": false,
     "input": [
      "from IPython.core.display import HTML\n",
      "def custom_style():\n",
      "    style = open('styles/notebook.css', 'r').read()\n",
      "    return HTML('<style>' + style + '</style>')\n",
      "def custom_script():\n",
      "    script = open('styles/notebook.js', 'r').read()\n",
      "    return HTML('<script>' + script + '</script>')"
     ],
     "language": "python",
     "metadata": {},
     "outputs": [],
     "prompt_number": 22
    },
    {
     "cell_type": "code",
     "collapsed": false,
     "input": [
      "custom_style()"
     ],
     "language": "python",
     "metadata": {},
     "outputs": [
      {
       "html": [
        "<style>/*\n",
        "  https://github.com/CamDavidsonPilon/Probabilistic-Programming-and-Bayesian-Methods-for-Hackers\n",
        "*/\n",
        "@font-face {\n",
        "    font-family: \"Computer Modern\";\n",
        "    src: url('http://mirrors.ctan.org/fonts/cm-unicode/fonts/otf/cmunss.otf');\n",
        "}\n",
        "div.cell{\n",
        "    width:800px;\n",
        "    margin-left:16% !important;\n",
        "    margin-right:auto;\n",
        "}\n",
        "h1 {\n",
        "    font-family: Helvetica, serif;\n",
        "}\n",
        "h4{\n",
        "    margin-top:12px;\n",
        "    margin-bottom: 3px;\n",
        "   }\n",
        "div.text_cell_render{\n",
        "    font-family: Computer Modern, \"Helvetica Neue\", Arial, Helvetica, Geneva, sans-serif;\n",
        "    line-height: 145%;\n",
        "    font-size: 130%;\n",
        "    width:800px;\n",
        "    margin-left:auto;\n",
        "    margin-right:auto;\n",
        "}\n",
        ".CodeMirror{\n",
        "        font-family: \"Source Code Pro\", source-code-pro,Consolas, monospace;\n",
        "}\n",
        ".prompt{\n",
        "    display: None;\n",
        "}\n",
        ".text_cell_render .exercise {\n",
        "    font-weight: 300;\n",
        "    /*font-size: 22pt;*/\n",
        "    color: #4057A1;\n",
        "    font-style: italic;\n",
        "    /*margin-bottom: .5em;\n",
        "    margin-top: 0.5em;\n",
        "    display: block;*/\n",
        "}\n",
        ".text_cell_render .example {\n",
        "    font-weight: 300;\n",
        "    color: #40A157;\n",
        "    font-style: italic;\n",
        "}\n",
        "\n",
        ".warning{\n",
        "    color: rgb( 240, 20, 20 )\n",
        "}\n",
        "</style>"
       ],
       "metadata": {},
       "output_type": "pyout",
       "prompt_number": 23,
       "text": [
        "<IPython.core.display.HTML at 0x21bc310>"
       ]
      }
     ],
     "prompt_number": 23
    },
    {
     "cell_type": "code",
     "collapsed": false,
     "input": [
      "custom_script()"
     ],
     "language": "python",
     "metadata": {},
     "outputs": [
      {
       "html": [
        "<script>// https://github.com/CamDavidsonPilon/Probabilistic-Programming-and-Bayesian-Methods-for-Hackers\n",
        "MathJax.Hub.Config({\n",
        "                    TeX: {\n",
        "                       extensions: [\"AMSmath.js\"]\n",
        "                       },\n",
        "            tex2jax: {\n",
        "                inlineMath: [ ['$','$'], [\"\\\\(\",\"\\\\)\"] ],\n",
        "                displayMath: [ ['$$','$$'], [\"\\\\[\",\"\\\\]\"] ]\n",
        "            },\n",
        "            displayAlign: 'center', // Change this to 'center' to center equations.\n",
        "            \"HTML-CSS\": {\n",
        "                styles: {'.MathJax_Display': {\"margin\": 4}}\n",
        "            }\n",
        "    });\n",
        "</script>"
       ],
       "metadata": {},
       "output_type": "pyout",
       "prompt_number": 24,
       "text": [
        "<IPython.core.display.HTML at 0x21bc590>"
       ]
      }
     ],
     "prompt_number": 24
    }
   ],
   "metadata": {}
  }
 ]
}