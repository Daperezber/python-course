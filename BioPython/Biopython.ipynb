{
 "cells": [
  {
   "cell_type": "markdown",
   "metadata": {
    "slideshow": {
     "slide_type": "slide"
    }
   },
   "source": [
    "# Biopython\n",
    "\n",
    "![biopython logo](http://biopython.org/assets/images/biopython_logo_white.png)\n",
    "\n",
    "## A quick overview\n",
    "### [Guy Allard](mailto://w.g.allard@lumc.nl)"
   ]
  },
  {
   "cell_type": "markdown",
   "metadata": {
    "slideshow": {
     "slide_type": "slide"
    }
   },
   "source": [
    "# What is Biopython?\n",
    "\n",
    "## 'Python Tools for Computational Molecular Biology'\n",
    "\n",
    "- Fully open-source\n",
    "- Actively developed\n",
    "- Large community"
   ]
  },
  {
   "cell_type": "markdown",
   "metadata": {
    "slideshow": {
     "slide_type": "slide"
    }
   },
   "source": [
    "# What can it do?\n",
    "\n",
    "Modules, classes and functions for manipulating biological data\n",
    "\n",
    "- File parsers and writers.\n",
    "  - Sequence files: fasta, fastq, genbank, abi, sff, etc.\n",
    "  - Alignment files: clustal, emboss, phylip, nexus, etc.\n",
    "  - Sequence search outputs: BLAST, HMMER, BLAT, etc.\n",
    "  - Phylogenetic trees: newick, nexus, phyloxml, etc.\n",
    "  - Sequence motifs: AlignAce, TRANSFAC, etc.\n",
    "  - Others: PDB files, etc.\n",
    "- Access to remote resources (e.g., Entrez, NCBI BLAST).\n",
    "- Application wrappers.\n",
    "- A simple graphing tool.\n",
    "- Simple algorithms (e.g., pairwise alignment, cluster analysis).\n",
    "- References such as codon tables and IUPAC sequences."
   ]
  },
  {
   "cell_type": "markdown",
   "metadata": {
    "slideshow": {
     "slide_type": "slide"
    }
   },
   "source": [
    "# Where can I find more information?\n",
    "\n",
    "- [Biopython Homepage](http://biopython.org/)\n",
    "- [Biopython development repository](http://github.com/biopython/biopython)\n",
    "- [Biopython mailing list](http://lists.open-bio.org/pipermail/biopython/)\n",
    "- [Biopython 'cookbook'](http://biopython.org/DIST/docs/tutorial/Tutorial.html) (essential reading!)"
   ]
  },
  {
   "cell_type": "markdown",
   "metadata": {
    "slideshow": {
     "slide_type": "slide"
    }
   },
   "source": [
    "# Manipulating sequence data\n",
    "\n",
    "## Seq and SeqRecord objects\n",
    "\n",
    "`Seq` and `SeqRecord` objects are the basis of all sequence manipulation in Biopython. \n",
    "\n",
    "* `Seq` is a raw sequence with an alphabet (e.g. DNA or RNA).\n",
    "* `SeqRecord` is a sequence with metadata (e.g. names, ids, etc). This contains a `Seq` object. \n"
   ]
  },
  {
   "cell_type": "code",
   "execution_count": 1,
   "metadata": {
    "slideshow": {
     "slide_type": "subslide"
    }
   },
   "outputs": [
    {
     "name": "stdout",
     "output_type": "stream",
     "text": [
      "ATGGCCCTGTGGATGCGCCTCCTGCCCCTG\n"
     ]
    }
   ],
   "source": [
    "from Bio.Seq import Seq\n",
    "from Bio.Alphabet import generic_dna\n",
    "\n",
    "# create a sequence, and store it in a variable\n",
    "\n",
    "my_sequence = Seq(\"ATGGCCCTGTGGATGCGCCTCCTGCCCCTG\", generic_dna)\n",
    "print(my_sequence)\n",
    "\n"
   ]
  },
  {
   "cell_type": "markdown",
   "metadata": {
    "slideshow": {
     "slide_type": "subslide"
    }
   },
   "source": [
    "There are lots of built in methods that can be used to manipulate the sequence\n",
    "\n",
    "The sequence acts like a string in many ways\n"
   ]
  },
  {
   "cell_type": "code",
   "execution_count": 2,
   "metadata": {
    "slideshow": {
     "slide_type": "subslide"
    }
   },
   "outputs": [
    {
     "name": "stdout",
     "output_type": "stream",
     "text": [
      "length: 30\n"
     ]
    }
   ],
   "source": [
    "# get the length of a sequence\n",
    "print(\"length: {0}\".format(len(my_sequence)))"
   ]
  },
  {
   "cell_type": "code",
   "execution_count": 3,
   "metadata": {
    "slideshow": {
     "slide_type": "subslide"
    }
   },
   "outputs": [
    {
     "name": "stdout",
     "output_type": "stream",
     "text": [
      "ATGGCCCTGT\n"
     ]
    }
   ],
   "source": [
    "# slice and dice\n",
    "print(my_sequence[:10])"
   ]
  },
  {
   "cell_type": "code",
   "execution_count": 4,
   "metadata": {
    "slideshow": {
     "slide_type": "subslide"
    }
   },
   "outputs": [
    {
     "name": "stdout",
     "output_type": "stream",
     "text": [
      "atggccctgtggatgcgcctcctgcccctg\n"
     ]
    }
   ],
   "source": [
    "# change the case\n",
    "print(my_sequence.lower())"
   ]
  },
  {
   "cell_type": "code",
   "execution_count": 5,
   "metadata": {
    "slideshow": {
     "slide_type": "subslide"
    }
   },
   "outputs": [
    {
     "name": "stdout",
     "output_type": "stream",
     "text": [
      "ATGGCCCTGTCCTGCCCCTG\n"
     ]
    }
   ],
   "source": [
    "# concatenate the first and last 10 nucleotides\n",
    "print(my_sequence[:10] + my_sequence[-10:])"
   ]
  },
  {
   "cell_type": "markdown",
   "metadata": {
    "slideshow": {
     "slide_type": "subslide"
    }
   },
   "source": [
    "But also has more sequence-specific methods"
   ]
  },
  {
   "cell_type": "code",
   "execution_count": 6,
   "metadata": {
    "slideshow": {
     "slide_type": "subslide"
    }
   },
   "outputs": [
    {
     "name": "stdout",
     "output_type": "stream",
     "text": [
      "TACCGGGACACCTACGCGGAGGACGGGGAC\n"
     ]
    }
   ],
   "source": [
    "# complement\n",
    "print(my_sequence.complement())"
   ]
  },
  {
   "cell_type": "code",
   "execution_count": 7,
   "metadata": {
    "slideshow": {
     "slide_type": "subslide"
    }
   },
   "outputs": [
    {
     "name": "stdout",
     "output_type": "stream",
     "text": [
      "CAGGGGCAGGAGGCGCATCCACAGGGCCAT\n"
     ]
    }
   ],
   "source": [
    "# reverse complement\n",
    "print(my_sequence.reverse_complement())"
   ]
  },
  {
   "cell_type": "code",
   "execution_count": 8,
   "metadata": {
    "slideshow": {
     "slide_type": "subslide"
    }
   },
   "outputs": [
    {
     "name": "stdout",
     "output_type": "stream",
     "text": [
      "AUGGCCCUGUGGAUGCGCCUCCUGCCCCUG\n"
     ]
    }
   ],
   "source": [
    "# transcribe from DNA to RNA\n",
    "rna = my_sequence.transcribe()\n",
    "print(rna)"
   ]
  },
  {
   "cell_type": "code",
   "execution_count": 9,
   "metadata": {},
   "outputs": [
    {
     "name": "stdout",
     "output_type": "stream",
     "text": [
      "MALWMRLLPL\n"
     ]
    }
   ],
   "source": [
    "# Translate from nucleotide to protein\n",
    "protein = my_sequence.translate()\n",
    "print(protein)"
   ]
  },
  {
   "cell_type": "markdown",
   "metadata": {
    "slideshow": {
     "slide_type": "slide"
    }
   },
   "source": [
    "# Manipulating Sequence Data\n",
    "\n",
    "## Bio.SeqIO\n",
    "\n",
    "Input and output of sequence files.\n",
    "\n",
    "- `SeqIO.read`\n",
    "  - Read a file containing a single sequence\n",
    "- `SeqIO.parse`\n",
    "  - Iterate over all sequences in a sequence file\n",
    "- `SeqIO.write`\n",
    "  - write sequences to a file"
   ]
  },
  {
   "cell_type": "code",
   "execution_count": 10,
   "metadata": {
    "slideshow": {
     "slide_type": "subslide"
    }
   },
   "outputs": [
    {
     "name": "stdout",
     "output_type": "stream",
     "text": [
      "ID: 1\n",
      "Name: 1\n",
      "Description: 1\n",
      "Number of features: 0\n",
      "Seq('TGGAACATGTCCCGCTAGCTTCTTCTTGCTAGCAGATTTTTTCAGTTGATCGTC...TCT', SingleLetterAlphabet())\n"
     ]
    }
   ],
   "source": [
    "from Bio import SeqIO\n",
    "\n",
    "# read the first sequence\n",
    "# returns SeqRecord objects\n",
    "for record in SeqIO.parse(\"../data/records.fa\", \"fasta\"):\n",
    "    dna = record\n",
    "    break\n",
    "\n",
    "print(dna)"
   ]
  },
  {
   "cell_type": "markdown",
   "metadata": {
    "slideshow": {
     "slide_type": "subslide"
    }
   },
   "source": [
    "Each record is an object with several fields, including:\n",
    "\n",
    "- `record.id`\n",
    "  - the sequence id\n",
    "- `record.name`\n",
    "  - sequence name, usually the same as the id\n",
    "- `record.description`\n",
    "  - sequence description\n",
    "\n",
    "The actual sequence is a separate object contained within the record which can be accessed using record.seq\n",
    "\n",
    "The sequence has an 'alphabet' associated with it which defines which letters are allowed.\n",
    "\n",
    "Different alphabets are used for DNA, RNA, protein etc."
   ]
  },
  {
   "cell_type": "code",
   "execution_count": 11,
   "metadata": {
    "slideshow": {
     "slide_type": "subslide"
    }
   },
   "outputs": [
    {
     "name": "stdout",
     "output_type": "stream",
     "text": [
      "TGGAACATGTCCCGCTAGCTTCTTCTTGCTAGCAGATTTTTTCAGTTGATCGTCACATGCGGTAGACTACCCAAGGTGTGACTACTCGCATGCCTGATCT\n"
     ]
    }
   ],
   "source": [
    "print(dna.seq)"
   ]
  },
  {
   "cell_type": "code",
   "execution_count": 12,
   "metadata": {
    "slideshow": {
     "slide_type": "subslide"
    }
   },
   "outputs": [
    {
     "name": "stdout",
     "output_type": "stream",
     "text": [
      "AGATCAGGCATGCGAGTAGTCACACCTTGGGTAGTCTACCGCATGTGACGATCAACTGAAAAAATCTGCTAGCAAGAAGAAGCTAGCGGGACATGTTCCA\n"
     ]
    }
   ],
   "source": [
    "# we can then do our sequence manipulations on the `.seq` attribute of the record\n",
    "\n",
    "print(dna.seq.reverse_complement())"
   ]
  },
  {
   "cell_type": "markdown",
   "metadata": {
    "slideshow": {
     "slide_type": "slide"
    }
   },
   "source": [
    "Sequence records can easily be written to a file.\n",
    "\n",
    "Specifying the file type allows conversion between different formats.\n",
    "\n",
    "For example, to convert from a fastq file to fasta format:"
   ]
  },
  {
   "cell_type": "code",
   "execution_count": 13,
   "metadata": {
    "slideshow": {
     "slide_type": "fragment"
    }
   },
   "outputs": [
    {
     "data": {
      "text/plain": [
       "1"
      ]
     },
     "execution_count": 13,
     "metadata": {},
     "output_type": "execute_result"
    }
   ],
   "source": [
    "records = SeqIO.parse(\"../data/easy.fastq\", \"fastq\")\n",
    "SeqIO.write(records, \"tmp.fasta\", \"fasta\")"
   ]
  },
  {
   "cell_type": "markdown",
   "metadata": {
    "slideshow": {
     "slide_type": "slide"
    }
   },
   "source": [
    "# Remote files\n",
    "\n",
    "NCBI allow for remote querying of their Entrez database, and Biopython allows us to use their services from within python.\n",
    "\n",
    "We can use the Entrez.efetch utility to retrieve various records from one of NCBI's databases.\n",
    "\n",
    "A full list of these services and their documentation can be found on the [Entrez utilities help page](https://www.ncbi.nlm.nih.gov/books/NBK25500/)"
   ]
  },
  {
   "cell_type": "code",
   "execution_count": 14,
   "metadata": {
    "slideshow": {
     "slide_type": "fragment"
    }
   },
   "outputs": [],
   "source": [
    "from Bio import Entrez"
   ]
  },
  {
   "cell_type": "markdown",
   "metadata": {
    "slideshow": {
     "slide_type": "fragment"
    }
   },
   "source": [
    "IMPORTANT:\n",
    "\n",
    "To monitor potential excessive use of their services, NCBI requests you to specify your email address with each request.\n",
    "\n",
    "With Biopython, you can set it once for your session like this:"
   ]
  },
  {
   "cell_type": "code",
   "execution_count": 15,
   "metadata": {
    "slideshow": {
     "slide_type": "fragment"
    }
   },
   "outputs": [],
   "source": [
    "Entrez.email = 'python@lumc.nl'"
   ]
  },
  {
   "cell_type": "markdown",
   "metadata": {
    "slideshow": {
     "slide_type": "subslide"
    }
   },
   "source": [
    "Now we can make a query of the database.\n",
    "\n",
    "The Entrez.efetch function returns a file-like handle that instead of pointing to a local file, points to a remote resource."
   ]
  },
  {
   "cell_type": "code",
   "execution_count": 16,
   "metadata": {
    "slideshow": {
     "slide_type": "subslide"
    }
   },
   "outputs": [],
   "source": [
    "efetch_handle = Entrez.efetch(db=\"nucleotide\", id=\"NM_005804\",\n",
    "                              rettype=\"gb\", retmode=\"text\")"
   ]
  },
  {
   "cell_type": "markdown",
   "metadata": {
    "slideshow": {
     "slide_type": "subslide"
    }
   },
   "source": [
    "We can use the handle as if it were a normal file handle opened with ```open(\"filename\", \"r\")```, and read from it using SeqIO.read()"
   ]
  },
  {
   "cell_type": "code",
   "execution_count": 17,
   "metadata": {
    "slideshow": {
     "slide_type": "subslide"
    }
   },
   "outputs": [
    {
     "name": "stdout",
     "output_type": "stream",
     "text": [
      "ID: NM_005804.3\n",
      "Name: NM_005804\n",
      "Description: Homo sapiens DExD-box helicase 39A (DDX39A), transcript variant 1, mRNA\n",
      "Number of features: 25\n",
      "/molecule_type=mRNA\n",
      "/topology=linear\n",
      "/data_file_division=PRI\n",
      "/date=20-OCT-2018\n",
      "/accessions=['NM_005804']\n",
      "/sequence_version=3\n",
      "/keywords=['RefSeq']\n",
      "/source=Homo sapiens (human)\n",
      "/organism=Homo sapiens\n",
      "/taxonomy=['Eukaryota', 'Metazoa', 'Chordata', 'Craniata', 'Vertebrata', 'Euteleostomi', 'Mammalia', 'Eutheria', 'Euarchontoglires', 'Primates', 'Haplorrhini', 'Catarrhini', 'Hominidae', 'Homo']\n",
      "/references=[Reference(title='The RNA helicase DDX39B and its paralog DDX39A regulate androgen receptor splice variant AR-V7 generation', ...), Reference(title='Identification of DDX39A as a Potential Biomarker for Unfavorable Neuroblastoma Using a Proteomic Approach', ...), Reference(title='Up-regulation of DDX39 in human malignant pleural mesothelioma cell lines compared to normal pleural mesothelial cells', ...), Reference(title='The mRNA-bound proteome and its global occupancy profile on protein-coding transcripts', ...), Reference(title='Clinical proteomics identified ATP-dependent RNA helicase DDX39 as a novel biomarker to predict poor prognosis of patients with gastrointestinal stromal tumor', ...), Reference(title='The closely related RNA helicases, UAP56 and URH49, preferentially form distinct mRNA export machineries and coordinately regulate mitotic progression', ...), Reference(title='Hcc-1 is a novel component of the nuclear matrix with growth inhibitory function', ...), Reference(title='Growth-regulated expression and G0-specific turnover of the mRNA that encodes URH49, a mammalian DExH/D box protein that is highly related to the mRNA export protein UAP56', ...), Reference(title='Analysis of a high-throughput yeast two-hybrid system and its use to predict the function of intracellular proteins encoded within the human MHC class III region', ...), Reference(title='The BAT1 gene in the MHC encodes an evolutionarily conserved putative nuclear RNA helicase of the DEAD family', ...)]\n",
      "/comment=REVIEWED REFSEQ: This record has been curated by NCBI staff. The\n",
      "reference sequence was derived from DA432925.1, BC001009.2 and\n",
      "BM792110.1.\n",
      "This sequence is a reference standard in the RefSeqGene project.\n",
      "On Oct 14, 2010 this sequence version replaced NM_005804.2.\n",
      "Summary: This gene encodes a member of the DEAD box protein family.\n",
      "These proteins are characterized by the conserved motif\n",
      "Asp-Glu-Ala-Asp (DEAD) and are putative RNA helicases. They are\n",
      "implicated in a number of cellular processes involving alteration\n",
      "of RNA secondary structure, such as translation initiation, nuclear\n",
      "and mitochondrial splicing, and ribosome and spliceosome assembly.\n",
      "Based on their distribution patterns, some members of the DEAD box\n",
      "protein family are believed to be involved in embryogenesis,\n",
      "spermatogenesis, and cellular growth and division. This gene is\n",
      "thought to play a role in the prognosis of patients with\n",
      "gastrointestinal stromal tumors. A pseudogene of this gene is\n",
      "present on chromosome 13. Alternate splicing results in multiple\n",
      "transcript variants. Additional alternatively spliced transcript\n",
      "variants of this gene have been described, but their full-length\n",
      "nature is not known. [provided by RefSeq, Sep 2013].\n",
      "Transcript Variant: This variant (1) represents the longer\n",
      "transcript.\n",
      "Publication Note:  This RefSeq record includes a subset of the\n",
      "publications that are available for this gene. Please see the Gene\n",
      "record to access additional publications.\n",
      "                               SRR1163655.274234.1 [ECO:0000332]\n",
      "                               SAMEA1965299, SAMEA1966682\n",
      "                               [ECO:0000350]\n",
      "COMPLETENESS: complete on the 3' end.\n",
      "/structured_comment=OrderedDict([('Evidence-Data', OrderedDict([('Transcript exon combination', 'SRR1163655.176131.1,'), ('RNAseq introns', 'mixed/partial sample support')]))])\n",
      "Seq('AGCAGCAGCCCGACGCAAGAGGCAGGAAGCGCAGCAACTCGTGTCTGAGCGCCC...AAA', IUPACAmbiguousDNA())\n"
     ]
    }
   ],
   "source": [
    "ncbi_record = SeqIO.read(efetch_handle, 'genbank')\n",
    "\n",
    "print(ncbi_record)"
   ]
  },
  {
   "cell_type": "markdown",
   "metadata": {
    "slideshow": {
     "slide_type": "subslide"
    }
   },
   "source": [
    "It is also possible to query for multiple records"
   ]
  },
  {
   "cell_type": "code",
   "execution_count": 18,
   "metadata": {
    "slideshow": {
     "slide_type": "subslide"
    }
   },
   "outputs": [],
   "source": [
    "efetch_handle = Entrez.efetch(db=\"nucleotide\", id=[\"NM_005804\",\"NM_000967\"],\n",
    "                              rettype=\"gb\", retmode=\"text\")"
   ]
  },
  {
   "cell_type": "markdown",
   "metadata": {
    "slideshow": {
     "slide_type": "subslide"
    }
   },
   "source": [
    "Which can then be iterated over using ```SeqIO.parse```"
   ]
  },
  {
   "cell_type": "code",
   "execution_count": 19,
   "metadata": {
    "slideshow": {
     "slide_type": "subslide"
    }
   },
   "outputs": [
    {
     "name": "stdout",
     "output_type": "stream",
     "text": [
      "NM_005804.3 Homo sapiens DExD-box helicase 39A (DDX39A), transcript variant 1, mRNA\n",
      "NM_000967.3 Homo sapiens ribosomal protein L3 (RPL3), transcript variant 1, mRNA\n"
     ]
    }
   ],
   "source": [
    "for record in SeqIO.parse(efetch_handle, 'genbank'):\n",
    "    print(record.id, record.description)"
   ]
  },
  {
   "cell_type": "markdown",
   "metadata": {
    "slideshow": {
     "slide_type": "slide"
    }
   },
   "source": [
    "# Remote Tools\n",
    "\n",
    "It is possible to use Biopyton with remote tools.\n",
    "\n",
    "For example, we can submit a BLAST search to the NCBI service. ([Documentation here](https://www.ncbi.nlm.nih.gov/BLAST/Doc/urlapi.html))\n",
    "\n",
    "We will use qblast function in the Bio.Blast.NCBIWWW module to perform a BLAST search using the record we retrieved earlier.\n",
    "\n",
    "NOTE: It can take some time for the search results to become available"
   ]
  },
  {
   "cell_type": "code",
   "execution_count": 20,
   "metadata": {
    "slideshow": {
     "slide_type": "subslide"
    }
   },
   "outputs": [],
   "source": [
    "#from Bio.Blast.NCBIWWW import qblast\n",
    "#blast_handle = qblast('blastn', 'refseq_mrna', ncbi_record.seq)"
   ]
  },
  {
   "cell_type": "markdown",
   "metadata": {
    "slideshow": {
     "slide_type": "subslide"
    }
   },
   "source": [
    "We can the read from the file handle using the ```Bio.SearchIO``` module."
   ]
  },
  {
   "cell_type": "code",
   "execution_count": 21,
   "metadata": {
    "slideshow": {
     "slide_type": "subslide"
    }
   },
   "outputs": [],
   "source": [
    "#from Bio import SearchIO\n",
    "#qresult = SearchIO.read(blast_handle, 'blast-xml')\n",
    "#print(qresult)"
   ]
  },
  {
   "cell_type": "code",
   "execution_count": 22,
   "metadata": {
    "slideshow": {
     "slide_type": "subslide"
    }
   },
   "outputs": [],
   "source": [
    "#print(qresult[0])"
   ]
  },
  {
   "cell_type": "code",
   "execution_count": 23,
   "metadata": {
    "slideshow": {
     "slide_type": "subslide"
    }
   },
   "outputs": [],
   "source": [
    "#print(qresult[1])"
   ]
  },
  {
   "cell_type": "markdown",
   "metadata": {
    "slideshow": {
     "slide_type": "slide"
    }
   },
   "source": [
    "# That was just an overview\n",
    "\n",
    "This lesson was just a small taste of what can be done with Biopython.\n",
    "\n",
    "I strongly recommend looking at the [Biopython 'cookbook'](http://biopython.org/DIST/docs/tutorial/Tutorial.html) to get an idea of the wide range of things that you can do with it."
   ]
  },
  {
   "cell_type": "markdown",
   "metadata": {
    "slideshow": {
     "slide_type": "fragment"
    }
   },
   "source": [
    "The lesson was based on previous material by [Wibowo Arindrarto](mailto://w.arindrarto@lumc.nl) and Martijn Vermaat.\n",
    "\n",
    "License: [Creative Commons Attribution 3.0 License (CC-by)](http://creativecommons.org/licenses/by/3.0)"
   ]
  }
 ],
 "metadata": {
  "celltoolbar": "Slideshow",
  "kernelspec": {
   "display_name": "Python 3",
   "language": "python",
   "name": "python3"
  },
  "language_info": {
   "codemirror_mode": {
    "name": "ipython",
    "version": 3
   },
   "file_extension": ".py",
   "mimetype": "text/x-python",
   "name": "python",
   "nbconvert_exporter": "python",
   "pygments_lexer": "ipython3",
   "version": "3.6.6"
  }
 },
 "nbformat": 4,
 "nbformat_minor": 2
}
