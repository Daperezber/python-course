{
 "metadata": {
  "name": "",
  "signature": "sha256:b83caaa08091e840c80d6b9587a45da9dd898900c0bdbad86c2bb52215020906"
 },
 "nbformat": 3,
 "nbformat_minor": 0,
 "worksheets": [
  {
   "cells": [
    {
     "cell_type": "markdown",
     "metadata": {},
     "source": [
      "\n",
      "More on IPython and Python libraries making science peanuts..\n",
      "===\n",
      "\n"
     ]
    },
    {
     "cell_type": "markdown",
     "metadata": {},
     "source": [
      "    cd ~/programming-course/day03/paintingpandas\n",
      "    workon bio\n",
      "    ipython notebook"
     ]
    },
    {
     "cell_type": "markdown",
     "metadata": {},
     "source": [
      "Pandas\n",
      "===\n",
      "\n",
      "* The ultimate carpenters toolkit for bio-informaticians\n",
      "* Functional programming for science\n",
      "* ***Easy*** statistical analyses using Python\n",
      "* Intuitive data mangling\n",
      "\n",
      "\n"
     ]
    },
    {
     "cell_type": "code",
     "collapsed": false,
     "input": [
      "# Enable inline plotting\n",
      "%matplotlib inline\n",
      "%pylab inline\n",
      "\n",
      "from pandas import DataFrame, read_csv\n",
      "import matplotlib.pyplot as plt\n"
     ],
     "language": "python",
     "metadata": {},
     "outputs": [
      {
       "output_type": "stream",
       "stream": "stdout",
       "text": [
        "Populating the interactive namespace from numpy and matplotlib\n"
       ]
      }
     ],
     "prompt_number": 2
    },
    {
     "cell_type": "markdown",
     "metadata": {},
     "source": [
      "Learn by example\n",
      "===\n",
      "\n",
      "Live demo,"
     ]
    },
    {
     "cell_type": "code",
     "collapsed": false,
     "input": [
      "# Sample dataset\n",
      "participants = ['Anthony', 'Berend', 'Christine', 'Don', 'Esther', \n",
      "                'Fer', 'Ginny', 'Hendrik', 'Ivo', 'John', 'Karl']\n",
      "grades = [85, 65, 81, 73, 85, 45, 70, 60, 14, 64, 72]\n",
      "sex = ['M','M','F','M','F','M','F','M','M','M','M']\n",
      "university = ['AU', 'NL', 'NL', 'AU', 'DE', 'DE', 'NL', 'NL', 'NL', 'AU', 'DE']\n",
      "\n",
      "\n",
      "courseResults = zip(participants, grades)\n",
      "partipants_info = zip(participants, grades, sex, university)"
     ],
     "language": "python",
     "metadata": {},
     "outputs": [],
     "prompt_number": 128
    },
    {
     "cell_type": "code",
     "collapsed": false,
     "input": [
      "courseResults"
     ],
     "language": "python",
     "metadata": {},
     "outputs": [
      {
       "metadata": {},
       "output_type": "pyout",
       "prompt_number": 129,
       "text": [
        "[('Anthony', 85),\n",
        " ('Berend', 65),\n",
        " ('Christine', 81),\n",
        " ('Don', 73),\n",
        " ('Esther', 85),\n",
        " ('Fer', 45),\n",
        " ('Ginny', 70),\n",
        " ('Hendrik', 60),\n",
        " ('Ivo', 14),\n",
        " ('John', 64),\n",
        " ('Karl', 72)]"
       ]
      }
     ],
     "prompt_number": 129
    },
    {
     "cell_type": "code",
     "collapsed": true,
     "input": [
      "partipants_info"
     ],
     "language": "python",
     "metadata": {},
     "outputs": [
      {
       "metadata": {},
       "output_type": "pyout",
       "prompt_number": 130,
       "text": [
        "[('Anthony', 85, 'M', 'AU'),\n",
        " ('Berend', 65, 'M', 'NL'),\n",
        " ('Christine', 81, 'F', 'NL'),\n",
        " ('Don', 73, 'M', 'AU'),\n",
        " ('Esther', 85, 'F', 'DE'),\n",
        " ('Fer', 45, 'M', 'DE'),\n",
        " ('Ginny', 70, 'F', 'NL'),\n",
        " ('Hendrik', 60, 'M', 'NL'),\n",
        " ('Ivo', 14, 'M', 'NL'),\n",
        " ('John', 64, 'M', 'AU'),\n",
        " ('Karl', 72, 'M', 'DE')]"
       ]
      }
     ],
     "prompt_number": 130
    },
    {
     "cell_type": "code",
     "collapsed": false,
     "input": [
      "df = DataFrame(zip(grades,sex,university), index=participants, columns=['Grade','Sex', 'University' ])\n",
      "df"
     ],
     "language": "python",
     "metadata": {},
     "outputs": [
      {
       "html": [
        "<div style=\"max-height:1000px;max-width:1500px;overflow:auto;\">\n",
        "<table border=\"1\" class=\"dataframe\">\n",
        "  <thead>\n",
        "    <tr style=\"text-align: right;\">\n",
        "      <th></th>\n",
        "      <th>Grade</th>\n",
        "      <th>Sex</th>\n",
        "      <th>University</th>\n",
        "    </tr>\n",
        "  </thead>\n",
        "  <tbody>\n",
        "    <tr>\n",
        "      <th>Anthony</th>\n",
        "      <td> 85</td>\n",
        "      <td> M</td>\n",
        "      <td> AU</td>\n",
        "    </tr>\n",
        "    <tr>\n",
        "      <th>Berend</th>\n",
        "      <td> 65</td>\n",
        "      <td> M</td>\n",
        "      <td> NL</td>\n",
        "    </tr>\n",
        "    <tr>\n",
        "      <th>Christine</th>\n",
        "      <td> 81</td>\n",
        "      <td> F</td>\n",
        "      <td> NL</td>\n",
        "    </tr>\n",
        "    <tr>\n",
        "      <th>Don</th>\n",
        "      <td> 73</td>\n",
        "      <td> M</td>\n",
        "      <td> AU</td>\n",
        "    </tr>\n",
        "    <tr>\n",
        "      <th>Esther</th>\n",
        "      <td> 85</td>\n",
        "      <td> F</td>\n",
        "      <td> DE</td>\n",
        "    </tr>\n",
        "    <tr>\n",
        "      <th>Fer</th>\n",
        "      <td> 45</td>\n",
        "      <td> M</td>\n",
        "      <td> DE</td>\n",
        "    </tr>\n",
        "    <tr>\n",
        "      <th>Ginny</th>\n",
        "      <td> 70</td>\n",
        "      <td> F</td>\n",
        "      <td> NL</td>\n",
        "    </tr>\n",
        "    <tr>\n",
        "      <th>Hendrik</th>\n",
        "      <td> 60</td>\n",
        "      <td> M</td>\n",
        "      <td> NL</td>\n",
        "    </tr>\n",
        "    <tr>\n",
        "      <th>Ivo</th>\n",
        "      <td> 14</td>\n",
        "      <td> M</td>\n",
        "      <td> NL</td>\n",
        "    </tr>\n",
        "    <tr>\n",
        "      <th>John</th>\n",
        "      <td> 64</td>\n",
        "      <td> M</td>\n",
        "      <td> AU</td>\n",
        "    </tr>\n",
        "    <tr>\n",
        "      <th>Karl</th>\n",
        "      <td> 72</td>\n",
        "      <td> M</td>\n",
        "      <td> DE</td>\n",
        "    </tr>\n",
        "  </tbody>\n",
        "</table>\n",
        "</div>"
       ],
       "metadata": {},
       "output_type": "pyout",
       "prompt_number": 131,
       "text": [
        "           Grade Sex University\n",
        "Anthony       85   M         AU\n",
        "Berend        65   M         NL\n",
        "Christine     81   F         NL\n",
        "Don           73   M         AU\n",
        "Esther        85   F         DE\n",
        "Fer           45   M         DE\n",
        "Ginny         70   F         NL\n",
        "Hendrik       60   M         NL\n",
        "Ivo           14   M         NL\n",
        "John          64   M         AU\n",
        "Karl          72   M         DE"
       ]
      }
     ],
     "prompt_number": 131
    },
    {
     "cell_type": "code",
     "collapsed": false,
     "input": [
      "# Here for some reason we would like to know what is the average scoring in this class\n",
      "df.plot(style='o')\n",
      "summary =  df.describe()\n",
      "summary"
     ],
     "language": "python",
     "metadata": {},
     "outputs": [
      {
       "html": [
        "<div style=\"max-height:1000px;max-width:1500px;overflow:auto;\">\n",
        "<table border=\"1\" class=\"dataframe\">\n",
        "  <thead>\n",
        "    <tr style=\"text-align: right;\">\n",
        "      <th></th>\n",
        "      <th>Grade</th>\n",
        "    </tr>\n",
        "  </thead>\n",
        "  <tbody>\n",
        "    <tr>\n",
        "      <th>count</th>\n",
        "      <td> 11.000000</td>\n",
        "    </tr>\n",
        "    <tr>\n",
        "      <th>mean</th>\n",
        "      <td> 64.909091</td>\n",
        "    </tr>\n",
        "    <tr>\n",
        "      <th>std</th>\n",
        "      <td> 20.544851</td>\n",
        "    </tr>\n",
        "    <tr>\n",
        "      <th>min</th>\n",
        "      <td> 14.000000</td>\n",
        "    </tr>\n",
        "    <tr>\n",
        "      <th>25%</th>\n",
        "      <td> 62.000000</td>\n",
        "    </tr>\n",
        "    <tr>\n",
        "      <th>50%</th>\n",
        "      <td> 70.000000</td>\n",
        "    </tr>\n",
        "    <tr>\n",
        "      <th>75%</th>\n",
        "      <td> 77.000000</td>\n",
        "    </tr>\n",
        "    <tr>\n",
        "      <th>max</th>\n",
        "      <td> 85.000000</td>\n",
        "    </tr>\n",
        "  </tbody>\n",
        "</table>\n",
        "</div>"
       ],
       "metadata": {},
       "output_type": "pyout",
       "prompt_number": 132,
       "text": [
        "           Grade\n",
        "count  11.000000\n",
        "mean   64.909091\n",
        "std    20.544851\n",
        "min    14.000000\n",
        "25%    62.000000\n",
        "50%    70.000000\n",
        "75%    77.000000\n",
        "max    85.000000"
       ]
      },
      {
       "metadata": {},
       "output_type": "display_data",
       "png": "[encoded data removed]",
       "text": [
        "<matplotlib.figure.Figure at 0x6df7f10>"
       ]
      }
     ],
     "prompt_number": 132
    },
    {
     "cell_type": "code",
     "collapsed": false,
     "input": [
      "groupGrades = df.groupby('University')"
     ],
     "language": "python",
     "metadata": {},
     "outputs": [],
     "prompt_number": 133
    },
    {
     "cell_type": "code",
     "collapsed": false,
     "input": [
      "df['Lower'] = groupGrades['Grade'].transform( lambda x: x.quantile(q=.25) - (1.2*x.quantile(q=.75)-x.quantile(q=.25)) )\n",
      "df['Upper'] = groupGrades['Grade'].transform( lambda x: x.quantile(q=.75) + (1.2*x.quantile(q=.75)-x.quantile(q=.25)) )\n",
      "df['Outlier'] = (df['Grade'] < df['Lower']) | (df['Grade'] > df['Upper']) \n",
      "df\n"
     ],
     "language": "python",
     "metadata": {},
     "outputs": [
      {
       "html": [
        "<div style=\"max-height:1000px;max-width:1500px;overflow:auto;\">\n",
        "<table border=\"1\" class=\"dataframe\">\n",
        "  <thead>\n",
        "    <tr style=\"text-align: right;\">\n",
        "      <th></th>\n",
        "      <th>Grade</th>\n",
        "      <th>Sex</th>\n",
        "      <th>University</th>\n",
        "      <th>Lower</th>\n",
        "      <th>Upper</th>\n",
        "      <th>Outlier</th>\n",
        "    </tr>\n",
        "  </thead>\n",
        "  <tbody>\n",
        "    <tr>\n",
        "      <th>Anthony</th>\n",
        "      <td> 85</td>\n",
        "      <td> M</td>\n",
        "      <td> AU</td>\n",
        "      <td> 42.2</td>\n",
        "      <td> 105.3</td>\n",
        "      <td> False</td>\n",
        "    </tr>\n",
        "    <tr>\n",
        "      <th>Berend</th>\n",
        "      <td> 65</td>\n",
        "      <td> M</td>\n",
        "      <td> NL</td>\n",
        "      <td> 36.0</td>\n",
        "      <td>  94.0</td>\n",
        "      <td> False</td>\n",
        "    </tr>\n",
        "    <tr>\n",
        "      <th>Christine</th>\n",
        "      <td> 81</td>\n",
        "      <td> F</td>\n",
        "      <td> NL</td>\n",
        "      <td> 36.0</td>\n",
        "      <td>  94.0</td>\n",
        "      <td> False</td>\n",
        "    </tr>\n",
        "    <tr>\n",
        "      <th>Don</th>\n",
        "      <td> 73</td>\n",
        "      <td> M</td>\n",
        "      <td> AU</td>\n",
        "      <td> 42.2</td>\n",
        "      <td> 105.3</td>\n",
        "      <td> False</td>\n",
        "    </tr>\n",
        "    <tr>\n",
        "      <th>Esther</th>\n",
        "      <td> 85</td>\n",
        "      <td> F</td>\n",
        "      <td> DE</td>\n",
        "      <td> 22.8</td>\n",
        "      <td> 114.2</td>\n",
        "      <td> False</td>\n",
        "    </tr>\n",
        "    <tr>\n",
        "      <th>Fer</th>\n",
        "      <td> 45</td>\n",
        "      <td> M</td>\n",
        "      <td> DE</td>\n",
        "      <td> 22.8</td>\n",
        "      <td> 114.2</td>\n",
        "      <td> False</td>\n",
        "    </tr>\n",
        "    <tr>\n",
        "      <th>Ginny</th>\n",
        "      <td> 70</td>\n",
        "      <td> F</td>\n",
        "      <td> NL</td>\n",
        "      <td> 36.0</td>\n",
        "      <td>  94.0</td>\n",
        "      <td> False</td>\n",
        "    </tr>\n",
        "    <tr>\n",
        "      <th>Hendrik</th>\n",
        "      <td> 60</td>\n",
        "      <td> M</td>\n",
        "      <td> NL</td>\n",
        "      <td> 36.0</td>\n",
        "      <td>  94.0</td>\n",
        "      <td> False</td>\n",
        "    </tr>\n",
        "    <tr>\n",
        "      <th>Ivo</th>\n",
        "      <td> 14</td>\n",
        "      <td> M</td>\n",
        "      <td> NL</td>\n",
        "      <td> 36.0</td>\n",
        "      <td>  94.0</td>\n",
        "      <td>  True</td>\n",
        "    </tr>\n",
        "    <tr>\n",
        "      <th>John</th>\n",
        "      <td> 64</td>\n",
        "      <td> M</td>\n",
        "      <td> AU</td>\n",
        "      <td> 42.2</td>\n",
        "      <td> 105.3</td>\n",
        "      <td> False</td>\n",
        "    </tr>\n",
        "    <tr>\n",
        "      <th>Karl</th>\n",
        "      <td> 72</td>\n",
        "      <td> M</td>\n",
        "      <td> DE</td>\n",
        "      <td> 22.8</td>\n",
        "      <td> 114.2</td>\n",
        "      <td> False</td>\n",
        "    </tr>\n",
        "  </tbody>\n",
        "</table>\n",
        "</div>"
       ],
       "metadata": {},
       "output_type": "pyout",
       "prompt_number": 134,
       "text": [
        "           Grade Sex University  Lower  Upper Outlier\n",
        "Anthony       85   M         AU   42.2  105.3   False\n",
        "Berend        65   M         NL   36.0   94.0   False\n",
        "Christine     81   F         NL   36.0   94.0   False\n",
        "Don           73   M         AU   42.2  105.3   False\n",
        "Esther        85   F         DE   22.8  114.2   False\n",
        "Fer           45   M         DE   22.8  114.2   False\n",
        "Ginny         70   F         NL   36.0   94.0   False\n",
        "Hendrik       60   M         NL   36.0   94.0   False\n",
        "Ivo           14   M         NL   36.0   94.0    True\n",
        "John          64   M         AU   42.2  105.3   False\n",
        "Karl          72   M         DE   22.8  114.2   False"
       ]
      }
     ],
     "prompt_number": 134
    },
    {
     "cell_type": "code",
     "collapsed": false,
     "input": [
      "df.plot(style='-')\n"
     ],
     "language": "python",
     "metadata": {},
     "outputs": [
      {
       "metadata": {},
       "output_type": "pyout",
       "prompt_number": 135,
       "text": [
        "<matplotlib.axes.AxesSubplot at 0x7c8a310>"
       ]
      },
      {
       "metadata": {},
       "output_type": "display_data",
       "png": "[encoded data removed]",
       "text": [
        "<matplotlib.figure.Figure at 0x7c8ad50>"
       ]
      }
     ],
     "prompt_number": 135
    },
    {
     "cell_type": "code",
     "collapsed": false,
     "input": [
      "df.boxplot(column=['Grade'], by=['University'])"
     ],
     "language": "python",
     "metadata": {},
     "outputs": [
      {
       "metadata": {},
       "output_type": "pyout",
       "prompt_number": 147,
       "text": [
        "<matplotlib.axes.AxesSubplot at 0xa700910>"
       ]
      },
      {
       "metadata": {},
       "output_type": "display_data",
       "png": "[encoded data removed]",
       "text": [
        "<matplotlib.figure.Figure at 0x9c65ed0>"
       ]
      }
     ],
     "prompt_number": 147
    },
    {
     "cell_type": "code",
     "collapsed": false,
     "input": [
      "df.boxplot(column=['Grade'], by=['Sex'])"
     ],
     "language": "python",
     "metadata": {},
     "outputs": [
      {
       "metadata": {},
       "output_type": "pyout",
       "prompt_number": 148,
       "text": [
        "<matplotlib.axes.AxesSubplot at 0xa942310>"
       ]
      },
      {
       "metadata": {},
       "output_type": "display_data",
       "png": "[encoded data removed]",
       "text": [
        "<matplotlib.figure.Figure at 0xa55abd0>"
       ]
      }
     ],
     "prompt_number": 148
    },
    {
     "cell_type": "code",
     "collapsed": false,
     "input": [
      "groupGrades.plot()\n",
      "\n"
     ],
     "language": "python",
     "metadata": {},
     "outputs": [
      {
       "metadata": {},
       "output_type": "pyout",
       "prompt_number": 136,
       "text": [
        "University\n",
        "AU            Axes(0.125,0.125;0.775x0.775)\n",
        "DE            Axes(0.125,0.125;0.775x0.775)\n",
        "NL            Axes(0.125,0.125;0.775x0.775)\n",
        "dtype: object"
       ]
      },
      {
       "metadata": {},
       "output_type": "display_data",
       "png": "[encoded data removed]",
       "text": [
        "<matplotlib.figure.Figure at 0x7c84310>"
       ]
      },
      {
       "metadata": {},
       "output_type": "display_data",
       "png": "[encoded data removed]",
       "text": [
        "<matplotlib.figure.Figure at 0x7c843d0>"
       ]
      },
      {
       "metadata": {},
       "output_type": "display_data",
       "png": "[encoded data removed]",
       "text": [
        "<matplotlib.figure.Figure at 0x7eab890>"
       ]
      }
     ],
     "prompt_number": 136
    }
   ],
   "metadata": {}
  }
 ]
}