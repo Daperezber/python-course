{
 "metadata": {
  "name": "",
  "signature": "sha256:f4bfd304820a6c792a65b971256ff4c1e3c8c0b9201520c8d5bb56942f3b771f"
 },
 "nbformat": 3,
 "nbformat_minor": 0,
 "worksheets": [
  {
   "cells": [
    {
     "cell_type": "markdown",
     "metadata": {
      "slideshow": {
       "slide_type": "slide"
      }
     },
     "source": [
      "\n",
      "More on IPython and Python libraries making science peanuts..\n",
      "===\n",
      "\n"
     ]
    },
    {
     "cell_type": "markdown",
     "metadata": {
      "slideshow": {
       "slide_type": "subslide"
      }
     },
     "source": [
      "First of all, I would like to guide you through this lecture interactively.. so first syncronize our directories to:\n",
      "    \n",
      "    cd ~/programming-course/day03/paintingpandas\n",
      "    workon programming-course\n",
      "    ipython notebook"
     ]
    },
    {
     "cell_type": "markdown",
     "metadata": {
      "slideshow": {
       "slide_type": "slide"
      }
     },
     "source": [
      "Pandas\n",
      "===\n",
      "\n",
      "* The ultimate carpenters toolkit for bio-informaticians\n",
      "* Functional programming for science\n",
      "* ***Easy*** statistical analyses using Python\n",
      "* Intuitive data mangling\n",
      "\n",
      "\n"
     ]
    },
    {
     "cell_type": "code",
     "collapsed": false,
     "input": [
      "# Enable inline plotting\n",
      "%matplotlib inline\n",
      "%pylab inline\n",
      "\n",
      "from pandas import DataFrame, read_csv\n",
      "import matplotlib.pyplot as plt\n"
     ],
     "language": "python",
     "metadata": {
      "slideshow": {
       "slide_type": "subslide"
      }
     },
     "outputs": [
      {
       "output_type": "stream",
       "stream": "stdout",
       "text": [
        "Populating the interactive namespace from numpy and matplotlib\n"
       ]
      }
     ],
     "prompt_number": 2
    },
    {
     "cell_type": "markdown",
     "metadata": {
      "slideshow": {
       "slide_type": "slide"
      }
     },
     "source": [
      "Learn by example\n",
      "===\n",
      "\n",
      "Live demo,"
     ]
    },
    {
     "cell_type": "code",
     "collapsed": false,
     "input": [
      "# Sample dataset\n",
      "participants = ['Anthony', 'Berend', 'Christine', 'Don', 'Esther', \n",
      "                'Fer', 'Ginny', 'Hendrik', 'Ivo', 'John', 'Karl', \n",
      "                'Lotte', 'Marjolijn', 'Nanda']\n",
      "grades = [70, 65, 81, 73, 85, 45, 70, 60, 14, 64, 72, 75, 92, 84]\n",
      "sex = ['M','M','F','M','F','M','F','M','M','M','M', 'F', 'F', 'F']\n",
      "university = ['AU', 'NL', 'NL', 'AU', 'DE', 'DE', 'NL', 'NL', 'NL', 'AU', 'DE', 'NL', 'NL', 'AU']\n",
      "\n",
      "\n",
      "courseResults = zip(participants, grades)\n",
      "partipants_info = zip(participants, grades, sex, university)"
     ],
     "language": "python",
     "metadata": {
      "slideshow": {
       "slide_type": "slide"
      }
     },
     "outputs": [],
     "prompt_number": 158
    },
    {
     "cell_type": "code",
     "collapsed": false,
     "input": [
      "courseResults"
     ],
     "language": "python",
     "metadata": {
      "slideshow": {
       "slide_type": "subslide"
      }
     },
     "outputs": [
      {
       "metadata": {},
       "output_type": "pyout",
       "prompt_number": 159,
       "text": [
        "[('Anthony', 70),\n",
        " ('Berend', 65),\n",
        " ('Christine', 81),\n",
        " ('Don', 73),\n",
        " ('Esther', 85),\n",
        " ('Fer', 45),\n",
        " ('Ginny', 70),\n",
        " ('Hendrik', 60),\n",
        " ('Ivo', 14),\n",
        " ('John', 64),\n",
        " ('Karl', 72),\n",
        " ('Lotte', 75),\n",
        " ('Marjolijn', 92),\n",
        " ('Nanda', 84)]"
       ]
      }
     ],
     "prompt_number": 159
    },
    {
     "cell_type": "code",
     "collapsed": true,
     "input": [
      "partipants_info"
     ],
     "language": "python",
     "metadata": {
      "slideshow": {
       "slide_type": "subslide"
      }
     },
     "outputs": [
      {
       "metadata": {},
       "output_type": "pyout",
       "prompt_number": 160,
       "text": [
        "[('Anthony', 70, 'M', 'AU'),\n",
        " ('Berend', 65, 'M', 'NL'),\n",
        " ('Christine', 81, 'F', 'NL'),\n",
        " ('Don', 73, 'M', 'AU'),\n",
        " ('Esther', 85, 'F', 'DE'),\n",
        " ('Fer', 45, 'M', 'DE'),\n",
        " ('Ginny', 70, 'F', 'NL'),\n",
        " ('Hendrik', 60, 'M', 'NL'),\n",
        " ('Ivo', 14, 'M', 'NL'),\n",
        " ('John', 64, 'M', 'AU'),\n",
        " ('Karl', 72, 'M', 'DE'),\n",
        " ('Lotte', 75, 'F', 'NL'),\n",
        " ('Marjolijn', 92, 'F', 'NL'),\n",
        " ('Nanda', 84, 'F', 'AU')]"
       ]
      }
     ],
     "prompt_number": 160
    },
    {
     "cell_type": "code",
     "collapsed": false,
     "input": [
      "df = DataFrame(zip(grades,sex,university), index=participants, columns=['Grade','Sex', 'University' ])\n",
      "df"
     ],
     "language": "python",
     "metadata": {
      "slideshow": {
       "slide_type": "slide"
      }
     },
     "outputs": [
      {
       "html": [
        "<div style=\"max-height:1000px;max-width:1500px;overflow:auto;\">\n",
        "<table border=\"1\" class=\"dataframe\">\n",
        "  <thead>\n",
        "    <tr style=\"text-align: right;\">\n",
        "      <th></th>\n",
        "      <th>Grade</th>\n",
        "      <th>Sex</th>\n",
        "      <th>University</th>\n",
        "    </tr>\n",
        "  </thead>\n",
        "  <tbody>\n",
        "    <tr>\n",
        "      <th>Anthony</th>\n",
        "      <td> 70</td>\n",
        "      <td> M</td>\n",
        "      <td> AU</td>\n",
        "    </tr>\n",
        "    <tr>\n",
        "      <th>Berend</th>\n",
        "      <td> 65</td>\n",
        "      <td> M</td>\n",
        "      <td> NL</td>\n",
        "    </tr>\n",
        "    <tr>\n",
        "      <th>Christine</th>\n",
        "      <td> 81</td>\n",
        "      <td> F</td>\n",
        "      <td> NL</td>\n",
        "    </tr>\n",
        "    <tr>\n",
        "      <th>Don</th>\n",
        "      <td> 73</td>\n",
        "      <td> M</td>\n",
        "      <td> AU</td>\n",
        "    </tr>\n",
        "    <tr>\n",
        "      <th>Esther</th>\n",
        "      <td> 85</td>\n",
        "      <td> F</td>\n",
        "      <td> DE</td>\n",
        "    </tr>\n",
        "    <tr>\n",
        "      <th>Fer</th>\n",
        "      <td> 45</td>\n",
        "      <td> M</td>\n",
        "      <td> DE</td>\n",
        "    </tr>\n",
        "    <tr>\n",
        "      <th>Ginny</th>\n",
        "      <td> 70</td>\n",
        "      <td> F</td>\n",
        "      <td> NL</td>\n",
        "    </tr>\n",
        "    <tr>\n",
        "      <th>Hendrik</th>\n",
        "      <td> 60</td>\n",
        "      <td> M</td>\n",
        "      <td> NL</td>\n",
        "    </tr>\n",
        "    <tr>\n",
        "      <th>Ivo</th>\n",
        "      <td> 14</td>\n",
        "      <td> M</td>\n",
        "      <td> NL</td>\n",
        "    </tr>\n",
        "    <tr>\n",
        "      <th>John</th>\n",
        "      <td> 64</td>\n",
        "      <td> M</td>\n",
        "      <td> AU</td>\n",
        "    </tr>\n",
        "    <tr>\n",
        "      <th>Karl</th>\n",
        "      <td> 72</td>\n",
        "      <td> M</td>\n",
        "      <td> DE</td>\n",
        "    </tr>\n",
        "    <tr>\n",
        "      <th>Lotte</th>\n",
        "      <td> 75</td>\n",
        "      <td> F</td>\n",
        "      <td> NL</td>\n",
        "    </tr>\n",
        "    <tr>\n",
        "      <th>Marjolijn</th>\n",
        "      <td> 92</td>\n",
        "      <td> F</td>\n",
        "      <td> NL</td>\n",
        "    </tr>\n",
        "    <tr>\n",
        "      <th>Nanda</th>\n",
        "      <td> 84</td>\n",
        "      <td> F</td>\n",
        "      <td> AU</td>\n",
        "    </tr>\n",
        "  </tbody>\n",
        "</table>\n",
        "</div>"
       ],
       "metadata": {},
       "output_type": "pyout",
       "prompt_number": 161,
       "text": [
        "           Grade Sex University\n",
        "Anthony       70   M         AU\n",
        "Berend        65   M         NL\n",
        "Christine     81   F         NL\n",
        "Don           73   M         AU\n",
        "Esther        85   F         DE\n",
        "Fer           45   M         DE\n",
        "Ginny         70   F         NL\n",
        "Hendrik       60   M         NL\n",
        "Ivo           14   M         NL\n",
        "John          64   M         AU\n",
        "Karl          72   M         DE\n",
        "Lotte         75   F         NL\n",
        "Marjolijn     92   F         NL\n",
        "Nanda         84   F         AU"
       ]
      }
     ],
     "prompt_number": 161
    },
    {
     "cell_type": "code",
     "collapsed": false,
     "input": [
      "# Here for some reason we would like to know what is the average scoring in this class\n",
      "df.plot(style='o')\n",
      "summary =  df.describe()\n",
      "summary"
     ],
     "language": "python",
     "metadata": {
      "slideshow": {
       "slide_type": "slide"
      }
     },
     "outputs": [
      {
       "html": [
        "<div style=\"max-height:1000px;max-width:1500px;overflow:auto;\">\n",
        "<table border=\"1\" class=\"dataframe\">\n",
        "  <thead>\n",
        "    <tr style=\"text-align: right;\">\n",
        "      <th></th>\n",
        "      <th>Grade</th>\n",
        "    </tr>\n",
        "  </thead>\n",
        "  <tbody>\n",
        "    <tr>\n",
        "      <th>count</th>\n",
        "      <td> 14.000000</td>\n",
        "    </tr>\n",
        "    <tr>\n",
        "      <th>mean</th>\n",
        "      <td> 67.857143</td>\n",
        "    </tr>\n",
        "    <tr>\n",
        "      <th>std</th>\n",
        "      <td> 19.457477</td>\n",
        "    </tr>\n",
        "    <tr>\n",
        "      <th>min</th>\n",
        "      <td> 14.000000</td>\n",
        "    </tr>\n",
        "    <tr>\n",
        "      <th>25%</th>\n",
        "      <td> 64.250000</td>\n",
        "    </tr>\n",
        "    <tr>\n",
        "      <th>50%</th>\n",
        "      <td> 71.000000</td>\n",
        "    </tr>\n",
        "    <tr>\n",
        "      <th>75%</th>\n",
        "      <td> 79.500000</td>\n",
        "    </tr>\n",
        "    <tr>\n",
        "      <th>max</th>\n",
        "      <td> 92.000000</td>\n",
        "    </tr>\n",
        "  </tbody>\n",
        "</table>\n",
        "</div>"
       ],
       "metadata": {},
       "output_type": "pyout",
       "prompt_number": 162,
       "text": [
        "           Grade\n",
        "count  14.000000\n",
        "mean   67.857143\n",
        "std    19.457477\n",
        "min    14.000000\n",
        "25%    64.250000\n",
        "50%    71.000000\n",
        "75%    79.500000\n",
        "max    92.000000"
       ]
      },
      {
       "metadata": {},
       "output_type": "display_data",
       "png": "[encoded data removed]",
       "text": [
        "<matplotlib.figure.Figure at 0x749f350>"
       ]
      }
     ],
     "prompt_number": 162
    },
    {
     "cell_type": "code",
     "collapsed": false,
     "input": [
      "groupGrades = df.groupby('University')"
     ],
     "language": "python",
     "metadata": {
      "slideshow": {
       "slide_type": "slide"
      }
     },
     "outputs": [],
     "prompt_number": 163
    },
    {
     "cell_type": "code",
     "collapsed": false,
     "input": [
      "df['Lower'] = groupGrades['Grade'].transform( lambda x: x.quantile(q=.25) - (1.2*x.quantile(q=.75)-x.quantile(q=.25)) )\n",
      "df['Upper'] = groupGrades['Grade'].transform( lambda x: x.quantile(q=.75) + (1.2*x.quantile(q=.75)-x.quantile(q=.25)) )\n",
      "df['Outlier'] = (df['Grade'] < df['Lower']) | (df['Grade'] > df['Upper']) \n",
      "df\n"
     ],
     "language": "python",
     "metadata": {
      "slideshow": {
       "slide_type": "subslide"
      }
     },
     "outputs": [
      {
       "html": [
        "<div style=\"max-height:1000px;max-width:1500px;overflow:auto;\">\n",
        "<table border=\"1\" class=\"dataframe\">\n",
        "  <thead>\n",
        "    <tr style=\"text-align: right;\">\n",
        "      <th></th>\n",
        "      <th>Grade</th>\n",
        "      <th>Sex</th>\n",
        "      <th>University</th>\n",
        "      <th>Lower</th>\n",
        "      <th>Upper</th>\n",
        "      <th>Outlier</th>\n",
        "    </tr>\n",
        "  </thead>\n",
        "  <tbody>\n",
        "    <tr>\n",
        "      <th>Anthony</th>\n",
        "      <td> 70</td>\n",
        "      <td> M</td>\n",
        "      <td> AU</td>\n",
        "      <td> 46.1</td>\n",
        "      <td>  98.15</td>\n",
        "      <td> False</td>\n",
        "    </tr>\n",
        "    <tr>\n",
        "      <th>Berend</th>\n",
        "      <td> 65</td>\n",
        "      <td> M</td>\n",
        "      <td> NL</td>\n",
        "      <td> 31.4</td>\n",
        "      <td> 109.10</td>\n",
        "      <td> False</td>\n",
        "    </tr>\n",
        "    <tr>\n",
        "      <th>Christine</th>\n",
        "      <td> 81</td>\n",
        "      <td> F</td>\n",
        "      <td> NL</td>\n",
        "      <td> 31.4</td>\n",
        "      <td> 109.10</td>\n",
        "      <td> False</td>\n",
        "    </tr>\n",
        "    <tr>\n",
        "      <th>Don</th>\n",
        "      <td> 73</td>\n",
        "      <td> M</td>\n",
        "      <td> AU</td>\n",
        "      <td> 46.1</td>\n",
        "      <td>  98.15</td>\n",
        "      <td> False</td>\n",
        "    </tr>\n",
        "    <tr>\n",
        "      <th>Esther</th>\n",
        "      <td> 85</td>\n",
        "      <td> F</td>\n",
        "      <td> DE</td>\n",
        "      <td> 22.8</td>\n",
        "      <td> 114.20</td>\n",
        "      <td> False</td>\n",
        "    </tr>\n",
        "    <tr>\n",
        "      <th>Fer</th>\n",
        "      <td> 45</td>\n",
        "      <td> M</td>\n",
        "      <td> DE</td>\n",
        "      <td> 22.8</td>\n",
        "      <td> 114.20</td>\n",
        "      <td> False</td>\n",
        "    </tr>\n",
        "    <tr>\n",
        "      <th>Ginny</th>\n",
        "      <td> 70</td>\n",
        "      <td> F</td>\n",
        "      <td> NL</td>\n",
        "      <td> 31.4</td>\n",
        "      <td> 109.10</td>\n",
        "      <td> False</td>\n",
        "    </tr>\n",
        "    <tr>\n",
        "      <th>Hendrik</th>\n",
        "      <td> 60</td>\n",
        "      <td> M</td>\n",
        "      <td> NL</td>\n",
        "      <td> 31.4</td>\n",
        "      <td> 109.10</td>\n",
        "      <td> False</td>\n",
        "    </tr>\n",
        "    <tr>\n",
        "      <th>Ivo</th>\n",
        "      <td> 14</td>\n",
        "      <td> M</td>\n",
        "      <td> NL</td>\n",
        "      <td> 31.4</td>\n",
        "      <td> 109.10</td>\n",
        "      <td>  True</td>\n",
        "    </tr>\n",
        "    <tr>\n",
        "      <th>John</th>\n",
        "      <td> 64</td>\n",
        "      <td> M</td>\n",
        "      <td> AU</td>\n",
        "      <td> 46.1</td>\n",
        "      <td>  98.15</td>\n",
        "      <td> False</td>\n",
        "    </tr>\n",
        "    <tr>\n",
        "      <th>Karl</th>\n",
        "      <td> 72</td>\n",
        "      <td> M</td>\n",
        "      <td> DE</td>\n",
        "      <td> 22.8</td>\n",
        "      <td> 114.20</td>\n",
        "      <td> False</td>\n",
        "    </tr>\n",
        "    <tr>\n",
        "      <th>Lotte</th>\n",
        "      <td> 75</td>\n",
        "      <td> F</td>\n",
        "      <td> NL</td>\n",
        "      <td> 31.4</td>\n",
        "      <td> 109.10</td>\n",
        "      <td> False</td>\n",
        "    </tr>\n",
        "    <tr>\n",
        "      <th>Marjolijn</th>\n",
        "      <td> 92</td>\n",
        "      <td> F</td>\n",
        "      <td> NL</td>\n",
        "      <td> 31.4</td>\n",
        "      <td> 109.10</td>\n",
        "      <td> False</td>\n",
        "    </tr>\n",
        "    <tr>\n",
        "      <th>Nanda</th>\n",
        "      <td> 84</td>\n",
        "      <td> F</td>\n",
        "      <td> AU</td>\n",
        "      <td> 46.1</td>\n",
        "      <td>  98.15</td>\n",
        "      <td> False</td>\n",
        "    </tr>\n",
        "  </tbody>\n",
        "</table>\n",
        "</div>"
       ],
       "metadata": {},
       "output_type": "pyout",
       "prompt_number": 164,
       "text": [
        "           Grade Sex University  Lower   Upper Outlier\n",
        "Anthony       70   M         AU   46.1   98.15   False\n",
        "Berend        65   M         NL   31.4  109.10   False\n",
        "Christine     81   F         NL   31.4  109.10   False\n",
        "Don           73   M         AU   46.1   98.15   False\n",
        "Esther        85   F         DE   22.8  114.20   False\n",
        "Fer           45   M         DE   22.8  114.20   False\n",
        "Ginny         70   F         NL   31.4  109.10   False\n",
        "Hendrik       60   M         NL   31.4  109.10   False\n",
        "Ivo           14   M         NL   31.4  109.10    True\n",
        "John          64   M         AU   46.1   98.15   False\n",
        "Karl          72   M         DE   22.8  114.20   False\n",
        "Lotte         75   F         NL   31.4  109.10   False\n",
        "Marjolijn     92   F         NL   31.4  109.10   False\n",
        "Nanda         84   F         AU   46.1   98.15   False"
       ]
      }
     ],
     "prompt_number": 164
    },
    {
     "cell_type": "code",
     "collapsed": false,
     "input": [
      "df.plot(style='-')"
     ],
     "language": "python",
     "metadata": {
      "slideshow": {
       "slide_type": "subslide"
      }
     },
     "outputs": [
      {
       "metadata": {},
       "output_type": "pyout",
       "prompt_number": 165,
       "text": [
        "<matplotlib.axes.AxesSubplot at 0xb1b24d0>"
       ]
      },
      {
       "metadata": {},
       "output_type": "display_data",
       "png": "[encoded data removed]",
       "text": [
        "<matplotlib.figure.Figure at 0xaa14a50>"
       ]
      }
     ],
     "prompt_number": 165
    },
    {
     "cell_type": "markdown",
     "metadata": {
      "slideshow": {
       "slide_type": "slide"
      }
     },
     "source": [
      "So, what does this mean?\n",
      "===\n",
      "\n",
      "Let's grind the dataset a little bit more..."
     ]
    },
    {
     "cell_type": "code",
     "collapsed": false,
     "input": [
      "df.boxplot(column=['Grade'], by=['University'])"
     ],
     "language": "python",
     "metadata": {
      "slideshow": {
       "slide_type": "subslide"
      }
     },
     "outputs": [
      {
       "metadata": {},
       "output_type": "pyout",
       "prompt_number": 166,
       "text": [
        "<matplotlib.axes.AxesSubplot at 0xb194750>"
       ]
      },
      {
       "metadata": {},
       "output_type": "display_data",
       "png": "[encoded data removed]",
       "text": [
        "<matplotlib.figure.Figure at 0xac5c150>"
       ]
      }
     ],
     "prompt_number": 166
    },
    {
     "cell_type": "code",
     "collapsed": false,
     "input": [
      "df.boxplot(column=['Grade'], by=['Sex'])"
     ],
     "language": "python",
     "metadata": {
      "slideshow": {
       "slide_type": "subslide"
      }
     },
     "outputs": [
      {
       "metadata": {},
       "output_type": "pyout",
       "prompt_number": 167,
       "text": [
        "<matplotlib.axes.AxesSubplot at 0xb5a9590>"
       ]
      },
      {
       "metadata": {},
       "output_type": "display_data",
       "png": "[encoded data removed]",
       "text": [
        "<matplotlib.figure.Figure at 0xb5acd10>"
       ]
      }
     ],
     "prompt_number": 167
    },
    {
     "cell_type": "code",
     "collapsed": false,
     "input": [
      "\n",
      "type(groupGrades)"
     ],
     "language": "python",
     "metadata": {},
     "outputs": [
      {
       "metadata": {},
       "output_type": "pyout",
       "prompt_number": 209,
       "text": [
        "pandas.core.groupby.DataFrameGroupBy"
       ]
      }
     ],
     "prompt_number": 209
    },
    {
     "cell_type": "code",
     "collapsed": false,
     "input": [
      "\n",
      "for group, data in groupGrades:\n",
      "    fig, ax = plt.subplots(1, 1)\n",
      "    ax.get_xaxis().set_visible(False) # hide ticks\n",
      "    data.plot( style='-', table=True, ax = ax, secondary_y=['Outlier'], mark_right=False)"
     ],
     "language": "python",
     "metadata": {
      "slideshow": {
       "slide_type": "subslide"
      }
     },
     "outputs": [
      {
       "metadata": {},
       "output_type": "display_data",
       "png": "[encoded data removed]",
       "text": [
        "<matplotlib.figure.Figure at 0x163a33d0>"
       ]
      },
      {
       "metadata": {},
       "output_type": "display_data",
       "png": "[encoded data removed]",
       "text": [
        "<matplotlib.figure.Figure at 0x163a32d0>"
       ]
      },
      {
       "metadata": {},
       "output_type": "display_data",
       "png": "[encoded data removed]",
       "text": [
        "<matplotlib.figure.Figure at 0x15989390>"
       ]
      }
     ],
     "prompt_number": 229
    }
   ],
   "metadata": {}
  }
 ]
}