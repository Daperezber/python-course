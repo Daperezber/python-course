{
 "metadata": {
  "celltoolbar": "Slideshow",
  "name": "",
  "signature": "sha256:1d9575d28c3f02c644ab54b3682b24b4c6128bb931f3695fdcd59438084aa45b"
 },
 "nbformat": 3,
 "nbformat_minor": 0,
 "worksheets": [
  {
   "cells": [
    {
     "cell_type": "markdown",
     "metadata": {
      "slideshow": {
       "slide_type": "slide"
      }
     },
     "source": [
      "<span style=\"font-size: 200%\">Programming in Python</span>\n",
      "===\n",
      "\n",
      "<br>\n",
      "\n",
      "[Jeroen Laros](mailto:j.f.j.laros@lumc.nl), [Michiel van Galen](mailto:m.van_galen@lumc.nl), [Wai Yi Leung](mailto:w.y.leung@lumc.nl), [Martijn Vermaat](mailto:m.vermaat.hg@lumc.nl)\n",
      "\n",
      "[Department of Human Genetics, Leiden University Medical Center](http://humgen.nl)\n",
      "\n",
      "License: [Creative Commons Attribution 3.0 License (CC-by)](http://creativecommons.org/licenses/by/3.0)"
     ]
    },
    {
     "cell_type": "markdown",
     "metadata": {
      "slideshow": {
       "slide_type": "slide"
      }
     },
     "source": [
      "About the course\n",
      "===\n",
      "\n",
      "* Aimed at PhD students, Postdocs, researchers, analysts, ...\n",
      "* Programming as a tool to do your research.\n",
      "* Slightly focussed on bioinformatics.\n",
      "\n",
      "**Note:** It <s>is</s> was a pilot."
     ]
    },
    {
     "cell_type": "markdown",
     "metadata": {
      "slideshow": {
       "slide_type": "slide"
      }
     },
     "source": [
      "Teachers\n",
      "===\n",
      "\n",
      "* Jeroen Laros<br>\n",
      "  [j.f.j.laros@lumc.nl](mailto:j.f.j.laros@lumc.nl)\n",
      "\n",
      "\n",
      "* Michiel van Galen<br>\n",
      "  [m.van_galen@lumc.nl](mailto:m.van_galen@lumc.nl)\n",
      "\n",
      "\n",
      "* Wai Yi Leung<br>\n",
      "  [w.y.leung@lumc.nl](mailto:w.y.leung@lumc.nl)\n",
      "\n",
      "\n",
      "* Martijn Vermaat<br>\n",
      "  [m.vermaat.hg@lumc.nl](mailto:m.vermaat.hg@lumc.nl)"
     ]
    },
    {
     "cell_type": "markdown",
     "metadata": {
      "slideshow": {
       "slide_type": "slide"
      }
     },
     "source": [
      "Program\n",
      "===\n",
      "\n",
      "<table border=\"1\" class=\"docutils\">\n",
      "<colgroup>\n",
      "<col width=\"17%\" />\n",
      "<col width=\"11%\" />\n",
      "<col width=\"58%\" />\n",
      "<col width=\"14%\" />\n",
      "</colgroup>\n",
      "<thead valign=\"bottom\">\n",
      "<tr><th class=\"head\">Day</th>\n",
      "<th class=\"head\">Time</th>\n",
      "<th class=\"head\">Lesson</th>\n",
      "<th class=\"head\">Teacher</th>\n",
      "</tr>\n",
      "</thead>\n",
      "<tbody valign=\"top\">\n",
      "<tr><td rowspan=\"3\">Monday</td>\n",
      "<td>09-10</td>\n",
      "<td>Welcome, Introduction to Python (1)</td>\n",
      "<td>Martijn</td>\n",
      "</tr>\n",
      "<tr><td>10-11</td>\n",
      "<td>Introduction to Python (2)</td>\n",
      "<td>Jeroen</td>\n",
      "</tr>\n",
      "<tr><td>11-12</td>\n",
      "<td>Introduction to Python (3)</td>\n",
      "<td>Michiel</td>\n",
      "</tr>\n",
      "<tr><td rowspan=\"3\">Tuesday</td>\n",
      "<td>09-10</td>\n",
      "<td>More Python (1)</td>\n",
      "<td>Michiel</td>\n",
      "</tr>\n",
      "<tr><td>10-11</td>\n",
      "<td>More Python (2)</td>\n",
      "<td>Wai Yi</td>\n",
      "</tr>\n",
      "<tr><td>11-12</td>\n",
      "<td>Working with NumPy arrays</td>\n",
      "<td>Martijn</td>\n",
      "</tr>\n",
      "<tr><td rowspan=\"3\">Wednesday</td>\n",
      "<td>09-10</td>\n",
      "<td>IPython Notebook</td>\n",
      "<td>Michiel</td>\n",
      "</tr>\n",
      "<tr><td>10-11</td>\n",
      "<td>Plotting with matplotlib</td>\n",
      "<td>Jeroen</td>\n",
      "</tr>\n",
      "<tr><td>11-12</td>\n",
      "<td>Python for data analysis</td>\n",
      "<td>Wai Yi</td>\n",
      "</tr>\n",
      "<tr><td rowspan=\"3\">Friday</td>\n",
      "<td>09-10</td>\n",
      "<td>Object-oriented programming</td>\n",
      "<td>Jeroen</td>\n",
      "</tr>\n",
      "<tr><td>10-11</td>\n",
      "<td>Biopython (1)</td>\n",
      "<td>Wai Yi</td>\n",
      "</tr>\n",
      "<tr><td>11-12</td>\n",
      "<td>Biopython (2)</td>\n",
      "<td>Martijn</td>\n",
      "</tr>\n",
      "</tbody>\n",
      "</table>\n",
      "\n",
      "All slides are linked as one-page documents from the course website: [humgenprojects.lumc.nl/trac/humgenprojects/wiki/ProgrammingCourse](https://humgenprojects.lumc.nl/trac/humgenprojects/wiki/ProgrammingCourse)"
     ]
    },
    {
     "cell_type": "markdown",
     "metadata": {
      "slideshow": {
       "slide_type": "slide"
      }
     },
     "source": [
      "Software requirements\n",
      "===\n",
      "\n",
      "* Linux or Mac OSX\n",
      "* Git\n",
      "* Python 2.7\n",
      "* IPython 2.1\n",
      "* NumPy, matplotlib, Biopython\n",
      "\n",
      "Instructions on the course website: [humgenprojects.lumc.nl/trac/humgenprojects/wiki/ProgrammingCourse](https://humgenprojects.lumc.nl/trac/humgenprojects/wiki/ProgrammingCourse)"
     ]
    },
    {
     "cell_type": "markdown",
     "metadata": {
      "slideshow": {
       "slide_type": "slide"
      }
     },
     "source": [
      "Python virtual environments\n",
      "===\n",
      "\n",
      "Our installation instructions had you install a Python virtual environment (named `programming-course`).\n",
      "\n",
      "Before you start working, **always** activate this environment:\n",
      "\n",
      "    $ workon programming-course"
     ]
    },
    {
     "cell_type": "markdown",
     "metadata": {
      "slideshow": {
       "slide_type": "slide"
      }
     },
     "source": [
      "Exercises\n",
      "===\n",
      "\n",
      "You only learn programming by doing it.\n",
      "\n",
      "* Have your laptop open during the lessons.\n",
      "* Repeat the code from the slides, play around with it.\n",
      "* Do the exercises.\n",
      "* There will be a few assignments to submit."
     ]
    },
    {
     "cell_type": "markdown",
     "metadata": {
      "slideshow": {
       "slide_type": "slide"
      }
     },
     "source": [
      "Getting help\n",
      "===\n",
      "\n",
      "* Ask a teacher or assistant.\n",
      "* If it's private, mail one of the teachers.\n",
      "* Use our etherpad:\n",
      "\n",
      "<br>\n",
      "\n",
      "<center style=\"font-size: 300%\">[tinyurl.com/leidencourse](http://tinyurl.com/leidencourse)</center>"
     ]
    },
    {
     "cell_type": "code",
     "collapsed": false,
     "input": [
      "from IPython.display import HTML\n",
      "def css_styling():\n",
      "    styles = open('styles/custom.css', 'r').read()\n",
      "    return HTML('<style>' + styles + '</style>')\n",
      "css_styling()"
     ],
     "language": "python",
     "metadata": {
      "slideshow": {
       "slide_type": "skip"
      }
     },
     "outputs": [
      {
       "html": [
        "<style>/* Remove the vertical scrollbar added by nbconvert. */\n",
        "html {\n",
        "  overflow-y: hidden;\n",
        "}\n",
        "\n",
        "/* Workaround some highlight.js bugs in language autodetection. */\n",
        "code.objectivec *,\n",
        "code.perl *,\n",
        "code.cs *,\n",
        "code.javascript *,\n",
        "code.http * {\n",
        "  color: black ! important;\n",
        "  font-weight: normal ! important;\n",
        "}\n",
        "span.title {\n",
        "  color: black ! important;\n",
        "}\n",
        "span.tag {\n",
        "  color: black ! important;\n",
        "}\n",
        "span.attribute {\n",
        "  color: black ! important;\n",
        "}\n",
        "</style>"
       ],
       "metadata": {},
       "output_type": "pyout",
       "prompt_number": 1,
       "text": [
        "<IPython.core.display.HTML at 0x33caa50>"
       ]
      }
     ],
     "prompt_number": 1
    }
   ],
   "metadata": {}
  }
 ]
}