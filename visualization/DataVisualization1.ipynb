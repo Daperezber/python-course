{
 "cells": [
  {
   "cell_type": "code",
   "execution_count": 10,
   "metadata": {
    "slideshow": {
     "slide_type": "skip"
    }
   },
   "outputs": [
    {
     "data": {
      "text/html": [
       "<style>/* Remove the vertical scrollbar added by nbconvert. */\n",
       ".reveal {\n",
       "  overflow: hidden;\n",
       "}\n",
       "\n",
       "/* Workaround some highlight.js bugs in language autodetection. */\n",
       "code.objectivec *,\n",
       "code.perl *,\n",
       "code.cs *,\n",
       "code.javascript *,\n",
       "code.http * {\n",
       "  color: black ! important;\n",
       "  font-weight: normal ! important;\n",
       "}\n",
       "span.title {\n",
       "  color: black ! important;\n",
       "}\n",
       "span.tag {\n",
       "  color: black ! important;\n",
       "}\n",
       "span.attribute {\n",
       "  color: black ! important;\n",
       "}\n",
       "</style>"
      ],
      "text/plain": [
       "<IPython.core.display.HTML object>"
      ]
     },
     "execution_count": 10,
     "metadata": {},
     "output_type": "execute_result"
    }
   ],
   "source": [
    "from IPython.display import HTML\n",
    "def css_styling():\n",
    "    styles = open('styles/custom.css', 'r').read()\n",
    "    return HTML('<style>' + styles + '</style>')\n",
    "css_styling()"
   ]
  },
  {
   "cell_type": "markdown",
   "metadata": {
    "slideshow": {
     "slide_type": "slide"
    }
   },
   "source": [
    "# Data Visualization with Python\n",
    "\n",
    "## Part 1: Python + Matplotlib"
   ]
  },
  {
   "cell_type": "markdown",
   "metadata": {
    "slideshow": {
     "slide_type": "slide"
    }
   },
   "source": [
    "# This lesson\n",
    "\n",
    "- A 'taster'\n",
    "  - a small subset of what is possible with matplotlib\n",
    "- Worked examples"
   ]
  },
  {
   "cell_type": "markdown",
   "metadata": {
    "slideshow": {
     "slide_type": "slide"
    }
   },
   "source": [
    "# Matplotlib\n",
    "- Plotting library for Python\n",
    "- High quality figures suitable for publication\n",
    "- Integrates with IPython, Jupyter and NumPy (in PyLab mode)\n",
    "- Established and robust\n",
    "- Large community / user base"
   ]
  },
  {
   "cell_type": "markdown",
   "metadata": {
    "slideshow": {
     "slide_type": "slide"
    }
   },
   "source": [
    "# Interfaces\n",
    "1. Object Oriented  \n",
    "  - Best for larger development projects\n",
    "  - Have to keep track of figures and axes\n",
    "  - Steep learning curve\n",
    "<br><br>\n",
    "2. Pyplot State Machine  \n",
    "  - For interactive plotting\n",
    "  - Takes care of many housekeeping tasks\n",
    "  - Easier to learn than the OO interface\n",
    "<br><br>\n",
    "3. Pylab\n",
    "  - Modelled on matlab\n",
    "  - Imports common modules\n",
    "  - Handles most housekeeping tasks\n",
    "  - Easiest to learn\n",
    "  - The one we will be using!"
   ]
  },
  {
   "cell_type": "markdown",
   "metadata": {
    "slideshow": {
     "slide_type": "slide"
    }
   },
   "source": [
    "# Interfaces Example\n",
    "\n",
    "1. Object-oriented interface\n",
    "```python\n",
    "import matplotlib.pyplot as plt\n",
    "import numpy as np\n",
    "x = np.arange(0, 10, 0.2)\n",
    "y = np.sin(x)\n",
    "fig = plt.figure()\n",
    "ax = fig.add_subplot(111)\n",
    "ax.plot(x, y)\n",
    "```\n",
    "\n",
    "2. State-machine environment (pyplot)\n",
    "```python\n",
    "import matplotlib.pyplot as plt\n",
    "import numpy as np\n",
    "x = np.arange(0, 10, 0.2)\n",
    "y = np.sin(x)\n",
    "plt.plot(x, y)\n",
    "```\n",
    "\n",
    "3. PyLab mode\n",
    "```python\n",
    "%pylab\n",
    "x = arange(0, 10, 0.2)\n",
    "y = sin(x)\n",
    "plot(x, y)\n",
    "```"
   ]
  },
  {
   "cell_type": "markdown",
   "metadata": {
    "slideshow": {
     "slide_type": "slide"
    }
   },
   "source": [
    "# Getting help\n",
    "\n",
    "Consult the built-in documentation, for example:\n",
    "```\n",
    ">>> help(subplot)\n",
    "Help on function subplot in module matplotlib.pyplot:\n",
    "\n",
    "subplot(*args, **kwargs)\n",
    "    Return a subplot axes positioned by the given grid definition.\n",
    "...\n",
    "```\n",
    "\n"
   ]
  },
  {
   "cell_type": "markdown",
   "metadata": {
    "collapsed": true,
    "slideshow": {
     "slide_type": "slide"
    }
   },
   "source": [
    "# Useful Resources\n",
    "- Matplotlib Homepage\n",
    "  - https://matplotlib.org/\n",
    "<br><br>\n",
    "- Gallery\n",
    "  - https://matplotlib.org/gallery.html\n",
    "  - Many examples with source code\n",
    "<br><br>\n",
    "- Online documentation\n",
    "  - https://matplotlib.org/contents.html\n",
    "  - Full API documentation"
   ]
  },
  {
   "cell_type": "markdown",
   "metadata": {
    "slideshow": {
     "slide_type": "slide"
    }
   },
   "source": [
    "# First Steps\n",
    "\n",
    "## Preparing the Jupyter Notebook\n",
    "1. Open a new Jupyter Notebook\n",
    "2. Run this code in the first empty cell:\n",
    "```\n",
    "%pylab inline\n",
    "```\n",
    "3. Now any pylab plotting commands will display in the notebook"
   ]
  },
  {
   "cell_type": "code",
   "execution_count": 6,
   "metadata": {
    "slideshow": {
     "slide_type": "skip"
    }
   },
   "outputs": [
    {
     "name": "stdout",
     "output_type": "stream",
     "text": [
      "Populating the interactive namespace from numpy and matplotlib\n"
     ]
    }
   ],
   "source": [
    "%pylab inline"
   ]
  },
  {
   "cell_type": "markdown",
   "metadata": {
    "slideshow": {
     "slide_type": "slide"
    }
   },
   "source": [
    "# Grab some data\n",
    "Use Pandas to load a dataset which contains population data for four countries"
   ]
  },
  {
   "cell_type": "code",
   "execution_count": 8,
   "metadata": {
    "slideshow": {
     "slide_type": "fragment"
    }
   },
   "outputs": [],
   "source": [
    "import pandas as pd\n",
    "\n",
    "populations = pd.DataFrame.from_csv(\n",
    "    \"https://git.lumc.nl/courses/programming-course/raw/master/visualization/data/populations.csv\"\n",
    ")"
   ]
  },
  {
   "cell_type": "markdown",
   "metadata": {
    "slideshow": {
     "slide_type": "fragment"
    }
   },
   "source": [
    "Take a quick look at the data"
   ]
  },
  {
   "cell_type": "code",
   "execution_count": 9,
   "metadata": {
    "slideshow": {
     "slide_type": "fragment"
    }
   },
   "outputs": [
    {
     "data": {
      "text/html": [
       "<div>\n",
       "<style>\n",
       "    .dataframe thead tr:only-child th {\n",
       "        text-align: right;\n",
       "    }\n",
       "\n",
       "    .dataframe thead th {\n",
       "        text-align: left;\n",
       "    }\n",
       "\n",
       "    .dataframe tbody tr th {\n",
       "        vertical-align: top;\n",
       "    }\n",
       "</style>\n",
       "<table border=\"1\" class=\"dataframe\">\n",
       "  <thead>\n",
       "    <tr style=\"text-align: right;\">\n",
       "      <th></th>\n",
       "      <th>Year</th>\n",
       "      <th>Belgium</th>\n",
       "      <th>Denmark</th>\n",
       "      <th>Netherlands</th>\n",
       "      <th>Sweden</th>\n",
       "    </tr>\n",
       "  </thead>\n",
       "  <tbody>\n",
       "    <tr>\n",
       "      <th>0</th>\n",
       "      <td>1950</td>\n",
       "      <td>17.2786</td>\n",
       "      <td>8.5627</td>\n",
       "      <td>20.2273</td>\n",
       "      <td>14.0332</td>\n",
       "    </tr>\n",
       "    <tr>\n",
       "      <th>1</th>\n",
       "      <td>1951</td>\n",
       "      <td>17.3564</td>\n",
       "      <td>8.6074</td>\n",
       "      <td>20.5288</td>\n",
       "      <td>14.1408</td>\n",
       "    </tr>\n",
       "    <tr>\n",
       "      <th>2</th>\n",
       "      <td>1952</td>\n",
       "      <td>17.4608</td>\n",
       "      <td>8.6676</td>\n",
       "      <td>20.7642</td>\n",
       "      <td>14.2489</td>\n",
       "    </tr>\n",
       "    <tr>\n",
       "      <th>3</th>\n",
       "      <td>1953</td>\n",
       "      <td>17.5555</td>\n",
       "      <td>8.7386</td>\n",
       "      <td>20.9860</td>\n",
       "      <td>14.3429</td>\n",
       "    </tr>\n",
       "    <tr>\n",
       "      <th>4</th>\n",
       "      <td>1954</td>\n",
       "      <td>17.6388</td>\n",
       "      <td>8.8114</td>\n",
       "      <td>21.2307</td>\n",
       "      <td>14.4272</td>\n",
       "    </tr>\n",
       "  </tbody>\n",
       "</table>\n",
       "</div>"
      ],
      "text/plain": [
       "   Year  Belgium  Denmark  Netherlands   Sweden\n",
       "0  1950  17.2786   8.5627      20.2273  14.0332\n",
       "1  1951  17.3564   8.6074      20.5288  14.1408\n",
       "2  1952  17.4608   8.6676      20.7642  14.2489\n",
       "3  1953  17.5555   8.7386      20.9860  14.3429\n",
       "4  1954  17.6388   8.8114      21.2307  14.4272"
      ]
     },
     "execution_count": 9,
     "metadata": {},
     "output_type": "execute_result"
    }
   ],
   "source": [
    "populations.head()"
   ]
  },
  {
   "cell_type": "markdown",
   "metadata": {
    "slideshow": {
     "slide_type": "slide"
    }
   },
   "source": [
    "# Plot it!\n",
    "Let's make a plot the population of the Netherlands on the y-axis, and the year on the x-axis"
   ]
  },
  {
   "cell_type": "code",
   "execution_count": 11,
   "metadata": {
    "slideshow": {
     "slide_type": "fragment"
    }
   },
   "outputs": [
    {
     "data": {
      "image/png": "[encoded data removed]",
      "text/plain": [
       "<matplotlib.figure.Figure at 0x7f2e4d4b3c90>"
      ]
     },
     "metadata": {},
     "output_type": "display_data"
    }
   ],
   "source": [
    "plot(populations[\"Year\"], populations[\"Netherlands\"]);"
   ]
  },
  {
   "cell_type": "markdown",
   "metadata": {
    "slideshow": {
     "slide_type": "slide"
    }
   },
   "source": [
    "# Add titles and label the axes"
   ]
  },
  {
   "cell_type": "code",
   "execution_count": 14,
   "metadata": {
    "slideshow": {
     "slide_type": "fragment"
    }
   },
   "outputs": [
    {
     "data": {
      "image/png": "[encoded data removed]",
      "text/plain": [
       "<matplotlib.figure.Figure at 0x7f2e49f5bf10>"
      ]
     },
     "metadata": {},
     "output_type": "display_data"
    }
   ],
   "source": [
    "plot(populations[\"Year\"], populations[\"Netherlands\"])\n",
    "\n",
    "title(\"Historical Population of The Netherlands\")\n",
    "\n",
    "xlabel(\"Year\")\n",
    "\n",
    "ylabel(\"Population (Millions)\");"
   ]
  },
  {
   "cell_type": "markdown",
   "metadata": {
    "slideshow": {
     "slide_type": "slide"
    }
   },
   "source": [
    "# Change some properties of the line\n",
    "\n",
    "How about a 5px thick orange line?"
   ]
  },
  {
   "cell_type": "code",
   "execution_count": 15,
   "metadata": {
    "slideshow": {
     "slide_type": "fragment"
    }
   },
   "outputs": [
    {
     "data": {
      "image/png": "[encoded data removed]",
      "text/plain": [
       "<matplotlib.figure.Figure at 0x7f2e49e70ad0>"
      ]
     },
     "metadata": {},
     "output_type": "display_data"
    }
   ],
   "source": [
    "plot(populations[\"Year\"], populations[\"Netherlands\"], \n",
    "     linewidth=5, color=\"orange\")\n",
    "\n",
    "title(\"Historical Population of The Netherlands\")\n",
    "\n",
    "xlabel(\"Year\")\n",
    "\n",
    "ylabel(\"Population (Millions)\");"
   ]
  },
  {
   "cell_type": "markdown",
   "metadata": {
    "slideshow": {
     "slide_type": "slide"
    }
   },
   "source": [
    "# Change some properties of the x-axis\n",
    "\n",
    "Label at five-year intervals  \n",
    "Display the label vertically"
   ]
  },
  {
   "cell_type": "code",
   "execution_count": 23,
   "metadata": {
    "slideshow": {
     "slide_type": "fragment"
    }
   },
   "outputs": [
    {
     "data": {
      "image/png": "[encoded data removed]",
      "text/plain": [
       "<matplotlib.figure.Figure at 0x7f2e49e63110>"
      ]
     },
     "metadata": {},
     "output_type": "display_data"
    }
   ],
   "source": [
    "plot(populations[\"Year\"], populations[\"Netherlands\"], \n",
    "     linewidth=5, color=\"orange\")\n",
    "\n",
    "title(\"Historical Population of The Netherlands\")\n",
    "xlabel(\"Year\")\n",
    "ylabel(\"Population (Millions)\")\n",
    "\n",
    "xticks(range(1950, 2016, 5), rotation=90);"
   ]
  },
  {
   "cell_type": "markdown",
   "metadata": {
    "slideshow": {
     "slide_type": "slide"
    }
   },
   "source": [
    "# Change which years are displayed"
   ]
  },
  {
   "cell_type": "code",
   "execution_count": 26,
   "metadata": {
    "slideshow": {
     "slide_type": "fragment"
    }
   },
   "outputs": [
    {
     "data": {
      "image/png": "[encoded data removed]",
      "text/plain": [
       "<matplotlib.figure.Figure at 0x7f2e49efadd0>"
      ]
     },
     "metadata": {},
     "output_type": "display_data"
    }
   ],
   "source": [
    "plot(populations[\"Year\"], populations[\"Netherlands\"], \n",
    "     linewidth=5, color=\"orange\")\n",
    "\n",
    "title(\"Historical Population of The Netherlands\")\n",
    "xlabel(\"Year\")\n",
    "ylabel(\"Population (Millions)\")\n",
    "xticks(range(1950, 2016, 5), rotation=90)\n",
    "\n",
    "xlim(1970, 1990);"
   ]
  },
  {
   "cell_type": "markdown",
   "metadata": {
    "slideshow": {
     "slide_type": "slide"
    }
   },
   "source": [
    "# Change the y-axis scale"
   ]
  },
  {
   "cell_type": "code",
   "execution_count": 36,
   "metadata": {
    "slideshow": {
     "slide_type": "fragment"
    }
   },
   "outputs": [
    {
     "data": {
      "image/png": "[encoded data removed]",
      "text/plain": [
       "<matplotlib.figure.Figure at 0x7f2e49ba1450>"
      ]
     },
     "metadata": {},
     "output_type": "display_data"
    }
   ],
   "source": [
    "plot(populations[\"Year\"], populations[\"Netherlands\"], \n",
    "     linewidth=5, color=\"orange\")\n",
    "\n",
    "title(\"Historical Population of The Netherlands\")\n",
    "xlabel(\"Year\")\n",
    "ylabel(\"Population (Millions)\")\n",
    "xticks(range(1950, 2016, 5), rotation=90)\n",
    "xlim(1970, 1990)\n",
    "\n",
    "ylim(26,30);"
   ]
  },
  {
   "cell_type": "markdown",
   "metadata": {
    "slideshow": {
     "slide_type": "slide"
    }
   },
   "source": [
    "# Clean up the number formatting on the y-axis\n",
    "\n",
    "Integer tick labels"
   ]
  },
  {
   "cell_type": "code",
   "execution_count": 37,
   "metadata": {
    "slideshow": {
     "slide_type": "fragment"
    }
   },
   "outputs": [
    {
     "data": {
      "image/png": "[encoded data removed]",
      "text/plain": [
       "<matplotlib.figure.Figure at 0x7f2e49ace6d0>"
      ]
     },
     "metadata": {},
     "output_type": "display_data"
    }
   ],
   "source": [
    "plot(populations[\"Year\"], populations[\"Netherlands\"], \n",
    "     linewidth=5, color=\"orange\")\n",
    "\n",
    "title(\"Historical Population of The Netherlands\")\n",
    "xlabel(\"Year\")\n",
    "ylabel(\"Population (Millions)\")\n",
    "xticks(range(1950, 2016, 5), rotation=90)\n",
    "xlim(1970, 1990)\n",
    "ylim(26,30)\n",
    "\n",
    "yticks(range(26,31));"
   ]
  },
  {
   "cell_type": "markdown",
   "metadata": {
    "slideshow": {
     "slide_type": "slide"
    }
   },
   "source": [
    "# Plot multiple series\n",
    "\n",
    "Calling **plot** multiple times within the same cell will add multiple series to the chart\n",
    "\n",
    "Let's compare the Dutch with the Danes"
   ]
  },
  {
   "cell_type": "code",
   "execution_count": 40,
   "metadata": {
    "slideshow": {
     "slide_type": "fragment"
    }
   },
   "outputs": [
    {
     "data": {
      "image/png": "[encoded data removed]",
      "text/plain": [
       "<matplotlib.figure.Figure at 0x7f2e49760dd0>"
      ]
     },
     "metadata": {},
     "output_type": "display_data"
    }
   ],
   "source": [
    "plot(populations[\"Year\"], populations[\"Netherlands\"], color=\"orange\")\n",
    "plot(populations[\"Year\"], populations[\"Denmark\"], color=\"red\")\n",
    "\n",
    "title(\"Historical Populations of The Netherlands and Denmark\")\n",
    "xlabel(\"Year\")\n",
    "ylabel(\"Population (Millions)\")\n",
    "xticks(range(1950, 2016, 5), rotation=90);"
   ]
  },
  {
   "cell_type": "markdown",
   "metadata": {
    "slideshow": {
     "slide_type": "slide"
    }
   },
   "source": [
    "# Add a legend\n",
    "\n",
    "1. Give each plotted line a label\n",
    "2. Add a legend to the figure"
   ]
  },
  {
   "cell_type": "code",
   "execution_count": 43,
   "metadata": {
    "slideshow": {
     "slide_type": "fragment"
    }
   },
   "outputs": [
    {
     "data": {
      "image/png": "[encoded data removed]",
      "text/plain": [
       "<matplotlib.figure.Figure at 0x7f2e4972af50>"
      ]
     },
     "metadata": {},
     "output_type": "display_data"
    }
   ],
   "source": [
    "plot(populations[\"Year\"], populations[\"Netherlands\"],\n",
    "     color=\"orange\", label=\"The Netherlands\")\n",
    "\n",
    "plot(populations[\"Year\"], populations[\"Denmark\"],\n",
    "     color=\"red\", label=\"Denmark\")\n",
    "\n",
    "legend(loc=\"upper left\")\n",
    "\n",
    "title(\"Historical Populations of The Netherlands and Denmark\")\n",
    "xlabel(\"Year\")\n",
    "ylabel(\"Population (Millions)\")\n",
    "xticks(range(1950, 2016, 5), rotation=90);"
   ]
  },
  {
   "cell_type": "markdown",
   "metadata": {
    "slideshow": {
     "slide_type": "slide"
    }
   },
   "source": [
    "# Other plot types\n",
    "\n",
    "Let's load a different dataset and take a look at some different plot types"
   ]
  },
  {
   "cell_type": "code",
   "execution_count": 46,
   "metadata": {
    "slideshow": {
     "slide_type": "fragment"
    }
   },
   "outputs": [
    {
     "data": {
      "text/html": [
       "<div>\n",
       "<style>\n",
       "    .dataframe thead tr:only-child th {\n",
       "        text-align: right;\n",
       "    }\n",
       "\n",
       "    .dataframe thead th {\n",
       "        text-align: left;\n",
       "    }\n",
       "\n",
       "    .dataframe tbody tr th {\n",
       "        vertical-align: top;\n",
       "    }\n",
       "</style>\n",
       "<table border=\"1\" class=\"dataframe\">\n",
       "  <thead>\n",
       "    <tr style=\"text-align: right;\">\n",
       "      <th></th>\n",
       "      <th>sepal_length</th>\n",
       "      <th>sepal_width</th>\n",
       "      <th>petal_length</th>\n",
       "      <th>petal_width</th>\n",
       "      <th>species</th>\n",
       "    </tr>\n",
       "  </thead>\n",
       "  <tbody>\n",
       "    <tr>\n",
       "      <th>0</th>\n",
       "      <td>5.1</td>\n",
       "      <td>3.5</td>\n",
       "      <td>1.4</td>\n",
       "      <td>0.2</td>\n",
       "      <td>setosa</td>\n",
       "    </tr>\n",
       "    <tr>\n",
       "      <th>1</th>\n",
       "      <td>4.9</td>\n",
       "      <td>3.0</td>\n",
       "      <td>1.4</td>\n",
       "      <td>0.2</td>\n",
       "      <td>setosa</td>\n",
       "    </tr>\n",
       "    <tr>\n",
       "      <th>2</th>\n",
       "      <td>4.7</td>\n",
       "      <td>3.2</td>\n",
       "      <td>1.3</td>\n",
       "      <td>0.2</td>\n",
       "      <td>setosa</td>\n",
       "    </tr>\n",
       "    <tr>\n",
       "      <th>3</th>\n",
       "      <td>4.6</td>\n",
       "      <td>3.1</td>\n",
       "      <td>1.5</td>\n",
       "      <td>0.2</td>\n",
       "      <td>setosa</td>\n",
       "    </tr>\n",
       "    <tr>\n",
       "      <th>4</th>\n",
       "      <td>5.0</td>\n",
       "      <td>3.6</td>\n",
       "      <td>1.4</td>\n",
       "      <td>0.2</td>\n",
       "      <td>setosa</td>\n",
       "    </tr>\n",
       "  </tbody>\n",
       "</table>\n",
       "</div>"
      ],
      "text/plain": [
       "   sepal_length  sepal_width  petal_length  petal_width species\n",
       "0           5.1          3.5           1.4          0.2  setosa\n",
       "1           4.9          3.0           1.4          0.2  setosa\n",
       "2           4.7          3.2           1.3          0.2  setosa\n",
       "3           4.6          3.1           1.5          0.2  setosa\n",
       "4           5.0          3.6           1.4          0.2  setosa"
      ]
     },
     "execution_count": 46,
     "metadata": {},
     "output_type": "execute_result"
    }
   ],
   "source": [
    "flowers = pd.DataFrame.from_csv(\"https://git.lumc.nl/courses/programming-course/raw/master/visualization/data/iris.csv\")\n",
    "\n",
    "flowers.head()"
   ]
  },
  {
   "cell_type": "markdown",
   "metadata": {
    "slideshow": {
     "slide_type": "slide"
    }
   },
   "source": [
    "# Boxplots\n",
    "\n",
    "A simple boxplot of the sepal-length distribution"
   ]
  },
  {
   "cell_type": "code",
   "execution_count": 49,
   "metadata": {
    "slideshow": {
     "slide_type": "fragment"
    }
   },
   "outputs": [
    {
     "data": {
      "image/png": "[encoded data removed]",
      "text/plain": [
       "<matplotlib.figure.Figure at 0x7f2e4a0f9110>"
      ]
     },
     "metadata": {},
     "output_type": "display_data"
    }
   ],
   "source": [
    "boxplot(flowers[\"sepal_length\"], labels=[\"Sepal_length\"]);"
   ]
  },
  {
   "cell_type": "markdown",
   "metadata": {
    "slideshow": {
     "slide_type": "slide"
    }
   },
   "source": [
    "# Boxplots\n",
    "\n",
    "Distributions of multiple features"
   ]
  },
  {
   "cell_type": "code",
   "execution_count": 51,
   "metadata": {
    "slideshow": {
     "slide_type": "fragment"
    }
   },
   "outputs": [
    {
     "data": {
      "text/plain": [
       "['sepal_length', 'sepal_width', 'petal_length', 'petal_width']"
      ]
     },
     "execution_count": 51,
     "metadata": {},
     "output_type": "execute_result"
    }
   ],
   "source": [
    "# make a list containing the numeric feature column names\n",
    "features = list(flowers.columns[:-1])\n",
    "features"
   ]
  },
  {
   "cell_type": "code",
   "execution_count": 52,
   "metadata": {
    "slideshow": {
     "slide_type": "fragment"
    }
   },
   "outputs": [
    {
     "data": {
      "image/png": "[encoded data removed]",
      "text/plain": [
       "<matplotlib.figure.Figure at 0x7f2e498a30d0>"
      ]
     },
     "metadata": {},
     "output_type": "display_data"
    }
   ],
   "source": [
    "# plot the data\n",
    "boxplot([flowers[f] for f in features], labels=features);"
   ]
  },
  {
   "cell_type": "markdown",
   "metadata": {
    "slideshow": {
     "slide_type": "slide"
    }
   },
   "source": [
    "# Controlling the size of the plot\n",
    "\n",
    "Let's change the shape of the boxplot"
   ]
  },
  {
   "cell_type": "code",
   "execution_count": 55,
   "metadata": {
    "slideshow": {
     "slide_type": "subslide"
    }
   },
   "outputs": [
    {
     "data": {
      "image/png": "[encoded data removed]",
      "text/plain": [
       "<matplotlib.figure.Figure at 0x7f2e499694d0>"
      ]
     },
     "metadata": {},
     "output_type": "display_data"
    }
   ],
   "source": [
    "# make the figure 10 'units' wide and 5 'units' high\n",
    "figsize(10, 5)\n",
    "\n",
    "# plot the data\n",
    "boxplot([flowers[f] for f in features], labels=features);"
   ]
  },
  {
   "cell_type": "code",
   "execution_count": null,
   "metadata": {
    "collapsed": true
   },
   "outputs": [],
   "source": []
  }
 ],
 "metadata": {
  "celltoolbar": "Slideshow",
  "kernelspec": {
   "display_name": "Python 2",
   "language": "python",
   "name": "python2"
  },
  "language_info": {
   "codemirror_mode": {
    "name": "ipython",
    "version": 2
   },
   "file_extension": ".py",
   "mimetype": "text/x-python",
   "name": "python",
   "nbconvert_exporter": "python",
   "pygments_lexer": "ipython2",
   "version": "2.7.13"
  }
 },
 "nbformat": 4,
 "nbformat_minor": 2
}
