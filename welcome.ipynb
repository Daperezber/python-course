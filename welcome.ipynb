{
 "metadata": {
  "name": ""
 },
 "nbformat": 3,
 "nbformat_minor": 0,
 "worksheets": [
  {
   "cells": [
    {
     "cell_type": "markdown",
     "metadata": {
      "slideshow": {
       "slide_type": "slide"
      }
     },
     "source": [
      "<span style=\"font-size: 200%\">Programming in Python</span>\n",
      "===\n",
      "\n",
      "<br>\n",
      "\n",
      "[Wibowo Arindrarto](mailto:w.arindrarto@lumc.nl), [Jeroen Laros](mailto:j.f.j.laros@lumc.nl), [Zuotian Tatum](mailto:z.tatum@lumc.nl), [Martijn Vermaat](mailto:m.vermaat.hg@lumc.nl)\n",
      "\n",
      "[Department of Human Genetics, Leiden University Medical Center](http://humgen.nl)\n",
      "\n",
      "License: [Creative Commons Attribution 3.0 License (CC-by)](http://creativecommons.org/licenses/by/3.0)"
     ]
    },
    {
     "cell_type": "markdown",
     "metadata": {
      "slideshow": {
       "slide_type": "skip"
      }
     },
     "source": [
      "About this notebook\n",
      "===\n",
      "\n",
      "This notebook is the source for a set of slides. If you want to edit them, be sure to choose *Slideshow* in the *Cell Toolbar* menu.\n",
      "\n",
      "You can use nbconvert to convert the slides to HTML and serve them:\n",
      "\n",
      "    ipython nbconvert --to slides --post serve welcome.ipynb\n",
      "\n",
      "This will open the slides in a new browser window."
     ]
    },
    {
     "cell_type": "code",
     "collapsed": false,
     "input": [
      "%%html\n",
      "<style type=\"text/css\">\n",
      "/* Remove the vertical scrollbar added by nbconvert. */\n",
      ".reveal {\n",
      "  overflow-y: hidden;\n",
      "}\n",
      "</style>"
     ],
     "language": "python",
     "metadata": {
      "slideshow": {
       "slide_type": "skip"
      }
     },
     "outputs": [
      {
       "html": [
        "<style type=\"text/css\">\n",
        "/* Remove the vertical scrollbar added by nbconvert. */\n",
        ".reveal {\n",
        "  overflow-y: hidden;\n",
        "}\n",
        "</style>"
       ],
       "metadata": {},
       "output_type": "display_data",
       "text": [
        "<IPython.core.display.HTML at 0x323bf90>"
       ]
      }
     ],
     "prompt_number": 1
    },
    {
     "cell_type": "markdown",
     "metadata": {
      "slideshow": {
       "slide_type": "slide"
      }
     },
     "source": [
      "About the course\n",
      "===\n",
      "\n",
      "* Aimed at PhD students, Postdocs, researchers, analysts, ...\n",
      "* Programming as a tool to do your research.\n",
      "* It's a pilot."
     ]
    },
    {
     "cell_type": "markdown",
     "metadata": {
      "slideshow": {
       "slide_type": "slide"
      }
     },
     "source": [
      "Teachers\n",
      "===\n",
      "\n",
      "* Wibowo Arindrarto<br>\n",
      "  [w.arindrarto@lumc.nl](mailto:w.arindrarto@lumc.nl)\n",
      "\n",
      "\n",
      "* Jeroen Laros<br>\n",
      "  [j.f.j.laros@lumc.nl](mailto:j.f.j.laros@lumc.nl)\n",
      "\n",
      "\n",
      "* Zuotian Tatum<br>\n",
      "  [z.tatum@lumc.nl](mailto:z.tatum@lumc.nl)\n",
      "\n",
      "\n",
      "* Martijn Vermaat<br>\n",
      "  [m.vermaat.hg@lumc.nl](mailto:m.vermaat.hg@lumc.nl)"
     ]
    },
    {
     "cell_type": "markdown",
     "metadata": {
      "slideshow": {
       "slide_type": "slide"
      }
     },
     "source": [
      "Program\n",
      "===\n",
      "\n",
      "<table border=\"1\" class=\"docutils\">\n",
      "<colgroup>\n",
      "<col width=\"17%\" />\n",
      "<col width=\"11%\" />\n",
      "<col width=\"58%\" />\n",
      "<col width=\"14%\" />\n",
      "</colgroup>\n",
      "<thead valign=\"bottom\">\n",
      "<tr><th class=\"head\">Day</th>\n",
      "<th class=\"head\">Time</th>\n",
      "<th class=\"head\">Lesson</th>\n",
      "<th class=\"head\">Teacher</th>\n",
      "</tr>\n",
      "</thead>\n",
      "<tbody valign=\"top\">\n",
      "<tr><td rowspan=\"3\">Monday</td>\n",
      "<td>09-10</td>\n",
      "<td>Welcome, Introduction to Python (1)</td>\n",
      "<td>Martijn</td>\n",
      "</tr>\n",
      "<tr><td>10-11</td>\n",
      "<td>Introduction to Python (2)</td>\n",
      "<td>Jeroen</td>\n",
      "</tr>\n",
      "<tr><td>11-12</td>\n",
      "<td>Introduction to Python (3)</td>\n",
      "<td>Zuotian</td>\n",
      "</tr>\n",
      "<tr><td rowspan=\"3\">Tuesday</td>\n",
      "<td>09-10</td>\n",
      "<td>Version control with Git</td>\n",
      "<td>Zuotian</td>\n",
      "</tr>\n",
      "<tr><td>10-11</td>\n",
      "<td>More Python (1)</td>\n",
      "<td>Bowo</td>\n",
      "</tr>\n",
      "<tr><td>11-12</td>\n",
      "<td>More Python (2)</td>\n",
      "<td>Martijn</td>\n",
      "</tr>\n",
      "<tr><td rowspan=\"3\">Wednesday</td>\n",
      "<td>09-10</td>\n",
      "<td>Working with NumPy arrays (1)</td>\n",
      "<td>Zuotian</td>\n",
      "</tr>\n",
      "<tr><td>10-11</td>\n",
      "<td>Working with NumPy arrays (2)</td>\n",
      "<td>Martijn</td>\n",
      "</tr>\n",
      "<tr><td>11-12</td>\n",
      "<td>Plotting with matplotlib</td>\n",
      "<td>Jeroen</td>\n",
      "</tr>\n",
      "<tr><td rowspan=\"3\">Friday</td>\n",
      "<td>09-10</td>\n",
      "<td>Object-oriented programming</td>\n",
      "<td>Jeroen</td>\n",
      "</tr>\n",
      "<tr><td>10-11</td>\n",
      "<td>Biopython (1)</td>\n",
      "<td>Bowo</td>\n",
      "</tr>\n",
      "<tr><td>11-12</td>\n",
      "<td>Biopython (2)</td>\n",
      "<td>Martijn</td>\n",
      "</tr>\n",
      "</tbody>\n",
      "</table>\n",
      "\n",
      "All slides are linked as one-page documents from the course website: [humgenprojects.lumc.nl/trac/programming-course](https://humgenprojects.lumc.nl/trac/programming-course/)"
     ]
    },
    {
     "cell_type": "markdown",
     "metadata": {
      "slideshow": {
       "slide_type": "slide"
      }
     },
     "source": [
      "Software requirements\n",
      "===\n",
      "\n",
      "* Linux or Mac OSX\n",
      "* Git\n",
      "* Python 2.7\n",
      "* IPython 1.0\n",
      "* NumPy, matplotlib, Biopython\n",
      "\n",
      "Instructions on the course website: [humgenprojects.lumc.nl/trac/programming-course](https://humgenprojects.lumc.nl/trac/programming-course/)"
     ]
    },
    {
     "cell_type": "markdown",
     "metadata": {
      "slideshow": {
       "slide_type": "slide"
      }
     },
     "source": [
      "Exercises\n",
      "===\n",
      "\n",
      "You only learn programming by doing it.\n",
      "\n",
      "* Have your laptop open during the lessons.\n",
      "* Repeat the code from the slides, play around with it.\n",
      "* Do the exercises.\n",
      "* There will be a few assignments to submit."
     ]
    },
    {
     "cell_type": "markdown",
     "metadata": {
      "slideshow": {
       "slide_type": "slide"
      }
     },
     "source": [
      "GitLab accounts\n",
      "===\n",
      "\n",
      "* Login with your LUMC username and password.\n",
      "* Make some noise if you're not from LUMC.\n",
      "* We'll use this later.\n",
      "\n",
      "<br>\n",
      "\n",
      "<center style=\"font-size: 300%\">[https://git.lumc.nl](https://git.lumc.nl/)</center>"
     ]
    },
    {
     "cell_type": "markdown",
     "metadata": {
      "slideshow": {
       "slide_type": "slide"
      }
     },
     "source": [
      "Getting help\n",
      "===\n",
      "\n",
      "* Ask a teacher or assistant.\n",
      "* Post your question on the GitLab wall: [https://git.lumc.nl/humgen/programming-course/wall](https://git.lumc.nl/humgen/programming-course/wall)\n",
      "* If it's private, mail one of the teachers."
     ]
    }
   ],
   "metadata": {}
  }
 ]
}