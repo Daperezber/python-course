{
 "metadata": {
  "name": ""
 },
 "nbformat": 3,
 "nbformat_minor": 0,
 "worksheets": [
  {
   "cells": [
    {
     "cell_type": "markdown",
     "metadata": {
      "slideshow": {
       "slide_type": "slide"
      }
     },
     "source": [
      "<span style=\"font-size: 200%\">Version control with Git</span>\n",
      "===\n",
      "\n",
      "<br>\n",
      "\n",
      "[Zuotian Tatum](mailto:z.tatum@lumc.nl), [Martijn Vermaat](mailto:m.vermaat.hg@lumc.nl)\n",
      "\n",
      "[Department of Human Genetics, Leiden University Medical Center](http://humgen.nl)\n",
      "\n",
      "License: [Creative Commons Attribution 3.0 License (CC-by)](http://creativecommons.org/licenses/by/3.0)\n",
      "\n",
      "Sources: [Git homepage](http://git-scm.com/), [GitHub Teaching](https://teach.github.com/), [Try Git](http://try.github.io/)"
     ]
    },
    {
     "cell_type": "markdown",
     "metadata": {
      "slideshow": {
       "slide_type": "slide"
      }
     },
     "source": [
      "What is a Version Control System (VCS)\n",
      "===\n",
      "\n",
      "Version control is a system that records changes to a file or set of files over time so that you can recall specific versions later.\n",
      "\n",
      "- revert files back to a previous state\n",
      "- revert the entire project back to a previous state\n",
      "- review changes made over time\n",
      "- and more"
     ]
    },
    {
     "cell_type": "markdown",
     "metadata": {
      "slideshow": {
       "slide_type": "slide"
      }
     },
     "source": [
      "Why VCS\n",
      "===\n",
      "\n",
      "For a single user:\n",
      "---\n",
      "* revert files to a previous state\n",
      "* revert the entire project back to a previous state\n",
      "* review changes made over time\n",
      "* ...\n"
     ]
    },
    {
     "cell_type": "markdown",
     "metadata": {
      "slideshow": {
       "slide_type": "fragment"
      }
     },
     "source": [
      "For mulitple users:\n",
      "---\n",
      "* a reliable way to share files between people/computers\n",
      "* allow multiple people working on the same project at the same time\n",
      "* conflict resolution\n",
      "* see who made what changes at when\n",
      "* ..."
     ]
    },
    {
     "cell_type": "markdown",
     "metadata": {
      "slideshow": {
       "slide_type": "slide"
      }
     },
     "source": [
      "VCS architecture\n",
      "===\n",
      "\n",
      "Local VCS\n",
      "---\n",
      "\n",
      "<img src=\"files/images/local_vcs.png\">"
     ]
    },
    {
     "cell_type": "markdown",
     "metadata": {
      "slideshow": {
       "slide_type": "subslide"
      }
     },
     "source": [
      "VCS architecture\n",
      "===\n",
      "\n",
      "Centralized VCS\n",
      "---\n",
      "<img src=\"files/images/centralized_vcs.png\">"
     ]
    },
    {
     "cell_type": "markdown",
     "metadata": {
      "slideshow": {
       "slide_type": "subslide"
      }
     },
     "source": [
      "VCS architecture\n",
      "===\n",
      "\n",
      "Distributed VCS\n",
      "---\n",
      "<img src=\"files/images/distributed_vcs.png\">"
     ]
    },
    {
     "cell_type": "markdown",
     "metadata": {
      "slideshow": {
       "slide_type": "slide"
      }
     },
     "source": [
      "Git\n",
      "===\n",
      "\n",
      "\n",
      "A distributed version control system.\n"
     ]
    },
    {
     "cell_type": "code",
     "collapsed": false,
     "input": [
      "%%sh\n",
      "git"
     ],
     "language": "python",
     "metadata": {},
     "outputs": [
      {
       "output_type": "stream",
       "stream": "stdout",
       "text": [
        "usage: git [--version] [--exec-path[=<path>]] [--html-path] [--man-path] [--info-path]\n",
        "           [-p|--paginate|--no-pager] [--no-replace-objects] [--bare]\n",
        "           [--git-dir=<path>] [--work-tree=<path>] [--namespace=<name>]\n",
        "           [-c name=value] [--help]\n",
        "           <command> [<args>]\n",
        "\n",
        "The most commonly used git commands are:\n",
        "   add        Add file contents to the index\n",
        "   bisect     Find by binary search the change that introduced a bug\n",
        "   branch     List, create, or delete branches\n",
        "   checkout   Checkout a branch or paths to the working tree\n",
        "   clone      Clone a repository into a new directory\n",
        "   commit     Record changes to the repository\n",
        "   diff       Show changes between commits, commit and working tree, etc\n",
        "   fetch      Download objects and refs from another repository\n",
        "   grep       Print lines matching a pattern\n",
        "   init       Create an empty git repository or reinitialize an existing one\n",
        "   log        Show commit logs\n",
        "   merge      Join two or more development histories together\n",
        "   mv         Move or rename a file, a directory, or a symlink\n",
        "   pull       Fetch from and merge with another repository or a local branch\n",
        "   push       Update remote refs along with associated objects\n",
        "   rebase     Forward-port local commits to the updated upstream head\n",
        "   reset      Reset current HEAD to the specified state\n",
        "   rm         Remove files from the working tree and from the index\n",
        "   show       Show various types of objects\n",
        "   status     Show the working tree status\n",
        "   tag        Create, list, delete or verify a tag object signed with GPG\n",
        "\n",
        "See 'git help <command>' for more information on a specific command.\n"
       ]
      }
     ],
     "prompt_number": 15
    },
    {
     "cell_type": "markdown",
     "metadata": {
      "slideshow": {
       "slide_type": "subslide"
      }
     },
     "source": [
      "Git\n",
      "===\n",
      "\n",
      "To initialize a Git repository\n",
      "---"
     ]
    },
    {
     "cell_type": "code",
     "collapsed": false,
     "input": [
      "cd /tmp/myproject"
     ],
     "language": "python",
     "metadata": {},
     "outputs": []
    },
    {
     "cell_type": "code",
     "collapsed": false,
     "input": [
      "%%sh\n",
      "\n",
      "git init"
     ],
     "language": "python",
     "metadata": {},
     "outputs": [
      {
       "output_type": "stream",
       "stream": "stdout",
       "text": [
        "Initialized empty Git repository in /tmp/myproject/.git/\n"
       ]
      }
     ],
     "prompt_number": 4
    },
    {
     "cell_type": "markdown",
     "metadata": {
      "slideshow": {
       "slide_type": "subslide"
      }
     },
     "source": [
      "Git\n",
      "===\n",
      "\n",
      "Check repository status\n",
      "---"
     ]
    },
    {
     "cell_type": "code",
     "collapsed": false,
     "input": [
      "%%sh\n",
      "\n",
      "git status"
     ],
     "language": "python",
     "metadata": {},
     "outputs": [
      {
       "output_type": "stream",
       "stream": "stdout",
       "text": [
        "# On branch master\n",
        "#\n",
        "# Initial commit\n",
        "#\n",
        "nothing to commit (create/copy files and use \"git add\" to track)\n"
       ]
      }
     ],
     "prompt_number": 5
    },
    {
     "cell_type": "markdown",
     "metadata": {
      "slideshow": {
       "slide_type": "subslide"
      }
     },
     "source": [
      "Git\n",
      "===\n",
      "\n",
      "Add changes\n",
      "---"
     ]
    },
    {
     "cell_type": "code",
     "collapsed": false,
     "input": [
      "%%sh\n",
      "\n",
      "touch myfile.txt\n",
      "\n",
      "git status"
     ],
     "language": "python",
     "metadata": {},
     "outputs": [
      {
       "output_type": "stream",
       "stream": "stdout",
       "text": [
        "# On branch master\n",
        "#\n",
        "# Initial commit\n",
        "#\n",
        "# Untracked files:\n",
        "#   (use \"git add <file>...\" to include in what will be committed)\n",
        "#\n",
        "#\tmyfile.txt\n",
        "nothing added to commit but untracked files present (use \"git add\" to track)\n"
       ]
      }
     ],
     "prompt_number": 6
    },
    {
     "cell_type": "code",
     "collapsed": false,
     "input": [
      "%%sh\n",
      "\n",
      "git add myfile.txt\n",
      "git status"
     ],
     "language": "python",
     "metadata": {
      "slideshow": {
       "slide_type": "fragment"
      }
     },
     "outputs": [
      {
       "output_type": "stream",
       "stream": "stdout",
       "text": [
        "# On branch master\n",
        "#\n",
        "# Initial commit\n",
        "#\n",
        "# Changes to be committed:\n",
        "#   (use \"git rm --cached <file>...\" to unstage)\n",
        "#\n",
        "#\tnew file:   myfile.txt\n",
        "#\n"
       ]
      }
     ],
     "prompt_number": 7
    },
    {
     "cell_type": "markdown",
     "metadata": {
      "slideshow": {
       "slide_type": "subslide"
      }
     },
     "source": [
      "Git\n",
      "===\n",
      "\n",
      "Commit changes\n",
      "---"
     ]
    },
    {
     "cell_type": "markdown",
     "metadata": {},
     "source": [
      "Before adding the remote repository, let's add some information about you."
     ]
    },
    {
     "cell_type": "code",
     "collapsed": false,
     "input": [
      "%%sh \n",
      "git config --global user.name \"Z. Tatum\"\n",
      "git config --global user.email \"z.tatum@lumc.nl\""
     ],
     "language": "python",
     "metadata": {},
     "outputs": [],
     "prompt_number": 8
    },
    {
     "cell_type": "code",
     "collapsed": false,
     "input": [
      "%%sh\n",
      "\n",
      "git commit -m \"add my file to repository\""
     ],
     "language": "python",
     "metadata": {
      "slideshow": {
       "slide_type": "fragment"
      }
     },
     "outputs": [
      {
       "output_type": "stream",
       "stream": "stdout",
       "text": [
        "[master (root-commit) 4afabfb] add my file to repository\n",
        " 0 files changed\n",
        " create mode 100644 myfile.txt\n"
       ]
      }
     ],
     "prompt_number": 9
    },
    {
     "cell_type": "markdown",
     "metadata": {
      "slideshow": {
       "slide_type": "subslide"
      }
     },
     "source": [
      "Git\n",
      "===\n",
      "\n",
      "Commit multiple changes\n",
      "---"
     ]
    },
    {
     "cell_type": "code",
     "collapsed": false,
     "input": [
      "%%sh \n",
      "\n",
      "touch file1.txt file2.txt\n",
      "git status"
     ],
     "language": "python",
     "metadata": {},
     "outputs": [
      {
       "output_type": "stream",
       "stream": "stdout",
       "text": [
        "# On branch master\n",
        "# Untracked files:\n",
        "#   (use \"git add <file>...\" to include in what will be committed)\n",
        "#\n",
        "#\tfile1.txt\n",
        "#\tfile2.txt\n",
        "nothing added to commit but untracked files present (use \"git add\" to track)\n"
       ]
      }
     ],
     "prompt_number": 10
    },
    {
     "cell_type": "code",
     "collapsed": false,
     "input": [
      "%%sh\n",
      "\n",
      "git add *.txt\n",
      "git status"
     ],
     "language": "python",
     "metadata": {
      "slideshow": {
       "slide_type": "fragment"
      }
     },
     "outputs": [
      {
       "output_type": "stream",
       "stream": "stdout",
       "text": [
        "# On branch master\n",
        "# Changes to be committed:\n",
        "#   (use \"git reset HEAD <file>...\" to unstage)\n",
        "#\n",
        "#\tnew file:   file1.txt\n",
        "#\tnew file:   file2.txt\n",
        "#\n"
       ]
      }
     ],
     "prompt_number": 11
    },
    {
     "cell_type": "code",
     "collapsed": false,
     "input": [
      "%%sh\n",
      "\n",
      "git commit -m \"add more files to repo\""
     ],
     "language": "python",
     "metadata": {
      "slideshow": {
       "slide_type": "fragment"
      }
     },
     "outputs": [
      {
       "output_type": "stream",
       "stream": "stdout",
       "text": [
        "[master 74ab048] add more files to repo\n",
        " 0 files changed\n",
        " create mode 100644 file1.txt\n",
        " create mode 100644 file2.txt\n"
       ]
      }
     ],
     "prompt_number": 12
    },
    {
     "cell_type": "markdown",
     "metadata": {
      "slideshow": {
       "slide_type": "subslide"
      }
     },
     "source": [
      "Git\n",
      "===\n",
      "\n",
      "History\n",
      "---"
     ]
    },
    {
     "cell_type": "code",
     "collapsed": false,
     "input": [
      "%%sh\n",
      "\n",
      "git log"
     ],
     "language": "python",
     "metadata": {},
     "outputs": [
      {
       "output_type": "stream",
       "stream": "stdout",
       "text": [
        "\u001b[33m74ab048\u001b[m -\u001b[31m (HEAD, master)\u001b[m add more files to repo \u001b[32m(3 seconds ago) \u001b[1;34m<Z. Tatum>\u001b[m\n",
        "\u001b[33m4afabfb\u001b[m -\u001b[31m\u001b[m add my file to repository \u001b[32m(17 seconds ago) \u001b[1;34m<Z. Tatum>\u001b[m"
       ]
      }
     ],
     "prompt_number": 13
    },
    {
     "cell_type": "code",
     "collapsed": false,
     "input": [
      "%%sh\n",
      "\n",
      "git log --summary"
     ],
     "language": "python",
     "metadata": {
      "slideshow": {
       "slide_type": "fragment"
      }
     },
     "outputs": [
      {
       "output_type": "stream",
       "stream": "stdout",
       "text": [
        "\u001b[33m74ab048\u001b[m -\u001b[31m (HEAD, master)\u001b[m add more files to repo \u001b[32m(5 seconds ago) \u001b[1;34m<Z. Tatum>\u001b[m\n",
        " create mode 100644 file1.txt\n",
        " create mode 100644 file2.txt\n",
        "\n",
        "\u001b[33m4afabfb\u001b[m -\u001b[31m\u001b[m add my file to repository \u001b[32m(19 seconds ago) \u001b[1;34m<Z. Tatum>\u001b[m\n",
        " create mode 100644 myfile.txt\n"
       ]
      }
     ],
     "prompt_number": 14
    },
    {
     "cell_type": "markdown",
     "metadata": {
      "slideshow": {
       "slide_type": "subslide"
      }
     },
     "source": [
      "Git\n",
      "===\n",
      "\n",
      "Remote repository\n",
      "---"
     ]
    },
    {
     "cell_type": "markdown",
     "metadata": {
      "slideshow": {
       "slide_type": "-"
      }
     },
     "source": [
      "Now let's add the remote repository."
     ]
    },
    {
     "cell_type": "code",
     "collapsed": false,
     "input": [
      "%%sh\n",
      "cd /tmp/myproject\n",
      "\n",
      "git remote add origin https://gitlab.lumc.nl/ztatum/myproject"
     ],
     "language": "python",
     "metadata": {
      "slideshow": {
       "slide_type": "-"
      }
     },
     "outputs": []
    },
    {
     "cell_type": "markdown",
     "metadata": {
      "slideshow": {
       "slide_type": "slide"
      }
     },
     "source": [
      "GitHub and Gitlab\n",
      "===\n",
      "\n",
      "TODO."
     ]
    }
   ],
   "metadata": {}
  }
 ]
}