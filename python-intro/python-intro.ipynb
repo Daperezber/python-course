{
 "metadata": {
  "name": ""
 },
 "nbformat": 3,
 "nbformat_minor": 0,
 "worksheets": [
  {
   "cells": [
    {
     "cell_type": "markdown",
     "metadata": {
      "slideshow": {
       "slide_type": "slide"
      }
     },
     "source": [
      "Introduction to Python\n",
      "===\n",
      "\n",
      "Martijn Vermaat, Leiden University Medical Center\n",
      "\n",
      "m.vermaat.hg@lumc.nl"
     ]
    },
    {
     "cell_type": "markdown",
     "metadata": {
      "slideshow": {
       "slide_type": "slide"
      }
     },
     "source": [
      "About Python\n",
      "===\n",
      "\n",
      "History\n",
      "---\n",
      "\n",
      "* Created early 90's by Guide van Rossem at CWI.\n",
      "* General purpose, high-level programming language.\n",
      "* Design is driven by code readability."
     ]
    },
    {
     "cell_type": "markdown",
     "metadata": {
      "slideshow": {
       "slide_type": "subslide"
      }
     },
     "source": [
      "About Python\n",
      "===\n",
      "\n",
      "Features\n",
      "---\n",
      "\n",
      "* Interpreted, no separate compilation step needed.\n",
      "* Imperative and object-oriented programming (and some functional programming).\n",
      "* Dynamic type system.\n",
      "* Automatic memory management.\n",
      "\n",
      "We'll come back to most of this."
     ]
    },
    {
     "cell_type": "markdown",
     "metadata": {
      "slideshow": {
       "slide_type": "subslide"
      }
     },
     "source": [
      "About Python\n",
      "===\n",
      "\n",
      "Why Python?\n",
      "---\n",
      "\n",
      "* Readable and low barrier to entry.\n",
      "* Rich scientific libraries.\n",
      "* Many other libraries available.\n",
      "* Widely used with a large community."
     ]
    },
    {
     "cell_type": "markdown",
     "metadata": {
      "slideshow": {
       "slide_type": "subslide"
      }
     },
     "source": [
      "About Python\n",
      "===\n",
      "\n",
      "Python 2 versus Python 3\n",
      "---\n",
      "\n",
      "* Python 3 is backwards incompatible.\n",
      "* Some libraries don't support it yet.\n",
      "* Python 2.7 is the last Python 2.\n",
      "* Some Python 3 features are backported in Python 2.7.\n",
      "* Default Python on most distributions is Python 2.7.\n",
      "\n",
      "We use Python 2.7 for the time being."
     ]
    },
    {
     "cell_type": "markdown",
     "metadata": {
      "slideshow": {
       "slide_type": "slide"
      }
     },
     "source": [
      "Running Python code\n",
      "===\n",
      "\n",
      "Two main ways of writing and executing Python code.\n",
      "\n",
      "Interactively\n",
      "---\n",
      "\n",
      "* Statement by statement directly in the interpreter\n",
      "\n",
      "Non-interactively\n",
      "---\n",
      "\n",
      "* By editing in a file and running the code afterwards"
     ]
    },
    {
     "cell_type": "markdown",
     "metadata": {
      "slideshow": {
       "slide_type": "fragment"
      }
     },
     "source": [
      "We'll start with the first option."
     ]
    },
    {
     "cell_type": "markdown",
     "metadata": {
      "slideshow": {
       "slide_type": "subslide"
      }
     },
     "source": [
      "Running Python code\n",
      "===\n",
      "\n",
      "The standard Python interpreter\n",
      "---\n",
      "\n",
      "Start it by typing `python` on the command line:\n",
      "\n",
      "    $ python\n",
      "    Python 2.7.3 (default, Jan  2 2013, 13:56:14) \n",
      "    [GCC 4.7.2] on linux2\n",
      "    Type \"help\", \"copyright\", \"credits\" or \"license\" for more information.\n",
      "    >>>\n",
      "\n",
      "* It shows an interpreter prompt.\n",
      "* You can give it Python code to interpret."
     ]
    },
    {
     "cell_type": "markdown",
     "metadata": {
      "slideshow": {
       "slide_type": "subslide"
      }
     },
     "source": [
      "Running Python code\n",
      "===\n",
      "\n",
      "The IPython interpreter\n",
      "---\n",
      "\n",
      "* Similar to the standard Python interpreter, but with\n",
      "* syntax highlighting,\n",
      "* tab completion,\n",
      "* cross-session history, etcetera...\n",
      "\n",
      "Start it by typing `ipython` on the command line:\n",
      "\n",
      "    $ ipython\n",
      "    Python 2.7.3 (default, Jan  2 2013, 13:56:14) \n",
      "    Type \"copyright\", \"credits\" or \"license\" for more information.\n",
      "\n",
      "    IPython 0.13.1 -- An enhanced Interactive Python.\n",
      "    ?         -> Introduction and overview of IPython's features.\n",
      "    %quickref -> Quick reference.\n",
      "    help      -> Python's own help system.\n",
      "    object?   -> Details about 'object', use 'object??' for extra details.\n",
      "\n",
      "    In [1]:"
     ]
    },
    {
     "cell_type": "markdown",
     "metadata": {
      "slideshow": {
       "slide_type": "fragment"
      }
     },
     "source": [
      "From now on, play along in your own IPython interpreter."
     ]
    },
    {
     "cell_type": "markdown",
     "metadata": {
      "slideshow": {
       "slide_type": "slide"
      }
     },
     "source": [
      "Python as a calculator\n",
      "===\n",
      "\n",
      "Integers\n",
      "---"
     ]
    },
    {
     "cell_type": "code",
     "collapsed": false,
     "input": [
      "17"
     ],
     "language": "python",
     "metadata": {},
     "outputs": [
      {
       "metadata": {},
       "output_type": "pyout",
       "prompt_number": 3,
       "text": [
        "17"
       ]
      }
     ],
     "prompt_number": 3
    },
    {
     "cell_type": "code",
     "collapsed": false,
     "input": [
      "(17 + 4) * 2"
     ],
     "language": "python",
     "metadata": {},
     "outputs": [
      {
       "metadata": {},
       "output_type": "pyout",
       "prompt_number": 4,
       "text": [
        "42"
       ]
      }
     ],
     "prompt_number": 4
    },
    {
     "cell_type": "markdown",
     "metadata": {
      "slideshow": {
       "slide_type": "subslide"
      }
     },
     "source": [
      "Python as a calculator\n",
      "===\n",
      "\n",
      "Floating point numbers\n",
      "---"
     ]
    },
    {
     "cell_type": "code",
     "collapsed": false,
     "input": [
      "3.2 * 18 - 2.1"
     ],
     "language": "python",
     "metadata": {},
     "outputs": [
      {
       "metadata": {},
       "output_type": "pyout",
       "prompt_number": 5,
       "text": [
        "55.5"
       ]
      }
     ],
     "prompt_number": 5
    },
    {
     "cell_type": "code",
     "collapsed": false,
     "input": [
      "36. / 5"
     ],
     "language": "python",
     "metadata": {},
     "outputs": [
      {
       "metadata": {},
       "output_type": "pyout",
       "prompt_number": 6,
       "text": [
        "7.2"
       ]
      }
     ],
     "prompt_number": 6
    },
    {
     "cell_type": "markdown",
     "metadata": {},
     "source": [
      "Scientific notation:"
     ]
    },
    {
     "cell_type": "code",
     "collapsed": false,
     "input": [
      "1.3e20 + 2"
     ],
     "language": "python",
     "metadata": {},
     "outputs": [
      {
       "metadata": {},
       "output_type": "pyout",
       "prompt_number": 7,
       "text": [
        "1.3e+20"
       ]
      }
     ],
     "prompt_number": 7
    },
    {
     "cell_type": "code",
     "collapsed": false,
     "input": [
      "1.3 * 10**20"
     ],
     "language": "python",
     "metadata": {},
     "outputs": [
      {
       "metadata": {},
       "output_type": "pyout",
       "prompt_number": 8,
       "text": [
        "1.3e+20"
       ]
      }
     ],
     "prompt_number": 8
    },
    {
     "cell_type": "markdown",
     "metadata": {
      "slideshow": {
       "slide_type": "subslide"
      }
     },
     "source": [
      "Python as a calculator\n",
      "===\n",
      "\n",
      "The division operator\n",
      "---"
     ]
    },
    {
     "cell_type": "code",
     "collapsed": false,
     "input": [
      "35 / 5"
     ],
     "language": "python",
     "metadata": {},
     "outputs": [
      {
       "metadata": {},
       "output_type": "pyout",
       "prompt_number": 9,
       "text": [
        "7"
       ]
      }
     ],
     "prompt_number": 9
    },
    {
     "cell_type": "code",
     "collapsed": false,
     "input": [
      "36 / 5"
     ],
     "language": "python",
     "metadata": {},
     "outputs": [
      {
       "metadata": {},
       "output_type": "pyout",
       "prompt_number": 10,
       "text": [
        "7"
       ]
      }
     ],
     "prompt_number": 10
    },
    {
     "cell_type": "markdown",
     "metadata": {},
     "source": [
      "Division is a bit weird: if you give it integer arguments, the result will also be an integer."
     ]
    },
    {
     "cell_type": "markdown",
     "metadata": {
      "slideshow": {
       "slide_type": "subslide"
      }
     },
     "source": [
      "Python as a calculator\n",
      "===\n",
      "\n",
      "The division operator\n",
      "---"
     ]
    },
    {
     "cell_type": "code",
     "collapsed": false,
     "input": [
      "35 / 5"
     ],
     "language": "python",
     "metadata": {},
     "outputs": [
      {
       "metadata": {},
       "output_type": "pyout",
       "prompt_number": 11,
       "text": [
        "7"
       ]
      }
     ],
     "prompt_number": 11
    },
    {
     "cell_type": "code",
     "collapsed": false,
     "input": [
      "36 / 5"
     ],
     "language": "python",
     "metadata": {},
     "outputs": [
      {
       "metadata": {},
       "output_type": "pyout",
       "prompt_number": 12,
       "text": [
        "7"
       ]
      }
     ],
     "prompt_number": 12
    },
    {
     "cell_type": "markdown",
     "metadata": {},
     "source": [
      "Solution 1\n",
      "---\n",
      "\n",
      "Give floating point arguments instead of integer arguments."
     ]
    },
    {
     "cell_type": "code",
     "collapsed": false,
     "input": [
      "36. / 5."
     ],
     "language": "python",
     "metadata": {},
     "outputs": [
      {
       "metadata": {},
       "output_type": "pyout",
       "prompt_number": 13,
       "text": [
        "7.2"
       ]
      }
     ],
     "prompt_number": 13
    },
    {
     "cell_type": "markdown",
     "metadata": {
      "slideshow": {
       "slide_type": "subslide"
      }
     },
     "source": [
      "Python as a calculator\n",
      "===\n",
      "\n",
      "The division operator\n",
      "---"
     ]
    },
    {
     "cell_type": "code",
     "collapsed": false,
     "input": [
      "35 / 5"
     ],
     "language": "python",
     "metadata": {},
     "outputs": [
      {
       "metadata": {},
       "output_type": "pyout",
       "prompt_number": 14,
       "text": [
        "7"
       ]
      }
     ],
     "prompt_number": 14
    },
    {
     "cell_type": "code",
     "collapsed": false,
     "input": [
      "36 / 5"
     ],
     "language": "python",
     "metadata": {},
     "outputs": [
      {
       "metadata": {},
       "output_type": "pyout",
       "prompt_number": 15,
       "text": [
        "7"
       ]
      }
     ],
     "prompt_number": 15
    },
    {
     "cell_type": "markdown",
     "metadata": {},
     "source": [
      "Solution 2\n",
      "---\n",
      "\n",
      "From Python 3 onwards, division behaves differently. You can actually get that behaviour in Python 2.7:"
     ]
    },
    {
     "cell_type": "code",
     "collapsed": false,
     "input": [
      "from __future__ import division\n",
      "36 / 5"
     ],
     "language": "python",
     "metadata": {},
     "outputs": [
      {
       "metadata": {},
       "output_type": "pyout",
       "prompt_number": 16,
       "text": [
        "7.2"
       ]
      }
     ],
     "prompt_number": 16
    },
    {
     "cell_type": "markdown",
     "metadata": {
      "slideshow": {
       "slide_type": "subslide"
      }
     },
     "source": [
      "Python as a calculator\n",
      "===\n",
      "\n",
      "Variables\n",
      "---\n",
      "\n",
      "* We can assign values to names (variables).\n",
      "* No need to declare them first or define the type."
     ]
    },
    {
     "cell_type": "code",
     "collapsed": false,
     "input": [
      "a = 1.3e20"
     ],
     "language": "python",
     "metadata": {},
     "outputs": [],
     "prompt_number": 17
    },
    {
     "cell_type": "code",
     "collapsed": false,
     "input": [
      "a"
     ],
     "language": "python",
     "metadata": {},
     "outputs": [
      {
       "metadata": {},
       "output_type": "pyout",
       "prompt_number": 18,
       "text": [
        "1.3e+20"
       ]
      }
     ],
     "prompt_number": 18
    },
    {
     "cell_type": "code",
     "collapsed": false,
     "input": [
      "b = a + 1.2e19\n",
      "b * 2"
     ],
     "language": "python",
     "metadata": {},
     "outputs": [
      {
       "metadata": {},
       "output_type": "pyout",
       "prompt_number": 19,
       "text": [
        "2.84e+20"
       ]
      }
     ],
     "prompt_number": 19
    },
    {
     "cell_type": "markdown",
     "metadata": {
      "slideshow": {
       "slide_type": "slide"
      }
     },
     "source": [
      "Python's type system (1/2)\n",
      "===\n",
      "\n",
      "Every value has a type, view it using `type`:"
     ]
    },
    {
     "cell_type": "code",
     "collapsed": false,
     "input": [
      "type(27)"
     ],
     "language": "python",
     "metadata": {},
     "outputs": [
      {
       "metadata": {},
       "output_type": "pyout",
       "prompt_number": 20,
       "text": [
        "int"
       ]
      }
     ],
     "prompt_number": 20
    },
    {
     "cell_type": "code",
     "collapsed": false,
     "input": [
      "type(3.0 * 2.7)"
     ],
     "language": "python",
     "metadata": {},
     "outputs": [
      {
       "metadata": {},
       "output_type": "pyout",
       "prompt_number": 21,
       "text": [
        "float"
       ]
      }
     ],
     "prompt_number": 21
    },
    {
     "cell_type": "code",
     "collapsed": false,
     "input": [
      "type(a)"
     ],
     "language": "python",
     "metadata": {},
     "outputs": [
      {
       "metadata": {},
       "output_type": "pyout",
       "prompt_number": 22,
       "text": [
        "float"
       ]
      }
     ],
     "prompt_number": 22
    },
    {
     "cell_type": "markdown",
     "metadata": {},
     "source": [
      "Another example of a builtin datatype is `str`, we'll see more later:"
     ]
    },
    {
     "cell_type": "code",
     "collapsed": false,
     "input": [
      "type('an example string')"
     ],
     "language": "python",
     "metadata": {},
     "outputs": [
      {
       "metadata": {},
       "output_type": "pyout",
       "prompt_number": 23,
       "text": [
        "str"
       ]
      }
     ],
     "prompt_number": 23
    },
    {
     "cell_type": "markdown",
     "metadata": {
      "slideshow": {
       "slide_type": "subslide"
      }
     },
     "source": [
      "Python's type system (2/2)\n",
      "===\n",
      "\n",
      "Some operations are defined on more than one type, possibly with different meanings."
     ]
    },
    {
     "cell_type": "code",
     "collapsed": false,
     "input": [
      "'abc' * 5 + 'def'"
     ],
     "language": "python",
     "metadata": {},
     "outputs": [
      {
       "metadata": {},
       "output_type": "pyout",
       "prompt_number": 24,
       "text": [
        "'abcabcabcabcabcdef'"
       ]
      }
     ],
     "prompt_number": 24
    },
    {
     "cell_type": "markdown",
     "metadata": {},
     "source": [
      "Dynamic typing means that variables can be assigned values of different types during runtime."
     ]
    },
    {
     "cell_type": "code",
     "collapsed": false,
     "input": [
      "a = 'abc'\n",
      "type(a)"
     ],
     "language": "python",
     "metadata": {},
     "outputs": [
      {
       "metadata": {},
       "output_type": "pyout",
       "prompt_number": 25,
       "text": [
        "str"
       ]
      }
     ],
     "prompt_number": 25
    },
    {
     "cell_type": "markdown",
     "metadata": {},
     "source": [
      "Python is strongly typed, meaning that operations on values with incompatible types are forbidden."
     ]
    },
    {
     "cell_type": "code",
     "collapsed": false,
     "input": [
      "'abc' + 34"
     ],
     "language": "python",
     "metadata": {},
     "outputs": [
      {
       "ename": "TypeError",
       "evalue": "cannot concatenate 'str' and 'int' objects",
       "output_type": "pyerr",
       "traceback": [
        "\u001b[1;31m---------------------------------------------------------------------------\u001b[0m\n\u001b[1;31mTypeError\u001b[0m                                 Traceback (most recent call last)",
        "\u001b[1;32m<ipython-input-26-43a6c1044bb0>\u001b[0m in \u001b[0;36m<module>\u001b[1;34m()\u001b[0m\n\u001b[1;32m----> 1\u001b[1;33m \u001b[1;34m'abc'\u001b[0m \u001b[1;33m+\u001b[0m \u001b[1;36m34\u001b[0m\u001b[1;33m\u001b[0m\u001b[0m\n\u001b[0m",
        "\u001b[1;31mTypeError\u001b[0m: cannot concatenate 'str' and 'int' objects"
       ]
      }
     ],
     "prompt_number": 26
    },
    {
     "cell_type": "markdown",
     "metadata": {
      "slideshow": {
       "slide_type": "slide"
      }
     },
     "source": [
      "Sequence types\n",
      "===\n",
      "\n",
      "Lists\n",
      "---\n",
      "\n",
      "Mutable ordered sequences of values."
     ]
    },
    {
     "cell_type": "code",
     "collapsed": false,
     "input": [
      "l = [2, 5, 2, 3, 7]\n",
      "type(l)"
     ],
     "language": "python",
     "metadata": {},
     "outputs": [
      {
       "metadata": {},
       "output_type": "pyout",
       "prompt_number": 27,
       "text": [
        "list"
       ]
      }
     ],
     "prompt_number": 27
    },
    {
     "cell_type": "markdown",
     "metadata": {},
     "source": [
      "Lists can be heterogeneous, but we typically don't use that."
     ]
    },
    {
     "cell_type": "code",
     "collapsed": false,
     "input": [
      "[3, 'abc', 1.3e20, [a, a, 2]]"
     ],
     "language": "python",
     "metadata": {},
     "outputs": [
      {
       "metadata": {},
       "output_type": "pyout",
       "prompt_number": 28,
       "text": [
        "[3, 'abc', 1.3e+20, ['abc', 'abc', 2]]"
       ]
      }
     ],
     "prompt_number": 28
    },
    {
     "cell_type": "markdown",
     "metadata": {
      "slideshow": {
       "slide_type": "subslide"
      }
     },
     "source": [
      "Sequence types\n",
      "===\n",
      "\n",
      "Tuples\n",
      "---\n",
      "\n",
      "Immutable ordered sequences of values."
     ]
    },
    {
     "cell_type": "code",
     "collapsed": false,
     "input": [
      "t = 'white', 77, 1.5\n",
      "type(t)"
     ],
     "language": "python",
     "metadata": {},
     "outputs": [
      {
       "metadata": {},
       "output_type": "pyout",
       "prompt_number": 32,
       "text": [
        "tuple"
       ]
      }
     ],
     "prompt_number": 32
    },
    {
     "cell_type": "code",
     "collapsed": false,
     "input": [
      "color, width, scale = t\n",
      "width"
     ],
     "language": "python",
     "metadata": {},
     "outputs": [
      {
       "metadata": {},
       "output_type": "pyout",
       "prompt_number": 31,
       "text": [
        "77"
       ]
      }
     ],
     "prompt_number": 31
    },
    {
     "cell_type": "markdown",
     "metadata": {
      "slideshow": {
       "slide_type": "subslide"
      }
     },
     "source": [
      "Sequence types\n",
      "===\n",
      "\n",
      "Strings (we've already seen some)\n",
      "---\n",
      "\n",
      "Strings have the special `%` formatting operator."
     ]
    },
    {
     "cell_type": "code",
     "collapsed": false,
     "input": [
      "'this is a %s string' % 'beautiful'"
     ],
     "language": "python",
     "metadata": {},
     "outputs": [
      {
       "metadata": {},
       "output_type": "pyout",
       "prompt_number": 34,
       "text": [
        "'this is a beautiful string'"
       ]
      }
     ],
     "prompt_number": 34
    },
    {
     "cell_type": "markdown",
     "metadata": {},
     "source": [
      "In general, `format % values` replaces conversion specifications in `format` by the values in `values`."
     ]
    },
    {
     "cell_type": "code",
     "collapsed": false,
     "input": [
      "'%i times %s equals %.3f' % (2, 'pi', 6.283185307179586)"
     ],
     "language": "python",
     "metadata": {},
     "outputs": [
      {
       "metadata": {},
       "output_type": "pyout",
       "prompt_number": 35,
       "text": [
        "'2 times pi equals 6.283'"
       ]
      }
     ],
     "prompt_number": 35
    },
    {
     "cell_type": "markdown",
     "metadata": {},
     "source": [
      "String are immutable."
     ]
    },
    {
     "cell_type": "markdown",
     "metadata": {
      "slideshow": {
       "slide_type": "subslide"
      }
     },
     "source": [
      "Sequence types\n",
      "===\n",
      "\n",
      "Common operations\n",
      "---\n",
      "\n",
      "All sequence types support concatenation, membership tests, indexing, and slicing."
     ]
    },
    {
     "cell_type": "code",
     "collapsed": false,
     "input": [
      "[1, 2, 3] + [4, 5, 6]"
     ],
     "language": "python",
     "metadata": {},
     "outputs": [
      {
       "metadata": {},
       "output_type": "pyout",
       "prompt_number": 36,
       "text": [
        "[1, 2, 3, 4, 5, 6]"
       ]
      }
     ],
     "prompt_number": 36
    },
    {
     "cell_type": "code",
     "collapsed": false,
     "input": [
      "'bier' in 'we drinken bier vanaf half 5'"
     ],
     "language": "python",
     "metadata": {},
     "outputs": [
      {
       "metadata": {},
       "output_type": "pyout",
       "prompt_number": 37,
       "text": [
        "True"
       ]
      }
     ],
     "prompt_number": 37
    },
    {
     "cell_type": "code",
     "collapsed": false,
     "input": [
      "'abcdefghijkl'[5]"
     ],
     "language": "python",
     "metadata": {},
     "outputs": [
      {
       "metadata": {},
       "output_type": "pyout",
       "prompt_number": 39,
       "text": [
        "'f'"
       ]
      }
     ],
     "prompt_number": 39
    },
    {
     "cell_type": "markdown",
     "metadata": {
      "slideshow": {
       "slide_type": "subslide"
      }
     },
     "source": [
      "Sequence types\n",
      "===\n",
      "\n",
      "Slicing\n",
      "---\n",
      "\n",
      "Todo."
     ]
    },
    {
     "cell_type": "markdown",
     "metadata": {
      "slideshow": {
       "slide_type": "slide"
      }
     },
     "source": [
      "Todo: add this when we introduce blocks\n",
      "===\n",
      "\n",
      "A notable difference between Python and other languages is that its syntax uses whitespace indentation instead of braces or keywords to delimit blocks. It is therefore important to be consistent in the way you use indentation. We recommend to always increase indentation by *4 spaces* at a time and *never use tabs*. Some editors can be configured to always behave like that."
     ]
    }
   ],
   "metadata": {}
  }
 ]
}