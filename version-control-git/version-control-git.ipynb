{
 "metadata": {
  "name": ""
 },
 "nbformat": 3,
 "nbformat_minor": 0,
 "worksheets": [
  {
   "cells": [
    {
     "cell_type": "markdown",
     "metadata": {
      "slideshow": {
       "slide_type": "slide"
      }
     },
     "source": [
      "\n",
      "<span style=\"font-size: 200%; color: darkblue;\">Version Control with Git</span>\n",
      "===\n",
      "\n",
      "<br><br>\n",
      "\n",
      "Martijn Vermaat<br>\n",
      "[m.vermaat.hg@lumc.nl](mailto:m.vermaat.hg@lumc.nl)\n",
      "\n",
      "Zuotian Tatum<br>\n",
      "[z.tatum@lumc.nl](mailto:z.tatum@lumc.nl)\n",
      "\n",
      "\n",
      "Department of Human Genetics, Leiden University Medical Center<br>\n",
      "[humgen.nl](http://humgen.nl)"
     ]
    },
    {
     "cell_type": "heading",
     "level": 1,
     "metadata": {
      "slideshow": {
       "slide_type": "slide"
      }
     },
     "source": [
      "Why Version Control"
     ]
    },
    {
     "cell_type": "heading",
     "level": 2,
     "metadata": {},
     "source": []
    },
    {
     "cell_type": "markdown",
     "metadata": {},
     "source": [
      "Git\n",
      "===\n",
      "\n",
      "Git allows groups of people to work on the same documents (often code) at the same time, and without stepping on each other's toes. It's a distributed version control system."
     ]
    },
    {
     "cell_type": "markdown",
     "metadata": {},
     "source": [
      "Git\n",
      "===\n",
      "\n",
      "To itialize a Git repository\n",
      "---"
     ]
    },
    {
     "cell_type": "code",
     "collapsed": false,
     "input": [
      "%%sh\n",
      "cd /tmp\n",
      "mkdir myproject\n",
      "cd myproject\n",
      "\n",
      "git init"
     ],
     "language": "python",
     "metadata": {},
     "outputs": [
      {
       "output_type": "stream",
       "stream": "stdout",
       "text": [
        "Initialized empty Git repository in /tmp/myproject/.git/\n"
       ]
      }
     ],
     "prompt_number": 10
    },
    {
     "cell_type": "markdown",
     "metadata": {},
     "source": [
      "Git\n",
      "===\n",
      "\n",
      "Check repository status\n",
      "---"
     ]
    },
    {
     "cell_type": "code",
     "collapsed": false,
     "input": [
      "%%sh\n",
      "cd /tmp/myproject\n",
      "git status"
     ],
     "language": "python",
     "metadata": {},
     "outputs": [
      {
       "output_type": "stream",
       "stream": "stdout",
       "text": [
        "# On branch master\n",
        "#\n",
        "# Initial commit\n",
        "#\n",
        "nothing to commit (create/copy files and use \"git add\" to track)\n"
       ]
      }
     ],
     "prompt_number": 12
    },
    {
     "cell_type": "markdown",
     "metadata": {},
     "source": [
      "Git\n",
      "===\n",
      "\n",
      "Add changes\n",
      "---"
     ]
    },
    {
     "cell_type": "code",
     "collapsed": false,
     "input": [
      "%%sh\n",
      "cd /tmp/myproject\n",
      "touch myfile.txt\n",
      "\n",
      "git status"
     ],
     "language": "python",
     "metadata": {},
     "outputs": [
      {
       "output_type": "stream",
       "stream": "stdout",
       "text": [
        "# On branch master\n",
        "#\n",
        "# Initial commit\n",
        "#\n",
        "# Untracked files:\n",
        "#   (use \"git add <file>...\" to include in what will be committed)\n",
        "#\n",
        "#\tmyfile.txt\n",
        "nothing added to commit but untracked files present (use \"git add\" to track)\n"
       ]
      }
     ],
     "prompt_number": 13
    },
    {
     "cell_type": "code",
     "collapsed": false,
     "input": [
      "%%sh\n",
      "cd /tmp/myproject\n",
      "\n",
      "git add myfile.txt\n",
      "git status"
     ],
     "language": "python",
     "metadata": {
      "slideshow": {
       "slide_type": "fragment"
      }
     },
     "outputs": [
      {
       "output_type": "stream",
       "stream": "stdout",
       "text": [
        "# On branch master\n",
        "#\n",
        "# Initial commit\n",
        "#\n",
        "# Changes to be committed:\n",
        "#   (use \"git rm --cached <file>...\" to unstage)\n",
        "#\n",
        "#\tnew file:   myfile.txt\n",
        "#\n"
       ]
      }
     ],
     "prompt_number": 18
    },
    {
     "cell_type": "markdown",
     "metadata": {},
     "source": [
      "Git\n",
      "===\n",
      "\n",
      "Commit changes\n",
      "---"
     ]
    },
    {
     "cell_type": "code",
     "collapsed": false,
     "input": [
      "%%sh\n",
      "cd /tmp/myproject\n",
      "\n",
      "git commit -m \"add my file to repository\""
     ],
     "language": "python",
     "metadata": {},
     "outputs": [
      {
       "output_type": "stream",
       "stream": "stdout",
       "text": [
        "[master (root-commit) 8e054e5] add my file to repository\n",
        " 0 files changed\n",
        " create mode 100644 myfile.txt\n"
       ]
      }
     ],
     "prompt_number": 19
    },
    {
     "cell_type": "markdown",
     "metadata": {},
     "source": [
      "Git\n",
      "===\n",
      "\n",
      "Commit multiple changes\n",
      "---"
     ]
    },
    {
     "cell_type": "code",
     "collapsed": false,
     "input": [
      "%%sh \n",
      "cd /tmp/myproject\n",
      "touch file1.txt file2.txt\n",
      "\n",
      "git status"
     ],
     "language": "python",
     "metadata": {},
     "outputs": [
      {
       "output_type": "stream",
       "stream": "stdout",
       "text": [
        "# On branch master\n",
        "# Untracked files:\n",
        "#   (use \"git add <file>...\" to include in what will be committed)\n",
        "#\n",
        "#\tfile1.txt\n",
        "#\tfile2.txt\n",
        "nothing added to commit but untracked files present (use \"git add\" to track)\n"
       ]
      }
     ],
     "prompt_number": 21
    },
    {
     "cell_type": "code",
     "collapsed": false,
     "input": [
      "%%sh\n",
      "cd /tmp/myproject\n",
      "\n",
      "git add *.txt\n",
      "git status"
     ],
     "language": "python",
     "metadata": {},
     "outputs": [
      {
       "output_type": "stream",
       "stream": "stdout",
       "text": [
        "# On branch master\n",
        "# Changes to be committed:\n",
        "#   (use \"git reset HEAD <file>...\" to unstage)\n",
        "#\n",
        "#\tnew file:   file1.txt\n",
        "#\tnew file:   file2.txt\n",
        "#\n"
       ]
      }
     ],
     "prompt_number": 22
    },
    {
     "cell_type": "code",
     "collapsed": false,
     "input": [
      "%%sh\n",
      "cd /tmp/myproject\n",
      "\n",
      "git commit -m \"add more files to repo\""
     ],
     "language": "python",
     "metadata": {},
     "outputs": [
      {
       "output_type": "stream",
       "stream": "stdout",
       "text": [
        "[master 1988ce4] add more files to repo\n",
        " 0 files changed\n",
        " create mode 100644 file1.txt\n",
        " create mode 100644 file2.txt\n"
       ]
      }
     ],
     "prompt_number": 23
    },
    {
     "cell_type": "markdown",
     "metadata": {},
     "source": [
      "Git\n",
      "===\n",
      "\n",
      "History\n",
      "---"
     ]
    },
    {
     "cell_type": "code",
     "collapsed": false,
     "input": [
      "%%sh\n",
      "cd /tmp/myproject\n",
      "\n",
      "git log"
     ],
     "language": "python",
     "metadata": {},
     "outputs": [
      {
       "output_type": "stream",
       "stream": "stdout",
       "text": [
        "\u001b[33m1988ce4\u001b[m -\u001b[31m (HEAD, master)\u001b[m add more files to repo \u001b[32m(2 minutes ago) \u001b[1;34m<ztatum@lumc>\u001b[m\n",
        "\u001b[33m8e054e5\u001b[m -\u001b[31m\u001b[m add my file to repository \u001b[32m(4 minutes ago) \u001b[1;34m<ztatum@lumc>\u001b[m"
       ]
      }
     ],
     "prompt_number": 24
    },
    {
     "cell_type": "code",
     "collapsed": false,
     "input": [
      "%%sh\n",
      "cd /tmp/myproject\n",
      "\n",
      "git log --summary"
     ],
     "language": "python",
     "metadata": {
      "slideshow": {
       "slide_type": "fragment"
      }
     },
     "outputs": [
      {
       "output_type": "stream",
       "stream": "stdout",
       "text": [
        "\u001b[33m1988ce4\u001b[m -\u001b[31m (HEAD, master)\u001b[m add more files to repo \u001b[32m(2 minutes ago) \u001b[1;34m<ztatum@lumc>\u001b[m\n",
        " create mode 100644 file1.txt\n",
        " create mode 100644 file2.txt\n",
        "\n",
        "\u001b[33m8e054e5\u001b[m -\u001b[31m\u001b[m add my file to repository \u001b[32m(5 minutes ago) \u001b[1;34m<ztatum@lumc>\u001b[m\n",
        " create mode 100644 myfile.txt\n"
       ]
      }
     ],
     "prompt_number": 27
    },
    {
     "cell_type": "markdown",
     "metadata": {},
     "source": [
      "Git\n",
      "===\n",
      "\n",
      "Remote repository\n",
      "---"
     ]
    },
    {
     "cell_type": "markdown",
     "metadata": {},
     "source": [
      "Before adding the remote repository, let's add some information about you."
     ]
    },
    {
     "cell_type": "code",
     "collapsed": false,
     "input": [
      "%%sh \n",
      "git config --global user.name \"Z. Tatum\"\n",
      "git config --global user.email \"z.tatum@lumc.nl\""
     ],
     "language": "python",
     "metadata": {},
     "outputs": []
    },
    {
     "cell_type": "markdown",
     "metadata": {
      "slideshow": {
       "slide_type": "fragment"
      }
     },
     "source": [
      "Now let's add the remote repository."
     ]
    },
    {
     "cell_type": "code",
     "collapsed": false,
     "input": [
      "%%sh\n",
      "cd /tmp/myproject\n",
      "\n",
      "git remote add origin https://gitlab.lumc.nl/ztatum/myproject"
     ],
     "language": "python",
     "metadata": {
      "slideshow": {
       "slide_type": "fragment"
      }
     },
     "outputs": []
    }
   ],
   "metadata": {}
  }
 ]
}