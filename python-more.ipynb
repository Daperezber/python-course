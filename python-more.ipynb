{
 "metadata": {
  "name": ""
 },
 "nbformat": 3,
 "nbformat_minor": 0,
 "worksheets": [
  {
   "cells": [
    {
     "cell_type": "markdown",
     "metadata": {},
     "source": [
      "# More Python Goodness\n",
      "***\n",
      "\n",
      "[Wibowo Arindrarto](mailto:w.arindrarto@lumc.nl), [Jeroen Laros](mailto:j.f.j.laros@lumc.nl), [Zuotian Tatum](mailto:z.tatum@lumc.nl), [Martijn Vermaat](mailto:m.vermaat.hg@lumc.nl)\n",
      "\n",
      "[Department of Human Genetics, Leiden University Medical Center](http://humgen.nl)\n",
      "\n",
      "[Sequencing Analysis Support Core, Leiden University Medical Center](http://sasc.lumc.nl)\n",
      "\n",
      "License: [Creative Commons Attribution 3.0 License (CC-by)](http://creativecommons.org/licenses/by/3.0)"
     ]
    },
    {
     "cell_type": "markdown",
     "metadata": {},
     "source": [
      "## Agenda\n",
      "\n",
      "1. Working with scripts (+additional Python bits)\n",
      "2. Working with modules\n",
      "2. Brief tour of the standard library\n",
      "3. Reading and writing files\n",
      "4. Exercise"
     ]
    },
    {
     "cell_type": "markdown",
     "metadata": {},
     "source": [
      "## Working with scripts\n",
      "\n",
      "Interpreters are great for *prototyping*, but not really suitable if you want to **share** or **release** code. To do so, we write our Python commands in scripts (and later, modules).\n",
      "\n",
      "A **script** is a simple text file containing Python instructions to execute."
     ]
    },
    {
     "cell_type": "markdown",
     "metadata": {},
     "source": [
      "### Executing scripts\n",
      "\n",
      "There are two common ways to execute a script:\n",
      "\n",
      "1. As an argument of the Python interpreter command.\n",
      "2. As a standalone executable (with the appropriate shebang line & file mode).\n",
      "\n",
      "IPython gives you a third option:\n",
      "\n",
      "<ol start=\"3\">\n",
      "  <li>As an argument of the `%run` magic.\n",
      "</ol>"
     ]
    },
    {
     "cell_type": "markdown",
     "metadata": {},
     "source": [
      "### Writing your script\n",
      "\n",
      "Let's start with a simple GC calculator. Open your text editor, and write the following Python statements (remember your indentations):\n",
      "\n",
      "    def calc_gc_percent(seq):\n",
      "        at_count, gc_count = 0, 0\n",
      "        for char in seq:\n",
      "            if char in ('A', 'T'):\n",
      "                at_count += 1\n",
      "            elif char in ('G', 'C'):\n",
      "                gc_count += 1\n",
      "                \n",
      "        return gc_count * 100.0 / (gc_count + at_count)       \n",
      "\n",
      "    print \"The sequence 'CAGG' has a %GC of {:.2f}\".format(\n",
      "              calc_gc_percent(\"CAGG\"))\n",
      "\n",
      "Save the file as `seq_toolbox.py` (you can use any other name if you like) and go to your shell."
     ]
    },
    {
     "cell_type": "markdown",
     "metadata": {},
     "source": [
      "### Running the script\n",
      "\n",
      "Let's try the first method: using your script as an argument:\n",
      "\n",
      "    $ python seq_toolbox.py\n",
      "\n",
      "Is the output as you expect?\n",
      "\n",
      "For the second method, we need to do two more things:\n",
      "\n",
      "1. Open the script in your editor and add the following line to the very top:\n",
      "\n",
      "        #!/usr/bin/env python\n",
      "\n",
      "2. Save the file, go back to the shell, and allow the file to be executed:\n",
      "\n",
      "        $ chmod +x seq_toolbox.py\n",
      "\n",
      "You can now execute the file directly:\n",
      "\n",
      "    $ ./seq_toolbox.py\n",
      "\n",
      "Is the output the same as the previous method?\n",
      "\n",
      "Finally, try out the third method. Open an IPython interpreter session and do:\n",
      "\n",
      "    %run seq_toolbox.py"
     ]
    },
    {
     "cell_type": "markdown",
     "metadata": {},
     "source": [
      "## The standard library\n",
      "\n",
      "Our script is nice and dandy, but we don't want to edit the source file everytime we calculate a sequence's GC.\n",
      "\n",
      "The **standard library** is a collection of Python modules (or functions, for now) that comes packaged with a default Python installation. They're not part of the language per se, more like a *batteries included* thing."
     ]
    },
    {
     "cell_type": "markdown",
     "metadata": {},
     "source": [
      "### Our first standard library module: `sys`\n",
      "\n",
      "We'll start by using the simple `sys` module to make our script more flexible.\n",
      "\n",
      "Standard library (and other modules, as we'll see later) can be used via the `import` statement, for example:"
     ]
    },
    {
     "cell_type": "code",
     "collapsed": false,
     "input": [
      "import sys"
     ],
     "language": "python",
     "metadata": {},
     "outputs": [],
     "prompt_number": 7
    },
    {
     "cell_type": "markdown",
     "metadata": {},
     "source": [
      "Like other objects so far, we can peek into the documentation of these modules using `help`, for example:"
     ]
    },
    {
     "cell_type": "code",
     "collapsed": false,
     "input": [
      "help(sys)"
     ],
     "language": "python",
     "metadata": {},
     "outputs": [
      {
       "output_type": "stream",
       "stream": "stdout",
       "text": [
        "Help on built-in module sys:\n",
        "\n",
        "NAME\n",
        "    sys\n",
        "\n",
        "FILE\n",
        "    (built-in)\n",
        "\n",
        "MODULE DOCS\n",
        "    http://docs.python.org/library/sys\n",
        "\n",
        "DESCRIPTION\n",
        "    This module provides access to some objects used or maintained by the\n",
        "    interpreter and to functions that interact strongly with the interpreter.\n",
        "    \n",
        "    Dynamic objects:\n",
        "    \n",
        "    argv -- command line arguments; argv[0] is the script pathname if known\n",
        "    path -- module search path; path[0] is the script directory, else ''\n",
        "    modules -- dictionary of loaded modules\n",
        "    \n",
        "    displayhook -- called to show results in an interactive session\n",
        "    excepthook -- called to handle any uncaught exception other than SystemExit\n",
        "      To customize printing in an interactive session or to install a custom\n",
        "      top-level exception handler, assign other functions to replace these.\n",
        "    \n",
        "    exitfunc -- if sys.exitfunc exists, this routine is called when Python exits\n",
        "      Assigning to sys.exitfunc is deprecated; use the atexit module instead.\n",
        "    \n",
        "    stdin -- standard input file object; used by raw_input() and input()\n",
        "    stdout -- standard output file object; used by the print statement\n",
        "    stderr -- standard error object; used for error messages\n",
        "      By assigning other file objects (or objects that behave like files)\n",
        "      to these, it is possible to redirect all of the interpreter's I/O.\n",
        "    \n",
        "    last_type -- type of last uncaught exception\n",
        "    last_value -- value of last uncaught exception\n",
        "    last_traceback -- traceback of last uncaught exception\n",
        "      These three are only available in an interactive session after a\n",
        "      traceback has been printed.\n",
        "    \n",
        "    exc_type -- type of exception currently being handled\n",
        "    exc_value -- value of exception currently being handled\n",
        "    exc_traceback -- traceback of exception currently being handled\n",
        "      The function exc_info() should be used instead of these three,\n",
        "      because it is thread-safe.\n",
        "    \n",
        "    Static objects:\n",
        "    \n",
        "    float_info -- a dict with information about the float inplementation.\n",
        "    long_info -- a struct sequence with information about the long implementation.\n",
        "    maxint -- the largest supported integer (the smallest is -maxint-1)\n",
        "    maxsize -- the largest supported length of containers.\n",
        "    maxunicode -- the largest supported character\n",
        "    builtin_module_names -- tuple of module names built into this interpreter\n",
        "    version -- the version of this interpreter as a string\n",
        "    version_info -- version information as a named tuple\n",
        "    hexversion -- version information encoded as a single integer\n",
        "    copyright -- copyright notice pertaining to this interpreter\n",
        "    platform -- platform identifier\n",
        "    executable -- absolute path of the executable binary of the Python interpreter\n",
        "    prefix -- prefix used to find the Python library\n",
        "    exec_prefix -- prefix used to find the machine-specific Python library\n",
        "    float_repr_style -- string indicating the style of repr() output for floats\n",
        "    __stdin__ -- the original stdin; don't touch!\n",
        "    __stdout__ -- the original stdout; don't touch!\n",
        "    __stderr__ -- the original stderr; don't touch!\n",
        "    __displayhook__ -- the original displayhook; don't touch!\n",
        "    __excepthook__ -- the original excepthook; don't touch!\n",
        "    \n",
        "    Functions:\n",
        "    \n",
        "    displayhook() -- print an object to the screen, and save it in __builtin__._\n",
        "    excepthook() -- print an exception and its traceback to sys.stderr\n",
        "    exc_info() -- return thread-safe information about the current exception\n",
        "    exc_clear() -- clear the exception state for the current thread\n",
        "    exit() -- exit the interpreter by raising SystemExit\n",
        "    getdlopenflags() -- returns flags to be used for dlopen() calls\n",
        "    getprofile() -- get the global profiling function\n",
        "    getrefcount() -- return the reference count for an object (plus one :-)\n",
        "    getrecursionlimit() -- return the max recursion depth for the interpreter\n",
        "    getsizeof() -- return the size of an object in bytes\n",
        "    gettrace() -- get the global debug tracing function\n",
        "    setcheckinterval() -- control how often the interpreter checks for events\n",
        "    setdlopenflags() -- set the flags to be used for dlopen() calls\n",
        "    setprofile() -- set the global profiling function\n",
        "    setrecursionlimit() -- set the max recursion depth for the interpreter\n",
        "    settrace() -- set the global debug tracing function\n",
        "\n",
        "FUNCTIONS\n",
        "    __displayhook__ = displayhook(...)\n",
        "        displayhook(object) -> None\n",
        "        \n",
        "        Print an object to sys.stdout and also save it in __builtin__._\n",
        "    \n",
        "    __excepthook__ = excepthook(...)\n",
        "        excepthook(exctype, value, traceback) -> None\n",
        "        \n",
        "        Handle an exception by displaying it with a traceback on sys.stderr.\n",
        "    \n",
        "    call_tracing(...)\n",
        "        call_tracing(func, args) -> object\n",
        "        \n",
        "        Call func(*args), while tracing is enabled.  The tracing state is\n",
        "        saved, and restored afterwards.  This is intended to be called from\n",
        "        a debugger from a checkpoint, to recursively debug some other code.\n",
        "    \n",
        "    callstats(...)\n",
        "        callstats() -> tuple of integers\n",
        "        \n",
        "        Return a tuple of function call statistics, if CALL_PROFILE was defined\n",
        "        when Python was built.  Otherwise, return None.\n",
        "        \n",
        "        When enabled, this function returns detailed, implementation-specific\n",
        "        details about the number of function calls executed. The return value is\n",
        "        a 11-tuple where the entries in the tuple are counts of:\n",
        "        0. all function calls\n",
        "        1. calls to PyFunction_Type objects\n",
        "        2. PyFunction calls that do not create an argument tuple\n",
        "        3. PyFunction calls that do not create an argument tuple\n",
        "           and bypass PyEval_EvalCodeEx()\n",
        "        4. PyMethod calls\n",
        "        5. PyMethod calls on bound methods\n",
        "        6. PyType calls\n",
        "        7. PyCFunction calls\n",
        "        8. generator calls\n",
        "        9. All other calls\n",
        "        10. Number of stack pops performed by call_function()\n",
        "    \n",
        "    exc_clear(...)\n",
        "        exc_clear() -> None\n",
        "        \n",
        "        Clear global information on the current exception.  Subsequent calls to\n",
        "        exc_info() will return (None,None,None) until another exception is raised\n",
        "        in the current thread or the execution stack returns to a frame where\n",
        "        another exception is being handled.\n",
        "    \n",
        "    exc_info(...)\n",
        "        exc_info() -> (type, value, traceback)\n",
        "        \n",
        "        Return information about the most recent exception caught by an except\n",
        "        clause in the current stack frame or in an older stack frame.\n",
        "    \n",
        "    exit(...)\n",
        "        exit([status])\n",
        "        \n",
        "        Exit the interpreter by raising SystemExit(status).\n",
        "        If the status is omitted or None, it defaults to zero (i.e., success).\n",
        "        If the status is numeric, it will be used as the system exit status.\n",
        "        If it is another kind of object, it will be printed and the system\n",
        "        exit status will be one (i.e., failure).\n",
        "    \n",
        "    getcheckinterval(...)\n",
        "        getcheckinterval() -> current check interval; see setcheckinterval().\n",
        "    \n",
        "    getdefaultencoding(...)\n",
        "        getdefaultencoding() -> string\n",
        "        \n",
        "        Return the current default string encoding used by the Unicode \n",
        "        implementation.\n",
        "    \n",
        "    getdlopenflags(...)\n",
        "        getdlopenflags() -> int\n",
        "        \n",
        "        Return the current value of the flags that are used for dlopen calls.\n",
        "        The flag constants are defined in the ctypes and DLFCN modules.\n",
        "    \n",
        "    getfilesystemencoding(...)\n",
        "        getfilesystemencoding() -> string\n",
        "        \n",
        "        Return the encoding used to convert Unicode filenames in\n",
        "        operating system filenames.\n",
        "    \n",
        "    getprofile(...)\n",
        "        getprofile()\n",
        "        \n",
        "        Return the profiling function set with sys.setprofile.\n",
        "        See the profiler chapter in the library manual.\n",
        "    \n",
        "    getrecursionlimit(...)\n",
        "        getrecursionlimit()\n",
        "        \n",
        "        Return the current value of the recursion limit, the maximum depth\n",
        "        of the Python interpreter stack.  This limit prevents infinite\n",
        "        recursion from causing an overflow of the C stack and crashing Python.\n",
        "    \n",
        "    getrefcount(...)\n",
        "        getrefcount(object) -> integer\n",
        "        \n",
        "        Return the reference count of object.  The count returned is generally\n",
        "        one higher than you might expect, because it includes the (temporary)\n",
        "        reference as an argument to getrefcount().\n",
        "    \n",
        "    getsizeof(...)\n",
        "        getsizeof(object, default) -> int\n",
        "        \n",
        "        Return the size of object in bytes.\n",
        "    \n",
        "    gettrace(...)\n",
        "        gettrace()\n",
        "        \n",
        "        Return the global debug tracing function set with sys.settrace.\n",
        "        See the debugger chapter in the library manual.\n",
        "    \n",
        "    setcheckinterval(...)\n",
        "        setcheckinterval(n)\n",
        "        \n",
        "        Tell the Python interpreter to check for asynchronous events every\n",
        "        n instructions.  This also affects how often thread switches occur.\n",
        "    \n",
        "    setdlopenflags(...)\n",
        "        setdlopenflags(n) -> None\n",
        "        \n",
        "        Set the flags used by the interpreter for dlopen calls, such as when the\n",
        "        interpreter loads extension modules.  Among other things, this will enable\n",
        "        a lazy resolving of symbols when importing a module, if called as\n",
        "        sys.setdlopenflags(0).  To share symbols across extension modules, call as\n",
        "        sys.setdlopenflags(ctypes.RTLD_GLOBAL).  Symbolic names for the flag modules\n",
        "        can be either found in the ctypes module, or in the DLFCN module. If DLFCN\n",
        "        is not available, it can be generated from /usr/include/dlfcn.h using the\n",
        "        h2py script.\n",
        "    \n",
        "    setprofile(...)\n",
        "        setprofile(function)\n",
        "        \n",
        "        Set the profiling function.  It will be called on each function call\n",
        "        and return.  See the profiler chapter in the library manual.\n",
        "    \n",
        "    setrecursionlimit(...)\n",
        "        setrecursionlimit(n)\n",
        "        \n",
        "        Set the maximum depth of the Python interpreter stack to n.  This\n",
        "        limit prevents infinite recursion from causing an overflow of the C\n",
        "        stack and crashing Python.  The highest possible limit is platform-\n",
        "        dependent.\n",
        "    \n",
        "    settrace(...)\n",
        "        settrace(function)\n",
        "        \n",
        "        Set the global debug tracing function.  It will be called on each\n",
        "        function call.  See the debugger chapter in the library manual.\n",
        "\n",
        "DATA\n",
        "    __stderr__ = <open file '<stderr>', mode 'w'>\n",
        "    __stdin__ = <open file '<stdin>', mode 'r'>\n",
        "    __stdout__ = <open file '<stdout>', mode 'w'>\n",
        "    api_version = 1013\n",
        "    argv = ['-c', '-f', '/home/martijn/.config/ipython/profile_default/se....\n",
        "    builtin_module_names = ('__builtin__', '__main__', '_ast', '_bisect', ...\n",
        "    byteorder = 'little'\n",
        "    copyright = 'Copyright (c) 2001-2012 Python Software Foundati...ematis...\n",
        "    displayhook = <IPython.kernel.zmq.displayhook.ZMQShellDisplayHook obje...\n",
        "    dont_write_bytecode = False\n",
        "    exc_value = TypeError(\"<module 'sys' (built-in)> is a built-in module\"...\n",
        "    exec_prefix = '/home/martijn/.virtualenvs/programming-course'\n",
        "    executable = '/home/martijn/.virtualenvs/programming-course/bin/python...\n",
        "    flags = sys.flags(debug=0, py3k_warning=0, division_warn...unicode=0, ...\n",
        "    float_info = sys.float_info(max=1.7976931348623157e+308, max_...epsilo...\n",
        "    float_repr_style = 'short'\n",
        "    hexversion = 34014192\n",
        "    last_value = NameError(\"global name 'styles' is not defined\",)\n",
        "    long_info = sys.long_info(bits_per_digit=30, sizeof_digit=4)\n",
        "    maxint = 9223372036854775807\n",
        "    maxsize = 9223372036854775807\n",
        "    maxunicode = 1114111\n",
        "    meta_path = []\n",
        "    modules = {'ConfigParser': <module 'ConfigParser' from '/usr/lib/pytho...\n",
        "    path = ['', '/home/martijn/.virtualenvs/programming-course/lo...thon2....\n",
        "    path_hooks = [<type 'zipimport.zipimporter'>]\n",
        "    path_importer_cache = {'': None, '/home/martijn/.config/ipython/extens...\n",
        "    platform = 'linux2'\n",
        "    prefix = '/home/martijn/.virtualenvs/programming-course'\n",
        "    ps1 = 'In : '\n",
        "    ps2 = '...: '\n",
        "    ps3 = 'Out: '\n",
        "    py3kwarning = False\n",
        "    pydebug = False\n",
        "    real_prefix = '/usr'\n",
        "    stderr = <IPython.kernel.zmq.iostream.OutStream object>\n",
        "    stdin = <open file '<stdin>', mode 'r'>\n",
        "    stdout = <IPython.kernel.zmq.iostream.OutStream object>\n",
        "    subversion = ('CPython', '', '')\n",
        "    version = '2.7.3 (default, Jan  2 2013, 13:56:14) \\n[GCC 4.7.2]'\n",
        "    version_info = sys.version_info(major=2, minor=7, micro=3, releaseleve...\n",
        "    warnoptions = []\n",
        "\n",
        "\n"
       ]
      }
     ],
     "prompt_number": 8
    },
    {
     "cell_type": "markdown",
     "metadata": {},
     "source": [
      "### The `sys.argv` list\n",
      "\n",
      "The `sys` module provides a way to capture command line arguments with its `argv` object. This is a list of arguments supplied when invoking the current Python session. Not really useful for an interpreter session, but very handy for scripts."
     ]
    },
    {
     "cell_type": "code",
     "collapsed": false,
     "input": [
      "sys.argv"
     ],
     "language": "python",
     "metadata": {},
     "outputs": [
      {
       "metadata": {},
       "output_type": "pyout",
       "prompt_number": 9,
       "text": [
        "['-c',\n",
        " '-f',\n",
        " '/home/martijn/.config/ipython/profile_default/security/kernel-b281163d-aa97-4ffa-aa16-c5232a9d8a89.json',\n",
        " \"--IPKernelApp.parent_appname='ipython-notebook'\",\n",
        " '--parent=1']"
       ]
      }
     ],
     "prompt_number": 9
    },
    {
     "cell_type": "code",
     "collapsed": false,
     "input": [
      "sys.argv[:3]"
     ],
     "language": "python",
     "metadata": {},
     "outputs": [
      {
       "metadata": {},
       "output_type": "pyout",
       "prompt_number": 10,
       "text": [
        "['-c',\n",
        " '-f',\n",
        " '/home/martijn/.config/ipython/profile_default/security/kernel-b281163d-aa97-4ffa-aa16-c5232a9d8a89.json']"
       ]
      }
     ],
     "prompt_number": 10
    },
    {
     "cell_type": "markdown",
     "metadata": {},
     "source": [
      "### Improving our script with `sys.argv`\n",
      "\n",
      "To use `sys.argv` in our script, open a text editor and edit the script by adding an import statement, capturing the `sys.argv` value, and editing our last `print` line:\n",
      "\n",
      "    #!/usr/bin/env python\n",
      "    import sys\n",
      "\n",
      "    def calc_gc_percent(seq):\n",
      "        at_count, gc_count = 0, 0\n",
      "        for char in seq:\n",
      "            if char in ('A', 'T'):\n",
      "                at_count += 1\n",
      "            elif char in ('G', 'C'):\n",
      "                gc_count += 1\n",
      "\n",
      "        return gc_count * 100.0 / (gc_count + at_count)       \n",
      "\n",
      "    input_seq = sys.argv[1]\n",
      "    print \"The sequence '{}' has a %GC of {:.2f}\".format(\n",
      "              input_seq, calc_gc_percent(input_seq))\n",
      "\n",
      "To test it, you can run the following command in your shell:\n",
      "\n",
      "    $ python seq_toolbox.py CAGG\n",
      "\n",
      "Try it with `./seq_toolbox.py` instead. What happens?"
     ]
    },
    {
     "cell_type": "markdown",
     "metadata": {},
     "source": [
      "## String methods\n",
      "\n",
      "Try running the script with `'cagg'` as the input sequence. What happens?\n",
      "\n",
      "As we saw earlier, many objects, like those of type `list`, `dict`, or `str`, have useful methods defined on them. One way to squash this potential bug is by using Python's string method `upper`. Let's first check out some commonly used string functions.\n"
     ]
    },
    {
     "cell_type": "code",
     "collapsed": false,
     "input": [
      "my_str = 'Hello again, ipython!'"
     ],
     "language": "python",
     "metadata": {},
     "outputs": [],
     "prompt_number": 12
    },
    {
     "cell_type": "code",
     "collapsed": false,
     "input": [
      "my_str.upper()"
     ],
     "language": "python",
     "metadata": {},
     "outputs": [
      {
       "metadata": {},
       "output_type": "pyout",
       "prompt_number": 13,
       "text": [
        "'HELLO AGAIN, IPYTHON!'"
       ]
      }
     ],
     "prompt_number": 13
    },
    {
     "cell_type": "code",
     "collapsed": false,
     "input": [
      "my_str.lower()"
     ],
     "language": "python",
     "metadata": {},
     "outputs": [
      {
       "metadata": {},
       "output_type": "pyout",
       "prompt_number": 14,
       "text": [
        "'hello again, ipython!'"
       ]
      }
     ],
     "prompt_number": 14
    },
    {
     "cell_type": "code",
     "collapsed": false,
     "input": [
      "my_str.title()"
     ],
     "language": "python",
     "metadata": {},
     "outputs": [
      {
       "metadata": {},
       "output_type": "pyout",
       "prompt_number": 15,
       "text": [
        "'Hello Again, Ipython!'"
       ]
      }
     ],
     "prompt_number": 15
    },
    {
     "cell_type": "code",
     "collapsed": false,
     "input": [
      "my_str.startswith('H')"
     ],
     "language": "python",
     "metadata": {},
     "outputs": [
      {
       "metadata": {},
       "output_type": "pyout",
       "prompt_number": 16,
       "text": [
        "True"
       ]
      }
     ],
     "prompt_number": 16
    },
    {
     "cell_type": "code",
     "collapsed": false,
     "input": [
      "my_str.startswith('h')"
     ],
     "language": "python",
     "metadata": {},
     "outputs": [
      {
       "metadata": {},
       "output_type": "pyout",
       "prompt_number": 17,
       "text": [
        "False"
       ]
      }
     ],
     "prompt_number": 17
    },
    {
     "cell_type": "code",
     "collapsed": false,
     "input": [
      "my_str.split(',')"
     ],
     "language": "python",
     "metadata": {},
     "outputs": [
      {
       "metadata": {},
       "output_type": "pyout",
       "prompt_number": 18,
       "text": [
        "['Hello again', ' ipython!']"
       ]
      }
     ],
     "prompt_number": 18
    },
    {
     "cell_type": "code",
     "collapsed": false,
     "input": [
      "my_str.replace('ipython', 'lumc')"
     ],
     "language": "python",
     "metadata": {},
     "outputs": [
      {
       "metadata": {},
       "output_type": "pyout",
       "prompt_number": 19,
       "text": [
        "'Hello again, lumc!'"
       ]
      }
     ],
     "prompt_number": 19
    },
    {
     "cell_type": "code",
     "collapsed": false,
     "input": [
      "my_str.count('n')"
     ],
     "language": "python",
     "metadata": {},
     "outputs": [
      {
       "metadata": {},
       "output_type": "pyout",
       "prompt_number": 20,
       "text": [
        "2"
       ]
      }
     ],
     "prompt_number": 20
    },
    {
     "cell_type": "markdown",
     "metadata": {},
     "source": [
      "### Improving our script with `upper()`\n",
      "\n",
      "Let's use `upper()` to fortify our function. It should now look something like this:\n",
      "\n",
      "    def calc_gc_percent(seq):\n",
      "        at_count, gc_count = 0, 0\n",
      "        for char in seq.upper():\n",
      "            if char in ('A', 'T'):\n",
      "                at_count += 1\n",
      "            elif char in ('G', 'C'):\n",
      "                gc_count += 1\n",
      "\n",
      "        return gc_count * 100.0 / (gc_count + at_count)       \n",
      "\n",
      "And run it (in whichever way you prefer). Do you get the expected output?"
     ]
    },
    {
     "cell_type": "markdown",
     "metadata": {},
     "source": [
      "## Comments and docstrings\n",
      "\n",
      "There's a golden rule in programming: write code for humans (this includes you in 6 months).  Python provides two ways to accomplish this: comments and docstrings.\n",
      "\n",
      "### Comments\n",
      "\n",
      "Any lines prepended with `#` are **comments**, making them ignored by the interpreter. Comments can be freeform text; anything that helps in understanding the code\n",
      "\n",
      "### Docstrings\n",
      "\n",
      "**Docstrings** are Python's way of attaching proper documentation to objects. Officially, the first string literal that occurs in a module, function, class, or method definition is used as that object's docstring.\n",
      "\n",
      "In practice, *triple-quoted strings* are used, to handle newlines easier."
     ]
    },
    {
     "cell_type": "markdown",
     "metadata": {},
     "source": [
      "### Improving our script with comments and docstrings\n",
      "\n",
      "Open your script again in a text editor, and add the following comments and docstrings: \n",
      "\n",
      "    #!/usr/bin/env python\n",
      "    import sys\n",
      "\n",
      "    def calc_gc_percent(seq):\n",
      "        \"\"\"Calculates the GC percentage of the given sequence.\n",
      "\n",
      "        Arguments:\n",
      "            - seq - the input sequence (string).\n",
      "\n",
      "        Returns:\n",
      "            - GC percentage (float).\n",
      "\n",
      "        The returned value is always <= 100.0\n",
      "        \"\"\"\n",
      "        at_count, gc_count = 0, 0\n",
      "        # Change input to all caps to allow for non-capital input\n",
      "        # sequence.\n",
      "        for char in seq.upper():\n",
      "            if char in ('A', 'T'):\n",
      "                at_count += 1\n",
      "            elif char in ('G', 'C'):\n",
      "                gc_count += 1\n",
      "\n",
      "        return gc_count * 100.0 / (gc_count + at_count)       \n",
      "\n",
      "    input_seq = sys.argv[1]\n",
      "    print \"The sequence '{}' has a %GC of {:.2f}\".format(\n",
      "              input_seq, calc_gc_percent(input_seq))"
     ]
    },
    {
     "cell_type": "markdown",
     "metadata": {},
     "source": [
      "## Detour: PEP8 and other PEPs\n",
      "\n",
      "Since comments and docstrings are basically free-form text, whether it's useful or not depends heavily on the developer. To mitigate this, the Python community has come up with practical conventions. They are documented in a document called **PEP8**.\n",
      "\n",
      "Complementary to PEP8, there is **PEP257** which is for docstrings specifically. It's not a must to follow these conventions, but *very* encouraged to do so.\n",
      "\n",
      "Python Enhancement Proposals, or **PEP**s, are how Python grows. There are hundreds of them now, all have to be approved by our BDFL.\n",
      "\n",
      "* [PEP8: Style Guide for Python Code](http://www.python.org/dev/peps/pep-0008/)\n",
      "* [PEP257: Docstring Conventions](http://www.python.org/dev/peps/pep-0257/)"
     ]
    },
    {
     "cell_type": "markdown",
     "metadata": {},
     "source": [
      "## Errors and exceptions\n",
      "\n",
      "Try running the script with `ACTG123` as the argument. What happens? Is this acceptable behavior?\n",
      "\n",
      "Sometimes we want to put safeguards to handle invalid inputs. In this case we only accept `ACTG`, all other characters are invalid.\n",
      "\n",
      "Python provides a way to break out of the normal execution flow, by raising what's called as an **exception**. We can raise exceptions ourselves as well, by using the `raise` statement."
     ]
    },
    {
     "cell_type": "markdown",
     "metadata": {},
     "source": [
      "### The `ValueError` built-in exception\n",
      "\n",
      "One of the most often used exceptions is the builtin exception `ValueError`. It is used on occasions where inappropriate argument values are used, for example when trying to convert the string `A` to an integer:"
     ]
    },
    {
     "cell_type": "code",
     "collapsed": false,
     "input": [
      "int('A')"
     ],
     "language": "python",
     "metadata": {},
     "outputs": [
      {
       "ename": "ValueError",
       "evalue": "invalid literal for int() with base 10: 'A'",
       "output_type": "pyerr",
       "traceback": [
        "\u001b[1;31m---------------------------------------------------------------------------\u001b[0m\n\u001b[1;31mValueError\u001b[0m                                Traceback (most recent call last)",
        "\u001b[1;32m<ipython-input-21-0da6d315d7ad>\u001b[0m in \u001b[0;36m<module>\u001b[1;34m()\u001b[0m\n\u001b[1;32m----> 1\u001b[1;33m \u001b[0mint\u001b[0m\u001b[1;33m(\u001b[0m\u001b[1;34m'A'\u001b[0m\u001b[1;33m)\u001b[0m\u001b[1;33m\u001b[0m\u001b[0m\n\u001b[0m",
        "\u001b[1;31mValueError\u001b[0m: invalid literal for int() with base 10: 'A'"
       ]
      }
     ],
     "prompt_number": 21
    },
    {
     "cell_type": "markdown",
     "metadata": {},
     "source": [
      "`ValueError` is the appropriate exception to raise when your function is called with argument values it cannot handle."
     ]
    },
    {
     "cell_type": "markdown",
     "metadata": {},
     "source": [
      "### Improving our script by handling invalid inputs\n",
      "\n",
      "Open your script, and edit the `if` clause to add our exception:\n",
      "\n",
      "    def calc_gc_percent(seq):\n",
      "        \"\"\"Calculates the GC percentage of the given sequence.\n",
      "\n",
      "        Arguments:\n",
      "            - seq - the input sequence (string).\n",
      "\n",
      "        Returns:\n",
      "            - GC percentage (float).\n",
      "\n",
      "        The returned value is always <= 100.0\n",
      "        \"\"\"\n",
      "        at_count, gc_count = 0, 0\n",
      "        # Change input to all caps to allow for non-capital input\n",
      "        # sequence.\n",
      "        for char in seq.upper():\n",
      "            if char in ('A', 'T'):\n",
      "                at_count += 1\n",
      "            elif char in ('G', 'C'):\n",
      "                gc_count += 1\n",
      "            else:\n",
      "                raise ValueError(\n",
      "                    \"Unexpeced character found: {}. Only ACTGs \"\n",
      "                    \"are allowed.\".format(char))\n",
      "             \n",
      "        return gc_count * 100.0 / (gc_count + at_count)\n",
      "\n",
      "Try running the script again with `ACTG123` as the argument. What happens now?"
     ]
    },
    {
     "cell_type": "markdown",
     "metadata": {},
     "source": [
      "### Handling corner cases\n",
      "\n",
      "Try running the script with `''` (two quote signs) as the argument. What happens? Why? Is this a valid input?\n",
      "\n",
      "We don't always want to let exceptions stop program flow, sometimes we want to provide alternative flow. The `try ... except` block allows you to do this.\n",
      "\n",
      "The syntax is:\n",
      "\n",
      "    try:\n",
      "        # Statements that may raise exceptions.\n",
      "        # [...]\n",
      "    except {exception type}:\n",
      "        # What to do when the exceptionis raised.\n",
      "        # [...]"
     ]
    },
    {
     "cell_type": "markdown",
     "metadata": {},
     "source": [
      "### Improving our script by handling corner cases\n",
      "\n",
      "Let's change our script by adding a `try ... except` block:\n",
      "\n",
      "    def calc_gc_percent(seq):\n",
      "        \"\"\"Calculates the GC percentage of the given sequence.\n",
      "\n",
      "        Arguments:\n",
      "            - seq - the input sequence (string).\n",
      "\n",
      "        Returns:\n",
      "            - GC percentage (float).\n",
      "\n",
      "        The returned value is always <= 100.0\n",
      "        \"\"\"\n",
      "        at_count, gc_count = 0, 0\n",
      "        # Change input to all caps to allow for non-capital input\n",
      "        # sequence.\n",
      "        for char in seq.upper():\n",
      "            if char in ('A', 'T'):\n",
      "                at_count += 1\n",
      "            elif char in ('G', 'C'):\n",
      "                gc_count += 1\n",
      "            else:\n",
      "                raise ValueError(\n",
      "                    \"Unexpeced character found: {}. Only ACTGs \"\n",
      "                    \"are allowed.\".format(char))\n",
      "\n",
      "         # Corner case handling: empty input sequence.\n",
      "         try:\n",
      "             return gc_count * 100.0 / (gc_count + at_count)\n",
      "         except ZeroDivisionError:\n",
      "             return 0.0"
     ]
    },
    {
     "cell_type": "markdown",
     "metadata": {},
     "source": [
      "### Detour: Exception handling best practices\n",
      "\n",
      "#### Aim for a minimal `try` block\n",
      "\n",
      "We want to be able to pinpoint the statements that may raise the exceptions so we can tailor our handling.\n",
      "\n",
      "Example of code that violates this principle:\n",
      "\n",
      "    try:\n",
      "        my_function()\n",
      "        my_other_function()\n",
      "    except ValueError:\n",
      "        my_fallback_function()\n",
      "\n",
      "A better way would be:\n",
      "\n",
      "    try:\n",
      "        my_function()\n",
      "    except ValueError:\n",
      "        my_fallback_function()\n",
      "    my_other_function()"
     ]
    },
    {
     "cell_type": "markdown",
     "metadata": {},
     "source": [
      "#### Be specific when handling exceptions\n",
      "\n",
      "The following code is syntactically valid, but *never* use it in your real scripts / programs:\n",
      "\n",
      "    try:\n",
      "        my_function()\n",
      "    except:\n",
      "        my_fallback_function()\n",
      "\n",
      "*Always* use the full exception name when handling exceptions, to make for a much cleaner code:\n",
      "\n",
      "    try:\n",
      "        my_function()\n",
      "    except ValueError:\n",
      "        my_fallback_function()\n",
      "    except TypeError:\n",
      "        my_other_fallback_function()\n",
      "    except IndexError:\n",
      "        my_final_function()"
     ]
    },
    {
     "cell_type": "markdown",
     "metadata": {},
     "source": [
      "#### Look Before You Leap (LBYL) vs Easier to Ask for Apology (EAFP)\n",
      " \n",
      "We could have written our last exception block like so:\n",
      "\n",
      "    if gc_count + at_count == 0:\n",
      "        return 0.0\n",
      "    return gc_count * 100.0 / (gc_count + at_count)\n",
      "\n",
      "Both approaches are correct and have their own plus and minuses in general. However in this case, I would argue that EAFP is better since it makes the code more readable."
     ]
    },
    {
     "cell_type": "markdown",
     "metadata": {},
     "source": [
      "### Improving our script by handling more corner cases\n",
      "\n",
      "Now try running your script without any arguments at all. What happens?\n",
      "\n",
      "Armed with what you now know, how would you handle this situation?"
     ]
    },
    {
     "cell_type": "markdown",
     "metadata": {},
     "source": [
      "# Working with modules\n",
      "\n",
      "* Sometimes it is useful to group functions and other objects in different files.\n",
      "* Sometimes you need to use that fancy function you've written 2 years ago.\n",
      "* This is where modules in Python come in handy.\n",
      "* More officially, module allows you to share code in the form of libraries.\n",
      "* You've seen one example: the `sys` module in the standard library.\n",
      "* There are many other modules in the standard library, as we'll see soon.\n",
      "\n",
      "## What modules look like\n",
      "\n",
      "* Any Python script can essentially be imported as a module.\n",
      "* We can import whenever we can write a valid Python statement, in a script or in an interpreter session.\n",
      "* If a script is called `script.py`, then we use `import script` (not really functional yet for our module)\n",
      "* We can also have the following directory structure:\n",
      "\n",
      "        my_module/\n",
      "        \u2514\u2500\u2500 __init__.py\n",
      "\n",
      "  And do an `import my_module`"
     ]
    },
    {
     "cell_type": "markdown",
     "metadata": {},
     "source": [
      "# Your first module: `seq_toolbox.py`\n",
      "\n",
      "* Open an interpreter and try importing your module:\n",
      "\n",
      "        >>> import seq_toolbox\n",
      "* Does this work? Why?\n",
      "* During a module import, Python executes all the statements inside the module.\n",
      "* To make our script work as a module, we need to add a check whether the module is imported or not:\n",
      "\n",
      "        #!/usr/bin/env python\n",
      "        \n",
      "        import sys\n",
      "\n",
      "        def calc_gc_percent(seq):\n",
      "            \"\"\"Calculates the GC percentage of the given sequence.\n",
      "           \n",
      "            Arguments:\n",
      "                - seq - the input sequence (string).\n",
      "            \n",
      "            Returns:\n",
      "                - GC percentage (float).\n",
      "            \n",
      "            The returned value is always <= 100.0\n",
      "            \n",
      "            \"\"\"\n",
      "            at_count, gc_count = 0, 0\n",
      "            # change input to all caps to allow for non-capital input sequence\n",
      "            for char in seq.upper():\n",
      "                if char in ('A', 'T'):\n",
      "                    at_count += 1\n",
      "                elif char in ('G', 'C'):\n",
      "                    gc_count += 1\n",
      "                else:\n",
      "                    raise ValueError(\"Unexpeced character found: {}. Only ACTGs are allowed.\".format(char))\n",
      "             # corner case handling: empty input sequence\n",
      "             try:\n",
      "                 return gc_count * 100.0 / (gc_count + at_count)\n",
      "             except ZeroDivisionError:\n",
      "                 return 0.0\n",
      "\n",
      "        if __name__ == '__main__':\n",
      "            input_seq = sys.argv[1]\n",
      "            print \"The sequence '{}' has a %GC of {:.2f}\".format(input_seq, calc_gc_percent(input_seq))\n",
      "\n",
      "* Now try importing the module again. What happens?\n",
      "* Can you still use the module as a script?"
     ]
    },
    {
     "cell_type": "markdown",
     "metadata": {},
     "source": [
      "# Working with modules\n",
      "\n",
      "* When a module is imported, we can access the objects defined in it\n",
      "\n",
      "        $ python\n",
      "        >>> import seq_toolbox\n",
      "        >>> seq_toolbox.calc_gc_percent\n",
      "        <function calc_gc_percent at 0x7f429855dc80>\n",
      "        >>> seq_toolbox.calc_gc_percent('ACTG')\n",
      "        50.0\n",
      "\n",
      "* We can also expose an object inside the module directly into our current namespace using the `from .. import ..` statement:\n",
      "\n",
      "        $ python\n",
      "        >>> from seq_toolbox import calc_gc_percent\n",
      "        >>> calc_gc_percent('AAAG')\n",
      "        25.0\n",
      "        \n",
      "* Sometimes, we want to alias the imported object to reduce the chance of it overwriting any already-defined objects with the same name. This is accomplished using the `from .. import .. as ..` statement:\n",
      "\n",
      "        $ python\n",
      "        >>> from seq_toolbox import calc_gc_percent as gc_calc\n",
      "        >>> gc_calc('AAAG')\n",
      "        25.0"
     ]
    },
    {
     "cell_type": "markdown",
     "metadata": {},
     "source": [
      "# (Simple guide on) How modules are discovered\n",
      "\n",
      "* In our case, Python imports by checking whether the module exists in the current directory\n",
      "* This is not the only place Python looks, however.\n",
      "* A complete list of paths where Python looks for modules is available via the `sys` module (`sys.path`).\n",
      "* `sys.path` is composed of (in order):\n",
      "    * the current directory\n",
      "    * the PYTHONPATH environment variable\n",
      "    * installation-dependent defaults"
     ]
    },
    {
     "cell_type": "markdown",
     "metadata": {},
     "source": [
      "# The standard library: `os` module\n",
      "\n",
      "* Portable way of using various operating system-specific functionality.\n",
      "* Large module, but the one of the most frequently used bit is the file-related functions.\n",
      "* Reference: http://docs.python.org/2/library/os.html"
     ]
    },
    {
     "cell_type": "code",
     "collapsed": false,
     "input": [
      "import os"
     ],
     "language": "python",
     "metadata": {},
     "outputs": [],
     "prompt_number": 13
    },
    {
     "cell_type": "code",
     "collapsed": false,
     "input": [
      "os.getcwd()    # get current directory"
     ],
     "language": "python",
     "metadata": {},
     "outputs": [
      {
       "metadata": {},
       "output_type": "pyout",
       "prompt_number": 14,
       "text": [
        "'/home/bow/devel/repos/work/programming-course'"
       ]
      }
     ],
     "prompt_number": 14
    },
    {
     "cell_type": "code",
     "collapsed": false,
     "input": [
      "os.environ['PATH']    # get the value of the environment variable PATH"
     ],
     "language": "python",
     "metadata": {},
     "outputs": [
      {
       "metadata": {},
       "output_type": "pyout",
       "prompt_number": 15,
       "text": [
        "'/home/bow/devel/sandbox/.virtualenvs/ipython/bin:/home/bow/devel/tutor/coursera/compilers/dist/cs143/bin:/usr/local/sbin:/usr/local/bin:/usr/bin:/opt/java/bin:/opt/java/db/bin:/opt/java/jre/bin:/usr/bin/site_perl:/usr/bin/vendor_perl:/usr/bin/core_perl:/home/bow/devel/modules/go/bin:/home/bow/devel/repos/work/mnm/bin'"
       ]
      }
     ],
     "prompt_number": 15
    },
    {
     "cell_type": "code",
     "collapsed": false,
     "input": [
      "my_filename = 'input.fastq'"
     ],
     "language": "python",
     "metadata": {},
     "outputs": [],
     "prompt_number": 16
    },
    {
     "cell_type": "code",
     "collapsed": false,
     "input": [
      "os.path.splitext(my_filename)    # split the extension and filename"
     ],
     "language": "python",
     "metadata": {},
     "outputs": [
      {
       "metadata": {},
       "output_type": "pyout",
       "prompt_number": 17,
       "text": [
        "('input', '.fastq')"
       ]
      }
     ],
     "prompt_number": 17
    },
    {
     "cell_type": "code",
     "collapsed": false,
     "input": [
      "os.path.join(os.getcwd(), my_filename)    # join the current directory and `my_filename` to create a file path"
     ],
     "language": "python",
     "metadata": {},
     "outputs": [
      {
       "metadata": {},
       "output_type": "pyout",
       "prompt_number": 18,
       "text": [
        "'/home/bow/devel/repos/work/programming-course/input.fastq'"
       ]
      }
     ],
     "prompt_number": 18
    },
    {
     "cell_type": "code",
     "collapsed": false,
     "input": [
      "os.path.exists(my_filename)    # checks whether `my_filename` exists or not"
     ],
     "language": "python",
     "metadata": {},
     "outputs": [
      {
       "metadata": {},
       "output_type": "pyout",
       "prompt_number": 19,
       "text": [
        "False"
       ]
      }
     ],
     "prompt_number": 19
    },
    {
     "cell_type": "code",
     "collapsed": false,
     "input": [
      "os.path.isdir('/home')    # checks whether '/home' is a directory"
     ],
     "language": "python",
     "metadata": {},
     "outputs": [
      {
       "metadata": {},
       "output_type": "pyout",
       "prompt_number": 20,
       "text": [
        "True"
       ]
      }
     ],
     "prompt_number": 20
    },
    {
     "cell_type": "code",
     "collapsed": false,
     "input": [
      "os.path.isfile('/home')    # checks whether '/home' is a file"
     ],
     "language": "python",
     "metadata": {},
     "outputs": [
      {
       "metadata": {},
       "output_type": "pyout",
       "prompt_number": 21,
       "text": [
        "False"
       ]
      }
     ],
     "prompt_number": 21
    },
    {
     "cell_type": "markdown",
     "metadata": {},
     "source": [
      "# The standard library: `sys` module\n",
      "\n",
      "* Various runtime-related and interpreter-related functions.\n",
      "* We've seen two of the most commonly used: `sys.argv` and `sys.path`\n",
      "* Reference: http://docs.python.org/2/library/sys.html"
     ]
    },
    {
     "cell_type": "code",
     "collapsed": false,
     "input": [
      "import sys"
     ],
     "language": "python",
     "metadata": {},
     "outputs": [],
     "prompt_number": 22
    },
    {
     "cell_type": "code",
     "collapsed": false,
     "input": [
      "sys.path    # list of places where Python looks for modules when importing"
     ],
     "language": "python",
     "metadata": {},
     "outputs": [
      {
       "metadata": {},
       "output_type": "pyout",
       "prompt_number": 23,
       "text": [
        "['',\n",
        " '/home/bow/devel/repos/watch/ipython',\n",
        " '/home/bow/devel/modules/python',\n",
        " '/home/bow/devel/repos/work/mnm',\n",
        " '/home/bow/devel/sandbox/.virtualenvs/ipython/lib/python27.zip',\n",
        " '/home/bow/devel/sandbox/.virtualenvs/ipython/lib/python2.7',\n",
        " '/home/bow/devel/sandbox/.virtualenvs/ipython/lib/python2.7/plat-linux2',\n",
        " '/home/bow/devel/sandbox/.virtualenvs/ipython/lib/python2.7/lib-tk',\n",
        " '/home/bow/devel/sandbox/.virtualenvs/ipython/lib/python2.7/lib-old',\n",
        " '/home/bow/devel/sandbox/.virtualenvs/ipython/lib/python2.7/lib-dynload',\n",
        " '/usr/lib64/python2.7',\n",
        " '/usr/lib/python2.7',\n",
        " '/usr/lib/python2.7/plat-linux2',\n",
        " '/usr/lib64/python2.7/lib-tk',\n",
        " '/usr/lib/python2.7/lib-tk',\n",
        " '/home/bow/devel/sandbox/.virtualenvs/ipython/lib/python2.7/site-packages',\n",
        " '/home/bow/devel/repos/watch/ipython/IPython/extensions']"
       ]
      }
     ],
     "prompt_number": 23
    },
    {
     "cell_type": "code",
     "collapsed": false,
     "input": [
      "sys.executable    # path to the current interpreter's executable"
     ],
     "language": "python",
     "metadata": {},
     "outputs": [
      {
       "metadata": {},
       "output_type": "pyout",
       "prompt_number": 24,
       "text": [
        "'/home/bow/devel/sandbox/.virtualenvs/ipython/bin/python'"
       ]
      }
     ],
     "prompt_number": 24
    },
    {
     "cell_type": "code",
     "collapsed": false,
     "input": [
      "sys.version_info     # information about our Python version"
     ],
     "language": "python",
     "metadata": {},
     "outputs": [
      {
       "metadata": {},
       "output_type": "pyout",
       "prompt_number": 25,
       "text": [
        "sys.version_info(major=2, minor=7, micro=5, releaselevel='final', serial=0)"
       ]
      }
     ],
     "prompt_number": 25
    },
    {
     "cell_type": "code",
     "collapsed": false,
     "input": [
      "sys.version_info.major    # which also provide a more granular access"
     ],
     "language": "python",
     "metadata": {},
     "outputs": [
      {
       "metadata": {},
       "output_type": "pyout",
       "prompt_number": 26,
       "text": [
        "2"
       ]
      }
     ],
     "prompt_number": 26
    },
    {
     "cell_type": "markdown",
     "metadata": {},
     "source": [
      "# The standard library: `math` module\n",
      "\n",
      "* Useful math-related functions\n",
      "* Other more comprehensive modules exist (`numpy` ~ your lesson tomorrow)\n",
      "* Nevertheless, `math` is still useful\n",
      "* Reference: http://docs.python.org/2/library/math.html"
     ]
    },
    {
     "cell_type": "code",
     "collapsed": false,
     "input": [
      "import math"
     ],
     "language": "python",
     "metadata": {},
     "outputs": [],
     "prompt_number": 27
    },
    {
     "cell_type": "code",
     "collapsed": false,
     "input": [
      "math.log(10)    # natural log of 10"
     ],
     "language": "python",
     "metadata": {},
     "outputs": [
      {
       "metadata": {},
       "output_type": "pyout",
       "prompt_number": 28,
       "text": [
        "2.302585092994046"
       ]
      }
     ],
     "prompt_number": 28
    },
    {
     "cell_type": "code",
     "collapsed": false,
     "input": [
      "math.log(100, 10)    # log base 10 of 100"
     ],
     "language": "python",
     "metadata": {},
     "outputs": [
      {
       "metadata": {},
       "output_type": "pyout",
       "prompt_number": 29,
       "text": [
        "2.0"
       ]
      }
     ],
     "prompt_number": 29
    },
    {
     "cell_type": "code",
     "collapsed": false,
     "input": [
      "math.pow(3, 4)    # 3 raised to the 4th power"
     ],
     "language": "python",
     "metadata": {},
     "outputs": [
      {
       "metadata": {},
       "output_type": "pyout",
       "prompt_number": 30,
       "text": [
        "81.0"
       ]
      }
     ],
     "prompt_number": 30
    },
    {
     "cell_type": "code",
     "collapsed": false,
     "input": [
      "math.sqrt(2)    # square root of 2"
     ],
     "language": "python",
     "metadata": {},
     "outputs": [
      {
       "metadata": {},
       "output_type": "pyout",
       "prompt_number": 31,
       "text": [
        "1.4142135623730951"
       ]
      }
     ],
     "prompt_number": 31
    },
    {
     "cell_type": "code",
     "collapsed": false,
     "input": [
      "math.pi    # the value of pi"
     ],
     "language": "python",
     "metadata": {},
     "outputs": [
      {
       "metadata": {},
       "output_type": "pyout",
       "prompt_number": 32,
       "text": [
        "3.141592653589793"
       ]
      }
     ],
     "prompt_number": 32
    },
    {
     "cell_type": "markdown",
     "metadata": {},
     "source": [
      "# The standard library: `random` module\n",
      "\n",
      "* Useful functions for generating pseudo-random numbers\n",
      "* Reference: http://docs.python.org/2/library/random.html"
     ]
    },
    {
     "cell_type": "code",
     "collapsed": false,
     "input": [
      "import random"
     ],
     "language": "python",
     "metadata": {},
     "outputs": [],
     "prompt_number": 33
    },
    {
     "cell_type": "code",
     "collapsed": false,
     "input": [
      "random.random()    # random float x, such that 0.0 <= x < 1.0"
     ],
     "language": "python",
     "metadata": {},
     "outputs": [
      {
       "metadata": {},
       "output_type": "pyout",
       "prompt_number": 34,
       "text": [
        "0.596574287305641"
       ]
      }
     ],
     "prompt_number": 34
    },
    {
     "cell_type": "code",
     "collapsed": false,
     "input": [
      "random.randint(2, 17)    # random integer between 2 and 17, inclusive"
     ],
     "language": "python",
     "metadata": {},
     "outputs": [
      {
       "metadata": {},
       "output_type": "pyout",
       "prompt_number": 35,
       "text": [
        "7"
       ]
      }
     ],
     "prompt_number": 35
    },
    {
     "cell_type": "code",
     "collapsed": false,
     "input": [
      "random.choice(['apple', 'banana', 'grape', 'kiwi', 'orange'])    # random choice of any items in the given list"
     ],
     "language": "python",
     "metadata": {},
     "outputs": [
      {
       "metadata": {},
       "output_type": "pyout",
       "prompt_number": 36,
       "text": [
        "'grape'"
       ]
      }
     ],
     "prompt_number": 36
    },
    {
     "cell_type": "code",
     "collapsed": false,
     "input": [
      "random.sample(['apple', 'banana', 'grape', 'kiwi', 'orange'], 3)    # random sampling of 3 items from the given list"
     ],
     "language": "python",
     "metadata": {},
     "outputs": [
      {
       "metadata": {},
       "output_type": "pyout",
       "prompt_number": 37,
       "text": [
        "['grape', 'orange', 'kiwi']"
       ]
      }
     ],
     "prompt_number": 37
    },
    {
     "cell_type": "markdown",
     "metadata": {},
     "source": [
      "# The standard library: `re` module\n",
      "\n",
      "* Regular expression-related functions\n",
      "* http://docs.python.org/2/library/re.html\n"
     ]
    },
    {
     "cell_type": "code",
     "collapsed": false,
     "input": [
      "import re"
     ],
     "language": "python",
     "metadata": {},
     "outputs": [],
     "prompt_number": 38
    },
    {
     "cell_type": "code",
     "collapsed": false,
     "input": [
      "my_seq = 'CAGTCAGT'"
     ],
     "language": "python",
     "metadata": {},
     "outputs": [],
     "prompt_number": 39
    },
    {
     "cell_type": "code",
     "collapsed": false,
     "input": [
      "results1 = re.search(r'CA.+CA', my_seq)"
     ],
     "language": "python",
     "metadata": {},
     "outputs": [],
     "prompt_number": 40
    },
    {
     "cell_type": "code",
     "collapsed": false,
     "input": [
      "results1.group(0)"
     ],
     "language": "python",
     "metadata": {},
     "outputs": [
      {
       "metadata": {},
       "output_type": "pyout",
       "prompt_number": 41,
       "text": [
        "'CAGTCA'"
       ]
      }
     ],
     "prompt_number": 41
    },
    {
     "cell_type": "code",
     "collapsed": false,
     "input": [
      "results2 = re.search(r'CCC..', my_seq)"
     ],
     "language": "python",
     "metadata": {},
     "outputs": [],
     "prompt_number": 42
    },
    {
     "cell_type": "code",
     "collapsed": false,
     "input": [
      "print results2"
     ],
     "language": "python",
     "metadata": {},
     "outputs": [
      {
       "output_type": "stream",
       "stream": "stdout",
       "text": [
        "None\n"
       ]
      }
     ],
     "prompt_number": 43
    },
    {
     "cell_type": "markdown",
     "metadata": {},
     "source": [
      "# The standard library: `argparse` module\n",
      "\n",
      "* Handy functionalities for creating command-line scripts\n",
      "* Using `sys.argv` is neat for small scripts, but as our script gets larger and more complex, we want to be able to handle complex arguments too.\n",
      "* Reference: http://docs.python.org/2/library/argparse.html"
     ]
    },
    {
     "cell_type": "markdown",
     "metadata": {},
     "source": [
      "# Improving the script: using `argparse`\n",
      "\n",
      "* Open your script / module in a text editor and replace `import sys` with `import argparse`\n",
      "* Remove all lines / blocks referencing `sys.argv`\n",
      "* Change the `if __name__ == '__main__'` block to be the following:\n",
      "\n",
      "        if __name__ == '__main__':\n",
      "            # create our argument parser object\n",
      "            parser = argparse.ArgumentParser()\n",
      "            # add the expected argument\n",
      "            parser.add_argument('input_seq', type=str, help=\"Input sequence\")\n",
      "            # do the actual parsing\n",
      "            args = parser.parse_args()\n",
      "            # and show the output\n",
      "            print \"The sequence '{}' has a %GC of {:.2f}\".format(args.input_seq, calc_gc_percent(args.input_seq))\n",
      "\n",
      "* The code does look a little more verbose, but we get something better in return\n",
      "* Go back to the shell, and execute your script without any arguments. What happens?\n",
      "* Try executing the following command in the shell. What happens?\n",
      "\n",
      "        $ python seq_toolbox.py --help\n",
      "  \n",
      "* And we're just getting started on `argparse`. There are other useful bits that we'll see shortly after a small intro on File IO."
     ]
    },
    {
     "cell_type": "markdown",
     "metadata": {},
     "source": [
      "# Reading and writing files\n",
      "\n",
      "* Reading files are done using the `open` function.\n",
      "* `open` is commonly used with two arguments: file name and file mode\n",
      "    * File name is the name of the file to open\n",
      "    * File mode specifies how the file should be handled\n",
      "* Some of the common file modes:\n",
      "    * `r`: open file for reading (default)\n",
      "    * `w`: open file for writing\n",
      "    * `a`: open file for appending content\n",
      "* Quick reference: `help(open)`\n",
      "* Let's try out some examples"
     ]
    },
    {
     "cell_type": "markdown",
     "metadata": {},
     "source": [
      "# Reading files"
     ]
    },
    {
     "cell_type": "code",
     "collapsed": false,
     "input": [
      "fh = open('data/short_file.txt')"
     ],
     "language": "python",
     "metadata": {},
     "outputs": [],
     "prompt_number": 44
    },
    {
     "cell_type": "markdown",
     "metadata": {},
     "source": [
      "`fh` is a file handle object which we can use to retrieve the file contents. One simple way would be to read the whole file contents:"
     ]
    },
    {
     "cell_type": "code",
     "collapsed": false,
     "input": [
      "fh.read()"
     ],
     "language": "python",
     "metadata": {},
     "outputs": [
      {
       "metadata": {},
       "output_type": "pyout",
       "prompt_number": 45,
       "text": [
        "'this short file has two lines\\nit is used in the example code\\n'"
       ]
      }
     ],
     "prompt_number": 45
    },
    {
     "cell_type": "markdown",
     "metadata": {},
     "source": [
      "Executing `fh.read()` for the second time in a row always gives an empty string. This is because we have 'walked' through the file to its end."
     ]
    },
    {
     "cell_type": "code",
     "collapsed": false,
     "input": [
      "fh.read()"
     ],
     "language": "python",
     "metadata": {},
     "outputs": [
      {
       "metadata": {},
       "output_type": "pyout",
       "prompt_number": 46,
       "text": [
        "''"
       ]
      }
     ],
     "prompt_number": 46
    },
    {
     "cell_type": "markdown",
     "metadata": {},
     "source": [
      "We can reset the handle to the beginning of the file again using the `seek()` function. Here, we use `0` as the argument since we want to move the handle to position 0 (beginning of the file)."
     ]
    },
    {
     "cell_type": "code",
     "collapsed": false,
     "input": [
      "fh.seek(0)"
     ],
     "language": "python",
     "metadata": {},
     "outputs": [],
     "prompt_number": 47
    },
    {
     "cell_type": "code",
     "collapsed": false,
     "input": [
      "fh.read()"
     ],
     "language": "python",
     "metadata": {},
     "outputs": [
      {
       "metadata": {},
       "output_type": "pyout",
       "prompt_number": 48,
       "text": [
        "'this short file has two lines\\nit is used in the example code\\n'"
       ]
      }
     ],
     "prompt_number": 48
    },
    {
     "cell_type": "markdown",
     "metadata": {},
     "source": [
      "In practice, reading the whole file into memory is not always a good idea, however. It is practical for small files, but not so if our file is big (bigger than our memory). In this case, the alternative is to use `readline()` function."
     ]
    },
    {
     "cell_type": "code",
     "collapsed": false,
     "input": [
      "fh.seek(0)"
     ],
     "language": "python",
     "metadata": {},
     "outputs": [],
     "prompt_number": 52
    },
    {
     "cell_type": "code",
     "collapsed": false,
     "input": [
      "fh.readline()"
     ],
     "language": "python",
     "metadata": {},
     "outputs": [
      {
       "metadata": {},
       "output_type": "pyout",
       "prompt_number": 53,
       "text": [
        "'this short file has two lines\\n'"
       ]
      }
     ],
     "prompt_number": 53
    },
    {
     "cell_type": "code",
     "collapsed": false,
     "input": [
      "fh.readline()"
     ],
     "language": "python",
     "metadata": {},
     "outputs": [
      {
       "metadata": {},
       "output_type": "pyout",
       "prompt_number": 54,
       "text": [
        "'it is used in the example code\\n'"
       ]
      }
     ],
     "prompt_number": 54
    },
    {
     "cell_type": "code",
     "collapsed": false,
     "input": [
      "fh.readline()"
     ],
     "language": "python",
     "metadata": {},
     "outputs": [
      {
       "metadata": {},
       "output_type": "pyout",
       "prompt_number": 55,
       "text": [
        "''"
       ]
      }
     ],
     "prompt_number": 55
    },
    {
     "cell_type": "markdown",
     "metadata": {},
     "source": [
      "More common, is to use the `for` loop with the file handle itself. Python will automatically iterate over each line."
     ]
    },
    {
     "cell_type": "code",
     "collapsed": false,
     "input": [
      "fh.seek(0)"
     ],
     "language": "python",
     "metadata": {},
     "outputs": [],
     "prompt_number": 56
    },
    {
     "cell_type": "code",
     "collapsed": false,
     "input": [
      "for line in fh:\n",
      "    print line"
     ],
     "language": "python",
     "metadata": {},
     "outputs": [
      {
       "output_type": "stream",
       "stream": "stdout",
       "text": [
        "this short file has two lines\n",
        "\n",
        "it is used in the example code\n",
        "\n"
       ]
      }
     ],
     "prompt_number": 57
    },
    {
     "cell_type": "markdown",
     "metadata": {},
     "source": [
      "We can see that iteration exhausts the handle since we are at the end of the file after the loop."
     ]
    },
    {
     "cell_type": "code",
     "collapsed": false,
     "input": [
      "fh.readline()"
     ],
     "language": "python",
     "metadata": {},
     "outputs": [
      {
       "metadata": {},
       "output_type": "pyout",
       "prompt_number": 58,
       "text": [
        "''"
       ]
      }
     ],
     "prompt_number": 58
    },
    {
     "cell_type": "markdown",
     "metadata": {},
     "source": [
      "We can also check the file handle position using the `tell()` function. If `tell()` returns a nonzero number, then we are not at the beginning of the file."
     ]
    },
    {
     "cell_type": "code",
     "collapsed": false,
     "input": [
      "fh.tell()"
     ],
     "language": "python",
     "metadata": {},
     "outputs": [
      {
       "metadata": {},
       "output_type": "pyout",
       "prompt_number": 59,
       "text": [
        "61"
       ]
      }
     ],
     "prompt_number": 59
    },
    {
     "cell_type": "markdown",
     "metadata": {},
     "source": [
      "Now that we're done with the file handle, we have to call the `close()` method to free up any system resources still being used to keep the file open. After we close the file, we can not use the file object anymore."
     ]
    },
    {
     "cell_type": "code",
     "collapsed": false,
     "input": [
      "fh.close()"
     ],
     "language": "python",
     "metadata": {},
     "outputs": [],
     "prompt_number": 60
    },
    {
     "cell_type": "code",
     "collapsed": false,
     "input": [
      "fh.readline()"
     ],
     "language": "python",
     "metadata": {},
     "outputs": [
      {
       "ename": "ValueError",
       "evalue": "I/O operation on closed file",
       "output_type": "pyerr",
       "traceback": [
        "\u001b[1;31m---------------------------------------------------------------------------\u001b[0m\n\u001b[1;31mValueError\u001b[0m                                Traceback (most recent call last)",
        "\u001b[1;32m<ipython-input-61-4e86183cf03e>\u001b[0m in \u001b[0;36m<module>\u001b[1;34m()\u001b[0m\n\u001b[1;32m----> 1\u001b[1;33m \u001b[0mfh\u001b[0m\u001b[1;33m.\u001b[0m\u001b[0mreadline\u001b[0m\u001b[1;33m(\u001b[0m\u001b[1;33m)\u001b[0m\u001b[1;33m\u001b[0m\u001b[0m\n\u001b[0m",
        "\u001b[1;31mValueError\u001b[0m: I/O operation on closed file"
       ]
      }
     ],
     "prompt_number": 61
    },
    {
     "cell_type": "markdown",
     "metadata": {},
     "source": [
      "# Writing files"
     ]
    },
    {
     "cell_type": "markdown",
     "metadata": {},
     "source": [
      "When writing files, we supply the `w` file mode explicitly."
     ]
    },
    {
     "cell_type": "code",
     "collapsed": false,
     "input": [
      "fw = open('data/my_file.txt', 'w')"
     ],
     "language": "python",
     "metadata": {},
     "outputs": [],
     "prompt_number": 62
    },
    {
     "cell_type": "markdown",
     "metadata": {},
     "source": [
      "`fw` is a file handle similar to the `fh` that we've seen previously. It is used only for writing and not reading, however."
     ]
    },
    {
     "cell_type": "code",
     "collapsed": false,
     "input": [
      "fw.read()"
     ],
     "language": "python",
     "metadata": {},
     "outputs": [
      {
       "ename": "IOError",
       "evalue": "File not open for reading",
       "output_type": "pyerr",
       "traceback": [
        "\u001b[1;31m---------------------------------------------------------------------------\u001b[0m\n\u001b[1;31mIOError\u001b[0m                                   Traceback (most recent call last)",
        "\u001b[1;32m<ipython-input-63-73497a15302b>\u001b[0m in \u001b[0;36m<module>\u001b[1;34m()\u001b[0m\n\u001b[1;32m----> 1\u001b[1;33m \u001b[0mfw\u001b[0m\u001b[1;33m.\u001b[0m\u001b[0mread\u001b[0m\u001b[1;33m(\u001b[0m\u001b[1;33m)\u001b[0m\u001b[1;33m\u001b[0m\u001b[0m\n\u001b[0m",
        "\u001b[1;31mIOError\u001b[0m: File not open for reading"
       ]
      }
     ],
     "prompt_number": 63
    },
    {
     "cell_type": "markdown",
     "metadata": {},
     "source": [
      "To write to the file, we use the `write()` function. Remember that Python *does not* add newline characters, so to move to a new line we have to add `\\n` ourselves."
     ]
    },
    {
     "cell_type": "code",
     "collapsed": false,
     "input": [
      "fw.write('This is my first line ')"
     ],
     "language": "python",
     "metadata": {},
     "outputs": [],
     "prompt_number": 64
    },
    {
     "cell_type": "code",
     "collapsed": false,
     "input": [
      "fw.write('Still on my first line\\n')"
     ],
     "language": "python",
     "metadata": {},
     "outputs": [],
     "prompt_number": 65
    },
    {
     "cell_type": "code",
     "collapsed": false,
     "input": [
      "fw.write('Now on my second line')"
     ],
     "language": "python",
     "metadata": {},
     "outputs": [],
     "prompt_number": 66
    },
    {
     "cell_type": "markdown",
     "metadata": {},
     "source": [
      "As with the `r` mode, we need to close the handle when we're done with it. The file can then be reopened with the `r` mode and we can check its contents."
     ]
    },
    {
     "cell_type": "code",
     "collapsed": false,
     "input": [
      "fw.close()"
     ],
     "language": "python",
     "metadata": {},
     "outputs": [],
     "prompt_number": 67
    },
    {
     "cell_type": "code",
     "collapsed": false,
     "input": [
      "fr = open('data/my_file.txt')    # remember to use the same file name that we write to\n",
      "for line in fr:\n",
      "    print line\n",
      "fr.close()"
     ],
     "language": "python",
     "metadata": {},
     "outputs": [
      {
       "output_type": "stream",
       "stream": "stdout",
       "text": [
        "This is my first line Still on my first line\n",
        "\n",
        "Now on my second line\n"
       ]
      }
     ],
     "prompt_number": 68
    },
    {
     "cell_type": "markdown",
     "metadata": {},
     "source": [
      "And finally, to remove the file, we can use the `remove()` function from the `os` module."
     ]
    },
    {
     "cell_type": "code",
     "collapsed": false,
     "input": [
      "os.remove('data/my_file.txt')"
     ],
     "language": "python",
     "metadata": {},
     "outputs": [],
     "prompt_number": 71
    },
    {
     "cell_type": "markdown",
     "metadata": {},
     "source": [
      "# Be cautious when using file handles\n",
      "\n",
      "When reading / writing files, we are interacting with external resources that may or may not behave as expected. For example, we don't always have permission to read / write a file, the file itself may not exist, or we have a completely wrong idea of what's in the file. In situations like these, you are encouraged to use the `try .. finally` block.\n",
      "    \n",
      "The syntax is similar to `try .. except` that we've seen earlier (in fact they are part of the same block, as we'll see later). Unlike `try .. except`, the `finally` block in `try .. finally` is always executed regardless of any raised exceptions.\n",
      "\n",
      "Let's take a look at some examples. First, the not recommended one:\n",
      "\n",
      "    f = open('data/my_other_file.txt')\n",
      "    for line in f:\n",
      "        my_function(line)\n",
      "    f.close()\n",
      "\n",
      "Although this works, the potential pitfall is that if `my_function()` raises an exception, the code will not go as far as the `f.close()` line and the file may not get closed appropriately. A better way would be:\n",
      "\n",
      "    try:\n",
      "        f = open('data/my_other_file.txt')\n",
      "        for line in f:\n",
      "            my_function(line)\n",
      "    finally:\n",
      "        f.close()\n",
      "\n",
      "Here, when `my_function()` raises an exception, the file handle will still get closed.\n",
      "\n",
      "Now, an even better way would be to also use the `catch` block, to handle the exception `my_function()` may raise.\n",
      "\n",
      "    try:\n",
      "        f = open('data/my_other_file.txt')\n",
      "        for line in f:\n",
      "            my_function(line)\n",
      "    except ValueError:\n",
      "        my_backup_function(line)\n",
      "    finally:\n",
      "        f.close()"
     ]
    },
    {
     "cell_type": "markdown",
     "metadata": {},
     "source": [
      "# Intermezzo: `sys.stdout`, `sys.stderr`, and `sys.stdin`\n",
      " \n",
      "* We've seen that the `sys` module provides some useful runtime functions. Now that we know about file handles, we can use three `sys` objects that are essentially file handles: `sys.stdout`, `sys.stderr`, and `sys.stdin`.\n",
      "\n",
      "* They all provide access to the three streams: stdout, stderr, and stdin.\n",
      "\n",
      "* We can use them, too (appropriately: writing to stdout and stderr and reading from stdin).\n",
      "\n",
      "* Unlike regular file handles, you don't need to close them after using, though (in fact you should not). The assumption is that these handles are always open to write to or to read from."
     ]
    },
    {
     "cell_type": "code",
     "collapsed": false,
     "input": [
      "sys.stdout.write(\"I'm writing to stdout!\\n\")"
     ],
     "language": "python",
     "metadata": {},
     "outputs": [
      {
       "output_type": "stream",
       "stream": "stdout",
       "text": [
        "I'm writing to stdout!\n"
       ]
      }
     ],
     "prompt_number": 69
    },
    {
     "cell_type": "code",
     "collapsed": false,
     "input": [
      "sys.stderr.write(\"Now to stderr.\\n\")"
     ],
     "language": "python",
     "metadata": {},
     "outputs": [
      {
       "output_type": "stream",
       "stream": "stderr",
       "text": [
        "Now to stderr.\n"
       ]
      }
     ],
     "prompt_number": 70
    },
    {
     "cell_type": "markdown",
     "metadata": {},
     "source": [
      "# Improving our function: allowing file inputs\n",
      "\n",
      "* Before we go on to the exercise, let's do a final improvement on our script / module.\n",
      "\n",
      "* We want to add a new functionality: the script should accept as its argument a path to a file containing sequences. It will then compute the GC percentage for each sequence in this file.\n",
      "\n",
      "* There are at least two things we need to do:\n",
      "    1. Change the parser so that it deals with a new execution mode.\n",
      "    2. Add some statements to read from a file."
     ]
    },
    {
     "cell_type": "markdown",
     "metadata": {},
     "source": [
      "# Improving our function: allowing file inputs\n",
      "\n",
      "* Open the script in your text editor, and change the `if __name__ == '__main__'` block to the following:\n",
      "\n",
      "        if __name__ == '__main__':\n",
      "            # create our argument parser object\n",
      "            parser = argparse.ArgumentParser()\n",
      "            # add argument for the input type\n",
      "            parser.add_argument('mode', type=str, choices=['file', 'text'], help='Input type of the script')\n",
      "            # add argument for the input value\n",
      "            parser.add_argument('value', type=str, help='Input value of the script')\n",
      "            # do the actual parsing\n",
      "            args = parser.parse_args()\n",
      "            \n",
      "            if args.mode == 'file':\n",
      "                try:\n",
      "                    f = open(args.value, 'r')\n",
      "                    for line in f:\n",
      "                        seq = line.strip()\n",
      "                        gc = calc_gc_percent(seq)\n",
      "                        print \"The sequence '{}' has a %GC of {:.2f}\".format(seq, gc)\n",
      "                finally:\n",
      "                    f.close()\n",
      "            else:\n",
      "                seq = args.value\n",
      "                gc = calc_gc_percent(seq)\n",
      "                print \"The sequence '{}' has a %GC of {:.2f}\".format(seq, gc)\n",
      "                \n",
      "* Note the things we've done here:\n",
      "\n",
      "    1. We've added a new argument to our parser to specify the input type\n",
      "    2. Correspondingly, we've expanded the our function call to handle both input types as well\n",
      "\n",
      "* Save the script, and try running it. What do you see? Is running `python my_toolbox.py --help` helpful to resolve this?\n",
      "\n",
      "* Try running the script with the following commands. What do you see? Feel free to look into `data/seq.txt`\n",
      "\n",
      "        $ python seq_toolbox.py file data/seq.txt"
     ]
    },
    {
     "cell_type": "markdown",
     "metadata": {},
     "source": [
      "$\\S$ Exercise: Finding out the most common 7-mer in a FASTA file\n",
      "===\n",
      "\n",
      "# Your task\n",
      "\n",
      "* Write a script to print out the most common 7-mer and its GC percentage from all the sequences in `data/records.fa` (adapted from http://genomebiology.com/about/update/DNA60_STEPONE)\n",
      "* You are free to reuse your existing toolbox\n",
      "\n",
      "# Hints\n",
      "\n",
      "* FASTA file have two lines: the ID line and the sequence line. We only want to use the sequence line.\n",
      "* Read the string functions documentation.\n",
      "* Read the documentation for built in functions.\n",
      "\n",
      "# Challenges\n",
      "\n",
      "* Find out how to change your script so that it can read from another file: `data/challenge.fa.gz` without unzipping the file first (hint: standard library)\n",
      "* Can you change the parser so that there is an option flag to tell the program whether the input file is gzipped or not?\n",
      "* Can you change your script so that it can compute any n-mer instead of just 7?"
     ]
    },
    {
     "cell_type": "markdown",
     "metadata": {},
     "source": [
      "# Further reading\n",
      "\n",
      "* Python standard library by examples: Python module of the week (http://pymotw.com/2/contents.html)\n",
      "* PEP8: http://www.python.org/dev/peps/pep-0008/\n",
      "* Zen of Python (PEP20): http://www.python.org/dev/peps/pep-0020/"
     ]
    },
    {
     "cell_type": "code",
     "collapsed": false,
     "input": [
      "from IPython.core.display import HTML\n",
      "def custom_style():\n",
      "    style = open('styles/notebook.css', 'r').read()\n",
      "    return HTML('<style>' + style + '</style>')\n",
      "def custom_script():\n",
      "    script = open('styles/notebook.js', 'r').read()\n",
      "    return HTML('<script>' + script + '</script>')"
     ],
     "language": "python",
     "metadata": {},
     "outputs": [],
     "prompt_number": 6
    },
    {
     "cell_type": "code",
     "collapsed": false,
     "input": [
      "custom_style()"
     ],
     "language": "python",
     "metadata": {},
     "outputs": [
      {
       "html": [
        "<style>/*\n",
        "  https://github.com/CamDavidsonPilon/Probabilistic-Programming-and-Bayesian-Methods-for-Hackers\n",
        "*/\n",
        "@font-face {\n",
        "    font-family: \"Computer Modern\";\n",
        "    src: url('http://mirrors.ctan.org/fonts/cm-unicode/fonts/otf/cmunss.otf');\n",
        "}\n",
        "div.cell{\n",
        "    width:800px;\n",
        "    margin-left:16% !important;\n",
        "    margin-right:auto;\n",
        "}\n",
        "h1 {\n",
        "    font-family: Helvetica, serif;\n",
        "}\n",
        "h4{\n",
        "    margin-top:12px;\n",
        "    margin-bottom: 3px;\n",
        "   }\n",
        "div.text_cell_render{\n",
        "    font-family: Computer Modern, \"Helvetica Neue\", Arial, Helvetica, Geneva, sans-serif;\n",
        "    line-height: 145%;\n",
        "    font-size: 130%;\n",
        "    width:800px;\n",
        "    margin-left:auto;\n",
        "    margin-right:auto;\n",
        "}\n",
        ".CodeMirror{\n",
        "        font-family: \"Source Code Pro\", source-code-pro,Consolas, monospace;\n",
        "}\n",
        ".prompt{\n",
        "    display: None;\n",
        "}\n",
        ".text_cell_render h5 {\n",
        "    font-weight: 300;\n",
        "    font-size: 22pt;\n",
        "    color: #4057A1;\n",
        "    font-style: italic;\n",
        "    margin-bottom: .5em;\n",
        "    margin-top: 0.5em;\n",
        "    display: block;\n",
        "}\n",
        "\n",
        ".warning{\n",
        "    color: rgb( 240, 20, 20 )\n",
        "}\n",
        "</style>"
       ],
       "metadata": {},
       "output_type": "pyout",
       "prompt_number": 4,
       "text": [
        "<IPython.core.display.HTML at 0x7f83c411fc10>"
       ]
      }
     ],
     "prompt_number": 4
    },
    {
     "cell_type": "code",
     "collapsed": false,
     "input": [
      "custom_script()"
     ],
     "language": "python",
     "metadata": {},
     "outputs": [
      {
       "html": [
        "<script>// https://github.com/CamDavidsonPilon/Probabilistic-Programming-and-Bayesian-Methods-for-Hackers\n",
        "MathJax.Hub.Config({\n",
        "                    TeX: {\n",
        "                       extensions: [\"AMSmath.js\"]\n",
        "                       },\n",
        "            tex2jax: {\n",
        "                inlineMath: [ ['$','$'], [\"\\\\(\",\"\\\\)\"] ],\n",
        "                displayMath: [ ['$$','$$'], [\"\\\\[\",\"\\\\]\"] ]\n",
        "            },\n",
        "            displayAlign: 'center', // Change this to 'center' to center equations.\n",
        "            \"HTML-CSS\": {\n",
        "                styles: {'.MathJax_Display': {\"margin\": 4}}\n",
        "            }\n",
        "    });\n",
        "</script>"
       ],
       "metadata": {},
       "output_type": "pyout",
       "prompt_number": 5,
       "text": [
        "<IPython.core.display.HTML at 0x7f83c411fc90>"
       ]
      }
     ],
     "prompt_number": 5
    }
   ],
   "metadata": {}
  }
 ]
}