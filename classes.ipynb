{
 "metadata": {
  "name": ""
 },
 "nbformat": 3,
 "nbformat_minor": 0,
 "worksheets": [
  {
   "cells": [
    {
     "cell_type": "markdown",
     "metadata": {
      "slideshow": {
       "slide_type": "slide"
      }
     },
     "source": [
      "<span style=\"font-size: 200%\">Object Oriented Programming</span>\n",
      "===\n",
      "\n",
      "<br>\n",
      "\n",
      "[Wibowo Arindrarto](mailto:w.arindrarto@lumc.nl), [Jeroen Laros](mailto:j.f.j.laros@lumc.nl), [Zuotian Tatum](mailto:z.tatum@lumc.nl), [Martijn Vermaat](mailto:m.vermaat.hg@lumc.nl)\n",
      "\n",
      "[Department of Human Genetics, Leiden University Medical Center](http://humgen.nl)\n",
      "\n",
      "License: [Creative Commons Attribution 3.0 License (CC-by)](http://creativecommons.org/licenses/by/3.0)"
     ]
    },
    {
     "cell_type": "markdown",
     "metadata": {
      "slideshow": {
       "slide_type": "skip"
      }
     },
     "source": [
      "About this notebook\n",
      "===\n",
      "\n",
      "This notebook is the source for a set of slides. If you want to edit them, be sure to choose *Slideshow* in the *Cell Toolbar* menu.\n",
      "\n",
      "You can use nbconvert to convert the slides to HTML and serve them:\n",
      "\n",
      "    ipython nbconvert --to slides --post serve matplotlib.ipynb\n",
      "\n",
      "This will open the slides in a new browser window."
     ]
    },
    {
     "cell_type": "code",
     "collapsed": false,
     "input": [
      "from IPython.display import HTML, Image, IFrame\n",
      "%pylab inline"
     ],
     "language": "python",
     "metadata": {
      "slideshow": {
       "slide_type": "skip"
      }
     },
     "outputs": [
      {
       "output_type": "stream",
       "stream": "stdout",
       "text": [
        "Populating the interactive namespace from numpy and matplotlib\n"
       ]
      }
     ],
     "prompt_number": 128
    },
    {
     "cell_type": "markdown",
     "metadata": {},
     "source": [
      "Imagine we are collecting a number of attributes of some persons:\n",
      "\n",
      "* Eye colour.\n",
      "* Hair colour.\n",
      "* Weight.\n",
      "* Length."
     ]
    },
    {
     "cell_type": "markdown",
     "metadata": {
      "slideshow": {
       "slide_type": "slide"
      }
     },
     "source": [
      "Should we use simple lists?"
     ]
    },
    {
     "cell_type": "code",
     "collapsed": false,
     "input": [
      "eye_colour = ['blue', 'blue', 'grey', 'green', 'brown']\n",
      "hair_colour = ['black', 'red', 'white', 'blue', 'red']\n",
      "weight = [80, 75, 130, 90, 64]\n",
      "length = [180, 174, 230, 161, 149]\n",
      "\n",
      "eye_colour[3], hair_colour[3], weight[3], length[3]"
     ],
     "language": "python",
     "metadata": {},
     "outputs": [
      {
       "metadata": {},
       "output_type": "pyout",
       "prompt_number": 129,
       "text": [
        "('green', 'blue', 90, 161)"
       ]
      }
     ],
     "prompt_number": 129
    },
    {
     "cell_type": "code",
     "collapsed": false,
     "input": [
      "weight[3]"
     ],
     "language": "python",
     "metadata": {},
     "outputs": [
      {
       "metadata": {},
       "output_type": "pyout",
       "prompt_number": 130,
       "text": [
        "90"
       ]
      }
     ],
     "prompt_number": 130
    },
    {
     "cell_type": "markdown",
     "metadata": {
      "slideshow": {
       "slide_type": "slide"
      }
     },
     "source": [
      "Or nested lists?"
     ]
    },
    {
     "cell_type": "code",
     "collapsed": false,
     "input": [
      "person = [['blue', 'black', 80, 180],\n",
      "          ['blue', 'red', 75, 174],\n",
      "          ['grey', 'white', 130, 230],\n",
      "          ['green', 'blue', 90, 161],\n",
      "          ['brown', 'red', 64, 149]]\n",
      "\n",
      "person[3]"
     ],
     "language": "python",
     "metadata": {},
     "outputs": [
      {
       "metadata": {},
       "output_type": "pyout",
       "prompt_number": 131,
       "text": [
        "['green', 'blue', 90, 161]"
       ]
      }
     ],
     "prompt_number": 131
    },
    {
     "cell_type": "code",
     "collapsed": false,
     "input": [
      "person[3][2]"
     ],
     "language": "python",
     "metadata": {},
     "outputs": [
      {
       "metadata": {},
       "output_type": "pyout",
       "prompt_number": 132,
       "text": [
        "90"
       ]
      }
     ],
     "prompt_number": 132
    },
    {
     "cell_type": "markdown",
     "metadata": {
      "slideshow": {
       "slide_type": "slide"
      }
     },
     "source": [
      "Or a list of dictionaries?"
     ]
    },
    {
     "cell_type": "code",
     "collapsed": false,
     "input": [
      "person = [{'eye_colour': 'blue', 'hair_colour': 'black', 'weight': 80, 'length': 180},\n",
      "          {'eye_colour': 'blue', 'hair_colour': 'red', 'weight': 75, 'length': 174},\n",
      "          {'eye_colour': 'grey', 'hair_colour': 'white', 'weight': 130, 'length': 230},\n",
      "          {'eye_colour': 'green', 'hair_colour': 'blue', 'weight': 90, 'length': 161},\n",
      "          {'eye_colour': 'brown', 'hair_colour': 'red', 'weight': 64, 'length': 149}]\n",
      "\n",
      "person[3]"
     ],
     "language": "python",
     "metadata": {},
     "outputs": [
      {
       "metadata": {},
       "output_type": "pyout",
       "prompt_number": 133,
       "text": [
        "{'eye_colour': 'green', 'hair_colour': 'blue', 'length': 161, 'weight': 90}"
       ]
      }
     ],
     "prompt_number": 133
    },
    {
     "cell_type": "code",
     "collapsed": false,
     "input": [
      "person[3]['weight']"
     ],
     "language": "python",
     "metadata": {},
     "outputs": [
      {
       "metadata": {},
       "output_type": "pyout",
       "prompt_number": 134,
       "text": [
        "90"
       ]
      }
     ],
     "prompt_number": 134
    },
    {
     "cell_type": "markdown",
     "metadata": {
      "slideshow": {
       "slide_type": "slide"
      }
     },
     "source": [
      "Object Oriented Programming\n",
      "===\n",
      "\n",
      "A class as a simple container:"
     ]
    },
    {
     "cell_type": "code",
     "collapsed": false,
     "input": [
      "class Person(object):\n",
      "    weight = 80\n",
      "    \n",
      "    def __init__(self, eye_colour='unknown', hair_colour='unknown', weight=0, length=0):\n",
      "        self.eye_colour = eye_colour\n",
      "        self.hair_colour = hair_colour\n",
      "        if weight:\n",
      "            self.weight = weight\n",
      "        self.length = length\n",
      "        \n",
      "    def __str__(self):\n",
      "        return \"Eye colour: {0}, Hair colour: {1}, Weight: {2}, Length: {3}\".format(\n",
      "            self.eye_colour, self.hair_colour, self.weight, self.length)\n",
      "    \n",
      "    def __len__(self):\n",
      "        return self.length\n",
      "\n",
      "    def feed(self, amount=3):\n",
      "        self.weight += amount\n",
      "        \n",
      "    def bleach(self):\n",
      "        self.hair_colour = 'white'\n",
      "        \n",
      "    def _convert_weight(self, multiplier):\n",
      "        return self.weight * multiplier\n",
      "        \n",
      "    def weight_in_pounds(self):\n",
      "        return self._convert_weight(2.20462)\n",
      "        \n",
      "    def weight_in_grams(self):\n",
      "        return self._convert_weight(1000)"
     ],
     "language": "python",
     "metadata": {
      "slideshow": {
       "slide_type": "skip"
      }
     },
     "outputs": [],
     "prompt_number": 135
    },
    {
     "cell_type": "markdown",
     "metadata": {
      "slideshow": {
       "slide_type": "slide"
      }
     },
     "source": [
      "    class Person(object):\n",
      "        def __init__(self, eye_colour='unknown', hair_colour='unknown', weight=0, length=0):\n",
      "            self.eye_colour = eye_colour\n",
      "            self.hair_colour = hair_colour\n",
      "            self.weight = weight\n",
      "            self.length = length"
     ]
    },
    {
     "cell_type": "code",
     "collapsed": false,
     "input": [
      "someone = Person('green', 'blue', 90, 161)\n",
      "\n",
      "someone.weight"
     ],
     "language": "python",
     "metadata": {},
     "outputs": [
      {
       "metadata": {},
       "output_type": "pyout",
       "prompt_number": 136,
       "text": [
        "90"
       ]
      }
     ],
     "prompt_number": 136
    },
    {
     "cell_type": "code",
     "collapsed": false,
     "input": [
      "person = [Person(),\n",
      "          Person('blue', 'red'),\n",
      "          Person('grey', 'white', 130, 230),\n",
      "          Person(weight=90),\n",
      "          Person(weight=64, length=149)]\n",
      "\n",
      "person[3].weight"
     ],
     "language": "python",
     "metadata": {},
     "outputs": [
      {
       "metadata": {},
       "output_type": "pyout",
       "prompt_number": 137,
       "text": [
        "90"
       ]
      }
     ],
     "prompt_number": 137
    },
    {
     "cell_type": "markdown",
     "metadata": {},
     "source": [
      "        class Person(object):\n",
      "            ...\n",
      "            \n",
      "            def feed(self, amount=3):\n",
      "                self.weight += amount\n",
      "            \n",
      "            def bleach(self):\n",
      "                self.hair_colour = 'white'"
     ]
    },
    {
     "cell_type": "code",
     "collapsed": false,
     "input": [
      "person = Person('green', 'blue', 90, 161)\n",
      "\n",
      "person.weight, person.hair_colour"
     ],
     "language": "python",
     "metadata": {},
     "outputs": [
      {
       "metadata": {},
       "output_type": "pyout",
       "prompt_number": 138,
       "text": [
        "(90, 'blue')"
       ]
      }
     ],
     "prompt_number": 138
    },
    {
     "cell_type": "code",
     "collapsed": false,
     "input": [
      "person.feed()\n",
      "person.bleach()\n",
      "person.weight, person.hair_colour"
     ],
     "language": "python",
     "metadata": {},
     "outputs": [
      {
       "metadata": {},
       "output_type": "pyout",
       "prompt_number": 139,
       "text": [
        "(93, 'white')"
       ]
      }
     ],
     "prompt_number": 139
    },
    {
     "cell_type": "markdown",
     "metadata": {},
     "source": [
      "    class Person(object):\n",
      "        ...\n",
      "        \n",
      "        def _convert_weight(self, multiplier):\n",
      "            return self.weight * multiplier\n",
      "        \n",
      "        def weight_in_pounds(self):\n",
      "            return self._convert_weight(2.20462)\n",
      "        \n",
      "        def weight_in_grams(self):\n",
      "            return self._convert_weight(1000)"
     ]
    },
    {
     "cell_type": "code",
     "collapsed": false,
     "input": [
      "person.weight_in_pounds(), person.weight_in_grams()"
     ],
     "language": "python",
     "metadata": {},
     "outputs": [
      {
       "metadata": {},
       "output_type": "pyout",
       "prompt_number": 140,
       "text": [
        "(205.02965999999998, 93000)"
       ]
      }
     ],
     "prompt_number": 140
    },
    {
     "cell_type": "markdown",
     "metadata": {
      "slideshow": {
       "slide_type": "slide"
      }
     },
     "source": [
      "    class Person(object):\n",
      "        weight = 80\n",
      "        \n",
      "        def __init__(self, eye_colour='unknown', hair_colour='unknown', weight=0, length=0):\n",
      "            self.eye_colour = eye_colour\n",
      "            self.hair_colour = hair_colour\n",
      "            if weight:\n",
      "                self.weight = weight\n",
      "            self.length = length"
     ]
    },
    {
     "cell_type": "code",
     "collapsed": false,
     "input": [
      "someone = Person()\n",
      "someone.weight"
     ],
     "language": "python",
     "metadata": {},
     "outputs": [
      {
       "metadata": {},
       "output_type": "pyout",
       "prompt_number": 142,
       "text": [
        "80"
       ]
      }
     ],
     "prompt_number": 142
    },
    {
     "cell_type": "code",
     "collapsed": false,
     "input": [
      "someone.weight = 79\n",
      "someone.weight"
     ],
     "language": "python",
     "metadata": {},
     "outputs": [
      {
       "metadata": {},
       "output_type": "pyout",
       "prompt_number": 143,
       "text": [
        "79"
       ]
      }
     ],
     "prompt_number": 143
    },
    {
     "cell_type": "code",
     "collapsed": false,
     "input": [
      "Person.weight = 90\n",
      "someone = Person()\n",
      "someone.weight"
     ],
     "language": "python",
     "metadata": {},
     "outputs": [
      {
       "metadata": {},
       "output_type": "pyout",
       "prompt_number": 144,
       "text": [
        "90"
       ]
      }
     ],
     "prompt_number": 144
    },
    {
     "cell_type": "markdown",
     "metadata": {},
     "source": [
      "    class Person(object):\n",
      "        ...\n",
      "    \n",
      "        def __str__(self):\n",
      "            return \"Eye colour: {0}, Hair colour: {1}, Weight: {2}, Length: {3}\".format(\n",
      "                self.eye_colour, self.hair_colour, self.weight, self.length)\n",
      "     \n",
      "        def __len__(self):\n",
      "            return self.length"
     ]
    },
    {
     "cell_type": "code",
     "collapsed": false,
     "input": [
      "print person\n",
      "len(person)"
     ],
     "language": "python",
     "metadata": {},
     "outputs": [
      {
       "output_type": "stream",
       "stream": "stdout",
       "text": [
        "Eye colour: green, Hair colour: white, Weight: 93, Length: 161\n"
       ]
      },
      {
       "metadata": {},
       "output_type": "pyout",
       "prompt_number": 126,
       "text": [
        "161"
       ]
      }
     ],
     "prompt_number": 126
    },
    {
     "cell_type": "code",
     "collapsed": false,
     "input": [
      "class DutchPerson(Person):\n",
      "    def __str__(self):\n",
      "        return \"Oogkleur: {0}, Haarkleur: {1}, Gewicht: {2}, Lengte: {3}\".format(\n",
      "            self.eye_colour, self.hair_colour, self.weight, self.length)"
     ],
     "language": "python",
     "metadata": {},
     "outputs": [],
     "prompt_number": 127
    },
    {
     "cell_type": "code",
     "collapsed": false,
     "input": [
      "sinterklaas = DutchPerson('blue', 'white', 85, 191)\n",
      "\n",
      "print sinterklaas"
     ],
     "language": "python",
     "metadata": {},
     "outputs": [
      {
       "output_type": "stream",
       "stream": "stdout",
       "text": [
        "Oogkleur: blue, Haarkleur: white, Gewicht: 85, Lengte: 191\n"
       ]
      }
     ],
     "prompt_number": 86
    },
    {
     "cell_type": "markdown",
     "metadata": {},
     "source": []
    }
   ],
   "metadata": {}
  }
 ]
}