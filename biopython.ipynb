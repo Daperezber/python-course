{
 "metadata": {
  "name": ""
 },
 "nbformat": 3,
 "nbformat_minor": 0,
 "worksheets": [
  {
   "cells": [
    {
     "cell_type": "markdown",
     "metadata": {},
     "source": [
      "# Biopython & Other Bioinformatics Modules\n",
      "***\n",
      "\n",
      "[Wibowo Arindrarto](mailto:w.arindrarto@lumc.nl), [Jeroen Laros](mailto:j.f.j.laros@lumc.nl), [Zuotian Tatum](mailto:z.tatum@lumc.nl), [Martijn Vermaat](mailto:m.vermaat.hg@lumc.nl)\n",
      "\n",
      "[Department of Human Genetics, Leiden University Medical Center](http://humgen.nl)\n",
      "\n",
      "[Sequencing Analysis Support Core, Leiden University Medical Center](http://sasc.lumc.nl)\n",
      "\n",
      "License: [Creative Commons Attribution 3.0 License (CC-by)](http://creativecommons.org/licenses/by/3.0)"
     ]
    },
    {
     "cell_type": "markdown",
     "metadata": {},
     "source": [
      "# Before we start ...\n",
      "\n",
      "## Python Package Index (PyPI)\n",
      "\n",
      "*The* place to find 3rd-party Python libraries (and to upload yours too).\n",
      "\n",
      "Remember the `pip install matplotlib` (or `numpy`, etc). command you ran? That source package was stored in PyPI.\n",
      "\n",
      "*PSA* (bits about locally-developed tools? wiggelen, piletools, etc?)"
     ]
    },
    {
     "cell_type": "markdown",
     "metadata": {},
     "source": [
      "# About Biopython\n",
      "\n",
      "<img src=\"http://biopython.org/DIST/docs/tutorial/images/biopython.jpg\" />\n",
      "\n",
      "* One of the big libraries for working with bioinformatics-related data (but not the only one)\n",
      "* Open source. Ran by a team of developers from around the world under the OBF umbrella\n",
      "* Mature. Started development in 1998 and still actively maintained (new releases every 3-4 months)\n",
      "* Python 2.x and 3.x compatible\n",
      "* Tested on multiple OS and multiple Python implementations\n",
      "* Multiple publications (the whole library itself and sometimes its submodules)\n",
      "* Links:\n",
      "  * [Homepage](http://biopython.org)\n",
      "  * [Development repository](http://github.com/biopython/biopython)\n",
      "  * [Mailing list](http://lists.open-bio.org/pipermail/biopython/)\n",
      "  * [Comprehensive Tutorial](http://biopython.org/DIST/docs/tutorial/Tutorial.html)"
     ]
    },
    {
     "cell_type": "markdown",
     "metadata": {},
     "source": [
      "# Inside Biopython\n",
      "\n",
      "* Useful objects representing various concepts (sequences, alignments, motifs, etc.) & \n",
      "\n",
      "* File parsers and writers\n",
      "    * Sequence files: fastq, fastq, genbank, abi, sff, etc.\n",
      "    * Alignment files: clustal, emboss, phylip, nexus, etc.\n",
      "    * Sequence search outputs: BLAST, HMMER, BLAT, etc.\n",
      "    * Phylogenetic trees: newick, nexus, phyloxml, etc.\n",
      "    * Sequence motifs: AlignAce, TRANSFAC, etc.\n",
      "    * Others: PDB files, etc.\n",
      "\n",
      "* Access to remote resources (Entrez, NCBI BLAST, etc.)\n",
      "\n",
      "* Application wrappers\n",
      "\n",
      "* Simple-graphing tool\n",
      "\n",
      "* Useful simple algorithms: pairwise alignment, cluster analysis, etc.\n",
      "\n",
      "* Other useful references: codon tables, IUPAC sequences, restriction enzyme sites(?)"
     ]
    },
    {
     "cell_type": "markdown",
     "metadata": {},
     "source": [
      "# Using Biopython\n",
      "\n",
      "Strengths:\n",
      "\n",
      "- based on Python (readability, expressive constructs)\n",
      "- wide range of parsers with common interfaces\n",
      "- access to online resources\n",
      "\n",
      "Weaknesses:\n",
      "\n",
      "- based on Python? (no error checks until runtime)\n",
      "- not always the fastest parsers"
     ]
    },
    {
     "cell_type": "markdown",
     "metadata": {},
     "source": [
      "# The `Seq` object\n",
      "\n",
      "* The main representation of nucleotide or protein sequences\n",
      "* Essentially a string, with alphabet information\n",
      "* Constructor available via the `Bio.Seq` module"
     ]
    },
    {
     "cell_type": "code",
     "collapsed": false,
     "input": [
      "from Bio.Seq import Seq"
     ],
     "language": "python",
     "metadata": {},
     "outputs": [],
     "prompt_number": 8
    },
    {
     "cell_type": "code",
     "collapsed": false,
     "input": [
      "my_seq = Seq('GGGTACGATAAA')"
     ],
     "language": "python",
     "metadata": {},
     "outputs": [],
     "prompt_number": 51
    },
    {
     "cell_type": "code",
     "collapsed": false,
     "input": [
      "my_seq"
     ],
     "language": "python",
     "metadata": {},
     "outputs": [
      {
       "metadata": {},
       "output_type": "pyout",
       "prompt_number": 52,
       "text": [
        "Seq('GGGTACGATAAA', Alphabet())"
       ]
      }
     ],
     "prompt_number": 52
    },
    {
     "cell_type": "markdown",
     "metadata": {},
     "source": [
      "Notice the bit about the alphabet. Biopython never tries to guess what alphabet your sequence is. You have to be explicit yourself (recall `import this`)."
     ]
    },
    {
     "cell_type": "code",
     "collapsed": false,
     "input": [
      "from Bio.Alphabet import generic_dna"
     ],
     "language": "python",
     "metadata": {},
     "outputs": [],
     "prompt_number": 53
    },
    {
     "cell_type": "code",
     "collapsed": false,
     "input": [
      "my_dna = Seq('GGGTACGATAAA', generic_dna)"
     ],
     "language": "python",
     "metadata": {},
     "outputs": [],
     "prompt_number": 55
    },
    {
     "cell_type": "code",
     "collapsed": false,
     "input": [
      "my_dna"
     ],
     "language": "python",
     "metadata": {},
     "outputs": [
      {
       "metadata": {},
       "output_type": "pyout",
       "prompt_number": 56,
       "text": [
        "Seq('GGGTACGATAAA', DNAAlphabet())"
       ]
      }
     ],
     "prompt_number": 56
    },
    {
     "cell_type": "markdown",
     "metadata": {},
     "source": [
      "`Seq` objects are almost the same as native Python `str` objects. They have similar methods and can be used with the almost the same set of operators."
     ]
    },
    {
     "cell_type": "code",
     "collapsed": false,
     "input": [
      "my_dna.lower()"
     ],
     "language": "python",
     "metadata": {},
     "outputs": [
      {
       "metadata": {},
       "output_type": "pyout",
       "prompt_number": 57,
       "text": [
        "Seq('gggtacgataaa', DNAAlphabet())"
       ]
      }
     ],
     "prompt_number": 57
    },
    {
     "cell_type": "code",
     "collapsed": false,
     "input": [
      "my_dna.endswith('N')"
     ],
     "language": "python",
     "metadata": {},
     "outputs": [
      {
       "metadata": {},
       "output_type": "pyout",
       "prompt_number": 58,
       "text": [
        "False"
       ]
      }
     ],
     "prompt_number": 58
    },
    {
     "cell_type": "code",
     "collapsed": false,
     "input": [
      "my_dna + my_dna"
     ],
     "language": "python",
     "metadata": {},
     "outputs": [
      {
       "metadata": {},
       "output_type": "pyout",
       "prompt_number": 66,
       "text": [
        "Seq('GGGTACGATAAAGGGTACGATAAA', DNAAlphabet())"
       ]
      }
     ],
     "prompt_number": 66
    },
    {
     "cell_type": "code",
     "collapsed": false,
     "input": [
      "str(my_dna)"
     ],
     "language": "python",
     "metadata": {},
     "outputs": [
      {
       "metadata": {},
       "output_type": "pyout",
       "prompt_number": 67,
       "text": [
        "'GGGTACGATAAA'"
       ]
      }
     ],
     "prompt_number": 67
    },
    {
     "cell_type": "markdown",
     "metadata": {},
     "source": [
      "# Why use `Seq`?\n",
      "\n",
      "The plus feature is that we get to use additional 'molecular biology' functions."
     ]
    },
    {
     "cell_type": "code",
     "collapsed": false,
     "input": [
      "my_rna = my_dna.transcribe()"
     ],
     "language": "python",
     "metadata": {},
     "outputs": [],
     "prompt_number": 59
    },
    {
     "cell_type": "code",
     "collapsed": false,
     "input": [
      "my_rna"
     ],
     "language": "python",
     "metadata": {},
     "outputs": [
      {
       "metadata": {},
       "output_type": "pyout",
       "prompt_number": 60,
       "text": [
        "Seq('GGGUACGAUAAA', RNAAlphabet())"
       ]
      }
     ],
     "prompt_number": 60
    },
    {
     "cell_type": "markdown",
     "metadata": {},
     "source": [
      "Here we see that running `transcribe()` returns a new RNA sequence. Biopython uses alphabet information to determine whether a `Seq` member function can be invoked or not."
     ]
    },
    {
     "cell_type": "markdown",
     "metadata": {},
     "source": [
      "There are more, of course."
     ]
    },
    {
     "cell_type": "code",
     "collapsed": false,
     "input": [
      "my_dna.complement()"
     ],
     "language": "python",
     "metadata": {},
     "outputs": [
      {
       "metadata": {},
       "output_type": "pyout",
       "prompt_number": 61,
       "text": [
        "Seq('CCCATGCTATTT', DNAAlphabet())"
       ]
      }
     ],
     "prompt_number": 61
    },
    {
     "cell_type": "code",
     "collapsed": false,
     "input": [
      "my_dna.reverse_complement()"
     ],
     "language": "python",
     "metadata": {},
     "outputs": [
      {
       "metadata": {},
       "output_type": "pyout",
       "prompt_number": 62,
       "text": [
        "Seq('TTTATCGTACCC', DNAAlphabet())"
       ]
      }
     ],
     "prompt_number": 62
    },
    {
     "cell_type": "code",
     "collapsed": false,
     "input": [
      "my_protein = my_dna.translate()"
     ],
     "language": "python",
     "metadata": {},
     "outputs": [],
     "prompt_number": 63
    },
    {
     "cell_type": "code",
     "collapsed": false,
     "input": [
      "my_protein"
     ],
     "language": "python",
     "metadata": {},
     "outputs": [
      {
       "metadata": {},
       "output_type": "pyout",
       "prompt_number": 64,
       "text": [
        "Seq('GYDK', ExtendedIUPACProtein())"
       ]
      }
     ],
     "prompt_number": 64
    },
    {
     "cell_type": "markdown",
     "metadata": {},
     "source": [
      "Now try running `my_protein.transcribe()` in your interpreter. What happens?"
     ]
    },
    {
     "cell_type": "markdown",
     "metadata": {},
     "source": [
      "$\\S$ Exercise: Six-frame translation\n",
      "===\n",
      "\n",
      "Write a function that takes a `Seq` object and prints all possible translation frames from it. For example, when using `CGATCGTAGCTGTAGCGCGATATATACTAGGG` as the input sequence, the output is (not necessarily in this order):\n",
      "\n",
      "    RS*L*RDIY*\n",
      "    P*YISRYSYD\n",
      "    DRSCSAIYTR\n",
      "    PSIYRATATI\n",
      "    IVAVARYILG\n",
      "    LVYIALQLRS\n",
      "\n",
      "Additionally, try to see how to use an alternative translation table (hint: `Bio.Data` module)."
     ]
    },
    {
     "cell_type": "markdown",
     "metadata": {},
     "source": [
      "# Storing additional information: the `SeqRecord` object"
     ]
    },
    {
     "cell_type": "markdown",
     "metadata": {},
     "source": [
      "`Seq` objects are good for storing the sequence itself. But where do we store metadata such as sequence ID or interesting regions in the sequence?\n",
      "\n",
      "For this, we use the `SeqRecord` object. It is essentially a thin wrap around the `Seq` object that also stores sequence metadata."
     ]
    },
    {
     "cell_type": "code",
     "collapsed": false,
     "input": [
      "from Bio.SeqRecord import SeqRecord"
     ],
     "language": "python",
     "metadata": {},
     "outputs": [],
     "prompt_number": 69
    },
    {
     "cell_type": "code",
     "collapsed": false,
     "input": [
      "my_rec = SeqRecord(my_dna)"
     ],
     "language": "python",
     "metadata": {},
     "outputs": [],
     "prompt_number": 87
    },
    {
     "cell_type": "code",
     "collapsed": false,
     "input": [
      "my_rec"
     ],
     "language": "python",
     "metadata": {},
     "outputs": [
      {
       "metadata": {},
       "output_type": "pyout",
       "prompt_number": 88,
       "text": [
        "SeqRecord(seq=Seq('GGGTACGATAAA', DNAAlphabet()), id='<unknown id>', name='<unknown name>', description='<unknown description>', dbxrefs=[])"
       ]
      }
     ],
     "prompt_number": 88
    },
    {
     "cell_type": "code",
     "collapsed": false,
     "input": [
      "print my_rec"
     ],
     "language": "python",
     "metadata": {},
     "outputs": [
      {
       "output_type": "stream",
       "stream": "stdout",
       "text": [
        "ID: <unknown id>\n",
        "Name: <unknown name>\n",
        "Description: <unknown description>\n",
        "Number of features: 0\n",
        "Seq('GGGTACGATAAA', DNAAlphabet())\n"
       ]
      }
     ],
     "prompt_number": 89
    },
    {
     "cell_type": "markdown",
     "metadata": {},
     "source": [
      "We saw that `SeqRecord` stores a `Seq` object and other metadata such as:\n",
      "\n",
      "* `id`: sequence ID\n",
      "* `name`: sequence name, usually the same as `id`\n",
      "* `description`: sequence description\n",
      "* `dbxrefs`: a list of database cross references\n",
      "\n",
      "There are also other metadata not shown here such as:\n",
      "\n",
      "* `letter_annotation`: annotation per sequence position"
     ]
    },
    {
     "cell_type": "markdown",
     "metadata": {},
     "source": [
      "It's enough to supply only a `Seq` object when creating `SeqRecord`. However, as we saw, it's not that useful to have `<unknown id>` and `<unknown description>` as metadata. "
     ]
    },
    {
     "cell_type": "code",
     "collapsed": false,
     "input": [
      "SeqRecord(my_dna, id='my precious', description='my precious sequence')"
     ],
     "language": "python",
     "metadata": {},
     "outputs": [
      {
       "metadata": {},
       "output_type": "pyout",
       "prompt_number": 73,
       "text": [
        "SeqRecord(seq=Seq('GGGTACGATAAA', DNAAlphabet()), id='my precious', name='<unknown name>', description='my precious sequence', dbxrefs=[])"
       ]
      }
     ],
     "prompt_number": 73
    },
    {
     "cell_type": "markdown",
     "metadata": {},
     "source": [
      "# File I/O with Biopython\n",
      "\n",
      "As mentioned before, one of Biopython's strength is its wide range of parsing support. Briefly:\n",
      "\n",
      "* Sequence files: `Bio.SeqIO`\n",
      "* Alignment files: `Bio.AlignIO`\n",
      "* Sequence search files: `Bio.Blast` (soon to be `Bio.SearchIO`)\n",
      "* Phylogenetic trees: `Bio.Phylo`\n",
      "* Sequence motifs: `Bio.motifs`\n",
      "* Protein structures: `Bio.PDB`\n",
      "\n",
      "These parsers may not be the fastest available, but they provide a common interface of objects within their domain.\n",
      "\n",
      "Let's take a look at the sequence file parsing as an example."
     ]
    },
    {
     "cell_type": "markdown",
     "metadata": {},
     "source": [
      "# Reading sequence files with `SeqIO`\n",
      "\n",
      "The main sequence input/output functions are all contained in the `Bio.SeqIO` module. Two of the most commonly used are `Bio.SeqIO.read` and `Bio.SeqIO.parse`. They provide the same functionality, except that the former is for files containing a single sequence and the latter is for files containing multiple sequences."
     ]
    },
    {
     "cell_type": "markdown",
     "metadata": {},
     "source": [
      "# `SeqIO.read`\n",
      "\n",
      "A simple function call that takes as is input:\n",
      "    * the file name *or* a file handle object pointing to your sequence, and\n",
      "    * the sequence file format name\n",
      "and returns a single `SeqRecord` object containing our sequence of interest."
     ]
    },
    {
     "cell_type": "code",
     "collapsed": false,
     "input": [
      "from Bio import SeqIO"
     ],
     "language": "python",
     "metadata": {},
     "outputs": [],
     "prompt_number": 83
    },
    {
     "cell_type": "code",
     "collapsed": false,
     "input": [
      "seq1 = SeqIO.read('data/simple.fa', 'fasta')"
     ],
     "language": "python",
     "metadata": {},
     "outputs": [],
     "prompt_number": 153
    },
    {
     "cell_type": "code",
     "collapsed": false,
     "input": [
      "seq1"
     ],
     "language": "python",
     "metadata": {},
     "outputs": [
      {
       "metadata": {},
       "output_type": "pyout",
       "prompt_number": 154,
       "text": [
        "SeqRecord(seq=Seq('MGIKQYSQEELKEMALVEIAHELFEEHKKPVPFQELLNEIASLLGVKKEELGDR...EIK', SingleLetterAlphabet()), id='sp|P12464|RPOE_BACSU', name='sp|P12464|RPOE_BACSU', description='sp|P12464|RPOE_BACSU DNA-directed RNA polymerase subunit delta OS=Bacillus subtilis (strain 168) GN=rpoE PE=1 SV=1', dbxrefs=[])"
       ]
      }
     ],
     "prompt_number": 154
    },
    {
     "cell_type": "code",
     "collapsed": false,
     "input": [
      "print seq1"
     ],
     "language": "python",
     "metadata": {},
     "outputs": [
      {
       "output_type": "stream",
       "stream": "stdout",
       "text": [
        "ID: sp|P12464|RPOE_BACSU\n",
        "Name: sp|P12464|RPOE_BACSU\n",
        "Description: sp|P12464|RPOE_BACSU DNA-directed RNA polymerase subunit delta OS=Bacillus subtilis (strain 168) GN=rpoE PE=1 SV=1\n",
        "Number of features: 0\n",
        "Seq('MGIKQYSQEELKEMALVEIAHELFEEHKKPVPFQELLNEIASLLGVKKEELGDR...EIK', SingleLetterAlphabet())\n"
       ]
      }
     ],
     "prompt_number": 155
    },
    {
     "cell_type": "markdown",
     "metadata": {},
     "source": [
      "The nice thing about this method, is that it abstracts over all the different file formats. If we want to parse another file which is a FASTQ instead of a FASTA file, we simply need to change the file name and the format name."
     ]
    },
    {
     "cell_type": "code",
     "collapsed": false,
     "input": [
      "seq2 = SeqIO.read('data/easy.fastq', 'fastq')"
     ],
     "language": "python",
     "metadata": {},
     "outputs": [],
     "prompt_number": 156
    },
    {
     "cell_type": "code",
     "collapsed": false,
     "input": [
      "seq2"
     ],
     "language": "python",
     "metadata": {},
     "outputs": [
      {
       "metadata": {},
       "output_type": "pyout",
       "prompt_number": 157,
       "text": [
        "SeqRecord(seq=Seq('CCGCGACCTCTGTTCTGCAGCCCCTTCCCTTCCCCGCCTCCTGCTCTGCCGGGA...CCA', SingleLetterAlphabet()), id='HWI-ST1019:196:D121WACXX:5:1101:1538:2300/1', name='HWI-ST1019:196:D121WACXX:5:1101:1538:2300/1', description='HWI-ST1019:196:D121WACXX:5:1101:1538:2300/1', dbxrefs=[])"
       ]
      }
     ],
     "prompt_number": 157
    },
    {
     "cell_type": "code",
     "collapsed": false,
     "input": [
      "print seq2"
     ],
     "language": "python",
     "metadata": {},
     "outputs": [
      {
       "output_type": "stream",
       "stream": "stdout",
       "text": [
        "ID: HWI-ST1019:196:D121WACXX:5:1101:1538:2300/1\n",
        "Name: HWI-ST1019:196:D121WACXX:5:1101:1538:2300/1\n",
        "Description: HWI-ST1019:196:D121WACXX:5:1101:1538:2300/1\n",
        "Number of features: 0\n",
        "Per letter annotation for: phred_quality\n",
        "Seq('CCGCGACCTCTGTTCTGCAGCCCCTTCCCTTCCCCGCCTCCTGCTCTGCCGGGA...CCA', SingleLetterAlphabet())\n"
       ]
      }
     ],
     "prompt_number": 158
    },
    {
     "cell_type": "markdown",
     "metadata": {},
     "source": [
      "Of course, since the FASTQ file has additional quality information, we can now access it. In this case, the qualities are stored in `letter_annotations`"
     ]
    },
    {
     "cell_type": "code",
     "collapsed": false,
     "input": [
      "print seq2.letter_annotations"
     ],
     "language": "python",
     "metadata": {},
     "outputs": [
      {
       "output_type": "stream",
       "stream": "stdout",
       "text": [
        "{'phred_quality': [16, 10, 10, 10, 19, 8, 27, 31, 27, 32, 27, 10, 17, 32, 24, 32, 17, 10, 10, 25, 18, 34, 23, 25, 8, 16, 30, 33, 35, 33, 35, 33, 33, 35, 34, 31, 25, 25, 21, 31, 7, 13, 23, 13, 13, 22, 8, 22, 22, 22, 25, 27, 30, 31, 31, 2, 2, 2, 2, 2, 2, 2, 2, 2, 2, 2, 2, 2, 2, 2, 2, 2, 2, 2, 2, 2, 2, 2, 2, 2, 2, 2, 2, 2, 2, 2, 2, 2, 2, 2, 2, 2, 2, 2, 2, 2, 2, 2, 2, 2, 2]}\n"
       ]
      }
     ],
     "prompt_number": 159
    },
    {
     "cell_type": "markdown",
     "metadata": {},
     "source": [
      "Even more, `SeqIO` has support not only for plain text formats but also binary formats. Here's an example of `SeqIO` reading a Sanger sequencing trace file. Note the additional information (e.g. sequencing well) stored in the file is also parsed."
     ]
    },
    {
     "cell_type": "code",
     "collapsed": false,
     "input": [
      "seq3 = SeqIO.read('data/sanger.ab1', 'abi')"
     ],
     "language": "python",
     "metadata": {},
     "outputs": [],
     "prompt_number": 160
    },
    {
     "cell_type": "code",
     "collapsed": false,
     "input": [
      "print seq3"
     ],
     "language": "python",
     "metadata": {},
     "outputs": [
      {
       "output_type": "stream",
       "stream": "stdout",
       "text": [
        "ID: 226032_C-ME-18_pCAGseqF\n",
        "Name: sanger\n",
        "Number of features: 0\n",
        "/polymer=POP7                            \n",
        "/run_finish=2009-12-12 11:44:49\n",
        "/sample_well=B9\n",
        "/run_start=2009-12-12 09:56:53\n",
        "/machine_model=3730\n",
        "/dye=Z-BigDyeV3\n",
        "Per letter annotation for: phred_quality\n",
        "Seq('GGGCGAGCKYYAYATTTTGGCAAGAATTGAGCTCTATGGCCACAACCATGGTGA...TTC', IUPACAmbiguousDNA())\n"
       ]
      }
     ],
     "prompt_number": 161
    },
    {
     "cell_type": "markdown",
     "metadata": {},
     "source": [
      "Head over to the [official Biopython API documentation](http://biopython.org/DIST/docs/api/) for a complete list of supported formats."
     ]
    },
    {
     "cell_type": "markdown",
     "metadata": {},
     "source": [
      "# `SeqIO.parse`"
     ]
    },
    {
     "cell_type": "markdown",
     "metadata": {},
     "source": [
      "`SeqIO.parse` is similar to `SeqIO.read`, but instead of returning a single `SeqRecord` object, we return a generator over the file.\n",
      "\n",
      "????? should we explain generators or use a simple analogy like below?\n",
      "\n",
      "A simple way to think about the generator in this case is that it is similar to file handles we saw on Tuesday.\n",
      "\n",
      "    fh = open('my_file')\n",
      "    for line in fh:\n",
      "        print line\n",
      "    fh.close()\n",
      "\n",
      "However, instead of returning each line of the file, here we return a single `SeqRecord` object per iteration and we do not need to do a `close` afterwards because it is handled automatically by Biopython.\n",
      "\n",
      "    for rec in SeqIO.parse('my_sequence.fa', 'fasta'):\n",
      "        print rec\n"
     ]
    },
    {
     "cell_type": "code",
     "collapsed": false,
     "input": [
      "SeqIO.parse('data/parse.fastq', 'fastq')"
     ],
     "language": "python",
     "metadata": {},
     "outputs": [
      {
       "metadata": {},
       "output_type": "pyout",
       "prompt_number": 162,
       "text": [
        "<generator object parse at 0x45d1500>"
       ]
      }
     ],
     "prompt_number": 162
    },
    {
     "cell_type": "code",
     "collapsed": false,
     "input": [
      "for rec in SeqIO.parse('data/parse.fastq', 'fastq'):\n",
      "    print rec.seq"
     ],
     "language": "python",
     "metadata": {},
     "outputs": [
      {
       "output_type": "stream",
       "stream": "stdout",
       "text": [
        "CCGCGACCTCTGTTCTGCAGCCCCTTCCCTTCCCCGCCTCCTGCTCTGCCGGGACTACGCACCGGCCTGATTGGTTACCCCCGGGGTGTCCTCGGTCACCA\n",
        "CCGCGACCTCTGTTCTGCAGCCCCTTCCCTTCCCCGCCTCCTGCTCTGCCGGGACTACGCACCGGCCTGATTGGTTACCCCCGGGGTGTCCTCGGTCACCA\n"
       ]
      }
     ],
     "prompt_number": 163
    },
    {
     "cell_type": "markdown",
     "metadata": {},
     "source": [
      "The advantage of `SeqIO.parse` is that it allows you to handle large, multi-sequence files gracefully. The file size may well exceed your memory, but this allows us to process the records one by one."
     ]
    },
    {
     "cell_type": "code",
     "collapsed": false,
     "input": [
      "`SeqIO.parse` supports the same set of formats that `SeqIO.read` supports, one example is shown below."
     ],
     "language": "python",
     "metadata": {},
     "outputs": []
    },
    {
     "cell_type": "code",
     "collapsed": false,
     "input": [
      "for rec in SeqIO.parse('data/roche.sff', 'sff'):\n",
      "    print rec.id, len(rec), rec.seq[:10]"
     ],
     "language": "python",
     "metadata": {},
     "outputs": [
      {
       "output_type": "stream",
       "stream": "stdout",
       "text": [
        "E3MFGYR02JWQ7T 265 tcagGGTCTA\n",
        "E3MFGYR02JA6IL 271 tcagTTTTTT\n",
        "E3MFGYR02JHD4H 310 tcagAAAGAC\n",
        "E3MFGYR02GFKUC 299 tcagCGGCCG\n",
        "E3MFGYR02FTGED 281 tcagTGGTAA\n",
        "E3MFGYR02FR9G7 261 tcagCTCCGT\n",
        "E3MFGYR02GAZMS 278 tcagAAAGAA\n",
        "E3MFGYR02HHZ8O 221 tcagACTTTC\n",
        "E3MFGYR02GPGB1 269 tcagAAGCAG\n",
        "E3MFGYR02F7Z7G 219 tcagAATCAT\n"
       ]
      }
     ],
     "prompt_number": 164
    },
    {
     "cell_type": "markdown",
     "metadata": {},
     "source": [
      "$\\S$ Exercise: Trimming sequences from a mangled FASTQ file\n",
      "===\n",
      "\n",
      "* From the interleaved FASTQ file `data/mangled.fq`, print all sequences of the first read pairs after trimming off their first five nucleotides\n",
      "* Hint: first pair and second pair records are marked with `/1` and `/2` respectively"
     ]
    },
    {
     "cell_type": "markdown",
     "metadata": {},
     "source": [
      "# Writing sequence files with `SeqIO.write`\n",
      "\n",
      "Often, after manipulating parsed sequences, we need to write it back to a file. This is accomplished using `SeqIO.write` in Biopython. The function takes as its input:\n",
      "\n",
      "* an iterable returning `SeqRecord` objects (generators and lists are examples of iterables)\n",
      "\n",
      "* a filename to write to or a file-like handle\n",
      "\n",
      "* the format to write to\n",
      "\n",
      "And returns the number of sequences written, while writing to the actual file in the process."
     ]
    },
    {
     "cell_type": "code",
     "collapsed": false,
     "input": [
      "in_seqs = SeqIO.parse('data/parse.fastq', 'fastq')"
     ],
     "language": "python",
     "metadata": {},
     "outputs": [],
     "prompt_number": 169
    },
    {
     "cell_type": "code",
     "collapsed": false,
     "input": [
      "SeqIO.write(in_seqs, 'my_sequences.fa', 'fasta')"
     ],
     "language": "python",
     "metadata": {},
     "outputs": [
      {
       "metadata": {},
       "output_type": "pyout",
       "prompt_number": 170,
       "text": [
        "2"
       ]
      }
     ],
     "prompt_number": 170
    },
    {
     "cell_type": "markdown",
     "metadata": {},
     "source": [
      "Note that we're free to write the output format as any format supported by `SeqIO.write` so long as the information is adequate. In this case, reading the `my_sequences.fa` and writing it back to `parse.fastq` would not be possible since we have discarded the quality information."
     ]
    },
    {
     "cell_type": "markdown",
     "metadata": {},
     "source": [
      "Additionally, the sequence records are written one-by-one to the file (courtesy of `SeqIO.parse`). So even if the `data/parse.fastq` is 10GB large, we can run the commands with only 1GB free memory (for example)."
     ]
    },
    {
     "cell_type": "markdown",
     "metadata": {},
     "source": [
      "# Additional `SeqIO` methods\n",
      "\n",
      "There are several more useful `SeqIO` functions, which you are free to try out on your own:\n",
      "\n",
      "* `SeqIO.index`: for efficiently fetching random records from a large sequence file\n",
      "* `SeqIO.index_db`: similar to `SeqIO.index`, but with a persistent index\n",
      "* `SeqIO.convert`: shortcut for converting between file formats"
     ]
    },
    {
     "cell_type": "markdown",
     "metadata": {},
     "source": [
      "# Fetching from online resources: Bio.Entrez\n",
      "\n",
      "The `Bio.Entrez` library provides interface to [NCBI's Entrez e-utilities](https://www.ncbi.nlm.nih.gov/books/NBK25500/). One example we are demonstrating today is the `Entrez.efetch` utility to retrieve various records from one of NCBI's database."
     ]
    },
    {
     "cell_type": "code",
     "collapsed": false,
     "input": [
      "from Bio import Entrez"
     ],
     "language": "python",
     "metadata": {},
     "outputs": [],
     "prompt_number": 171
    },
    {
     "cell_type": "code",
     "collapsed": false,
     "input": [
      "Entrez.email = 'python@lumc.nl'    # this is an NCBI requirement. if not provided, efetch will not work"
     ],
     "language": "python",
     "metadata": {},
     "outputs": [],
     "prompt_number": 172
    },
    {
     "cell_type": "markdown",
     "metadata": {},
     "source": [
      "The `Entrez.efetch` function returns a file-like handle that instead of pointing to a local file, points to a remote resource. This file handle is similar to the local file handle we saw on Tuesday as well."
     ]
    },
    {
     "cell_type": "code",
     "collapsed": false,
     "input": [
      "fetched = Entrez.efetch(db=\"nucleotide\", id=\"NM_005804\", rettype=\"gb\", retmode=\"text\")"
     ],
     "language": "python",
     "metadata": {},
     "outputs": [],
     "prompt_number": 127
    },
    {
     "cell_type": "markdown",
     "metadata": {},
     "source": [
      "We can of course do a `fetched.read()` and see the entire contents of the genbank file. But we know how to work with `SeqIO.read` now, so let's use that instead (recall that `SeqIO.read` works equally well with file handles and local file names):"
     ]
    },
    {
     "cell_type": "code",
     "collapsed": false,
     "input": [
      "ncbi_rec = SeqIO.read(fetched, 'genbank')"
     ],
     "language": "python",
     "metadata": {},
     "outputs": [],
     "prompt_number": 128
    },
    {
     "cell_type": "code",
     "collapsed": false,
     "input": [
      "print ncbi_rec"
     ],
     "language": "python",
     "metadata": {},
     "outputs": [
      {
       "output_type": "stream",
       "stream": "stdout",
       "text": [
        "ID: NM_005804.3\n",
        "Name: NM_005804\n",
        "Description: Homo sapiens DEAD (Asp-Glu-Ala-Asp) box polypeptide 39A (DDX39A), transcript variant 1, mRNA.\n",
        "Number of features: 13\n",
        "/comment=REVIEWED REFSEQ: This record has been curated by NCBI staff. The\n",
        "reference sequence was derived from DA432925.1, BC001009.2 and\n",
        "BM792110.1.\n",
        "This sequence is a reference standard in the RefSeqGene project.\n",
        "On Oct 14, 2010 this sequence version replaced gi:21040370.\n",
        "Summary: This gene encodes a member of the DEAD box protein family.\n",
        "These proteins are characterized by the conserved motif\n",
        "Asp-Glu-Ala-Asp (DEAD) and are putative RNA helicases. They are\n",
        "implicated in a number of cellular processes involving alteration\n",
        "of RNA secondary structure, such as translation initiation, nuclear\n",
        "and mitochondrial splicing, and ribosome and spliceosome assembly.\n",
        "Based on their distribution patterns, some members of the DEAD box\n",
        "protein family are believed to be involved in embryogenesis,\n",
        "spermatogenesis, and cellular growth and division. Alternatively\n",
        "spliced transcript variants encoding different isoforms have been\n",
        "found. [provided by RefSeq, Feb 2011].\n",
        "Transcript Variant: This variant (1) represents the predominant,\n",
        "protein-coding transcript.\n",
        "Publication Note:  This RefSeq record includes a subset of the\n",
        "publications that are available for this gene. Please see the Gene\n",
        "record to access additional publications.\n",
        "##Evidence-Data-START##\n",
        "Transcript exon combination :: U90426.1, BC001009.2 [ECO:0000332]\n",
        "RNAseq introns              :: single sample supports all introns\n",
        "                               ERS025084 [ECO:0000348]\n",
        "##Evidence-Data-END##\n",
        "COMPLETENESS: complete on the 3' end.\n",
        "/sequence_version=3\n",
        "/source=Homo sapiens (human)\n",
        "/taxonomy=['Eukaryota', 'Metazoa', 'Chordata', 'Craniata', 'Vertebrata', 'Euteleostomi', 'Mammalia', 'Eutheria', 'Euarchontoglires', 'Primates', 'Haplorrhini', 'Catarrhini', 'Hominidae', 'Homo']\n",
        "/keywords=['RefSeq']\n",
        "/references=[Reference(title='DDX39 acts as a suppressor of invasion for bladder cancer', ...), Reference(title='Clinical proteomics identified ATP-dependent RNA helicase DDX39 as a novel biomarker to predict poor prognosis of patients with gastrointestinal stromal tumor', ...), Reference(title='Meta-analysis of genome-wide association studies identifies three new risk loci for atopic dermatitis', ...), Reference(title='Interferon-induced antiviral protein MxA interacts with the cellular RNA helicases UAP56 and URH49', ...), Reference(title='The cellular DExD/H-box RNA-helicases UAP56 and URH49 exhibit a CRM1-independent nucleocytoplasmic shuttling activity', ...), Reference(title='Growth-regulated expression and G0-specific turnover of the mRNA that encodes URH49, a mammalian DExH/D box protein that is highly related to the mRNA export protein UAP56', ...), Reference(title='Analysis of a high-throughput yeast two-hybrid system and its use to predict the function of intracellular proteins encoded within the human MHC class III region', ...), Reference(title='TREX is a conserved complex coupling transcription with messenger RNA export', ...), Reference(title='Directed proteomic analysis of the human nucleolus', ...), Reference(title='The BAT1 gene in the MHC encodes an evolutionarily conserved putative nuclear RNA helicase of the DEAD family', ...)]\n",
        "/accessions=['NM_005804']\n",
        "/data_file_division=PRI\n",
        "/date=07-JUL-2013\n",
        "/organism=Homo sapiens\n",
        "/gi=308522777\n",
        "Seq('AGCAGCAGCCCGACGCAAGAGGCAGGAAGCGCAGCAACTCGTGTCTGAGCGCCC...AAA', IUPACAmbiguousDNA())\n"
       ]
      }
     ],
     "prompt_number": 129
    },
    {
     "cell_type": "markdown",
     "metadata": {},
     "source": [
      "`Entrez.efetch` also allows you to fetch multiple records in one go:"
     ]
    },
    {
     "cell_type": "code",
     "collapsed": false,
     "input": [
      "fetched2 = Entrez.efetch(db=\"nucleotide\", id=[\"NM_005804\",\"NM_000967\"], rettype=\"gb\", retmode=\"text\")"
     ],
     "language": "python",
     "metadata": {},
     "outputs": [],
     "prompt_number": 120
    },
    {
     "cell_type": "code",
     "collapsed": false,
     "input": [
      "for rec in SeqIO.parse(fetched2, 'genbank'):\n",
      "    print rec.id, rec.description"
     ],
     "language": "python",
     "metadata": {},
     "outputs": [
      {
       "output_type": "stream",
       "stream": "stdout",
       "text": [
        "NM_005804.3 Homo sapiens DEAD (Asp-Glu-Ala-Asp) box polypeptide 39A (DDX39A), transcript variant 1, mRNA.\n",
        "NM_000967.3 Homo sapiens ribosomal protein L3 (RPL3), transcript variant 1, mRNA.\n"
       ]
      }
     ],
     "prompt_number": 122
    },
    {
     "cell_type": "markdown",
     "metadata": {},
     "source": [
      "For a full argument list of `Entrez.efetch`, consult its [documentation page](https://www.ncbi.nlm.nih.gov/books/NBK25499/#chapter4.EFetch)."
     ]
    },
    {
     "cell_type": "markdown",
     "metadata": {},
     "source": [
      "## Other `Bio.Entrez` utilities\n",
      "\n",
      "Biopython has the entire Entrez suite supported. A complete list of the Entrez services are available in its [documentation](https://www.ncbi.nlm.nih.gov/books/NBK25500/)."
     ]
    },
    {
     "cell_type": "markdown",
     "metadata": {},
     "source": [
      "# Performing remote search: `Bio.Blast.NCBIWWW`\n",
      "\n",
      "Entrez is not the only online service Biopython interacts with. We can also submit BLAST searches through Biopython to NCBI using the `qblast` function in the `NCBIWWW` module.\n",
      "\n",
      "Similar to Entrez, Biopython tries to conform to the NCBI's remote BLAST required parameters in the function call. The official NCBI documentation is [here](https://www.ncbi.nlm.nih.gov/BLAST/Doc/urlapi.html)."
     ]
    },
    {
     "cell_type": "markdown",
     "metadata": {},
     "source": [
      "Let's do a short BLAST search using our earlier fetched `ncbi_seq` (NM_005804). "
     ]
    },
    {
     "cell_type": "code",
     "collapsed": false,
     "input": [
      "from Bio.Blast.NCBIWWW import qblast"
     ],
     "language": "python",
     "metadata": {},
     "outputs": [],
     "prompt_number": 131
    },
    {
     "cell_type": "code",
     "collapsed": false,
     "input": [
      "blast_handle = qblast('blastn', 'refseq_mrna', ncbi_rec.seq)"
     ],
     "language": "python",
     "metadata": {},
     "outputs": [],
     "prompt_number": 132
    },
    {
     "cell_type": "markdown",
     "metadata": {},
     "source": [
      "By default, the command returns the BLAST result in an XML file (one of the available formats to download from an interactive BLAST session). We can do the following to write the results to a file for viewing later:\n",
      "\n",
      "    blast_file = open('my_blast_output.xml', 'w')\n",
      "    blast_file.write(blast_handle.read())\n",
      "    blast_file.close()"
     ]
    },
    {
     "cell_type": "markdown",
     "metadata": {},
     "source": [
      "# Parsing the search results: `Bio.SearchIO`"
     ]
    },
    {
     "cell_type": "markdown",
     "metadata": {},
     "source": [
      "Of course, Biopython has parsing capabilities for the results as well. As mentioned briefly above, parsing for these types of file is available in the `Bio.Blast.NCBIXML` submodule and `Bio.SearchIO` submodule. The former is an old module that will be deprecated soon, replaced by the latter (which is still in experimental stage, but already stable enough)."
     ]
    },
    {
     "cell_type": "markdown",
     "metadata": {},
     "source": [
      "Here's a short example if we're using `Bio.SearchIO`:"
     ]
    },
    {
     "cell_type": "code",
     "collapsed": false,
     "input": [
      "from Bio import SearchIO"
     ],
     "language": "python",
     "metadata": {},
     "outputs": [],
     "prompt_number": 136
    },
    {
     "cell_type": "code",
     "collapsed": false,
     "input": [
      "qresult = SearchIO.read(blast_handle, 'blast-xml')"
     ],
     "language": "python",
     "metadata": {},
     "outputs": [],
     "prompt_number": 137
    },
    {
     "cell_type": "code",
     "collapsed": false,
     "input": [
      "qresult"
     ],
     "language": "python",
     "metadata": {},
     "outputs": [
      {
       "metadata": {},
       "output_type": "pyout",
       "prompt_number": 138,
       "text": [
        "QueryResult(id='22127', 50 hits)"
       ]
      }
     ],
     "prompt_number": 138
    },
    {
     "cell_type": "code",
     "collapsed": false,
     "input": [
      "print qresult"
     ],
     "language": "python",
     "metadata": {},
     "outputs": [
      {
       "output_type": "stream",
       "stream": "stdout",
       "text": [
        "Program: blastn (2.2.28+)\n",
        "  Query: 22127 (1558)\n",
        "         No definition line\n",
        " Target: refseq_mrna\n",
        "   Hits: ----  -----  ----------------------------------------------------------\n",
        "            #  # HSP  ID + description                                          \n",
        "         ----  -----  ----------------------------------------------------------\n",
        "            0      1  gi|308522777|ref|NM_005804.3|  Homo sapiens DEAD (Asp-G...\n",
        "            1      1  gi|397471065|ref|XM_003807080.1|  PREDICTED: Pan panisc...\n",
        "            2      1  gi|426387514|ref|XM_004060164.1|  PREDICTED: Gorilla go...\n",
        "            3      1  gi|395750601|ref|XM_002828787.2|  PREDICTED: Pongo abel...\n",
        "            4      1  gi|402904531|ref|XM_003915048.1|  PREDICTED: Papio anub...\n",
        "            5      1  gi|426387518|ref|XM_004060166.1|  PREDICTED: Gorilla go...\n",
        "            6      1  gi|403302190|ref|XM_003941697.1|  PREDICTED: Saimiri bo...\n",
        "            7      1  gi|301601638|ref|NM_001193491.1|  Macaca mulatta DEAD (...\n",
        "            8      1  gi|441628855|ref|XM_003275677.2|  PREDICTED: Nomascus l...\n",
        "            9      1  gi|478537026|ref|XM_004442573.1|  PREDICTED: Ceratother...\n",
        "           10      1  gi|472358840|ref|XM_004398985.1|  PREDICTED: Odobenus r...\n",
        "           11      1  gi|410950597|ref|XM_003981942.1|  PREDICTED: Felis catu...\n",
        "           12      1  gi|395850754|ref|XM_003797893.1|  PREDICTED: Otolemur g...\n",
        "           13      1  gi|511847827|ref|XM_004748233.1|  PREDICTED: Mustela pu...\n",
        "           14      1  gi|466046657|ref|XM_004277418.1|  PREDICTED: Orcinus or...\n",
        "           15      1  gi|470600673|ref|XM_004312273.1|  PREDICTED: Tursiops t...\n",
        "           16      1  gi|301771295|ref|XM_002920972.1|  PREDICTED: Ailuropoda...\n",
        "           17      1  gi|345787717|ref|XM_533895.3|  PREDICTED: Canis lupus f...\n",
        "           18      1  gi|344283234|ref|XM_003413330.1|  PREDICTED: Loxodonta ...\n",
        "           19      1  gi|471416597|ref|XM_004389765.1|  PREDICTED: Trichechus...\n",
        "           20      1  gi|426228875|ref|XM_004008473.1|  PREDICTED: Ovis aries...\n",
        "           21      1  gi|511847823|ref|XM_004748231.1|  PREDICTED: Mustela pu...\n",
        "           22      1  gi|511847825|ref|XM_004748232.1|  PREDICTED: Mustela pu...\n",
        "           23      1  gi|77736448|ref|NM_001034752.1|  Bos taurus DEAD (Asp-G...\n",
        "           24      1  gi|507964305|ref|XM_004688236.1|  PREDICTED: Condylura ...\n",
        "           25      2  gi|335282777|ref|XM_003123370.2|  PREDICTED: Sus scrofa...\n",
        "           26      1  gi|514445080|ref|XM_004999847.1|  PREDICTED: Cavia porc...\n",
        "           27      2  gi|513022593|ref|XM_004872489.1|  PREDICTED: Heteroceph...\n",
        "           28      1  gi|395837043|ref|XM_003791407.1|  PREDICTED: Otolemur g...\n",
        "           29      2  gi|335282779|ref|XM_003354105.1|  PREDICTED: Sus scrofa...\n",
        "           ~~~\n",
        "           47      1  gi|213511505|ref|NM_001141379.1|  Salmo salar ATP-depen...\n",
        "           48      1  gi|524974020|ref|XM_005086794.1|  PREDICTED: Mesocricet...\n",
        "           49      1  gi|524974018|ref|XM_005086793.1|  PREDICTED: Mesocricet...\n"
       ]
      }
     ],
     "prompt_number": 139
    },
    {
     "cell_type": "markdown",
     "metadata": {},
     "source": [
      "Notice that the function call is very similar to `SeqIO`. However, the returned object `QueryResult` is something we have not seen before. In general, this is a container object for all our results.\n",
      "\n",
      "The main principle of `Bio.SearchIO` objects is that for all sequence database searches, we have at least three layers of containers:\n",
      "\n",
      " 1. The query itself (`QueryResult`)\n",
      " 2. All the database hits from the query (`Hit`)\n",
      " 3. All the locations in a database record where alignments are found (`HSP`, for high-scoring pair)"
     ]
    },
    {
     "cell_type": "code",
     "collapsed": false,
     "input": [
      "# for every hit in the first 10 query result\n",
      "for hit in qresult[:10]:\n",
      "    # for every hsp in hit\n",
      "    for hsp in hit:\n",
      "        # show the hit ID and how long the match spans the hit (ungapped)\n",
      "        print hit.id, hsp.hit_span"
     ],
     "language": "python",
     "metadata": {},
     "outputs": [
      {
       "output_type": "stream",
       "stream": "stdout",
       "text": [
        "gi|308522777|ref|NM_005804.3| 1558\n",
        "gi|397471065|ref|XM_003807080.1| 1540\n",
        "gi|426387514|ref|XM_004060164.1| 1539\n",
        "gi|395750601|ref|XM_002828787.2| 1536\n",
        "gi|402904531|ref|XM_003915048.1| 1562\n",
        "gi|426387518|ref|XM_004060166.1| 1428\n",
        "gi|403302190|ref|XM_003941697.1| 1539\n",
        "gi|301601638|ref|NM_001193491.1| 1300\n",
        "gi|441628855|ref|XM_003275677.2| 1419\n",
        "gi|478537026|ref|XM_004442573.1| 1402\n"
       ]
      }
     ],
     "prompt_number": 148
    },
    {
     "cell_type": "markdown",
     "metadata": {},
     "source": [
      "And all these containers are indexable"
     ]
    },
    {
     "cell_type": "code",
     "collapsed": false,
     "input": [
      "# get the Hit object with the ID 'gi|308522777|ref|NM_005804.3|'\n",
      "qresult['gi|308522777|ref|NM_005804.3|']"
     ],
     "language": "python",
     "metadata": {},
     "outputs": [
      {
       "metadata": {},
       "output_type": "pyout",
       "prompt_number": 149,
       "text": [
        "Hit(id='gi|308522777|ref|NM_005804.3|', query_id='22127', 1 hsps)"
       ]
      }
     ],
     "prompt_number": 149
    },
    {
     "cell_type": "code",
     "collapsed": false,
     "input": [
      "# get the first Hit object\n",
      "qresult[0]"
     ],
     "language": "python",
     "metadata": {},
     "outputs": [
      {
       "metadata": {},
       "output_type": "pyout",
       "prompt_number": 150,
       "text": [
        "Hit(id='gi|308522777|ref|NM_005804.3|', query_id='22127', 1 hsps)"
       ]
      }
     ],
     "prompt_number": 150
    },
    {
     "cell_type": "code",
     "collapsed": false,
     "input": [
      "# get the first HSP of the first Hit object\n",
      "qresult[0][0]"
     ],
     "language": "python",
     "metadata": {},
     "outputs": [
      {
       "metadata": {},
       "output_type": "pyout",
       "prompt_number": 151,
       "text": [
        "HSP(hit_id='gi|308522777|ref|NM_005804.3|', query_id='22127', 1 fragments)"
       ]
      }
     ],
     "prompt_number": 151
    },
    {
     "cell_type": "markdown",
     "metadata": {},
     "source": [
      "There is more to these objects than can be shown here. You can consult the [official API documentation](http://biopython.org/DIST/docs/api/) for a full reference."
     ]
    },
    {
     "cell_type": "markdown",
     "metadata": {},
     "source": [
      "# Closing\n",
      "\n",
      "Biopython is not the only useful 3rd party Python library out there. There is still much ground it does not cover, which is covered by other modules. Some of the modules you may find useful:\n",
      "\n",
      "* [pysam](http://wwwfgu.anat.ox.ac.uk/~andreas/documentation/samtools/api.html): for parsing and writing SAM/BAM files\n",
      "* [PyVCF](http://pyvcf.readthedocs.org/en/latest/): for working with VCF files\n",
      "* [track](http://xapple.github.io/track/): for working with genome tracks (e.g. BED tracks)\n",
      "* ..."
     ]
    },
    {
     "cell_type": "markdown",
     "metadata": {},
     "source": [
      "$\\S$ Exercise: Navigating through a BLAST result\n",
      "===\n",
      "\n",
      "* From the last BLAST result we have, fetch the full sequences of the top 10 hits that are not predicted sequences."
     ]
    },
    {
     "cell_type": "code",
     "collapsed": false,
     "input": [
      "from IPython.core.display import HTML\n",
      "def custom_style():\n",
      "    style = open('styles/notebook.css.small', 'r').read()\n",
      "    return HTML('<style>' + style + '</style>')\n",
      "def custom_script():\n",
      "    script = open('styles/notebook.js', 'r').read()\n",
      "    return HTML('<script>' + script + '</script>')"
     ],
     "language": "python",
     "metadata": {},
     "outputs": [],
     "prompt_number": 133
    },
    {
     "cell_type": "code",
     "collapsed": false,
     "input": [
      "custom_style()"
     ],
     "language": "python",
     "metadata": {},
     "outputs": [
      {
       "html": [
        "<style>/*\n",
        "  https://github.com/CamDavidsonPilon/Probabilistic-Programming-and-Bayesian-Methods-for-Hackers\n",
        "*/\n",
        "@font-face {\n",
        "    font-family: \"Computer Modern\";\n",
        "    src: url('http://mirrors.ctan.org/fonts/cm-unicode/fonts/otf/cmunss.otf');\n",
        "}\n",
        "div.cell{\n",
        "    /*width:800px;\n",
        "    margin-left:16% !important;*/\n",
        "    margin-right:auto;\n",
        "}\n",
        "h1 {\n",
        "    font-family: Helvetica, serif;\n",
        "}\n",
        "h4{\n",
        "    margin-top:12px;\n",
        "    margin-bottom: 3px;\n",
        "   }\n",
        "div.text_cell_render{\n",
        "    font-family: Computer Modern, \"Helvetica Neue\", Arial, Helvetica, Geneva, sans-serif;\n",
        "    line-height: 145%;\n",
        "    font-size: 130%;\n",
        "    /*width:800px;*/\n",
        "    margin-left:auto;\n",
        "    margin-right:auto;\n",
        "}\n",
        ".CodeMirror{\n",
        "        font-family: \"Source Code Pro\", source-code-pro,Consolas, monospace;\n",
        "}\n",
        ".prompt{\n",
        "    display: None;\n",
        "}\n",
        ".text_cell_render h5 {\n",
        "    font-weight: 300;\n",
        "    font-size: 22pt;\n",
        "    color: #4057A1;\n",
        "    font-style: italic;\n",
        "    margin-bottom: .5em;\n",
        "    margin-top: 0.5em;\n",
        "    display: block;\n",
        "}\n",
        "\n",
        ".warning{\n",
        "    color: rgb( 240, 20, 20 )\n",
        "}\n",
        "</style>"
       ],
       "metadata": {},
       "output_type": "pyout",
       "prompt_number": 75,
       "text": [
        "<IPython.core.display.HTML at 0x418a4d0>"
       ]
      }
     ],
     "prompt_number": 75
    },
    {
     "cell_type": "code",
     "collapsed": false,
     "input": [
      "custom_script()\n"
     ],
     "language": "python",
     "metadata": {},
     "outputs": []
    }
   ],
   "metadata": {}
  }
 ]
}