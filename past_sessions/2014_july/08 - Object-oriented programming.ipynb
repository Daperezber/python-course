{
 "metadata": {
  "celltoolbar": "Slideshow",
  "name": "",
  "signature": "sha256:cc3445be700b04417d5ff13988abf847d17c7d017eea0a2841759469ca16b7fa"
 },
 "nbformat": 3,
 "nbformat_minor": 0,
 "worksheets": [
  {
   "cells": [
    {
     "cell_type": "markdown",
     "metadata": {
      "slideshow": {
       "slide_type": "slide"
      }
     },
     "source": [
      "<span style=\"font-size: 200%\">Object-oriented programming</span>\n",
      "===\n",
      "\n",
      "<br>\n",
      "\n",
      "[Jeroen Laros](mailto:j.f.j.laros@lumc.nl), [Department of Human Genetics, Leiden University Medical Center](http://humgen.nl)\n",
      "\n",
      "License: [Creative Commons Attribution 3.0 License (CC-by)](http://creativecommons.org/licenses/by/3.0)"
     ]
    },
    {
     "cell_type": "markdown",
     "metadata": {
      "slideshow": {
       "slide_type": "slide"
      }
     },
     "source": [
      "Keeping track of attributes\n",
      "===\n",
      "\n",
      "Suppose we want to keep track of some properties in a population:\n",
      "\n",
      "* Hair colour.\n",
      "* Weight.\n",
      "* Length."
     ]
    },
    {
     "cell_type": "markdown",
     "metadata": {
      "slideshow": {
       "slide_type": "slide"
      }
     },
     "source": [
      "Non-object oriented\n",
      "===\n",
      "\n",
      "Should we use simple lists?"
     ]
    },
    {
     "cell_type": "code",
     "collapsed": false,
     "input": [
      "hair_colour = ['black', 'red', 'white', 'blue', 'red']\n",
      "weight = [80, 75, 130, 90, 64]\n",
      "length = [180, 174, 230, 161, 149]\n",
      "\n",
      "hair_colour[3], weight[3], length[3]"
     ],
     "language": "python",
     "metadata": {},
     "outputs": [
      {
       "metadata": {},
       "output_type": "pyout",
       "prompt_number": 1,
       "text": [
        "('blue', 90, 161)"
       ]
      }
     ],
     "prompt_number": 1
    },
    {
     "cell_type": "markdown",
     "metadata": {},
     "source": [
      "Getting all attributes is a bit of a hastle."
     ]
    },
    {
     "cell_type": "code",
     "collapsed": false,
     "input": [
      "weight[3]"
     ],
     "language": "python",
     "metadata": {},
     "outputs": [
      {
       "metadata": {},
       "output_type": "pyout",
       "prompt_number": 2,
       "text": [
        "90"
       ]
      }
     ],
     "prompt_number": 2
    },
    {
     "cell_type": "markdown",
     "metadata": {},
     "source": [
      "Getting one attribute is easy though."
     ]
    },
    {
     "cell_type": "markdown",
     "metadata": {
      "slideshow": {
       "slide_type": "subslide"
      }
     },
     "source": [
      "Non-object oriented\n",
      "===\n",
      "\n",
      "Or nested lists?"
     ]
    },
    {
     "cell_type": "code",
     "collapsed": false,
     "input": [
      "persons = [['black', 80, 180],\n",
      "          ['red', 75, 174],\n",
      "          ['white', 130, 230],\n",
      "          ['blue', 90, 161],\n",
      "          ['red', 64, 149]]\n",
      "\n",
      "persons[3]"
     ],
     "language": "python",
     "metadata": {},
     "outputs": [
      {
       "metadata": {},
       "output_type": "pyout",
       "prompt_number": 3,
       "text": [
        "['blue', 90, 161]"
       ]
      }
     ],
     "prompt_number": 3
    },
    {
     "cell_type": "markdown",
     "metadata": {},
     "source": [
      "Now all attributes are nicely grouped."
     ]
    },
    {
     "cell_type": "code",
     "collapsed": false,
     "input": [
      "persons[3][2]"
     ],
     "language": "python",
     "metadata": {},
     "outputs": [
      {
       "metadata": {},
       "output_type": "pyout",
       "prompt_number": 4,
       "text": [
        "161"
       ]
      }
     ],
     "prompt_number": 4
    },
    {
     "cell_type": "markdown",
     "metadata": {},
     "source": [
      "Accessing a single attribute is a bit cryptic though."
     ]
    },
    {
     "cell_type": "markdown",
     "metadata": {
      "slideshow": {
       "slide_type": "subslide"
      }
     },
     "source": [
      "Non-object oriented\n",
      "===\n",
      "\n",
      "Or a list of dictionaries?"
     ]
    },
    {
     "cell_type": "code",
     "collapsed": false,
     "input": [
      "persons = [{'hair_colour': 'black', 'weight': 80, 'length': 180},\n",
      "          {'hair_colour': 'red', 'weight': 75, 'length': 174},\n",
      "          {'hair_colour': 'white', 'weight': 130, 'length': 230},\n",
      "          {'hair_colour': 'blue', 'weight': 90, 'length': 161},\n",
      "          {'hair_colour': 'red', 'weight': 64, 'length': 149}]\n",
      "\n",
      "persons[3]"
     ],
     "language": "python",
     "metadata": {},
     "outputs": [
      {
       "metadata": {},
       "output_type": "pyout",
       "prompt_number": 5,
       "text": [
        "{'hair_colour': 'blue', 'length': 161, 'weight': 90}"
       ]
      }
     ],
     "prompt_number": 5
    },
    {
     "cell_type": "code",
     "collapsed": false,
     "input": [
      "persons[3]['weight']"
     ],
     "language": "python",
     "metadata": {},
     "outputs": [
      {
       "metadata": {},
       "output_type": "pyout",
       "prompt_number": 6,
       "text": [
        "90"
       ]
      }
     ],
     "prompt_number": 6
    },
    {
     "cell_type": "markdown",
     "metadata": {
      "slideshow": {
       "slide_type": "slide"
      }
     },
     "source": [
      "Classes\n",
      "===\n",
      "\n",
      "A class as a simple container:"
     ]
    },
    {
     "cell_type": "markdown",
     "metadata": {
      "slideshow": {
       "slide_type": "-"
      }
     },
     "source": [
      "    class Person(object):\n",
      "        def __init__(self, hair_colour='unknown', weight=0, length=0):\n",
      "            self.hair_colour = hair_colour\n",
      "            self.weight = weight\n",
      "            self.length = length"
     ]
    },
    {
     "cell_type": "code",
     "collapsed": false,
     "input": [
      "from person import Person"
     ],
     "language": "python",
     "metadata": {
      "slideshow": {
       "slide_type": "skip"
      }
     },
     "outputs": [],
     "prompt_number": 7
    },
    {
     "cell_type": "code",
     "collapsed": false,
     "input": [
      "someone = Person('blue', 90, 161)\n",
      "\n",
      "someone.weight"
     ],
     "language": "python",
     "metadata": {},
     "outputs": [
      {
       "metadata": {},
       "output_type": "pyout",
       "prompt_number": 8,
       "text": [
        "90"
       ]
      }
     ],
     "prompt_number": 8
    },
    {
     "cell_type": "markdown",
     "metadata": {
      "slideshow": {
       "slide_type": "subslide"
      }
     },
     "source": [
      "Classes\n",
      "===\n",
      "\n",
      "Makes initialisation a lot easier."
     ]
    },
    {
     "cell_type": "code",
     "collapsed": false,
     "input": [
      "persons = [Person(),\n",
      "           Person('red'),\n",
      "           Person('white', 130, 230),\n",
      "           Person(weight=90),\n",
      "           Person(weight=64, length=149)]\n",
      "\n",
      "persons[3].weight"
     ],
     "language": "python",
     "metadata": {
      "slideshow": {
       "slide_type": "-"
      }
     },
     "outputs": [
      {
       "metadata": {},
       "output_type": "pyout",
       "prompt_number": 9,
       "text": [
        "90"
       ]
      }
     ],
     "prompt_number": 9
    },
    {
     "cell_type": "markdown",
     "metadata": {
      "slideshow": {
       "slide_type": "slide"
      }
     },
     "source": [
      "Methods\n",
      "==="
     ]
    },
    {
     "cell_type": "markdown",
     "metadata": {
      "slideshow": {
       "slide_type": "-"
      }
     },
     "source": [
      "        class Person(object):\n",
      "            ...\n",
      "            \n",
      "            def eat(self, amount=3):\n",
      "                self.weight += amount\n",
      "            \n",
      "            def bleach(self):\n",
      "                self.hair_colour = 'white'"
     ]
    },
    {
     "cell_type": "code",
     "collapsed": false,
     "input": [
      "someone = Person('blue', 90, 161)\n",
      "\n",
      "someone.weight, someone.hair_colour"
     ],
     "language": "python",
     "metadata": {},
     "outputs": [
      {
       "metadata": {},
       "output_type": "pyout",
       "prompt_number": 10,
       "text": [
        "(90, 'blue')"
       ]
      }
     ],
     "prompt_number": 10
    },
    {
     "cell_type": "code",
     "collapsed": false,
     "input": [
      "someone.eat()\n",
      "someone.bleach()\n",
      "someone.weight, someone.hair_colour"
     ],
     "language": "python",
     "metadata": {},
     "outputs": [
      {
       "metadata": {},
       "output_type": "pyout",
       "prompt_number": 11,
       "text": [
        "(93, 'white')"
       ]
      }
     ],
     "prompt_number": 11
    },
    {
     "cell_type": "markdown",
     "metadata": {
      "slideshow": {
       "slide_type": "slide"
      }
     },
     "source": [
      "Public and private methods\n",
      "==="
     ]
    },
    {
     "cell_type": "markdown",
     "metadata": {
      "slideshow": {
       "slide_type": "-"
      }
     },
     "source": [
      "    class Person(object):\n",
      "        ...\n",
      "        \n",
      "        def _convert_weight(self, multiplier):\n",
      "            return self.weight * multiplier\n",
      "        \n",
      "        def weight_in_pounds(self):\n",
      "            return self._convert_weight(2.20462)\n",
      "        \n",
      "        def weight_in_grams(self):\n",
      "            return self._convert_weight(1000)"
     ]
    },
    {
     "cell_type": "markdown",
     "metadata": {},
     "source": [
      "Private methods are prefixed with an underscore.\n",
      "\n",
      "* Note that this is a convention, it is not enforced."
     ]
    },
    {
     "cell_type": "code",
     "collapsed": false,
     "input": [
      "someone.weight_in_pounds(), someone.weight_in_grams()"
     ],
     "language": "python",
     "metadata": {},
     "outputs": [
      {
       "metadata": {},
       "output_type": "pyout",
       "prompt_number": 12,
       "text": [
        "(205.02965999999998, 93000)"
       ]
      }
     ],
     "prompt_number": 12
    },
    {
     "cell_type": "markdown",
     "metadata": {
      "slideshow": {
       "slide_type": "slide"
      }
     },
     "source": [
      "Class variables vs. instance variables\n",
      "==="
     ]
    },
    {
     "cell_type": "markdown",
     "metadata": {
      "slideshow": {
       "slide_type": "-"
      }
     },
     "source": [
      "    class Person(object):\n",
      "        default_weight = 80\n",
      "        \n",
      "        def __init__(self, hair_colour='unknown', weight=0, length=0):\n",
      "            self.hair_colour = hair_colour\n",
      "            self.weight = weight or self.default_weight\n",
      "            self.length = length"
     ]
    },
    {
     "cell_type": "markdown",
     "metadata": {},
     "source": [
      "Class variables are defined outside the methods.\n",
      "\n",
      "* It is still refererenced as `self.` inside the methods."
     ]
    },
    {
     "cell_type": "markdown",
     "metadata": {
      "slideshow": {
       "slide_type": "subslide"
      }
     },
     "source": [
      "Class variables vs. instance variables\n",
      "===\n",
      "\n",
      "An illustration (just for educational purposes)."
     ]
    },
    {
     "cell_type": "code",
     "collapsed": false,
     "input": [
      "someone = Person()\n",
      "\n",
      "someone.weight"
     ],
     "language": "python",
     "metadata": {},
     "outputs": [
      {
       "metadata": {},
       "output_type": "pyout",
       "prompt_number": 13,
       "text": [
        "80"
       ]
      }
     ],
     "prompt_number": 13
    },
    {
     "cell_type": "code",
     "collapsed": false,
     "input": [
      "someone.weight = 79\n",
      "someone.weight"
     ],
     "language": "python",
     "metadata": {},
     "outputs": [
      {
       "metadata": {},
       "output_type": "pyout",
       "prompt_number": 14,
       "text": [
        "79"
       ]
      }
     ],
     "prompt_number": 14
    },
    {
     "cell_type": "code",
     "collapsed": false,
     "input": [
      "Person.default_weight = 90\n",
      "someone = Person()\n",
      "\n",
      "someone.weight"
     ],
     "language": "python",
     "metadata": {},
     "outputs": [
      {
       "metadata": {},
       "output_type": "pyout",
       "prompt_number": 15,
       "text": [
        "90"
       ]
      }
     ],
     "prompt_number": 15
    },
    {
     "cell_type": "markdown",
     "metadata": {
      "slideshow": {
       "slide_type": "slide"
      }
     },
     "source": [
      "Special methods\n",
      "==="
     ]
    },
    {
     "cell_type": "markdown",
     "metadata": {},
     "source": [
      "    >>> print someone\n",
      "    <__main__.Person instance at 0x321ebd8>"
     ]
    },
    {
     "cell_type": "markdown",
     "metadata": {
      "slideshow": {
       "slide_type": "-"
      }
     },
     "source": [
      "    class Person(object):\n",
      "        ...\n",
      "    \n",
      "        def __str__(self):\n",
      "            return \"Person with hair colour: {0}, weight: {1} and length: {2}\".format(\n",
      "                self.hair_colour, self.weight, self.length)\n",
      "     \n",
      "        def __len__(self):\n",
      "            return self.length"
     ]
    },
    {
     "cell_type": "markdown",
     "metadata": {},
     "source": [
      "Special methods are prefixed and suffixed with double underscores.\n",
      "\n",
      "* There are methods for adding (`__add__`), subtracting (`__sub__`), etc."
     ]
    },
    {
     "cell_type": "code",
     "collapsed": false,
     "input": [
      "someone = Person('blue', 90, 161)\n",
      "\n",
      "print someone\n",
      "print len(someone)"
     ],
     "language": "python",
     "metadata": {},
     "outputs": [
      {
       "output_type": "stream",
       "stream": "stdout",
       "text": [
        "Person with hair colour: blue, weight: 90 and length: 161\n",
        "161\n"
       ]
      }
     ],
     "prompt_number": 16
    },
    {
     "cell_type": "markdown",
     "metadata": {
      "slideshow": {
       "slide_type": "slide"
      }
     },
     "source": [
      "Class inheritance\n",
      "==="
     ]
    },
    {
     "cell_type": "code",
     "collapsed": false,
     "input": [
      "class DutchPerson(Person):\n",
      "    def __str__(self):\n",
      "        return \"Persoon met haarkleur: {0}, gewicht: {1} en lengte: {2}\".format(\n",
      "            self.hair_colour, self.weight, self.length)"
     ],
     "language": "python",
     "metadata": {
      "slideshow": {
       "slide_type": "-"
      }
     },
     "outputs": [],
     "prompt_number": 17
    },
    {
     "cell_type": "markdown",
     "metadata": {},
     "source": [
      "A subclass can have added functionality, or it can override some functionality."
     ]
    },
    {
     "cell_type": "code",
     "collapsed": false,
     "input": [
      "sinterklaas = DutchPerson('white', 85, 191)\n",
      "\n",
      "print sinterklaas"
     ],
     "language": "python",
     "metadata": {},
     "outputs": [
      {
       "output_type": "stream",
       "stream": "stdout",
       "text": [
        "Persoon met haarkleur: white, gewicht: 85 en lengte: 191\n"
       ]
      }
     ],
     "prompt_number": 18
    },
    {
     "cell_type": "markdown",
     "metadata": {
      "slideshow": {
       "slide_type": "subslide"
      }
     },
     "source": [
      "$\\S$ A stack calculator\n",
      "==="
     ]
    },
    {
     "cell_type": "markdown",
     "metadata": {
      "slideshow": {
       "slide_type": "-"
      }
     },
     "source": [
      "A stack is a datastructure that only allows access to the ''top'' element.\n",
      "\n",
      "<img src=\"files/images/stack.png\" />"
     ]
    },
    {
     "cell_type": "markdown",
     "metadata": {
      "slideshow": {
       "slide_type": "subslide"
      }
     },
     "source": [
      "$\\S$ A stack calculator\n",
      "==="
     ]
    },
    {
     "cell_type": "markdown",
     "metadata": {},
     "source": [
      "Stack operations\n",
      "---\n",
      "\n",
      "* Push - Add one element to the top of the stack.\n",
      "* Pop - Retrieve the top element from the stack.\n",
      "\n",
      "Arithmetic with a stack\n",
      "---\n",
      "\n",
      "* Pop the operands from the stack.\n",
      "* Perform an arithmetic operation.\n",
      "* Push the result back to the stack.\n",
      "\n",
      "Example (add two numbers):\n",
      "\n",
      "    >>> stack.push(stack.pop() + stack.pop())"
     ]
    },
    {
     "cell_type": "markdown",
     "metadata": {
      "slideshow": {
       "slide_type": "subslide"
      }
     },
     "source": [
      "$\\S$ A stack calculator\n",
      "==="
     ]
    },
    {
     "cell_type": "code",
     "collapsed": false,
     "input": [
      "%load examples/calculator.py"
     ],
     "language": "python",
     "metadata": {
      "slideshow": {
       "slide_type": "skip"
      }
     },
     "outputs": [],
     "prompt_number": 19
    },
    {
     "cell_type": "code",
     "collapsed": false,
     "input": [
      "#!/usr/bin/env python\n",
      "\n",
      "class Stack(list):\n",
      "    def push(self, element):\n",
      "        self.append(element)\n",
      "\n",
      "    def __str__(self):\n",
      "        return str(self[-1])\n",
      "\n",
      "\n",
      "class Calculator(Stack):\n",
      "    def add(self):\n",
      "        self.push(self.pop() + self.pop())\n",
      "\n",
      "    def sub(self):\n",
      "        temp = self.pop()\n",
      "        self.push(self.pop() - temp)\n",
      "\n",
      "    def mul(self):\n",
      "        self.push(self.pop() * self.pop())\n",
      "\n",
      "    def div(self):\n",
      "        temp = self.pop()\n",
      "        self.push(self.pop() / temp)\n"
     ],
     "language": "python",
     "metadata": {},
     "outputs": []
    },
    {
     "cell_type": "markdown",
     "metadata": {
      "slideshow": {
       "slide_type": "subslide"
      }
     },
     "source": [
      "$\\S$ A stack calculator\n",
      "==="
     ]
    },
    {
     "cell_type": "markdown",
     "metadata": {},
     "source": [
      "Assignment\n",
      "---\n",
      "\n",
      "* Make a scientific calculator.\n",
      "* Add exponentiation and square root functions.\n",
      "\n",
      "Hints:\n",
      "\n",
      "* Do not edit the `calculator.py` file, use `import` instead.\n",
      "* Use inheritance.\n",
      "* To use mathematical functions, use the `math` library."
     ]
    },
    {
     "cell_type": "code",
     "collapsed": false,
     "input": [
      "from IPython.display import HTML\n",
      "def css_styling():\n",
      "    styles = open('styles/custom.css', 'r').read()\n",
      "    return HTML('<style>' + styles + '</style>')\n",
      "css_styling()"
     ],
     "language": "python",
     "metadata": {
      "slideshow": {
       "slide_type": "skip"
      }
     },
     "outputs": [
      {
       "html": [
        "<style>/* Remove the vertical scrollbar added by nbconvert. */\n",
        ".reveal {\n",
        "  overflow: hidden;\n",
        "}\n",
        "\n",
        "/* Workaround some highlight.js bugs in language autodetection. */\n",
        "code.objectivec *,\n",
        "code.perl *,\n",
        "code.cs *,\n",
        "code.javascript *,\n",
        "code.http * {\n",
        "  color: black ! important;\n",
        "  font-weight: normal ! important;\n",
        "}\n",
        "span.title {\n",
        "  color: black ! important;\n",
        "}\n",
        "span.tag {\n",
        "  color: black ! important;\n",
        "}\n",
        "span.attribute {\n",
        "  color: black ! important;\n",
        "}\n",
        "</style>"
       ],
       "metadata": {},
       "output_type": "pyout",
       "prompt_number": 21,
       "text": [
        "<IPython.core.display.HTML at 0x24109d0>"
       ]
      }
     ],
     "prompt_number": 21
    }
   ],
   "metadata": {}
  }
 ]
}