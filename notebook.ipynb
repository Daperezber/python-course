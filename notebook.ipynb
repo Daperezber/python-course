{
 "metadata": {
  "name": "",
  "signature": "sha256:50f0011df38c64a61f87d0fd5e0bd41496c221072c1ed80168340a42e699384e"
 },
 "nbformat": 3,
 "nbformat_minor": 0,
 "worksheets": [
  {
   "cells": [
    {
     "cell_type": "markdown",
     "metadata": {
      "slideshow": {
       "slide_type": "-"
      }
     },
     "source": [
      "<br></br><br></br>\n",
      "\n",
      "![Logo](images/ipynblogo.png)\n",
      "\n",
      "<br></br><br></br>"
     ]
    },
    {
     "cell_type": "markdown",
     "metadata": {
      "slideshow": {
       "slide_type": "-"
      }
     },
     "source": [
      "\n",
      "[Michiel van Galen](mailto:m.van_galen@lumc.nl), [Jeroen Laros](mailto:j.f.j.laros@lumc.nl), [Martijn Vermaat](mailto:m.vermaat.hg@lumc.nl), [Way Yi Leung](mailto:w.y.leung@lumc.nl)\n",
      "\n",
      "[Department of Human Genetics, Leiden University Medical Center](http://humgen.nl)\n",
      "\n",
      "[Sequencing Analysis Support Core, Leiden University Medical Center](http://sasc.lumc.nl)\n",
      "\n",
      "License:\n",
      "\n",
      "[Creative Commons Attribution 3.0 License (CC-by)](http://creativecommons.org/licenses/by/3.0)\n",
      "\n",
      "Examples and ideas taken from:\n",
      "\n",
      "1. http://nbviewer.ipython.org/github/ipython/ipython/blob/2.x/examples/Index.ipynb\n",
      "\n",
      "2. http://www.socrates.if.usp.br/~wtc/?q=role-computing-science\n",
      "***"
     ]
    },
    {
     "cell_type": "heading",
     "level": 1,
     "metadata": {},
     "source": [
      "Foreword: \n",
      "    "
     ]
    },
    {
     "cell_type": "heading",
     "level": 2,
     "metadata": {},
     "source": [
      "Requirements on scientific computing"
     ]
    },
    {
     "cell_type": "markdown",
     "metadata": {},
     "source": [
      "\"High-profile journals have called for increased openness in computational sciences. Some prestigious journals, including Science, have even started to demand of authors to provide the source code for simulation software used in publications to readers upon request.\""
     ]
    },
    {
     "cell_type": "markdown",
     "metadata": {},
     "source": [
      "- Reproducible Research in Computational Science, Roger D. Peng, Science 334, 1226 (2011).\n",
      "- Shining Light into Black Boxes, A. Morin et al., Science 336, 159-160 (2012).\n",
      "- The case for open computer programs, D.C. Ince, Nature 482, 485 (2012)."
     ]
    },
    {
     "cell_type": "heading",
     "level": 4,
     "metadata": {},
     "source": [
      "The cornerstone of the scientific method:"
     ]
    },
    {
     "cell_type": "markdown",
     "metadata": {},
     "source": [
      "- Replication & Reproduction"
     ]
    },
    {
     "cell_type": "heading",
     "level": 4,
     "metadata": {},
     "source": [
      "To achieve this in scientific computing (programming):"
     ]
    },
    {
     "cell_type": "markdown",
     "metadata": {},
     "source": [
      "- Any source code which generates data should be:\n",
      "    - Tracked!\n",
      "    - Backed up and secured\n",
      "    - Ideally published online\n",
      "    - Additionally: Also track external software versions and settings\n"
     ]
    },
    {
     "cell_type": "heading",
     "level": 1,
     "metadata": {},
     "source": [
      "Revision Control System\n"
     ]
    },
    {
     "cell_type": "markdown",
     "metadata": {},
     "source": [
      "- Systems such as \n",
      "  -  Git\n",
      "  -  SVN\n",
      "  \n",
      "  \n",
      "  \n",
      "- Online repository\n",
      "  - Github"
     ]
    },
    {
     "cell_type": "heading",
     "level": 4,
     "metadata": {},
     "source": [
      "Check out our one day Git course:"
     ]
    },
    {
     "cell_type": "markdown",
     "metadata": {},
     "source": [
      "[Git course @ LUMC HumGen](https://humgenprojects.lumc.nl/trac/humgenprojects/wiki/gitcourse)"
     ]
    },
    {
     "cell_type": "heading",
     "level": 1,
     "metadata": {},
     "source": [
      "Python in scientific computing"
     ]
    },
    {
     "cell_type": "markdown",
     "metadata": {},
     "source": [
      "- Large community of users\n",
      "- Extensive ecosystem of scientific libraries and environments\n",
      "- Parallel processing with processes and threads\n",
      "- Interprocess communication (MPI)\n",
      "- GPU computing (OpenCL and CUDA)\n",
      "- Readily available and suitable for use on high-performance computing clusters.\n",
      "- No license costs, no unnecessary use of research budget."
     ]
    },
    {
     "cell_type": "heading",
     "level": 4,
     "metadata": {},
     "source": [
      "Lots of reasons to python!\n"
     ]
    },
    {
     "cell_type": "heading",
     "level": 4,
     "metadata": {},
     "source": [
      "How to python?"
     ]
    },
    {
     "cell_type": "heading",
     "level": 1,
     "metadata": {},
     "source": [
      "The python interpreter"
     ]
    },
    {
     "cell_type": "markdown",
     "metadata": {},
     "source": [
      "- Standard way of running code\n",
      "- Reads and runs the code in a file\n",
      "\n",
      "$ python my-program.py"
     ]
    },
    {
     "cell_type": "markdown",
     "metadata": {},
     "source": [
      "- Alternatively, start the interpreter interactively by simply typing python\n",
      "- Not very convenient due to a number of limitations\n"
     ]
    },
    {
     "cell_type": "markdown",
     "metadata": {},
     "source": [
      "$ python"
     ]
    },
    {
     "cell_type": "markdown",
     "metadata": {},
     "source": [
      "![interpreter](https://raw.githubusercontent.com/jrjohansson/scientific-python-lectures/master/images/python-screenshot.jpg)"
     ]
    },
    {
     "cell_type": "heading",
     "level": 1,
     "metadata": {},
     "source": [
      "IPython (Interactive Python)"
     ]
    },
    {
     "cell_type": "markdown",
     "metadata": {},
     "source": [
      "- Interactive shell with improved user friendliness"
     ]
    },
    {
     "cell_type": "markdown",
     "metadata": {},
     "source": [
      "![ipython](https://raw.githubusercontent.com/jrjohansson/scientific-python-lectures/master/images/ipython-screenshot.jpg)"
     ]
    },
    {
     "cell_type": "markdown",
     "metadata": {},
     "source": [
      "- Command history\n",
      "- Tab auto-completion\n",
      "- In-line editing of code\n",
      "- Object introspection, and automatic extract of documentation strings\n",
      "- Good interaction with operating system shell\n"
     ]
    },
    {
     "cell_type": "heading",
     "level": 1,
     "metadata": {},
     "source": [
      "IPython Notebook"
     ]
    },
    {
     "cell_type": "markdown",
     "metadata": {},
     "source": [
      "- Started by typing 'ipython notebook' in the directory where you want to store notebooks\n",
      "- Opens a new browser window with an index page where existing notebooks are shown\n",
      "- New notebooks can be created in that same directory"
     ]
    },
    {
     "cell_type": "markdown",
     "metadata": {},
     "source": [
      "![notebook](https://raw.githubusercontent.com/jrjohansson/scientific-python-lectures/master/images/ipython-notebook-screenshot.jpg)"
     ]
    },
    {
     "cell_type": "heading",
     "level": 1,
     "metadata": {},
     "source": [
      "IPython Notebook"
     ]
    },
    {
     "cell_type": "markdown",
     "metadata": {},
     "source": [
      "- Cell based executable workflow\n",
      "- Interactive computational documents\n",
      "- Add elegant explanatory text\n",
      "- Direct output of computations\n",
      "- Add figures and video\n",
      "- Integration in Git"
     ]
    },
    {
     "cell_type": "heading",
     "level": 1,
     "metadata": {},
     "source": [
      "Why Notebook?"
     ]
    },
    {
     "cell_type": "heading",
     "level": 4,
     "metadata": {},
     "source": [
      "\"Web-based interactive computational environment where you can combine code execution, text, mathematics, plots and rich media into a single document.\""
     ]
    },
    {
     "cell_type": "heading",
     "level": 4,
     "metadata": {},
     "source": [
      "\"It is based on the IPython shell, but provides a cell-based environment with great interactivity, where calculations can be organized documented in a structured way.\""
     ]
    },
    {
     "cell_type": "heading",
     "level": 3,
     "metadata": {},
     "source": [
      "<br></br><br></br><br></br><br></br>\n",
      "<font color='darkgreen'>Track, store and share elegant code using IPython Notebooks & Git!</font>\n"
     ]
    },
    {
     "cell_type": "heading",
     "level": 3,
     "metadata": {},
     "source": [
      "<font color='darkgreen'>Replicability & Reproducibility</font>\n",
      "<br></br><br></br><br></br><br></br>"
     ]
    },
    {
     "cell_type": "heading",
     "level": 1,
     "metadata": {},
     "source": [
      "Getting started with IPython Notebook"
     ]
    },
    {
     "cell_type": "heading",
     "level": 1,
     "metadata": {},
     "source": [
      "Where to Notebook?"
     ]
    },
    {
     "cell_type": "markdown",
     "metadata": {},
     "source": [
      "- Install locally\n",
      "  - See instructions in this course\n",
      "  - Linux, Windows\n",
      "    \n",
      "    \n",
      "- Remotely, Shark cluster LUMC\n",
      "  - Type 'notebook' and click the given URL"
     ]
    },
    {
     "cell_type": "heading",
     "level": 1,
     "metadata": {},
     "source": [
      "The user interface"
     ]
    },
    {
     "cell_type": "markdown",
     "metadata": {},
     "source": [
      "- Cell based workflow\n",
      "- Move between cells with the arrow keys or clicks with the mouse"
     ]
    },
    {
     "cell_type": "heading",
     "level": 4,
     "metadata": {},
     "source": [
      "There are two different modes from which always one is active"
     ]
    },
    {
     "cell_type": "markdown",
     "metadata": {},
     "source": [
      "- Edit mode\n",
      "    - Hit ENTER or click the edit area to change to edit mode\n",
      "    - Indicated with a <font color='green'>green</font> cell border\n",
      "    - Edit your cell as if a normal text editor\n",
      "    \n",
      "\n",
      "\n",
      "\n"
     ]
    },
    {
     "cell_type": "markdown",
     "metadata": {},
     "source": [
      "- Command mode\n",
      "    - Hit ESCAPE to change into command mode\n",
      "    - Indicated with a <font color='grey'>grey</font> cell border\n",
      "    - Edit the notebook as a whole\n",
      "\n",
      "Note: Different shortcuts apply in both modes!\n",
      "\n",
      "\n"
     ]
    },
    {
     "cell_type": "heading",
     "level": 4,
     "metadata": {},
     "source": [
      "For example. Press 'b' to add a cell below in command mode to add a cell"
     ]
    },
    {
     "cell_type": "code",
     "collapsed": false,
     "input": [],
     "language": "python",
     "metadata": {},
     "outputs": []
    },
    {
     "cell_type": "heading",
     "level": 4,
     "metadata": {},
     "source": [
      "The toolbar is clickable"
     ]
    },
    {
     "cell_type": "markdown",
     "metadata": {},
     "source": [
      "![Toolbar](http://nbviewer.ipython.org/github/ipython/ipython/blob/2.x/examples/Notebook/images/menubar_toolbar.png)"
     ]
    },
    {
     "cell_type": "heading",
     "level": 4,
     "metadata": {},
     "source": [
      "Edit mode shortcuts"
     ]
    },
    {
     "cell_type": "markdown",
     "metadata": {},
     "source": [
      "\n",
      "\n",
      "- esc : command mode\n",
      "- shift+enter : run cell\n",
      "- ctrl+enter : run cell, select below\n"
     ]
    },
    {
     "cell_type": "heading",
     "level": 4,
     "metadata": {},
     "source": [
      "Command mode shortcuts"
     ]
    },
    {
     "cell_type": "markdown",
     "metadata": {},
     "source": [
      "- enter : edit mode\n",
      "- shift+enter : run cell\n",
      "- ctrl+enter : run cell, select below\n",
      "\n",
      "\n",
      "- y : to code\n",
      "- m : to markdown\n",
      "\n",
      "\n",
      "- ctrl+k : move cell up\n",
      "- ctrl+j : move cell down\n",
      "\n",
      "\n",
      "- a : insert cell above\n",
      "- b : insert cell below\n",
      "\n",
      "\n",
      "- x : cut cell\n",
      "- c : copy cell\n",
      "- v : paste cell below\n",
      "\n",
      "\n",
      "- z : undo last delete\n",
      "- d : delete cell (press twice)"
     ]
    },
    {
     "cell_type": "markdown",
     "metadata": {},
     "source": [
      "Press 'h' to show the help."
     ]
    },
    {
     "cell_type": "heading",
     "level": 1,
     "metadata": {},
     "source": [
      "Saving your notebook\n"
     ]
    },
    {
     "cell_type": "markdown",
     "metadata": {},
     "source": [
      "- The notebook automatically saves\n",
      "- You can manually click the 'save' icon or press CTRL+s"
     ]
    },
    {
     "cell_type": "markdown",
     "metadata": {},
     "source": [
      "**Checkpoints**\n",
      "\n",
      "Currently only single checkpoints are stored, but multiple checkpoints will be enabled for future versions of IPython and Bookstore. "
     ]
    },
    {
     "cell_type": "heading",
     "level": 1,
     "metadata": {},
     "source": [
      "Two mayor cell types"
     ]
    },
    {
     "cell_type": "markdown",
     "metadata": {},
     "source": [
      "- Code cell\n",
      "    - Contains code \n",
      "    - Inline comments\n",
      "    - Python or system calls\n"
     ]
    },
    {
     "cell_type": "code",
     "collapsed": false,
     "input": [
      "# This is a code cell\n",
      "x = 10"
     ],
     "language": "python",
     "metadata": {},
     "outputs": [],
     "prompt_number": 42
    },
    {
     "cell_type": "markdown",
     "metadata": {},
     "source": [
      "This is a markdown cell which allows to format your document nicely and add context to code cells."
     ]
    },
    {
     "cell_type": "heading",
     "level": 4,
     "metadata": {},
     "source": [
      "Set the cell type of the selected cell"
     ]
    },
    {
     "cell_type": "markdown",
     "metadata": {},
     "source": [
      "- Select the type from the dropdown box in the toolbar\n",
      "- In command mode only: Press 'y' for code or 'm' for markdown"
     ]
    },
    {
     "cell_type": "heading",
     "level": 1,
     "metadata": {},
     "source": [
      "Running python code"
     ]
    },
    {
     "cell_type": "heading",
     "level": 4,
     "metadata": {},
     "source": [
      "All of the python goodness works!"
     ]
    },
    {
     "cell_type": "markdown",
     "metadata": {},
     "source": [
      "- Cells run asynchronous\n",
      "- Results are persistent\n",
      "- Save time by running intensive code blocks only once"
     ]
    },
    {
     "cell_type": "markdown",
     "metadata": {},
     "source": [
      "Run a code cell by pressing the play button or shift+enter"
     ]
    },
    {
     "cell_type": "code",
     "collapsed": false,
     "input": [
      "# Assign a value\n",
      "a = 12\n",
      "# Output a to the power of 3\n",
      "print a**3"
     ],
     "language": "python",
     "metadata": {},
     "outputs": [
      {
       "output_type": "stream",
       "stream": "stdout",
       "text": [
        "1728\n"
       ]
      }
     ],
     "prompt_number": 10
    },
    {
     "cell_type": "markdown",
     "metadata": {},
     "source": [
      "Use the 'Cell' option in the toolbar to run multiple cells at once."
     ]
    },
    {
     "cell_type": "markdown",
     "metadata": {},
     "source": [
      "- If the kernel is busy running it states 'Busy' in the header of the window or tab\n",
      "- The indicator in the top right corner shows the kernel state"
     ]
    },
    {
     "cell_type": "heading",
     "level": 1,
     "metadata": {},
     "source": [
      "Other uses of code cells\n"
     ]
    },
    {
     "cell_type": "heading",
     "level": 4,
     "metadata": {},
     "source": [
      "Except for code, some system aliases are available such as 'ls':"
     ]
    },
    {
     "cell_type": "code",
     "collapsed": false,
     "input": [
      "ls"
     ],
     "language": "python",
     "metadata": {},
     "outputs": [
      {
       "output_type": "stream",
       "stream": "stdout",
       "text": [
        "biopython.ipynb  \u001b[0m\u001b[01;34mimages\u001b[0m/            person.py         \u001b[01;34msolutions\u001b[0m/\r\n",
        "classes.ipynb    INSTALL.md         python.ipynb      \u001b[01;34mstyles\u001b[0m/\r\n",
        "\u001b[01;34mdata\u001b[0m/            matplotlib.ipynb   README.md         welcome.ipynb\r\n",
        "\u001b[01;34mexamples\u001b[0m/        more-python.ipynb  \u001b[01;32mseq_toolbox.py\u001b[0m*\r\n",
        "exercises.ipynb  Notebook.ipynb     sequencer.ipynb\r\n",
        "git.ipynb        numpy.ipynb        sequencer_old.py\r\n"
       ]
      }
     ],
     "prompt_number": 69
    },
    {
     "cell_type": "heading",
     "level": 4,
     "metadata": {},
     "source": [
      "Any command line program can be run using '!' with string interpolation from Python variables:"
     ]
    },
    {
     "cell_type": "code",
     "collapsed": false,
     "input": [
      "message = 'Some text'\n",
      "!echo $message"
     ],
     "language": "python",
     "metadata": {},
     "outputs": [
      {
       "output_type": "stream",
       "stream": "stdout",
       "text": [
        "Some text\r\n"
       ]
      }
     ],
     "prompt_number": 70
    },
    {
     "cell_type": "code",
     "collapsed": false,
     "input": [
      "!samtools"
     ],
     "language": "python",
     "metadata": {},
     "outputs": [
      {
       "output_type": "stream",
       "stream": "stdout",
       "text": [
        "\r\n",
        "Program: samtools (Tools for alignments in the SAM format)\r\n",
        "Version: 0.1.19-44428cd\r\n",
        "\r\n",
        "Usage:   samtools <command> [options]\r\n",
        "\r\n",
        "Command: view        SAM<->BAM conversion\r\n",
        "         sort        sort alignment file\r\n",
        "         mpileup     multi-way pileup\r\n",
        "         depth       compute the depth\r\n",
        "         faidx       index/extract FASTA\r\n",
        "         tview       text alignment viewer\r\n",
        "         index       index alignment\r\n",
        "         idxstats    BAM index stats (r595 or later)\r\n",
        "         fixmate     fix mate information\r\n",
        "         flagstat    simple stats\r\n",
        "         calmd       recalculate MD/NM tags and '=' bases\r\n",
        "         merge       merge sorted alignments\r\n",
        "         rmdup       remove PCR duplicates\r\n",
        "         reheader    replace BAM header\r\n",
        "         cat         concatenate BAMs\r\n",
        "         bedcov      read depth per BED region\r\n",
        "         targetcut   cut fosmid regions (for fosmid pool only)\r\n",
        "         phase       phase heterozygotes\r\n",
        "         bamshuf     shuffle and group alignments by name\r\n",
        "\r\n"
       ]
      }
     ],
     "prompt_number": 45
    },
    {
     "cell_type": "heading",
     "level": 4,
     "metadata": {},
     "source": [
      "Autocompletion works also by pressing TAB:"
     ]
    },
    {
     "cell_type": "code",
     "collapsed": false,
     "input": [
      "import numpy\n",
      "numpy.random.random()"
     ],
     "language": "python",
     "metadata": {},
     "outputs": [
      {
       "metadata": {},
       "output_type": "pyout",
       "prompt_number": 47,
       "text": [
        "0.7211185564561403"
       ]
      }
     ],
     "prompt_number": 47
    },
    {
     "cell_type": "heading",
     "level": 1,
     "metadata": {},
     "source": [
      "\u00a7 Excercise : My first Notebook"
     ]
    },
    {
     "cell_type": "markdown",
     "metadata": {},
     "source": [
      "Start a Notebook session.\n",
      "  - $ ipython notebook\n",
      "This opens a webbrowser and shows existing notebooks.\n",
      "  - Create a new notebook by clicking the 'New notebook' button.\n",
      "A new tab will open with a fresh notebook. Rename your notebook to something useful\n",
      "  - Click on the current name (Untitled1) and edit this\n",
      "Add the code shown below to some **_code_** cells\n",
      "  - Add cells by pressen the '+' button or ALT+ENTER\n",
      "  - Remember the keyboard shortcuts or the help function ('h')\n",
      "\n",
      "\n",
      "Notice the laste cell produced output! We will continue to develop this notebook later this session."
     ]
    },
    {
     "cell_type": "code",
     "collapsed": false,
     "input": [
      "def translate(seq):\n",
      "    complements = {'A': 'T', 'C': 'G', 'T': 'A', 'G': 'C'}\n",
      "    c_seq  = ''\n",
      "    for n in seq:\n",
      "        c_seq  = c_seq + complements[n]\n",
      "    return c_seq"
     ],
     "language": "python",
     "metadata": {},
     "outputs": [],
     "prompt_number": 40
    },
    {
     "cell_type": "code",
     "collapsed": false,
     "input": [
      "translate('ACGT')"
     ],
     "language": "python",
     "metadata": {},
     "outputs": [
      {
       "metadata": {},
       "output_type": "pyout",
       "prompt_number": 41,
       "text": [
        "'TGCA'"
       ]
      }
     ],
     "prompt_number": 41
    },
    {
     "cell_type": "heading",
     "level": 1,
     "metadata": {},
     "source": [
      "Output from code cells"
     ]
    },
    {
     "cell_type": "markdown",
     "metadata": {},
     "source": [
      "- When a cell is run it can generate output\n",
      "- This is shown below the cell in the output area\n",
      "- Output is asynchronous\n",
      "- Outputs are objects and the last one is available under the variable '_'\n",
      "    "
     ]
    },
    {
     "cell_type": "heading",
     "level": 4,
     "metadata": {},
     "source": [
      "Show some output and use it into another function"
     ]
    },
    {
     "cell_type": "code",
     "collapsed": false,
     "input": [
      "numpy.random.rand(3)"
     ],
     "language": "python",
     "metadata": {},
     "outputs": [
      {
       "metadata": {},
       "output_type": "pyout",
       "prompt_number": 86,
       "text": [
        "array([ 0.96757675,  0.54000181,  0.63633455])"
       ]
      }
     ],
     "prompt_number": 86
    },
    {
     "cell_type": "code",
     "collapsed": false,
     "input": [
      "numpy.sin(_)\n"
     ],
     "language": "python",
     "metadata": {},
     "outputs": [
      {
       "metadata": {},
       "output_type": "pyout",
       "prompt_number": 89,
       "text": [
        "array([ 0.73353825,  0.49178408,  0.55988864])"
       ]
      }
     ],
     "prompt_number": 89
    },
    {
     "cell_type": "heading",
     "level": 4,
     "metadata": {},
     "source": [
      "Scrollbars are automatically added for large outputs"
     ]
    },
    {
     "cell_type": "code",
     "collapsed": false,
     "input": [
      "for i in range(2):\n",
      "    print i"
     ],
     "language": "python",
     "metadata": {},
     "outputs": [
      {
       "output_type": "stream",
       "stream": "stdout",
       "text": [
        "0\n",
        "1\n"
       ]
      }
     ],
     "prompt_number": 115
    },
    {
     "cell_type": "heading",
     "level": 4,
     "metadata": {},
     "source": [
      "Exceptions are formatted nicely:"
     ]
    },
    {
     "cell_type": "code",
     "collapsed": false,
     "input": [
      "# Let's distribute a few cookies to nobody\n",
      "cookies = 3\n",
      "persons = 0\n",
      "share = cookies / persons\n",
      "print share"
     ],
     "language": "python",
     "metadata": {},
     "outputs": [
      {
       "ename": "ZeroDivisionError",
       "evalue": "integer division or modulo by zero",
       "output_type": "pyerr",
       "traceback": [
        "\u001b[1;31m---------------------------------------------------------------------------\u001b[0m\n\u001b[1;31mZeroDivisionError\u001b[0m                         Traceback (most recent call last)",
        "\u001b[1;32m<ipython-input-51-0d805d7db48f>\u001b[0m in \u001b[0;36m<module>\u001b[1;34m()\u001b[0m\n\u001b[0;32m      2\u001b[0m \u001b[0mcookies\u001b[0m \u001b[1;33m=\u001b[0m \u001b[1;36m3\u001b[0m\u001b[1;33m\u001b[0m\u001b[0m\n\u001b[0;32m      3\u001b[0m \u001b[0mpersons\u001b[0m \u001b[1;33m=\u001b[0m \u001b[1;36m0\u001b[0m\u001b[1;33m\u001b[0m\u001b[0m\n\u001b[1;32m----> 4\u001b[1;33m \u001b[0mshare\u001b[0m \u001b[1;33m=\u001b[0m \u001b[0mcookies\u001b[0m \u001b[1;33m/\u001b[0m \u001b[0mpersons\u001b[0m\u001b[1;33m\u001b[0m\u001b[0m\n\u001b[0m\u001b[0;32m      5\u001b[0m \u001b[1;32mprint\u001b[0m \u001b[0mshare\u001b[0m\u001b[1;33m\u001b[0m\u001b[0m\n",
        "\u001b[1;31mZeroDivisionError\u001b[0m: integer division or modulo by zero"
       ]
      }
     ],
     "prompt_number": 51
    },
    {
     "cell_type": "heading",
     "level": 1,
     "metadata": {},
     "source": [
      "Markdown cells"
     ]
    },
    {
     "cell_type": "markdown",
     "metadata": {},
     "source": [
      "Formatted **text** _can_ **_be_** added to IPython Notebooks using Markdown cells. \n",
      "\n"
     ]
    },
    {
     "cell_type": "markdown",
     "metadata": {},
     "source": [
      "- Markdown is a popular markup language that is a superset of HTML. \n",
      "- Its specification can be found here:\n",
      "    "
     ]
    },
    {
     "cell_type": "markdown",
     "metadata": {},
     "source": [
      "http://daringfireball.net/projects/markdown/"
     ]
    },
    {
     "cell_type": "markdown",
     "metadata": {},
     "source": [
      "To create a markdown cell:\n",
      "- First focus on the cell you want to format\n",
      "- Then select 'Markdown' the dropdown box in the toolbar or press 'm' in command mode\n",
      "- Note that you need to run a markdown cell to show the result\n",
      "    - Click 'play' or SHIFT+ENTER"
     ]
    },
    {
     "cell_type": "heading",
     "level": 1,
     "metadata": {},
     "source": [
      "Some markdown examples:    "
     ]
    },
    {
     "cell_type": "heading",
     "level": 4,
     "metadata": {},
     "source": [
      "Headers can be put by using hashes '#'"
     ]
    },
    {
     "cell_type": "code",
     "collapsed": false,
     "input": [
      "# Header 1\n",
      "## Header 2\n",
      "### Header 3"
     ],
     "language": "python",
     "metadata": {},
     "outputs": []
    },
    {
     "cell_type": "markdown",
     "metadata": {},
     "source": [
      "# Header 1\n",
      "## Header 2\n",
      "### Header 3"
     ]
    },
    {
     "cell_type": "heading",
     "level": 4,
     "metadata": {},
     "source": [
      "Lists"
     ]
    },
    {
     "cell_type": "code",
     "collapsed": false,
     "input": [
      "- A list\n",
      "    - A sublist\n",
      "        - Yet another level\n",
      "            - And so on"
     ],
     "language": "python",
     "metadata": {},
     "outputs": []
    },
    {
     "cell_type": "markdown",
     "metadata": {},
     "source": [
      "- A list\n",
      "    - A sublist\n",
      "        - Yet another level\n",
      "            - And so on"
     ]
    },
    {
     "cell_type": "heading",
     "level": 4,
     "metadata": {},
     "source": [
      "General HTML"
     ]
    },
    {
     "cell_type": "markdown",
     "metadata": {},
     "source": [
      "Since markdown is a subset of HTML, this will also work"
     ]
    },
    {
     "cell_type": "raw",
     "metadata": {},
     "source": [
      "<table border=\"1\" style=\"width:200px\">\n",
      "<tr>\n",
      "  <td>Jill</td>\n",
      "  <td>Smith</td> \n",
      "  <td>50</td>\n",
      "</tr>\n",
      "<tr>\n",
      "  <td>Eve</td>\n",
      "  <td>Jackson</td> \n",
      "  <td>94</td>\n",
      "</tr>\n",
      "</table>"
     ]
    },
    {
     "cell_type": "markdown",
     "metadata": {},
     "source": [
      "<table border=\"1\" style=\"width:200px\">\n",
      "<tr>\n",
      "  <td>Jill</td>\n",
      "  <td>Smith</td> \n",
      "  <td>50</td>\n",
      "</tr>\n",
      "<tr>\n",
      "  <td>Eve</td>\n",
      "  <td>Jackson</td> \n",
      "  <td>94</td>\n",
      "</tr>\n",
      "</table>"
     ]
    },
    {
     "cell_type": "heading",
     "level": 4,
     "metadata": {},
     "source": [
      "Markdown also supports formulas"
     ]
    },
    {
     "cell_type": "markdown",
     "metadata": {},
     "source": [
      "Nicely formatted"
     ]
    },
    {
     "cell_type": "raw",
     "metadata": {},
     "source": [
      "\\begin{equation*} \\left( \\sum_{k=1}^n a_k b_k \\right)^2 \\leq \\left( \\sum_{k=1}^n a_k^2 \\right) \\left( \\sum_{k=1}^n b_k^2 \\right) \\end{equation*}\n"
     ]
    },
    {
     "cell_type": "markdown",
     "metadata": {},
     "source": [
      "\\begin{equation*} \\left( \\sum_{k=1}^n a_k b_k \\right)^2 \\leq \\left( \\sum_{k=1}^n a_k^2 \\right) \\left( \\sum_{k=1}^n b_k^2 \\right) \\end{equation*}\n"
     ]
    },
    {
     "cell_type": "heading",
     "level": 4,
     "metadata": {},
     "source": [
      "We can also show figures. These can be locally or linked from the www."
     ]
    },
    {
     "cell_type": "markdown",
     "metadata": {},
     "source": [
      "- Notebook has acceess to all the files down in the directory"
     ]
    },
    {
     "cell_type": "markdown",
     "metadata": {},
     "source": [
      "![LUMC](https://www.lumc.nl/images/html5/logo-lumc.png)"
     ]
    },
    {
     "cell_type": "markdown",
     "metadata": {},
     "source": [
      "![LUMC](https://www.lumc.nl/images/html5/logo-lumc.png)"
     ]
    },
    {
     "cell_type": "heading",
     "level": 1,
     "metadata": {},
     "source": [
      "<br></br><br></br>\n",
      "Some final examples:"
     ]
    },
    {
     "cell_type": "heading",
     "level": 4,
     "metadata": {},
     "source": [
      "Python supports videos also. Note this is not a markdown cell, but a code cell using a python package."
     ]
    },
    {
     "cell_type": "code",
     "collapsed": false,
     "input": [
      "from IPython.display import YouTubeVideo\n",
      "# a talk about IPython at Sage Days at U. Washington, Seattle.\n",
      "# Video credit: William Stein.\n",
      "YouTubeVideo('1j_HxD4iLn8')"
     ],
     "language": "python",
     "metadata": {},
     "outputs": [
      {
       "html": [
        "\n",
        "        <iframe\n",
        "            width=\"400\"\n",
        "            height=300\"\n",
        "            src=\"https://www.youtube.com/embed/1j_HxD4iLn8\"\n",
        "            frameborder=\"0\"\n",
        "            allowfullscreen\n",
        "        ></iframe>\n",
        "        "
       ],
       "metadata": {},
       "output_type": "pyout",
       "prompt_number": 34,
       "text": [
        "<IPython.lib.display.YouTubeVideo at 0x331c850>"
       ]
      }
     ],
     "prompt_number": 34
    },
    {
     "cell_type": "heading",
     "level": 1,
     "metadata": {},
     "source": [
      "Plotting with matplotlib"
     ]
    },
    {
     "cell_type": "markdown",
     "metadata": {},
     "source": [
      "More on this later in the course."
     ]
    },
    {
     "cell_type": "code",
     "collapsed": false,
     "input": [
      "%matplotlib inline\n",
      "import matplotlib.pyplot as plt\n",
      "plt.plot([x**2 for x in range(100)])\n",
      "plt.show()"
     ],
     "language": "python",
     "metadata": {},
     "outputs": [
      {
       "metadata": {},
       "output_type": "display_data",
       "png": "[encoded data removed]",
       "text": [
        "<matplotlib.figure.Figure at 0x333b590>"
       ]
      }
     ],
     "prompt_number": 36
    },
    {
     "cell_type": "heading",
     "level": 1,
     "metadata": {},
     "source": [
      "\u00a7 Excercise : My first Notebook"
     ]
    },
    {
     "cell_type": "markdown",
     "metadata": {},
     "source": [
      "Let's add some markdown cells to the notebook you created earlier:\n",
      "  - Select the top code cell\n",
      "  - Press ESC to go into command mode\n",
      "  - Press 'b', this will add a cell above the selected cell\n",
      "  - Notice the focus is on the new cell\n",
      "  - Now press 'm' to set the celltype to Markdown\n",
      "  - Press ENTER and add some code (see below for example)\n",
      "  - Run the cell and see if it worked\n"
     ]
    },
    {
     "cell_type": "markdown",
     "metadata": {},
     "source": [
      "Example markdown code:"
     ]
    },
    {
     "cell_type": "markdown",
     "metadata": {},
     "source": [
      "### My next notebook\n",
      "\n",
      "This notebook is my first notebook with some experimental code.\n",
      "\n",
      "Author: [Michiel van Galen](mailto:m.van_galen@lumc.nl)"
     ]
    },
    {
     "cell_type": "markdown",
     "metadata": {},
     "source": [
      "Now, try to add more python code to the notebook:\n",
      " - Make sure to set the cell type to code\n",
      " - Add the 'reverse' function to your notebook as shown below"
     ]
    },
    {
     "cell_type": "code",
     "collapsed": false,
     "input": [
      "def reverse(seq):\n",
      "    rev = seq[::-1]\n",
      "    return rev"
     ],
     "language": "python",
     "metadata": {},
     "outputs": [],
     "prompt_number": 42
    },
    {
     "cell_type": "markdown",
     "metadata": {},
     "source": [
      "Try using both the 'reverse' and 'translate' function."
     ]
    },
    {
     "cell_type": "code",
     "collapsed": false,
     "input": [
      "reverse('AACGT')"
     ],
     "language": "python",
     "metadata": {},
     "outputs": [
      {
       "metadata": {},
       "output_type": "pyout",
       "prompt_number": 45,
       "text": [
        "'TGCAA'"
       ]
      }
     ],
     "prompt_number": 45
    },
    {
     "cell_type": "code",
     "collapsed": false,
     "input": [
      "translate(_)"
     ],
     "language": "python",
     "metadata": {},
     "outputs": [
      {
       "metadata": {},
       "output_type": "pyout",
       "prompt_number": 46,
       "text": [
        "'ACGTT'"
       ]
      }
     ],
     "prompt_number": 46
    },
    {
     "cell_type": "markdown",
     "metadata": {},
     "source": [
      "Palindromic sequences play an important role in molecular biology:\n",
      "\n",
      "http://en.wikipedia.org/wiki/Palindromic_sequence"
     ]
    },
    {
     "cell_type": "markdown",
     "metadata": {},
     "source": [
      "Add the following features to your notebook:\n",
      " - Think of function which can test if a seqeunce is palindromic\n",
      " - Nicely formatted mardown cell(s) explaining the notebook\n",
      "   - Add links as references like above"
     ]
    },
    {
     "cell_type": "heading",
     "level": 4,
     "metadata": {},
     "source": [
      "<br></br><br></br><br></br><br></br>\n",
      "<br></br><br></br><br></br><br></br>\n",
      "<br></br><br></br><br></br><br></br>\n",
      "<br></br><br></br><br></br><br></br>\n",
      "<br></br><br></br><br></br><br></br>\n",
      "Ignore following code for layout"
     ]
    },
    {
     "cell_type": "code",
     "collapsed": false,
     "input": [
      "from IPython.core.display import HTML\n",
      "def custom_style():\n",
      "    style = open('styles/notebook.css', 'r').read()\n",
      "    return HTML('<style>' + style + '</style>')\n",
      "def custom_script():\n",
      "    script = open('styles/notebook.js', 'r').read()\n",
      "    return HTML('<script>' + script + '</script>')"
     ],
     "language": "python",
     "metadata": {},
     "outputs": [],
     "prompt_number": 132
    },
    {
     "cell_type": "code",
     "collapsed": false,
     "input": [
      "custom_style()"
     ],
     "language": "python",
     "metadata": {},
     "outputs": [
      {
       "html": [
        "<style>/*\n",
        "  https://github.com/CamDavidsonPilon/Probabilistic-Programming-and-Bayesian-Methods-for-Hackers\n",
        "*/\n",
        "@font-face {\n",
        "    font-family: \"Computer Modern\";\n",
        "    src: url('http://mirrors.ctan.org/fonts/cm-unicode/fonts/otf/cmunss.otf');\n",
        "}\n",
        "div.cell{\n",
        "    width:800px;\n",
        "    margin-left:16% !important;\n",
        "    margin-right:auto;\n",
        "}\n",
        "h1 {\n",
        "    font-family: Helvetica, serif;\n",
        "}\n",
        "h4{\n",
        "    margin-top:12px;\n",
        "    margin-bottom: 3px;\n",
        "   }\n",
        "div.text_cell_render{\n",
        "    font-family: Computer Modern, \"Helvetica Neue\", Arial, Helvetica, Geneva, sans-serif;\n",
        "    line-height: 145%;\n",
        "    font-size: 130%;\n",
        "    width:800px;\n",
        "    margin-left:auto;\n",
        "    margin-right:auto;\n",
        "}\n",
        ".CodeMirror{\n",
        "        font-family: \"Source Code Pro\", source-code-pro,Consolas, monospace;\n",
        "}\n",
        ".prompt{\n",
        "    display: None;\n",
        "}\n",
        ".text_cell_render .exercise {\n",
        "    font-weight: 300;\n",
        "    /*font-size: 22pt;*/\n",
        "    color: #4057A1;\n",
        "    font-style: italic;\n",
        "    /*margin-bottom: .5em;\n",
        "    margin-top: 0.5em;\n",
        "    display: block;*/\n",
        "}\n",
        ".text_cell_render .example {\n",
        "    font-weight: 300;\n",
        "    color: #40A157;\n",
        "    font-style: italic;\n",
        "}\n",
        "\n",
        ".warning{\n",
        "    color: rgb( 240, 20, 20 )\n",
        "}\n",
        "</style>"
       ],
       "metadata": {},
       "output_type": "pyout",
       "prompt_number": 133,
       "text": [
        "<IPython.core.display.HTML at 0x3318850>"
       ]
      }
     ],
     "prompt_number": 133
    },
    {
     "cell_type": "code",
     "collapsed": false,
     "input": [
      "custom_script()"
     ],
     "language": "python",
     "metadata": {},
     "outputs": [
      {
       "html": [
        "<script>// https://github.com/CamDavidsonPilon/Probabilistic-Programming-and-Bayesian-Methods-for-Hackers\n",
        "MathJax.Hub.Config({\n",
        "                    TeX: {\n",
        "                       extensions: [\"AMSmath.js\"]\n",
        "                       },\n",
        "            tex2jax: {\n",
        "                inlineMath: [ ['$','$'], [\"\\\\(\",\"\\\\)\"] ],\n",
        "                displayMath: [ ['$$','$$'], [\"\\\\[\",\"\\\\]\"] ]\n",
        "            },\n",
        "            displayAlign: 'center', // Change this to 'center' to center equations.\n",
        "            \"HTML-CSS\": {\n",
        "                styles: {'.MathJax_Display': {\"margin\": 4}}\n",
        "            }\n",
        "    });\n",
        "</script>"
       ],
       "metadata": {},
       "output_type": "pyout",
       "prompt_number": 134,
       "text": [
        "<IPython.core.display.HTML at 0x3318050>"
       ]
      }
     ],
     "prompt_number": 134
    }
   ],
   "metadata": {}
  }
 ]
}