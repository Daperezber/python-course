{
 "metadata": {
  "name": "",
  "signature": "sha256:1c343fc8627b1d9dee68bb0544d2c4b19a14bca05167b161c6574365818a0631"
 },
 "nbformat": 3,
 "nbformat_minor": 0,
 "worksheets": [
  {
   "cells": [
    {
     "cell_type": "markdown",
     "metadata": {},
     "source": [
      "# A sip of Biopython (2)\n",
      "***\n",
      "\n",
      "[Wibowo Arindrarto](mailto:w.arindrarto@lumc.nl), [Sequencing Analysis Support Core, Leiden University Medical Center](http://sasc.lumc.nl)\n",
      "\n",
      "[Martijn Vermaat](mailto:m.vermaat.hg@lumc.nl), [Department of Human Genetics, Leiden University Medical Center](http://humgen.nl)\n",
      "\n",
      "License: [Creative Commons Attribution 3.0 License (CC-by)](http://creativecommons.org/licenses/by/3.0)"
     ]
    },
    {
     "cell_type": "markdown",
     "metadata": {},
     "source": [
      "## Table of contents\n",
      "\n",
      "1. Prelude: Python packages and their installation\n",
      "2. Biopython\n",
      "3. Working with sequences\n",
      "4. [File I/O with Biopython](#files)\n",
      "5. [Fetching from online resources: NCBI's Entrez](#entrez)\n",
      "5. [Performing a remote BLAST search](#blast)\n",
      "6. [Beyond Biopython](#beyond)"
     ]
    },
    {
     "cell_type": "markdown",
     "metadata": {},
     "source": [
      "<a id=\"files\"></a>\n",
      "## File I/O with Biopython\n",
      "\n",
      "As mentioned before, one of Biopython's strength is its wide range of parsing support. Briefly:\n",
      "\n",
      "* Sequence files: `Bio.SeqIO`\n",
      "* Alignment files: `Bio.AlignIO`\n",
      "* Sequence search files: `Bio.Blast` (soon to be `Bio.SearchIO`)\n",
      "* Phylogenetic trees: `Bio.Phylo`\n",
      "* Sequence motifs: `Bio.motifs`\n",
      "* Protein structures: `Bio.PDB`\n",
      "\n",
      "These parsers may not be the fastest available, but they provide a common interface of objects within their domain.\n",
      "\n",
      "As an example, let's take a look at parsing sequence files."
     ]
    },
    {
     "cell_type": "markdown",
     "metadata": {},
     "source": [
      "### Reading sequence files with `SeqIO`\n",
      "\n",
      "The main sequence input/output functions are all contained in the `Bio.SeqIO` module. Two of the most commonly used are `Bio.SeqIO.read` and `Bio.SeqIO.parse`. They provide the same functionality, except that the former is for files containing a single sequence and the latter is for files containing multiple sequences."
     ]
    },
    {
     "cell_type": "markdown",
     "metadata": {},
     "source": [
      "### `SeqIO.read`\n",
      "\n",
      "A simple function call that takes as input:\n",
      "\n",
      "1. The file name *or* a file handle object pointing to your sequence.\n",
      "2. The sequence file format name.\n",
      "\n",
      "It returns a single `SeqRecord` object containing our sequence of interest."
     ]
    },
    {
     "cell_type": "code",
     "collapsed": false,
     "input": [
      "from Bio import SeqIO"
     ],
     "language": "python",
     "metadata": {},
     "outputs": [],
     "prompt_number": 1
    },
    {
     "cell_type": "code",
     "collapsed": false,
     "input": [
      "fasta_record = SeqIO.read('data/simple.fa', 'fasta')"
     ],
     "language": "python",
     "metadata": {},
     "outputs": [],
     "prompt_number": 2
    },
    {
     "cell_type": "code",
     "collapsed": false,
     "input": [
      "fasta_record"
     ],
     "language": "python",
     "metadata": {},
     "outputs": [
      {
       "metadata": {},
       "output_type": "pyout",
       "prompt_number": 3,
       "text": [
        "SeqRecord(seq=Seq('MGIKQYSQEELKEMALVEIAHELFEEHKKPVPFQELLNEIASLLGVKKEELGDR...EIK', SingleLetterAlphabet()), id='sp|P12464|RPOE_BACSU', name='sp|P12464|RPOE_BACSU', description='sp|P12464|RPOE_BACSU DNA-directed RNA polymerase subunit delta OS=Bacillus subtilis (strain 168) GN=rpoE PE=1 SV=1', dbxrefs=[])"
       ]
      }
     ],
     "prompt_number": 3
    },
    {
     "cell_type": "code",
     "collapsed": false,
     "input": [
      "print fasta_record"
     ],
     "language": "python",
     "metadata": {},
     "outputs": [
      {
       "output_type": "stream",
       "stream": "stdout",
       "text": [
        "ID: sp|P12464|RPOE_BACSU\n",
        "Name: sp|P12464|RPOE_BACSU\n",
        "Description: sp|P12464|RPOE_BACSU DNA-directed RNA polymerase subunit delta OS=Bacillus subtilis (strain 168) GN=rpoE PE=1 SV=1\n",
        "Number of features: 0\n",
        "Seq('MGIKQYSQEELKEMALVEIAHELFEEHKKPVPFQELLNEIASLLGVKKEELGDR...EIK', SingleLetterAlphabet())\n"
       ]
      }
     ],
     "prompt_number": 4
    },
    {
     "cell_type": "markdown",
     "metadata": {},
     "source": [
      "The nice thing about this method, is that it abstracts over all the different file formats. If we want to parse another file which is a FASTQ instead of a FASTA file, we simply need to change the file name and the format name."
     ]
    },
    {
     "cell_type": "code",
     "collapsed": false,
     "input": [
      "fastq_record = SeqIO.read('data/easy.fastq', 'fastq')"
     ],
     "language": "python",
     "metadata": {},
     "outputs": [],
     "prompt_number": 5
    },
    {
     "cell_type": "code",
     "collapsed": false,
     "input": [
      "fastq_record"
     ],
     "language": "python",
     "metadata": {},
     "outputs": [
      {
       "metadata": {},
       "output_type": "pyout",
       "prompt_number": 6,
       "text": [
        "SeqRecord(seq=Seq('CCGCGACCTCTGTTCTGCAGCCCCTTCCCTTCCCCGCCTCCTGCTCTGCCGGGA...CCA', SingleLetterAlphabet()), id='HWI-ST1019:196:D121WACXX:5:1101:1538:2300/1', name='HWI-ST1019:196:D121WACXX:5:1101:1538:2300/1', description='HWI-ST1019:196:D121WACXX:5:1101:1538:2300/1', dbxrefs=[])"
       ]
      }
     ],
     "prompt_number": 6
    },
    {
     "cell_type": "code",
     "collapsed": false,
     "input": [
      "print fastq_record"
     ],
     "language": "python",
     "metadata": {},
     "outputs": [
      {
       "output_type": "stream",
       "stream": "stdout",
       "text": [
        "ID: HWI-ST1019:196:D121WACXX:5:1101:1538:2300/1\n",
        "Name: HWI-ST1019:196:D121WACXX:5:1101:1538:2300/1\n",
        "Description: HWI-ST1019:196:D121WACXX:5:1101:1538:2300/1\n",
        "Number of features: 0\n",
        "Per letter annotation for: phred_quality\n",
        "Seq('CCGCGACCTCTGTTCTGCAGCCCCTTCCCTTCCCCGCCTCCTGCTCTGCCGGGA...CCA', SingleLetterAlphabet())\n"
       ]
      }
     ],
     "prompt_number": 7
    },
    {
     "cell_type": "markdown",
     "metadata": {},
     "source": [
      "Of course, since the FASTQ file has additional quality information, we can now access it. In this case, the qualities are stored in `letter_annotations`."
     ]
    },
    {
     "cell_type": "code",
     "collapsed": false,
     "input": [
      "print fastq_record.letter_annotations"
     ],
     "language": "python",
     "metadata": {},
     "outputs": [
      {
       "output_type": "stream",
       "stream": "stdout",
       "text": [
        "{'phred_quality': [16, 10, 10, 10, 19, 8, 27, 31, 27, 32, 27, 10, 17, 32, 24, 32, 17, 10, 10, 25, 18, 34, 23, 25, 8, 16, 30, 33, 35, 33, 35, 33, 33, 35, 34, 31, 25, 25, 21, 31, 7, 13, 23, 13, 13, 22, 8, 22, 22, 22, 25, 27, 30, 31, 31, 2, 2, 2, 2, 2, 2, 2, 2, 2, 2, 2, 2, 2, 2, 2, 2, 2, 2, 2, 2, 2, 2, 2, 2, 2, 2, 2, 2, 2, 2, 2, 2, 2, 2, 2, 2, 2, 2, 2, 2, 2, 2, 2, 2, 2, 2]}\n"
       ]
      }
     ],
     "prompt_number": 8
    },
    {
     "cell_type": "markdown",
     "metadata": {},
     "source": [
      "Even more, `SeqIO` has support not only for plain text formats but also binary formats. Here's an example of `SeqIO` reading a Sanger sequencing trace file. Note the additional information (e.g. sequencing well) stored in the file is also parsed."
     ]
    },
    {
     "cell_type": "code",
     "collapsed": false,
     "input": [
      "abi_record = SeqIO.read('data/sanger.ab1', 'abi')"
     ],
     "language": "python",
     "metadata": {},
     "outputs": [],
     "prompt_number": 9
    },
    {
     "cell_type": "code",
     "collapsed": false,
     "input": [
      "print abi_record"
     ],
     "language": "python",
     "metadata": {},
     "outputs": [
      {
       "output_type": "stream",
       "stream": "stdout",
       "text": [
        "ID: 226032_C-ME-18_pCAGseqF\n",
        "Name: sanger\n",
        "Number of features: 0\n",
        "/polymer=POP7                            \n",
        "/run_finish=2009-12-12 11:44:49\n",
        "/sample_well=B9\n",
        "/run_start=2009-12-12 09:56:53\n",
        "/machine_model=3730\n",
        "/dye=Z-BigDyeV3\n",
        "Per letter annotation for: phred_quality\n",
        "Seq('GGGCGAGCKYYAYATTTTGGCAAGAATTGAGCTCTATGGCCACAACCATGGTGA...TTC', IUPACAmbiguousDNA())\n"
       ]
      }
     ],
     "prompt_number": 10
    },
    {
     "cell_type": "markdown",
     "metadata": {},
     "source": [
      "Head over to the [official Biopython API documentation](http://biopython.org/DIST/docs/api/) for a complete list of supported formats."
     ]
    },
    {
     "cell_type": "markdown",
     "metadata": {},
     "source": [
      "### `SeqIO.parse`"
     ]
    },
    {
     "cell_type": "markdown",
     "metadata": {},
     "source": [
      "`SeqIO.parse` is similar to `SeqIO.read`, but instead of returning a single `SeqRecord` object, we can iterate over the return value to get consecutive `SeqRecord` objects.\n",
      "\n",
      "This is similar to how we iterated over a filehandle to get consecutive lines:\n",
      "\n",
      "    fh = open('my_file')\n",
      "    for line in fh:\n",
      "        print line\n",
      "    fh.close()\n",
      "\n",
      "However, instead of returning each line of the file, `SeqIO.parse` returns a single `SeqRecord` object per iteration and we do not need to call `close` afterwards because it is handled automatically by Biopython.\n",
      "\n",
      "    for record in SeqIO.parse('my_sequence.fa', 'fasta'):\n",
      "        print record"
     ]
    },
    {
     "cell_type": "code",
     "collapsed": false,
     "input": [
      "for record in SeqIO.parse('data/parse.fastq', 'fastq'):\n",
      "    print record.seq"
     ],
     "language": "python",
     "metadata": {},
     "outputs": [
      {
       "output_type": "stream",
       "stream": "stdout",
       "text": [
        "CCGCGACCTCTGTTCTGCAGCCCCTTCCCTTCCCCGCCTCCTGCTCTGCCGGGACTACGCACCGGCCTGATTGGTTACCCCCGGGGTGTCCTCGGTCACCA\n",
        "CCGCGACCTCTGTTCTGCAGCCCCTTCCCTTCCCCGCCTCCTGCTCTGCCGGGACTACGCACCGGCCTGATTGGTTACCCCCGGGGTGTCCTCGGTCACCA\n"
       ]
      }
     ],
     "prompt_number": 11
    },
    {
     "cell_type": "markdown",
     "metadata": {},
     "source": [
      "The advantage of `SeqIO.parse` is that it allows you to handle large, multi-sequence files gracefully. The file size may well exceed your memory, since it allows us to process the records one by one.\n",
      "\n",
      "`SeqIO.parse` supports the same set of formats that `SeqIO.read` supports, one example is shown below."
     ]
    },
    {
     "cell_type": "code",
     "collapsed": false,
     "input": [
      "for record in SeqIO.parse('data/roche.sff', 'sff'):\n",
      "    print record.id, len(record), record.seq[:10]"
     ],
     "language": "python",
     "metadata": {},
     "outputs": [
      {
       "output_type": "stream",
       "stream": "stdout",
       "text": [
        "E3MFGYR02JWQ7T 265 tcagGGTCTA\n",
        "E3MFGYR02JA6IL 271 tcagTTTTTT\n",
        "E3MFGYR02JHD4H 310 tcagAAAGAC\n",
        "E3MFGYR02GFKUC 299 tcagCGGCCG\n",
        "E3MFGYR02FTGED 281 tcagTGGTAA\n",
        "E3MFGYR02FR9G7 261 tcagCTCCGT\n",
        "E3MFGYR02GAZMS 278 tcagAAAGAA\n",
        "E3MFGYR02HHZ8O 221 tcagACTTTC\n",
        "E3MFGYR02GPGB1 269 tcagAAGCAG\n",
        "E3MFGYR02F7Z7G 219 tcagAATCAT\n"
       ]
      }
     ],
     "prompt_number": 12
    },
    {
     "cell_type": "markdown",
     "metadata": {},
     "source": [
      "### <span class=\"exercise\">Exercise: Trimming sequences from a mangled FASTQ file</span>\n",
      "\n",
      "* From the interleaved FASTQ file `data/mangled.fq`, print all sequences of the first read pairs after trimming off their first five nucleotides.\n",
      "* **Hint:** first pair and second pair records are marked with `/1` and `/2`, respectively."
     ]
    },
    {
     "cell_type": "markdown",
     "metadata": {},
     "source": [
      "### <span class=\"example\">Example: A poor man's FastQC</span>\n",
      "\n",
      "Those of you working with NGS data probably know the [FastQC](http://www.bioinformatics.babraham.ac.uk/projects/fastqc/) tool. It summarizes the quality of your raw sequencing reads over different metrics.\n",
      "\n",
      "<img src=\"files/images/fastqc.png\">\n",
      "\n",
      "Let's try to mimic the plot showing the base quality score distributions over the read length."
     ]
    },
    {
     "cell_type": "code",
     "collapsed": false,
     "input": [
      "%pylab inline"
     ],
     "language": "python",
     "metadata": {},
     "outputs": [
      {
       "output_type": "stream",
       "stream": "stdout",
       "text": [
        "Populating the interactive namespace from numpy and matplotlib\n"
       ]
      },
      {
       "output_type": "stream",
       "stream": "stderr",
       "text": [
        "WARNING: pylab import has clobbered these variables: ['record']\n",
        "`%matplotlib` prevents importing * from pylab and numpy\n"
       ]
      }
     ],
     "prompt_number": 13
    },
    {
     "cell_type": "code",
     "collapsed": false,
     "input": [
      "qualities = array([r.letter_annotations['phred_quality'] for r in\n",
      "                   SeqIO.parse('data/mangled.fq', 'fastq')])"
     ],
     "language": "python",
     "metadata": {},
     "outputs": [],
     "prompt_number": 14
    },
    {
     "cell_type": "markdown",
     "metadata": {},
     "source": [
      "We now have a (20, 36) shaped array of quality scores (only 20 sequences of 36 bases each). Conveniently, we can pass this directly to the matplotlib `boxplot` function.\n",
      "\n",
      "While we're at it, let's also draw some visual indication that we consider everything below 60 as suboptimal (using `axhspan`) and add proper labels."
     ]
    },
    {
     "cell_type": "code",
     "collapsed": false,
     "input": [
      "figsize(10, 6)\n",
      "axhspan(60, 100, facecolor='green', alpha=0.1, lw=0)\n",
      "axhspan(0, 60, facecolor='red', alpha=0.1, lw=0)\n",
      "boxplot(qualities, sym='')\n",
      "ylim(qualities.min() // 10 * 10, qualities.max() // 10 * 10 + 10)\n",
      "xlabel('Read position')\n",
      "ylabel('Phred-based quality score')\n",
      "title('Base quality score distributions over the read length');"
     ],
     "language": "python",
     "metadata": {},
     "outputs": [
      {
       "metadata": {},
       "output_type": "display_data",
       "png": "[encoded data removed]",
       "text": [
        "<matplotlib.figure.Figure at 0x4279e90>"
       ]
      }
     ],
     "prompt_number": 15
    },
    {
     "cell_type": "markdown",
     "metadata": {},
     "source": [
      "### Writing sequence files with `SeqIO`\n",
      "\n",
      "Often, after manipulating parsed sequences, we need to write it back to a file. This is accomplished using `SeqIO.write` in Biopython. The function takes as its input:\n",
      "\n",
      "1. An iterable returning `SeqRecord` objects (generators and lists are examples of iterables).\n",
      "2. A filename to write to *or* a file-like handle.\n",
      "3. The format to write to.\n",
      "\n",
      "It returns the number of sequences written."
     ]
    },
    {
     "cell_type": "code",
     "collapsed": false,
     "input": [
      "records = SeqIO.parse('data/parse.fastq', 'fastq')"
     ],
     "language": "python",
     "metadata": {},
     "outputs": [],
     "prompt_number": 16
    },
    {
     "cell_type": "code",
     "collapsed": false,
     "input": [
      "SeqIO.write(records, 'my_sequences.fa', 'fasta')"
     ],
     "language": "python",
     "metadata": {},
     "outputs": [
      {
       "metadata": {},
       "output_type": "pyout",
       "prompt_number": 17,
       "text": [
        "2"
       ]
      }
     ],
     "prompt_number": 17
    },
    {
     "cell_type": "markdown",
     "metadata": {},
     "source": [
      "Note that we're free to write the output format as any format supported by `SeqIO.write` so long as the information is adequate. In this case, reading the `my_sequences.fa` and writing it back to `parse.fastq` would not be possible since we have discarded the quality information.\n",
      "\n",
      "Additionally, the sequence records are written one-by-one to the file (courtesy of `SeqIO.parse`). So even if the `data/parse.fastq` is 10GB large, we can run the commands with only 1GB of free memory (for example)."
     ]
    },
    {
     "cell_type": "markdown",
     "metadata": {},
     "source": [
      "### Additional `SeqIO` methods\n",
      "\n",
      "There are several more useful `SeqIO` functions, which you are free to try out on your own:\n",
      "\n",
      "* `SeqIO.index`: For efficiently fetching random records from a large sequence file.\n",
      "* `SeqIO.index_db`: Similar to `SeqIO.index`, but with a persistent index.\n",
      "* `SeqIO.convert`: Shortcut for converting between file formats."
     ]
    },
    {
     "cell_type": "markdown",
     "metadata": {},
     "source": [
      "<a id=\"entrez\"></a>\n",
      "## Fetching from online resources: NCBI's Entrez\n",
      "\n",
      "The `Bio.Entrez` library provides interface to [NCBI's Entrez e-utilities](https://www.ncbi.nlm.nih.gov/books/NBK25500/). One example we are demonstrating today is the `Entrez.efetch` utility to retrieve various records from one of NCBI's databases."
     ]
    },
    {
     "cell_type": "code",
     "collapsed": false,
     "input": [
      "from Bio import Entrez"
     ],
     "language": "python",
     "metadata": {},
     "outputs": [],
     "prompt_number": 18
    },
    {
     "cell_type": "markdown",
     "metadata": {},
     "source": [
      "To monitor potential excessive use of their services, NCBI requests you to specify your email address with each request. With Biopython, you can set it once for your session like this:"
     ]
    },
    {
     "cell_type": "code",
     "collapsed": false,
     "input": [
      "Entrez.email = 'python@lumc.nl'"
     ],
     "language": "python",
     "metadata": {},
     "outputs": [],
     "prompt_number": 19
    },
    {
     "cell_type": "markdown",
     "metadata": {},
     "source": [
      "### Fetching with `efetch`\n",
      "\n",
      "The `Entrez.efetch` function returns a file-like handle that instead of pointing to a local file, points to a remote resource. This file handle is similar to the local file handle we saw on Tuesday."
     ]
    },
    {
     "cell_type": "code",
     "collapsed": false,
     "input": [
      "efetch_handle = Entrez.efetch(db=\"nucleotide\", id=\"NM_005804\",\n",
      "                              rettype=\"gb\", retmode=\"text\")"
     ],
     "language": "python",
     "metadata": {},
     "outputs": [],
     "prompt_number": 20
    },
    {
     "cell_type": "markdown",
     "metadata": {},
     "source": [
      "We can of course do an `efetch_handle.read()` and see the entire contents of the genbank file. But we know how to work with `SeqIO.read` now, so let's use that instead (recall that `SeqIO.read` works equally well with file handles and local file names)."
     ]
    },
    {
     "cell_type": "code",
     "collapsed": false,
     "input": [
      "ncbi_record = SeqIO.read(efetch_handle, 'genbank')"
     ],
     "language": "python",
     "metadata": {},
     "outputs": [],
     "prompt_number": 21
    },
    {
     "cell_type": "code",
     "collapsed": false,
     "input": [
      "print ncbi_record"
     ],
     "language": "python",
     "metadata": {},
     "outputs": [
      {
       "output_type": "stream",
       "stream": "stdout",
       "text": [
        "ID: NM_005804.3\n",
        "Name: NM_005804\n",
        "Description: Homo sapiens DEAD (Asp-Glu-Ala-Asp) box polypeptide 39A (DDX39A), transcript variant 1, mRNA.\n",
        "Number of features: 24\n",
        "/comment=REVIEWED REFSEQ: This record has been curated by NCBI staff. The\n",
        "reference sequence was derived from DA432925.1, BC001009.2 and\n",
        "BM792110.1.\n",
        "This sequence is a reference standard in the RefSeqGene project.\n",
        "On Oct 14, 2010 this sequence version replaced gi:21040370.\n",
        "Summary: This gene encodes a member of the DEAD box protein family.\n",
        "These proteins are characterized by the conserved motif\n",
        "Asp-Glu-Ala-Asp (DEAD) and are putative RNA helicases. They are\n",
        "implicated in a number of cellular processes involving alteration\n",
        "of RNA secondary structure, such as translation initiation, nuclear\n",
        "and mitochondrial splicing, and ribosome and spliceosome assembly.\n",
        "Based on their distribution patterns, some members of the DEAD box\n",
        "protein family are believed to be involved in embryogenesis,\n",
        "spermatogenesis, and cellular growth and division. This gene is\n",
        "thought to play a role in the prognosis of patients with\n",
        "gastrointestinal stromal tumors. A pseudogene of this gene is\n",
        "present on chromosome 13. Alternate splicing results in multiple\n",
        "transcript variants. Additional alternatively spliced transcript\n",
        "variants of this gene have been described, but their full-length\n",
        "nature is not known. [provided by RefSeq, Sep 2013].\n",
        "Transcript Variant: This variant (1) represents the longer\n",
        "transcript.\n",
        "Publication Note:  This RefSeq record includes a subset of the\n",
        "publications that are available for this gene. Please see the Gene\n",
        "record to access additional publications.\n",
        "##Evidence-Data-START##\n",
        "Transcript exon combination :: U90426.1, BC001009.2 [ECO:0000332]\n",
        "RNAseq introns              :: mixed/partial sample support\n",
        "                               ERS025081, ERS025082 [ECO:0000350]\n",
        "##Evidence-Data-END##\n",
        "COMPLETENESS: complete on the 3' end.\n",
        "/sequence_version=3\n",
        "/source=Homo sapiens (human)\n",
        "/taxonomy=['Eukaryota', 'Metazoa', 'Chordata', 'Craniata', 'Vertebrata', 'Euteleostomi', 'Mammalia', 'Eutheria', 'Euarchontoglires', 'Primates', 'Haplorrhini', 'Catarrhini', 'Hominidae', 'Homo']\n",
        "/keywords=['RefSeq']\n",
        "/references=[Reference(title='Up-regulation of DDX39 in human malignant pleural mesothelioma cell lines compared to normal pleural mesothelial cells', ...), Reference(title='A whole-genome association study of major determinants for allopurinol-related Stevens-Johnson syndrome and toxic epidermal necrolysis in Japanese patients', ...), Reference(title='DDX39 acts as a suppressor of invasion for bladder cancer', ...), Reference(title='Clinical proteomics identified ATP-dependent RNA helicase DDX39 as a novel biomarker to predict poor prognosis of patients with gastrointestinal stromal tumor', ...), Reference(title='Interferon-induced antiviral protein MxA interacts with the cellular RNA helicases UAP56 and URH49', ...), Reference(title='The closely related RNA helicases, UAP56 and URH49, preferentially form distinct mRNA export machineries and coordinately regulate mitotic progression', ...), Reference(title='Hcc-1 is a novel component of the nuclear matrix with growth inhibitory function', ...), Reference(title='Growth-regulated expression and G0-specific turnover of the mRNA that encodes URH49, a mammalian DExH/D box protein that is highly related to the mRNA export protein UAP56', ...), Reference(title='Analysis of a high-throughput yeast two-hybrid system and its use to predict the function of intracellular proteins encoded within the human MHC class III region', ...), Reference(title='The BAT1 gene in the MHC encodes an evolutionarily conserved putative nuclear RNA helicase of the DEAD family', ...)]\n",
        "/accessions=['NM_005804']\n",
        "/data_file_division=PRI\n",
        "/date=25-MAY-2014\n",
        "/organism=Homo sapiens\n",
        "/gi=308522777\n",
        "Seq('AGCAGCAGCCCGACGCAAGAGGCAGGAAGCGCAGCAACTCGTGTCTGAGCGCCC...AAA', IUPACAmbiguousDNA())\n"
       ]
      }
     ],
     "prompt_number": 22
    },
    {
     "cell_type": "markdown",
     "metadata": {},
     "source": [
      "`Entrez.efetch` also allows you to fetch multiple records in one go:"
     ]
    },
    {
     "cell_type": "code",
     "collapsed": false,
     "input": [
      "efetch_handle = Entrez.efetch(db=\"nucleotide\", id=[\"NM_005804\",\"NM_000967\"],\n",
      "                              rettype=\"gb\", retmode=\"text\")"
     ],
     "language": "python",
     "metadata": {},
     "outputs": [],
     "prompt_number": 23
    },
    {
     "cell_type": "code",
     "collapsed": false,
     "input": [
      "for record in SeqIO.parse(efetch_handle, 'genbank'):\n",
      "    print record.id, record.description"
     ],
     "language": "python",
     "metadata": {},
     "outputs": [
      {
       "output_type": "stream",
       "stream": "stdout",
       "text": [
        "NM_005804.3 Homo sapiens DEAD (Asp-Glu-Ala-Asp) box polypeptide 39A (DDX39A), transcript variant 1, mRNA.\n",
        "NM_000967.3 Homo sapiens ribosomal protein L3 (RPL3), transcript variant 1, mRNA.\n"
       ]
      }
     ],
     "prompt_number": 24
    },
    {
     "cell_type": "markdown",
     "metadata": {},
     "source": [
      "For a full argument list of `Entrez.efetch`, consult its [documentation page](https://www.ncbi.nlm.nih.gov/books/NBK25499/#chapter4.EFetch)."
     ]
    },
    {
     "cell_type": "markdown",
     "metadata": {},
     "source": [
      "### Other `Bio.Entrez` utilities\n",
      "\n",
      "Biopython has the entire Entrez suite supported. A complete list of the Entrez services is available in its [documentation](https://www.ncbi.nlm.nih.gov/books/NBK25500/)."
     ]
    },
    {
     "cell_type": "markdown",
     "metadata": {},
     "source": [
      "<a id=\"blast\"></a>\n",
      "## Performing a remote BLAST search\n",
      "\n",
      "A common action for bioinformaticians is to perform a BLAST search. Biopython provides a way to automate the search and helps you interpret the results."
     ]
    },
    {
     "cell_type": "markdown",
     "metadata": {},
     "source": [
      "### Using NCBI's BLAST\n",
      "\n",
      "Entrez is not the only online service Biopython interacts with. We can also submit BLAST searches to NCBI using the `qblast` function in the `Bio.Blast.NCBIWWW` module.\n",
      "\n",
      "Similar to Entrez, Biopython tries to conform to the NCBI's remote BLAST required parameters in the function call. The official NCBI documentation is [here](https://www.ncbi.nlm.nih.gov/BLAST/Doc/urlapi.html).\n",
      "\n",
      "Let's do a short BLAST search using our earlier fetched `ncbi_record` (NM_005804). "
     ]
    },
    {
     "cell_type": "code",
     "collapsed": false,
     "input": [
      "from Bio.Blast.NCBIWWW import qblast"
     ],
     "language": "python",
     "metadata": {},
     "outputs": [],
     "prompt_number": 25
    },
    {
     "cell_type": "code",
     "collapsed": false,
     "input": [
      "blast_handle = qblast('blastn', 'refseq_mrna', ncbi_record.seq)"
     ],
     "language": "python",
     "metadata": {},
     "outputs": [],
     "prompt_number": 26
    },
    {
     "cell_type": "markdown",
     "metadata": {},
     "source": [
      "By default, the command returns the BLAST result in an XML file (one of the available formats to download from an interactive BLAST session). We will use `blast_handle` in the next section, but of course we could also write the results to a file for viewing later:\n",
      "\n",
      "    blast_file = open('my_blast_output.xml', 'w')\n",
      "    blast_file.write(blast_handle.read())\n",
      "    blast_file.close()"
     ]
    },
    {
     "cell_type": "markdown",
     "metadata": {},
     "source": [
      "### Parsing the BLAST search results\n",
      "\n",
      "Of course, Biopython has parsing capabilities for the results as well. As mentioned briefly above, parsing for these types of file is available in the `Bio.Blast.NCBIXML` submodule and `Bio.SearchIO` submodule. The former is an old module that will be deprecated soon and replaced by the latter (which is still in experimental stage, but already stable enough).\n",
      "\n",
      "Here's a short example using `Bio.SearchIO`:"
     ]
    },
    {
     "cell_type": "code",
     "collapsed": false,
     "input": [
      "from Bio import SearchIO"
     ],
     "language": "python",
     "metadata": {},
     "outputs": [
      {
       "output_type": "stream",
       "stream": "stderr",
       "text": [
        "/home/martijn/.virtualenvs/programming-course/local/lib/python2.7/site-packages/Bio/SearchIO/__init__.py:213: BiopythonExperimentalWarning: Bio.SearchIO is an experimental submodule which may undergo significant changes prior to its future official release.\n",
        "  BiopythonExperimentalWarning)\n"
       ]
      }
     ],
     "prompt_number": 27
    },
    {
     "cell_type": "code",
     "collapsed": false,
     "input": [
      "qresult = SearchIO.read(blast_handle, 'blast-xml')"
     ],
     "language": "python",
     "metadata": {},
     "outputs": [],
     "prompt_number": 28
    },
    {
     "cell_type": "code",
     "collapsed": false,
     "input": [
      "qresult"
     ],
     "language": "python",
     "metadata": {},
     "outputs": [
      {
       "metadata": {},
       "output_type": "pyout",
       "prompt_number": 29,
       "text": [
        "QueryResult(id='37723', 50 hits)"
       ]
      }
     ],
     "prompt_number": 29
    },
    {
     "cell_type": "code",
     "collapsed": false,
     "input": [
      "print qresult"
     ],
     "language": "python",
     "metadata": {},
     "outputs": [
      {
       "output_type": "stream",
       "stream": "stdout",
       "text": [
        "Program: blastn (2.2.29+)\n",
        "  Query: 37723 (1558)\n",
        "         No definition line\n",
        " Target: refseq_mrna\n",
        "   Hits: ----  -----  ----------------------------------------------------------\n",
        "            #  # HSP  ID + description                                          \n",
        "         ----  -----  ----------------------------------------------------------\n",
        "            0      1  gi|308522777|ref|NM_005804.3|  Homo sapiens DEAD (Asp-G...\n",
        "            1      1  gi|397471065|ref|XM_003807080.1|  PREDICTED: Pan panisc...\n",
        "            2      1  gi|426387514|ref|XM_004060164.1|  PREDICTED: Gorilla go...\n",
        "            3      1  gi|395750601|ref|XM_002828787.2|  PREDICTED: Pongo abel...\n",
        "            4      1  gi|402904531|ref|XM_003915048.1|  PREDICTED: Papio anub...\n",
        "            5      1  gi|544509259|ref|XM_005588244.1|  PREDICTED: Macaca fas...\n",
        "            6      1  gi|426387518|ref|XM_004060166.1|  PREDICTED: Gorilla go...\n",
        "            7      1  gi|635036575|ref|XM_007995524.1|  PREDICTED: Chlorocebu...\n",
        "            8      1  gi|544509261|ref|XM_005588245.1|  PREDICTED: Macaca fas...\n",
        "            9      1  gi|403302190|ref|XM_003941697.1|  PREDICTED: Saimiri bo...\n",
        "           10      1  gi|301601638|ref|NM_001193491.1|  Macaca mulatta DEAD (...\n",
        "           11      1  gi|562865790|ref|XM_006161013.1|  PREDICTED: Tupaia chi...\n",
        "           12      1  gi|640797366|ref|XM_008056626.1|  PREDICTED: Tarsius sy...\n",
        "           13      1  gi|586527809|ref|XM_006918771.1|  PREDICTED: Pteropus a...\n",
        "           14      1  gi|585156628|ref|XM_006730572.1|  PREDICTED: Leptonycho...\n",
        "           15      1  gi|478537026|ref|XM_004442573.1|  PREDICTED: Ceratother...\n",
        "           16      1  gi|591345874|ref|XM_007098135.1|  PREDICTED: Panthera t...\n",
        "           17      1  gi|586977054|ref|XM_003981942.2|  PREDICTED: Felis catu...\n",
        "           18      1  gi|558177074|ref|XM_006100331.1|  PREDICTED: Myotis luc...\n",
        "           19      1  gi|545534433|ref|XM_533895.4|  PREDICTED: Canis lupus f...\n",
        "           20      1  gi|593748472|ref|XM_007129429.1|  PREDICTED: Physeter c...\n",
        "           21      1  gi|594668171|ref|XM_007182056.1|  PREDICTED: Balaenopte...\n",
        "           22      1  gi|472358840|ref|XM_004398985.1|  PREDICTED: Odobenus r...\n",
        "           23      1  gi|554542571|ref|XM_005865845.1|  PREDICTED: Myotis bra...\n",
        "           24      1  gi|395850754|ref|XM_003797893.1|  PREDICTED: Otolemur g...\n",
        "           25      1  gi|511847827|ref|XM_004748233.1|  PREDICTED: Mustela pu...\n",
        "           26      1  gi|466046657|ref|XM_004277418.1|  PREDICTED: Orcinus or...\n",
        "           27      1  gi|470600673|ref|XM_004312273.1|  PREDICTED: Tursiops t...\n",
        "           28      1  gi|301771295|ref|XM_002920972.1|  PREDICTED: Ailuropoda...\n",
        "           29      1  gi|602717846|ref|XM_007469048.1|  PREDICTED: Lipotes ve...\n",
        "           ~~~\n",
        "           47      1  gi|545534427|ref|XM_005632789.1|  PREDICTED: Canis lupu...\n",
        "           48      1  gi|511847823|ref|XM_004748231.1|  PREDICTED: Mustela pu...\n",
        "           49      1  gi|511847825|ref|XM_004748232.1|  PREDICTED: Mustela pu...\n"
       ]
      }
     ],
     "prompt_number": 30
    },
    {
     "cell_type": "markdown",
     "metadata": {},
     "source": [
      "Notice that the function call is very similar to `SeqIO`. However, the returned `QueryResult` object is something we have not seen before. In general, this is a container object for all our results.\n",
      "\n",
      "The main principle of `Bio.SearchIO` objects is that for all sequence database searches, we have at least three layers of containers:\n",
      "\n",
      "1. The query itself (`QueryResult`).\n",
      "2. All the database hits from the query (`Hit`).\n",
      "3. All the locations in a database record where alignments are found (`HSP`, for high-scoring pair)."
     ]
    },
    {
     "cell_type": "code",
     "collapsed": false,
     "input": [
      "# for every hit in the first 10 query result\n",
      "for hit in qresult[:10]:\n",
      "    # for every hsp in hit\n",
      "    for hsp in hit:\n",
      "        # show the hit ID and how long the match spans the hit (ungapped)\n",
      "        print hit.id, hsp.hit_span"
     ],
     "language": "python",
     "metadata": {},
     "outputs": [
      {
       "output_type": "stream",
       "stream": "stdout",
       "text": [
        "gi|308522777|ref|NM_005804.3| 1558\n",
        "gi|397471065|ref|XM_003807080.1| 1540\n",
        "gi|426387514|ref|XM_004060164.1| 1539\n",
        "gi|395750601|ref|XM_002828787.2| 1536\n",
        "gi|402904531|ref|XM_003915048.1| 1562\n",
        "gi|544509259|ref|XM_005588244.1| 1537\n",
        "gi|426387518|ref|XM_004060166.1| 1428\n",
        "gi|635036575|ref|XM_007995524.1| 1537\n",
        "gi|544509261|ref|XM_005588245.1| 1430\n",
        "gi|403302190|ref|XM_003941697.1| 1539\n"
       ]
      }
     ],
     "prompt_number": 31
    },
    {
     "cell_type": "markdown",
     "metadata": {},
     "source": [
      "And all these containers are indexable."
     ]
    },
    {
     "cell_type": "code",
     "collapsed": false,
     "input": [
      "# get the Hit object with the ID 'gi|308522777|ref|NM_005804.3|'\n",
      "qresult['gi|308522777|ref|NM_005804.3|']"
     ],
     "language": "python",
     "metadata": {},
     "outputs": [
      {
       "metadata": {},
       "output_type": "pyout",
       "prompt_number": 32,
       "text": [
        "Hit(id='gi|308522777|ref|NM_005804.3|', query_id='37723', 1 hsps)"
       ]
      }
     ],
     "prompt_number": 32
    },
    {
     "cell_type": "code",
     "collapsed": false,
     "input": [
      "# get the first Hit object\n",
      "qresult[0]"
     ],
     "language": "python",
     "metadata": {},
     "outputs": [
      {
       "metadata": {},
       "output_type": "pyout",
       "prompt_number": 33,
       "text": [
        "Hit(id='gi|308522777|ref|NM_005804.3|', query_id='37723', 1 hsps)"
       ]
      }
     ],
     "prompt_number": 33
    },
    {
     "cell_type": "code",
     "collapsed": false,
     "input": [
      "# get the first HSP of the first Hit object\n",
      "qresult[0][0]"
     ],
     "language": "python",
     "metadata": {},
     "outputs": [
      {
       "metadata": {},
       "output_type": "pyout",
       "prompt_number": 34,
       "text": [
        "HSP(hit_id='gi|308522777|ref|NM_005804.3|', query_id='37723', 1 fragments)"
       ]
      }
     ],
     "prompt_number": 34
    },
    {
     "cell_type": "markdown",
     "metadata": {},
     "source": [
      "There is more to these objects than can be shown here. You can consult the [official API documentation](http://biopython.org/DIST/docs/api/) for a full reference."
     ]
    },
    {
     "cell_type": "markdown",
     "metadata": {},
     "source": [
      "### <span class=\"exercise\">Exercise: Navigating through a BLAST result</span>\n",
      "\n",
      "From the last BLAST result we have, fetch the full sequences of the top 10 hits that are not predicted sequences."
     ]
    },
    {
     "cell_type": "markdown",
     "metadata": {},
     "source": [
      "<a id=\"beyond\"></a>\n",
      "## Beyond Biopython\n",
      "\n",
      "Biopython is not the only useful 3rd party Python library out there. There is still much ground it does not cover, which is covered by other modules. Some of the modules in the bioinformatics space you may find useful:\n",
      "\n",
      "- [pysam](http://wwwfgu.anat.ox.ac.uk/~andreas/documentation/samtools/api.html): A samtools wrapper for parsing and writing SAM/BAM alignment files.\n",
      "- [PyVCF](http://pyvcf.readthedocs.org/en/latest/): For working with VCF files.\n",
      "- [track](http://xapple.github.io/track/): For working with genome tracks (e.g. BED tracks).\n",
      "- [pybedtools](http://pythonhosted.org/pybedtools/): A bedtools wrapper for working with genome tracks.\n",
      "- [metaseq](http://pythonhosted.org/metaseq/): A framework for exploring genomic data.\n",
      "- [GEMINI](http://gemini.readthedocs.org/): A flexible framework for exploring genome variation.\n",
      "- ..."
     ]
    },
    {
     "cell_type": "code",
     "collapsed": false,
     "input": [
      "from IPython.core.display import HTML\n",
      "def custom_style():\n",
      "    style = open('styles/notebook.css', 'r').read()\n",
      "    return HTML('<style>' + style + '</style>')\n",
      "def custom_script():\n",
      "    script = open('styles/notebook.js', 'r').read()\n",
      "    return HTML('<script>' + script + '</script>')"
     ],
     "language": "python",
     "metadata": {},
     "outputs": [],
     "prompt_number": 35
    },
    {
     "cell_type": "code",
     "collapsed": false,
     "input": [
      "custom_style()"
     ],
     "language": "python",
     "metadata": {},
     "outputs": [
      {
       "html": [
        "<style>/*\n",
        "  https://github.com/CamDavidsonPilon/Probabilistic-Programming-and-Bayesian-Methods-for-Hackers\n",
        "*/\n",
        "@font-face {\n",
        "    font-family: \"Computer Modern\";\n",
        "    src: url('http://mirrors.ctan.org/fonts/cm-unicode/fonts/otf/cmunss.otf');\n",
        "}\n",
        "div.cell{\n",
        "    width:800px;\n",
        "    margin-left:16% !important;\n",
        "    margin-right:auto;\n",
        "}\n",
        "h1 {\n",
        "    font-family: Helvetica, serif;\n",
        "}\n",
        "h4{\n",
        "    margin-top:12px;\n",
        "    margin-bottom: 3px;\n",
        "   }\n",
        "div.text_cell_render{\n",
        "    font-family: Computer Modern, \"Helvetica Neue\", Arial, Helvetica, Geneva, sans-serif;\n",
        "    line-height: 145%;\n",
        "    font-size: 130%;\n",
        "    width:800px;\n",
        "    margin-left:auto;\n",
        "    margin-right:auto;\n",
        "}\n",
        ".CodeMirror{\n",
        "        font-family: \"Source Code Pro\", source-code-pro,Consolas, monospace;\n",
        "}\n",
        ".prompt{\n",
        "    display: None;\n",
        "}\n",
        ".text_cell_render .exercise {\n",
        "    font-weight: 300;\n",
        "    /*font-size: 22pt;*/\n",
        "    color: #4057A1;\n",
        "    font-style: italic;\n",
        "    /*margin-bottom: .5em;\n",
        "    margin-top: 0.5em;\n",
        "    display: block;*/\n",
        "}\n",
        ".text_cell_render .example {\n",
        "    font-weight: 300;\n",
        "    color: #40A157;\n",
        "    font-style: italic;\n",
        "}\n",
        "\n",
        ".warning{\n",
        "    color: rgb( 240, 20, 20 )\n",
        "}\n",
        "</style>"
       ],
       "metadata": {},
       "output_type": "pyout",
       "prompt_number": 36,
       "text": [
        "<IPython.core.display.HTML at 0x7fb0a0b7e790>"
       ]
      }
     ],
     "prompt_number": 36
    },
    {
     "cell_type": "code",
     "collapsed": false,
     "input": [
      "custom_script()"
     ],
     "language": "python",
     "metadata": {},
     "outputs": [
      {
       "html": [
        "<script>// https://github.com/CamDavidsonPilon/Probabilistic-Programming-and-Bayesian-Methods-for-Hackers\n",
        "MathJax.Hub.Config({\n",
        "                    TeX: {\n",
        "                       extensions: [\"AMSmath.js\"]\n",
        "                       },\n",
        "            tex2jax: {\n",
        "                inlineMath: [ ['$','$'], [\"\\\\(\",\"\\\\)\"] ],\n",
        "                displayMath: [ ['$$','$$'], [\"\\\\[\",\"\\\\]\"] ]\n",
        "            },\n",
        "            displayAlign: 'center', // Change this to 'center' to center equations.\n",
        "            \"HTML-CSS\": {\n",
        "                styles: {'.MathJax_Display': {\"margin\": 4}}\n",
        "            }\n",
        "    });\n",
        "</script>"
       ],
       "metadata": {},
       "output_type": "pyout",
       "prompt_number": 37,
       "text": [
        "<IPython.core.display.HTML at 0x7fb0a0b7eb10>"
       ]
      }
     ],
     "prompt_number": 37
    }
   ],
   "metadata": {}
  }
 ]
}