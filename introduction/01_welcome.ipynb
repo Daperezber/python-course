{
 "cells": [
  {
   "cell_type": "markdown",
   "metadata": {
    "slideshow": {
     "slide_type": "slide"
    }
   },
   "source": [
    "<span style=\"font-size: 200%\">Programming in Python</span>\n",
    "===\n",
    "\n",
    "<br>\n",
    "\n",
    "<img src=\"python_logo.svg\" alt=\"Python Logo\">"
   ]
  },
  {
   "cell_type": "markdown",
   "metadata": {
    "slideshow": {
     "slide_type": "slide"
    }
   },
   "source": [
    "About the course\n",
    "===\n",
    "\n",
    "* Aimed at PhD students, Postdocs, researchers, analysts, ...\n",
    "* Focus on:\n",
    " - Basic understanding of Python.\n",
    " - Programming as a tool to do your research.\n",
    "    - Slightly biased on bioinformatics.\n",
    "\n",
    "\n",
    "**Note:** This is its third session."
   ]
  },
  {
   "cell_type": "markdown",
   "metadata": {
    "slideshow": {
     "slide_type": "slide"
    }
   },
   "source": [
    "Hands on!\n",
    "===\n",
    "\n",
    "**Programming is fun!**\n",
    "* You only learn programming by doing it.\n",
    "* Lecture format:\n",
    "    - Blended teaching + exercising.\n",
    "* Have your laptop open during the lessons.\n",
    "* Repeat the code from the slides, play around with it.\n",
    "* Do the session exercises.\n",
    "* There will be a few assignments to submit."
   ]
  },
  {
   "cell_type": "markdown",
   "metadata": {
    "slideshow": {
     "slide_type": "slide"
    }
   },
   "source": [
    "Teachers\n",
    "===\n",
    "\n",
    "* Jeroen Laros<br>\n",
    "  [j.f.j.laros@lumc.nl](mailto:j.f.j.laros@lumc.nl)\n",
    "\n",
    "\n",
    "* Mihai Lefter<br>\n",
    "  [m.lefter@lumc.nl](mailto:m.lefter@lumc.nl)\n",
    "\n",
    "\n",
    "* Jonathan Vis<br>\n",
    "  [j.k.vis@lumc.nl](mailto:j.k.vis@lumc.nl)\n",
    "\n",
    "\n",
    "* Mark Santcroos<br>\n",
    "  [m.a.santcroos@lumc.nl](mailto:m.a.santcroos@lumc.nl)\n",
    "\n",
    "\n",
    "* Guy Allard<br>\n",
    "  [w.g.Allard@lumc.nl](mailto:w.g.allard@lumc.nl)"
   ]
  },
  {
   "cell_type": "markdown",
   "metadata": {
    "slideshow": {
     "slide_type": "slide"
    }
   },
   "source": [
    "Program\n",
    "===\n",
    "\n",
    "| Day               | Time  | Lesson                              | Teacher  | \n",
    "|-------------------|-------|------------------------------------ |----------|\n",
    "| **Monday, 18/9**  | 9 - 9:30  | Welcome, Setup                  | Mihai    | \n",
    "|                   | 9:30 - 10:30 |  Introduction to Python (1)  | Mihai    |\n",
    "|                   | 10:30 - 11:30 | Introduction to Python (2)  | Jeroen   |  \n",
    "|                   | 11:30 - 12:30 | Introduction to Python (3)  | Mihai    | \n",
    "|                   | 12:30 - 13:00 | Practical help              |          | \n",
    "| **Tuesday, 19/9** | 9-10  | Assignments review                  |          |\n",
    "|                   | 10-11 | More Python Goodness (1)            | Mihai    | \n",
    "|                   | 11-12 | More Python Goodness (2)            | Mihai    | \n",
    "|                   | 12-13 | IPython Notebook                    | Mark     | "
   ]
  },
  {
   "cell_type": "markdown",
   "metadata": {
    "slideshow": {
     "slide_type": "subslide"
    }
   },
   "source": [
    "| Day                 | Time  | Lesson                              | Teacher  | \n",
    "|---------------------|-------|------------------------------------ |----------|\n",
    "| **Wednesday, 20/9** | 9-10  | Assignments review                  |          | \n",
    "|                     | 10-11 | Data manipulation (NumPy, Pandas)   | Mark     | \n",
    "|                     | 11-12 | Data visualisation (1)              | Guy      | \n",
    "|                     | 12-13 | Data visualisation (2)              | Guy      | \n",
    "| **Thursday, 21/9**  | 9-10  | Assignments review                  |          | \n",
    "|                     | 10-11 | Object-oriented programming         | Jonathan | \n",
    "|                     | 11-12 | Biopython                           | Guy      | \n",
    "|                     | 12-13 | Putting everything together         | Jeroen   |\n",
    "\n",
    "All slides are linked as one-page documents from the course website: [https://git.lumc.nl/courses/programming-course](https://git.lumc.nl/courses/programming-course)"
   ]
  },
  {
   "cell_type": "markdown",
   "metadata": {
    "slideshow": {
     "slide_type": "slide"
    }
   },
   "source": [
    "Software requirements\n",
    "===\n",
    "\n",
    "* Anaconda:\n",
    "  * Python 2.7\n",
    "  * Comes with all that's required:\n",
    "    - NumPy, matplotlib, Biopython\n",
    "  * [Installation instructions](https://docs.anaconda.com/anaconda/install/). \n",
    "* Git\n",
    "\n"
   ]
  },
  {
   "cell_type": "markdown",
   "metadata": {
    "slideshow": {
     "slide_type": "slide"
    }
   },
   "source": [
    "Assignments\n",
    "===\n",
    "\n",
    "* We make use of GitHub Classroom:\n",
    "  - GitHub account required.\n",
    "  - Link with assignment repository.\n",
    "  - Own forked repository to work on - automated by GitHub.\n",
    "  - Direct file upload to repository is possible."
   ]
  },
  {
   "cell_type": "markdown",
   "metadata": {
    "slideshow": {
     "slide_type": "slide"
    }
   },
   "source": [
    "Getting help\n",
    "===\n",
    "\n",
    "* Ask a teacher.\n",
    "* If it's private, mail one of the teachers.\n"
   ]
  },
  {
   "cell_type": "code",
   "execution_count": 1,
   "metadata": {
    "slideshow": {
     "slide_type": "skip"
    }
   },
   "outputs": [
    {
     "data": {
      "text/html": [
       "<style>/* Remove the vertical scrollbar added by nbconvert. */\n",
       ".reveal {\n",
       "  overflow: hidden;\n",
       "}\n",
       "\n",
       "/* Workaround some highlight.js bugs in language autodetection. */\n",
       "code.objectivec *,\n",
       "code.perl *,\n",
       "code.cs *,\n",
       "code.javascript *,\n",
       "code.http * {\n",
       "  color: black ! important;\n",
       "  font-weight: normal ! important;\n",
       "}\n",
       "span.title {\n",
       "  color: black ! important;\n",
       "}\n",
       "span.tag {\n",
       "  color: black ! important;\n",
       "}\n",
       "span.attribute {\n",
       "  color: black ! important;\n",
       "}\n",
       "</style>"
      ],
      "text/plain": [
       "<IPython.core.display.HTML object>"
      ]
     },
     "execution_count": 1,
     "metadata": {},
     "output_type": "execute_result"
    }
   ],
   "source": [
    "from IPython.display import HTML\n",
    "def css_styling():\n",
    "    styles = open('../styles/custom.css', 'r').read()\n",
    "    return HTML('<style>' + styles + '</style>')\n",
    "css_styling()"
   ]
  },
  {
   "cell_type": "markdown",
   "metadata": {
    "slideshow": {
     "slide_type": "slide"
    }
   },
   "source": [
    "License: [Creative Commons Attribution 3.0 License (CC-by)](http://creativecommons.org/licenses/by/3.0)\n"
   ]
  }
 ],
 "metadata": {
  "celltoolbar": "Slideshow",
  "kernelspec": {
   "display_name": "Python 2",
   "language": "python",
   "name": "python2"
  },
  "language_info": {
   "codemirror_mode": {
    "name": "ipython",
    "version": 2
   },
   "file_extension": ".py",
   "mimetype": "text/x-python",
   "name": "python",
   "nbconvert_exporter": "python",
   "pygments_lexer": "ipython2",
   "version": "2.7.12"
  }
 },
 "nbformat": 4,
 "nbformat_minor": 1
}
